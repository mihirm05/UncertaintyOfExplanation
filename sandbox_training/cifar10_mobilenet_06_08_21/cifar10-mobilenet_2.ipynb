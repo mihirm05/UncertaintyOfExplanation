{
 "cells": [
  {
   "cell_type": "code",
   "execution_count": null,
   "metadata": {
    "_cell_guid": "b1076dfc-b9ad-4769-8c92-a6c4dae69d19",
    "_uuid": "8f2839f25d086af736a60e9eeb907d3b93b6e0e5",
    "execution": {
     "iopub.execute_input": "2021-08-10T07:47:19.994512Z",
     "iopub.status.busy": "2021-08-10T07:47:19.994134Z",
     "iopub.status.idle": "2021-08-10T07:47:24.291073Z",
     "shell.execute_reply": "2021-08-10T07:47:24.290258Z",
     "shell.execute_reply.started": "2021-08-10T07:47:19.994458Z"
    }
   },
   "outputs": [],
   "source": [
    "# dataset = cifar10 \n",
    "# model = mobilenet \n",
    "# optimizer = ADAM (0.0001)\n",
    "# loss = categorical_crossentropy \n",
    "# batch_size = 32 \n",
    "# decay = l2 (0.01)\n",
    "# augmentation = off"
   ]
  },
  {
   "cell_type": "code",
   "execution_count": null,
   "metadata": {},
   "outputs": [],
   "source": [
    "import tensorflow as tf\n",
    "import os\n",
    "\n",
    "from tensorflow.keras.layers import Dense, Conv2D, BatchNormalization, Activation, Dropout\n",
    "from tensorflow.keras.layers import Input, Flatten, AveragePooling2D, Add\n",
    "from tensorflow.keras.layers import *\n",
    "from tensorflow.keras import backend as K\n",
    "from tensorflow.keras.models import Model\n",
    "from tensorflow.keras.models import Sequential\n",
    "from tensorflow.keras.optimizers import Adam\n",
    "from tensorflow.keras.callbacks import ModelCheckpoint\n",
    "from tensorflow.keras.utils import to_categorical\n",
    "from tensorflow.keras.preprocessing.image import ImageDataGenerator\n",
    "from tensorflow.keras.regularizers import l2\n",
    "\n",
    "from tensorflow.keras.datasets import cifar10\n",
    "from tensorflow.keras.datasets import fashion_mnist"
   ]
  },
  {
   "cell_type": "code",
   "execution_count": 2,
   "metadata": {
    "execution": {
     "iopub.execute_input": "2021-08-10T07:47:24.296421Z",
     "iopub.status.busy": "2021-08-10T07:47:24.296070Z",
     "iopub.status.idle": "2021-08-10T07:47:24.300769Z",
     "shell.execute_reply": "2021-08-10T07:47:24.299704Z",
     "shell.execute_reply.started": "2021-08-10T07:47:24.296385Z"
    }
   },
   "outputs": [],
   "source": [
    "batch_size=32 \n",
    "epochs=100\n",
    "num_classes=10 \n",
    "depth=20 "
   ]
  },
  {
   "cell_type": "code",
   "execution_count": 3,
   "metadata": {
    "execution": {
     "iopub.execute_input": "2021-08-10T07:47:24.302494Z",
     "iopub.status.busy": "2021-08-10T07:47:24.302149Z",
     "iopub.status.idle": "2021-08-10T07:47:24.310642Z",
     "shell.execute_reply": "2021-08-10T07:47:24.309850Z",
     "shell.execute_reply.started": "2021-08-10T07:47:24.302459Z"
    }
   },
   "outputs": [],
   "source": [
    "model_type = 'MobileNet%d' % (depth)"
   ]
  },
  {
   "cell_type": "code",
   "execution_count": 4,
   "metadata": {
    "execution": {
     "iopub.execute_input": "2021-08-10T07:47:24.313149Z",
     "iopub.status.busy": "2021-08-10T07:47:24.312875Z",
     "iopub.status.idle": "2021-08-10T07:47:39.522042Z",
     "shell.execute_reply": "2021-08-10T07:47:39.521169Z",
     "shell.execute_reply.started": "2021-08-10T07:47:24.313126Z"
    }
   },
   "outputs": [
    {
     "name": "stdout",
     "output_type": "stream",
     "text": [
      "Downloading data from https://www.cs.toronto.edu/~kriz/cifar-10-python.tar.gz\n",
      "170500096/170498071 [==============================] - 12s 0us/step\n"
     ]
    }
   ],
   "source": [
    "(x_train, y_train), (x_test, y_test) = cifar10.load_data() \n",
    "x_train = x_train/255 \n",
    "x_test = x_test/255 \n",
    "\n",
    "y_train = to_categorical(y_train, num_classes)\n",
    "y_test = to_categorical(y_test, num_classes) \n",
    "input_shape=x_train.shape[1:]"
   ]
  },
  {
   "cell_type": "code",
   "execution_count": 5,
   "metadata": {
    "execution": {
     "iopub.execute_input": "2021-08-10T07:47:39.523709Z",
     "iopub.status.busy": "2021-08-10T07:47:39.523351Z",
     "iopub.status.idle": "2021-08-10T07:47:39.528739Z",
     "shell.execute_reply": "2021-08-10T07:47:39.527698Z",
     "shell.execute_reply.started": "2021-08-10T07:47:39.523673Z"
    }
   },
   "outputs": [],
   "source": [
    "#datagen = ImageDataGenerator(rotation_range=40, horizontal_flip=True, zoom_range=0.1, width_shift_range=0.05, height_shift_range=0.05)\n",
    "#augmented_data = datagen.flow(x_train, y_train)"
   ]
  },
  {
   "cell_type": "code",
   "execution_count": 6,
   "metadata": {
    "execution": {
     "iopub.execute_input": "2021-08-10T07:47:39.530606Z",
     "iopub.status.busy": "2021-08-10T07:47:39.530171Z",
     "iopub.status.idle": "2021-08-10T07:47:42.144887Z",
     "shell.execute_reply": "2021-08-10T07:47:42.144035Z",
     "shell.execute_reply.started": "2021-08-10T07:47:39.530563Z"
    }
   },
   "outputs": [
    {
     "name": "stdout",
     "output_type": "stream",
     "text": [
      "Model: \"sequential\"\n",
      "_________________________________________________________________\n",
      "Layer (type)                 Output Shape              Param #   \n",
      "=================================================================\n",
      "conv2d (Conv2D)              (None, 16, 16, 32)        896       \n",
      "_________________________________________________________________\n",
      "batch_normalization (BatchNo (None, 16, 16, 32)        96        \n",
      "_________________________________________________________________\n",
      "re_lu (ReLU)                 (None, 16, 16, 32)        0         \n",
      "_________________________________________________________________\n",
      "depthwise_conv2d (DepthwiseC (None, 16, 16, 32)        320       \n",
      "_________________________________________________________________\n",
      "batch_normalization_1 (Batch (None, 16, 16, 32)        96        \n",
      "_________________________________________________________________\n",
      "re_lu_1 (ReLU)               (None, 16, 16, 32)        0         \n",
      "_________________________________________________________________\n",
      "conv2d_1 (Conv2D)            (None, 16, 16, 64)        2112      \n",
      "_________________________________________________________________\n",
      "batch_normalization_2 (Batch (None, 16, 16, 64)        192       \n",
      "_________________________________________________________________\n",
      "re_lu_2 (ReLU)               (None, 16, 16, 64)        0         \n",
      "_________________________________________________________________\n",
      "depthwise_conv2d_1 (Depthwis (None, 8, 8, 64)          640       \n",
      "_________________________________________________________________\n",
      "batch_normalization_3 (Batch (None, 8, 8, 64)          192       \n",
      "_________________________________________________________________\n",
      "re_lu_3 (ReLU)               (None, 8, 8, 64)          0         \n",
      "_________________________________________________________________\n",
      "conv2d_2 (Conv2D)            (None, 8, 8, 128)         8320      \n",
      "_________________________________________________________________\n",
      "batch_normalization_4 (Batch (None, 8, 8, 128)         384       \n",
      "_________________________________________________________________\n",
      "re_lu_4 (ReLU)               (None, 8, 8, 128)         0         \n",
      "_________________________________________________________________\n",
      "depthwise_conv2d_2 (Depthwis (None, 8, 8, 128)         1280      \n",
      "_________________________________________________________________\n",
      "batch_normalization_5 (Batch (None, 8, 8, 128)         384       \n",
      "_________________________________________________________________\n",
      "re_lu_5 (ReLU)               (None, 8, 8, 128)         0         \n",
      "_________________________________________________________________\n",
      "conv2d_3 (Conv2D)            (None, 8, 8, 128)         16512     \n",
      "_________________________________________________________________\n",
      "batch_normalization_6 (Batch (None, 8, 8, 128)         384       \n",
      "_________________________________________________________________\n",
      "re_lu_6 (ReLU)               (None, 8, 8, 128)         0         \n",
      "_________________________________________________________________\n",
      "depthwise_conv2d_3 (Depthwis (None, 4, 4, 128)         1280      \n",
      "_________________________________________________________________\n",
      "batch_normalization_7 (Batch (None, 4, 4, 128)         384       \n",
      "_________________________________________________________________\n",
      "re_lu_7 (ReLU)               (None, 4, 4, 128)         0         \n",
      "_________________________________________________________________\n",
      "conv2d_4 (Conv2D)            (None, 4, 4, 256)         33024     \n",
      "_________________________________________________________________\n",
      "batch_normalization_8 (Batch (None, 4, 4, 256)         768       \n",
      "_________________________________________________________________\n",
      "re_lu_8 (ReLU)               (None, 4, 4, 256)         0         \n",
      "_________________________________________________________________\n",
      "depthwise_conv2d_4 (Depthwis (None, 4, 4, 256)         2560      \n",
      "_________________________________________________________________\n",
      "batch_normalization_9 (Batch (None, 4, 4, 256)         768       \n",
      "_________________________________________________________________\n",
      "re_lu_9 (ReLU)               (None, 4, 4, 256)         0         \n",
      "_________________________________________________________________\n",
      "conv2d_5 (Conv2D)            (None, 4, 4, 256)         65792     \n",
      "_________________________________________________________________\n",
      "batch_normalization_10 (Batc (None, 4, 4, 256)         768       \n",
      "_________________________________________________________________\n",
      "re_lu_10 (ReLU)              (None, 4, 4, 256)         0         \n",
      "_________________________________________________________________\n",
      "depthwise_conv2d_5 (Depthwis (None, 2, 2, 256)         2560      \n",
      "_________________________________________________________________\n",
      "batch_normalization_11 (Batc (None, 2, 2, 256)         768       \n",
      "_________________________________________________________________\n",
      "re_lu_11 (ReLU)              (None, 2, 2, 256)         0         \n",
      "_________________________________________________________________\n",
      "conv2d_6 (Conv2D)            (None, 2, 2, 512)         131584    \n",
      "_________________________________________________________________\n",
      "batch_normalization_12 (Batc (None, 2, 2, 512)         1536      \n",
      "_________________________________________________________________\n",
      "re_lu_12 (ReLU)              (None, 2, 2, 512)         0         \n",
      "_________________________________________________________________\n",
      "depthwise_conv2d_6 (Depthwis (None, 2, 2, 512)         5120      \n",
      "_________________________________________________________________\n",
      "batch_normalization_13 (Batc (None, 2, 2, 512)         1536      \n",
      "_________________________________________________________________\n",
      "re_lu_13 (ReLU)              (None, 2, 2, 512)         0         \n",
      "_________________________________________________________________\n",
      "conv2d_7 (Conv2D)            (None, 2, 2, 512)         262656    \n",
      "_________________________________________________________________\n",
      "batch_normalization_14 (Batc (None, 2, 2, 512)         1536      \n",
      "_________________________________________________________________\n",
      "re_lu_14 (ReLU)              (None, 2, 2, 512)         0         \n",
      "_________________________________________________________________\n",
      "depthwise_conv2d_7 (Depthwis (None, 2, 2, 512)         5120      \n",
      "_________________________________________________________________\n",
      "batch_normalization_15 (Batc (None, 2, 2, 512)         1536      \n",
      "_________________________________________________________________\n",
      "re_lu_15 (ReLU)              (None, 2, 2, 512)         0         \n",
      "_________________________________________________________________\n",
      "conv2d_8 (Conv2D)            (None, 2, 2, 512)         262656    \n",
      "_________________________________________________________________\n",
      "batch_normalization_16 (Batc (None, 2, 2, 512)         1536      \n",
      "_________________________________________________________________\n",
      "re_lu_16 (ReLU)              (None, 2, 2, 512)         0         \n",
      "_________________________________________________________________\n",
      "depthwise_conv2d_8 (Depthwis (None, 2, 2, 512)         5120      \n",
      "_________________________________________________________________\n",
      "batch_normalization_17 (Batc (None, 2, 2, 512)         1536      \n",
      "_________________________________________________________________\n",
      "re_lu_17 (ReLU)              (None, 2, 2, 512)         0         \n",
      "_________________________________________________________________\n",
      "conv2d_9 (Conv2D)            (None, 2, 2, 512)         262656    \n",
      "_________________________________________________________________\n",
      "batch_normalization_18 (Batc (None, 2, 2, 512)         1536      \n",
      "_________________________________________________________________\n",
      "re_lu_18 (ReLU)              (None, 2, 2, 512)         0         \n",
      "_________________________________________________________________\n",
      "depthwise_conv2d_9 (Depthwis (None, 2, 2, 512)         5120      \n",
      "_________________________________________________________________\n",
      "batch_normalization_19 (Batc (None, 2, 2, 512)         1536      \n",
      "_________________________________________________________________\n",
      "re_lu_19 (ReLU)              (None, 2, 2, 512)         0         \n",
      "_________________________________________________________________\n",
      "conv2d_10 (Conv2D)           (None, 2, 2, 512)         262656    \n",
      "_________________________________________________________________\n",
      "batch_normalization_20 (Batc (None, 2, 2, 512)         1536      \n",
      "_________________________________________________________________\n",
      "re_lu_20 (ReLU)              (None, 2, 2, 512)         0         \n",
      "_________________________________________________________________\n",
      "depthwise_conv2d_10 (Depthwi (None, 2, 2, 512)         5120      \n",
      "_________________________________________________________________\n",
      "batch_normalization_21 (Batc (None, 2, 2, 512)         1536      \n",
      "_________________________________________________________________\n",
      "re_lu_21 (ReLU)              (None, 2, 2, 512)         0         \n",
      "_________________________________________________________________\n",
      "conv2d_11 (Conv2D)           (None, 2, 2, 512)         262656    \n",
      "_________________________________________________________________\n",
      "batch_normalization_22 (Batc (None, 2, 2, 512)         1536      \n",
      "_________________________________________________________________\n",
      "re_lu_22 (ReLU)              (None, 2, 2, 512)         0         \n",
      "_________________________________________________________________\n",
      "depthwise_conv2d_11 (Depthwi (None, 1, 1, 512)         5120      \n",
      "_________________________________________________________________\n",
      "batch_normalization_23 (Batc (None, 1, 1, 512)         1536      \n",
      "_________________________________________________________________\n",
      "re_lu_23 (ReLU)              (None, 1, 1, 512)         0         \n",
      "_________________________________________________________________\n",
      "conv2d_12 (Conv2D)           (None, 1, 1, 1024)        525312    \n",
      "_________________________________________________________________\n",
      "batch_normalization_24 (Batc (None, 1, 1, 1024)        3072      \n",
      "_________________________________________________________________\n",
      "re_lu_24 (ReLU)              (None, 1, 1, 1024)        0         \n",
      "_________________________________________________________________\n",
      "depthwise_conv2d_12 (Depthwi (None, 1, 1, 1024)        10240     \n",
      "_________________________________________________________________\n",
      "batch_normalization_25 (Batc (None, 1, 1, 1024)        3072      \n",
      "_________________________________________________________________\n",
      "re_lu_25 (ReLU)              (None, 1, 1, 1024)        0         \n",
      "_________________________________________________________________\n",
      "conv2d_13 (Conv2D)           (None, 1, 1, 1024)        1049600   \n",
      "_________________________________________________________________\n",
      "batch_normalization_26 (Batc (None, 1, 1, 1024)        3072      \n",
      "_________________________________________________________________\n",
      "re_lu_26 (ReLU)              (None, 1, 1, 1024)        0         \n",
      "_________________________________________________________________\n",
      "average_pooling2d (AveragePo (None, 1, 1, 1024)        0         \n",
      "_________________________________________________________________\n",
      "flatten (Flatten)            (None, 1024)              0         \n",
      "_________________________________________________________________\n",
      "dense (Dense)                (None, 10)                10250     \n",
      "_________________________________________________________________\n",
      "softmax (Softmax)            (None, 10)                0         \n",
      "=================================================================\n",
      "Total params: 3,239,114\n",
      "Trainable params: 3,217,226\n",
      "Non-trainable params: 21,888\n",
      "_________________________________________________________________\n",
      "None\n"
     ]
    }
   ],
   "source": [
    "def mobilenet(input_size=(32, 32), l2_decay=0.1, N_CLASSES=10):\n",
    "    \"\"\"\n",
    "    Builds the MobileNet model.\n",
    "    :param tuple input_size: The height and width (in that order) of the\n",
    "        model input.\n",
    "    :param float l2_decay: The amount of L2 weight decay to add to the\n",
    "        loss. Applies only to kernels, not biases.\n",
    "    :return tensorflow.keras.Sequential: A MobileNet model.\n",
    "    \"\"\"\n",
    "\n",
    "    model = Sequential()\n",
    "\n",
    "    def _add_bn_relu():\n",
    "        model.add(BatchNormalization(scale=False))\n",
    "        model.add(ReLU())\n",
    "\n",
    "    def _add_depthwise_block(strides=1):\n",
    "        model.add(DepthwiseConv2D(\n",
    "            (3, 3),\n",
    "            strides=strides,\n",
    "            padding='same',\n",
    "            kernel_regularizer=l2(l=l2_decay)))\n",
    "        _add_bn_relu()\n",
    "\n",
    "    def _add_pointwise_block(filters):\n",
    "        model.add(Conv2D(filters, (1, 1), kernel_regularizer=l2(l=l2_decay)))\n",
    "        _add_bn_relu()\n",
    "\n",
    "    model.add(Conv2D(\n",
    "        32, (3, 3),\n",
    "        strides=2,\n",
    "        padding='same',\n",
    "        kernel_regularizer=l2(l=l2_decay),\n",
    "        input_shape=input_size + (3,)))\n",
    "    _add_bn_relu()\n",
    "    _add_depthwise_block()\n",
    "    _add_pointwise_block(64)\n",
    "\n",
    "    _add_depthwise_block(strides=2)\n",
    "    _add_pointwise_block(128)\n",
    "    _add_depthwise_block()\n",
    "    _add_pointwise_block(128)\n",
    "\n",
    "    _add_depthwise_block(strides=2)\n",
    "    _add_pointwise_block(256)\n",
    "    _add_depthwise_block()\n",
    "    _add_pointwise_block(256)\n",
    "\n",
    "    _add_depthwise_block(strides=2)\n",
    "    _add_pointwise_block(512)\n",
    "    for _ in range(5):\n",
    "        _add_depthwise_block()\n",
    "        _add_pointwise_block(512)\n",
    "\n",
    "    _add_depthwise_block(strides=2)\n",
    "    _add_pointwise_block(1024)\n",
    "    _add_depthwise_block()\n",
    "    _add_pointwise_block(1024)\n",
    "\n",
    "    model.add(AveragePooling2D(pool_size=(input_size[0] // 32, input_size[1] // 32)))\n",
    "\n",
    "    model.add(Flatten())\n",
    "    model.add(Dense(N_CLASSES, kernel_regularizer=l2(l=l2_decay)))\n",
    "    model.add(Softmax())\n",
    "\n",
    "    return model\n",
    "\n",
    "\n",
    "model = mobilenet(input_size=(32, 32), l2_decay=0.01, N_CLASSES=10)\n",
    "print(model.summary())"
   ]
  },
  {
   "cell_type": "code",
   "execution_count": 7,
   "metadata": {
    "execution": {
     "iopub.execute_input": "2021-08-10T07:47:48.251196Z",
     "iopub.status.busy": "2021-08-10T07:47:48.250862Z",
     "iopub.status.idle": "2021-08-10T07:47:48.255049Z",
     "shell.execute_reply": "2021-08-10T07:47:48.253864Z",
     "shell.execute_reply.started": "2021-08-10T07:47:48.251164Z"
    }
   },
   "outputs": [],
   "source": [
    "#model_tf = tf.keras.applications.mobilenet.MobileNet(input_shape=(32, 32, 3), weights=None, classes=10)\n",
    "#print(model_tf.summary())"
   ]
  },
  {
   "cell_type": "code",
   "execution_count": 8,
   "metadata": {
    "execution": {
     "iopub.execute_input": "2021-08-10T07:47:48.495830Z",
     "iopub.status.busy": "2021-08-10T07:47:48.495484Z",
     "iopub.status.idle": "2021-08-10T07:47:48.515296Z",
     "shell.execute_reply": "2021-08-10T07:47:48.514245Z",
     "shell.execute_reply.started": "2021-08-10T07:47:48.495799Z"
    }
   },
   "outputs": [],
   "source": [
    "model.compile(loss='categorical_crossentropy', optimizer=Adam(learning_rate=0.0001), metrics=['accuracy'])"
   ]
  },
  {
   "cell_type": "code",
   "execution_count": 9,
   "metadata": {
    "execution": {
     "iopub.execute_input": "2021-08-10T07:47:50.654538Z",
     "iopub.status.busy": "2021-08-10T07:47:50.654147Z",
     "iopub.status.idle": "2021-08-10T08:17:32.286524Z",
     "shell.execute_reply": "2021-08-10T08:17:32.285629Z",
     "shell.execute_reply.started": "2021-08-10T07:47:50.654502Z"
    }
   },
   "outputs": [
    {
     "name": "stdout",
     "output_type": "stream",
     "text": [
      "Epoch 1/100\n",
      "1562/1562 - 29s - loss: 43.1267 - accuracy: 0.1625 - val_loss: 34.6035 - val_accuracy: 0.2155\n",
      "Epoch 2/100\n",
      "1562/1562 - 18s - loss: 28.4076 - accuracy: 0.2525 - val_loss: 22.7849 - val_accuracy: 0.3005\n",
      "Epoch 3/100\n",
      "1562/1562 - 18s - loss: 18.2931 - accuracy: 0.3257 - val_loss: 14.3423 - val_accuracy: 0.3573\n",
      "Epoch 4/100\n",
      "1562/1562 - 19s - loss: 11.5088 - accuracy: 0.3789 - val_loss: 9.1567 - val_accuracy: 0.4076\n",
      "Epoch 5/100\n",
      "1562/1562 - 18s - loss: 7.6034 - accuracy: 0.4280 - val_loss: 6.3575 - val_accuracy: 0.4479\n",
      "Epoch 6/100\n",
      "1562/1562 - 18s - loss: 5.5434 - accuracy: 0.4690 - val_loss: 4.9211 - val_accuracy: 0.4544\n",
      "Epoch 7/100\n",
      "1562/1562 - 18s - loss: 4.3899 - accuracy: 0.5023 - val_loss: 4.1541 - val_accuracy: 0.4568\n",
      "Epoch 8/100\n",
      "1562/1562 - 19s - loss: 3.6975 - accuracy: 0.5320 - val_loss: 3.5869 - val_accuracy: 0.4898\n",
      "Epoch 9/100\n",
      "1562/1562 - 18s - loss: 3.2251 - accuracy: 0.5647 - val_loss: 3.2363 - val_accuracy: 0.5036\n",
      "Epoch 10/100\n",
      "1562/1562 - 18s - loss: 2.8818 - accuracy: 0.5942 - val_loss: 2.9609 - val_accuracy: 0.5299\n",
      "Epoch 11/100\n",
      "1562/1562 - 19s - loss: 2.6388 - accuracy: 0.6129 - val_loss: 2.8044 - val_accuracy: 0.5351\n",
      "Epoch 12/100\n",
      "1562/1562 - 18s - loss: 2.4359 - accuracy: 0.6409 - val_loss: 2.6927 - val_accuracy: 0.5372\n",
      "Epoch 13/100\n",
      "1562/1562 - 18s - loss: 2.2814 - accuracy: 0.6578 - val_loss: 2.5803 - val_accuracy: 0.5496\n",
      "Epoch 14/100\n",
      "1562/1562 - 18s - loss: 2.1448 - accuracy: 0.6775 - val_loss: 2.5319 - val_accuracy: 0.5428\n",
      "Epoch 15/100\n",
      "1562/1562 - 19s - loss: 2.0272 - accuracy: 0.6987 - val_loss: 2.4800 - val_accuracy: 0.5453\n",
      "Epoch 16/100\n",
      "1562/1562 - 19s - loss: 1.9392 - accuracy: 0.7105 - val_loss: 2.5188 - val_accuracy: 0.5316\n",
      "Epoch 17/100\n",
      "1562/1562 - 19s - loss: 1.8671 - accuracy: 0.7195 - val_loss: 2.3644 - val_accuracy: 0.5581\n",
      "Epoch 18/100\n",
      "1562/1562 - 18s - loss: 1.7973 - accuracy: 0.7297 - val_loss: 2.3408 - val_accuracy: 0.5644\n",
      "Epoch 19/100\n",
      "1562/1562 - 18s - loss: 1.7271 - accuracy: 0.7450 - val_loss: 2.3176 - val_accuracy: 0.5558\n",
      "Epoch 20/100\n",
      "1562/1562 - 19s - loss: 1.6777 - accuracy: 0.7538 - val_loss: 2.3165 - val_accuracy: 0.5539\n",
      "Epoch 21/100\n",
      "1562/1562 - 18s - loss: 1.6295 - accuracy: 0.7630 - val_loss: 2.2409 - val_accuracy: 0.5723\n",
      "Epoch 22/100\n",
      "1562/1562 - 17s - loss: 1.5876 - accuracy: 0.7685 - val_loss: 2.2766 - val_accuracy: 0.5680\n",
      "Epoch 23/100\n",
      "1562/1562 - 19s - loss: 1.5471 - accuracy: 0.7768 - val_loss: 2.2465 - val_accuracy: 0.5704\n",
      "Epoch 24/100\n",
      "1562/1562 - 19s - loss: 1.5176 - accuracy: 0.7808 - val_loss: 2.2589 - val_accuracy: 0.5699\n",
      "Epoch 25/100\n",
      "1562/1562 - 17s - loss: 1.4765 - accuracy: 0.7922 - val_loss: 2.1959 - val_accuracy: 0.5752\n",
      "Epoch 26/100\n",
      "1562/1562 - 18s - loss: 1.4587 - accuracy: 0.7918 - val_loss: 2.2551 - val_accuracy: 0.5698\n",
      "Epoch 27/100\n",
      "1562/1562 - 18s - loss: 1.4239 - accuracy: 0.8007 - val_loss: 2.1811 - val_accuracy: 0.5763\n",
      "Epoch 28/100\n",
      "1562/1562 - 19s - loss: 1.4027 - accuracy: 0.8042 - val_loss: 2.2150 - val_accuracy: 0.5703\n",
      "Epoch 29/100\n",
      "1562/1562 - 18s - loss: 1.3803 - accuracy: 0.8064 - val_loss: 2.1944 - val_accuracy: 0.5806\n",
      "Epoch 30/100\n",
      "1562/1562 - 18s - loss: 1.3638 - accuracy: 0.8115 - val_loss: 2.1665 - val_accuracy: 0.5797\n",
      "Epoch 31/100\n",
      "1562/1562 - 19s - loss: 1.3374 - accuracy: 0.8168 - val_loss: 2.1974 - val_accuracy: 0.5716\n",
      "Epoch 32/100\n",
      "1562/1562 - 18s - loss: 1.3207 - accuracy: 0.8190 - val_loss: 2.1203 - val_accuracy: 0.5847\n",
      "Epoch 33/100\n",
      "1562/1562 - 19s - loss: 1.3055 - accuracy: 0.8213 - val_loss: 2.1283 - val_accuracy: 0.5830\n",
      "Epoch 34/100\n",
      "1562/1562 - 18s - loss: 1.2784 - accuracy: 0.8282 - val_loss: 2.1221 - val_accuracy: 0.5881\n",
      "Epoch 35/100\n",
      "1562/1562 - 18s - loss: 1.2619 - accuracy: 0.8324 - val_loss: 2.1395 - val_accuracy: 0.5886\n",
      "Epoch 36/100\n",
      "1562/1562 - 18s - loss: 1.2456 - accuracy: 0.8338 - val_loss: 2.1652 - val_accuracy: 0.5901\n",
      "Epoch 37/100\n",
      "1562/1562 - 19s - loss: 1.2405 - accuracy: 0.8358 - val_loss: 2.1532 - val_accuracy: 0.5854\n",
      "Epoch 38/100\n",
      "1562/1562 - 18s - loss: 1.2193 - accuracy: 0.8376 - val_loss: 2.1670 - val_accuracy: 0.5859\n",
      "Epoch 39/100\n",
      "1562/1562 - 18s - loss: 1.2083 - accuracy: 0.8416 - val_loss: 2.1080 - val_accuracy: 0.5965\n",
      "Epoch 40/100\n",
      "1562/1562 - 19s - loss: 1.2007 - accuracy: 0.8411 - val_loss: 2.1321 - val_accuracy: 0.5951\n",
      "Epoch 41/100\n",
      "1562/1562 - 18s - loss: 1.1852 - accuracy: 0.8462 - val_loss: 2.1425 - val_accuracy: 0.5897\n",
      "Epoch 42/100\n",
      "1562/1562 - 17s - loss: 1.1717 - accuracy: 0.8475 - val_loss: 2.1852 - val_accuracy: 0.5845\n",
      "Epoch 43/100\n",
      "1562/1562 - 19s - loss: 1.1526 - accuracy: 0.8527 - val_loss: 2.1993 - val_accuracy: 0.5845\n",
      "Epoch 44/100\n",
      "1562/1562 - 19s - loss: 1.1512 - accuracy: 0.8521 - val_loss: 2.1385 - val_accuracy: 0.5930\n",
      "Epoch 45/100\n",
      "1562/1562 - 18s - loss: 1.1481 - accuracy: 0.8504 - val_loss: 2.1342 - val_accuracy: 0.5957\n",
      "Epoch 46/100\n",
      "1562/1562 - 18s - loss: 1.1262 - accuracy: 0.8580 - val_loss: 2.1490 - val_accuracy: 0.5966\n",
      "Epoch 47/100\n",
      "1562/1562 - 18s - loss: 1.1161 - accuracy: 0.8583 - val_loss: 2.1668 - val_accuracy: 0.5916\n",
      "Epoch 48/100\n",
      "1562/1562 - 18s - loss: 1.1123 - accuracy: 0.8581 - val_loss: 2.1087 - val_accuracy: 0.5879\n",
      "Epoch 49/100\n",
      "1562/1562 - 18s - loss: 1.1103 - accuracy: 0.8592 - val_loss: 2.0957 - val_accuracy: 0.5925\n",
      "Epoch 50/100\n",
      "1562/1562 - 18s - loss: 1.0935 - accuracy: 0.8606 - val_loss: 2.0750 - val_accuracy: 0.6066\n",
      "Epoch 51/100\n",
      "1562/1562 - 18s - loss: 1.0892 - accuracy: 0.8623 - val_loss: 2.1132 - val_accuracy: 0.5967\n",
      "Epoch 52/100\n",
      "1562/1562 - 19s - loss: 1.0761 - accuracy: 0.8654 - val_loss: 2.0390 - val_accuracy: 0.6088\n",
      "Epoch 53/100\n",
      "1562/1562 - 19s - loss: 1.0775 - accuracy: 0.8644 - val_loss: 2.0370 - val_accuracy: 0.6064\n",
      "Epoch 54/100\n",
      "1562/1562 - 18s - loss: 1.0696 - accuracy: 0.8660 - val_loss: 2.0516 - val_accuracy: 0.6029\n",
      "Epoch 55/100\n",
      "1562/1562 - 18s - loss: 1.0606 - accuracy: 0.8686 - val_loss: 2.0638 - val_accuracy: 0.6060\n",
      "Epoch 56/100\n",
      "1562/1562 - 19s - loss: 1.0543 - accuracy: 0.8678 - val_loss: 1.9939 - val_accuracy: 0.6213\n",
      "Epoch 57/100\n",
      "1562/1562 - 18s - loss: 1.0483 - accuracy: 0.8692 - val_loss: 2.0046 - val_accuracy: 0.6152\n",
      "Epoch 58/100\n",
      "1562/1562 - 18s - loss: 1.0379 - accuracy: 0.8707 - val_loss: 2.0531 - val_accuracy: 0.6044\n",
      "Epoch 59/100\n",
      "1562/1562 - 18s - loss: 1.0357 - accuracy: 0.8717 - val_loss: 1.9926 - val_accuracy: 0.6142\n",
      "Epoch 60/100\n",
      "1562/1562 - 19s - loss: 1.0246 - accuracy: 0.8752 - val_loss: 2.0125 - val_accuracy: 0.6141\n",
      "Epoch 61/100\n",
      "1562/1562 - 18s - loss: 1.0194 - accuracy: 0.8741 - val_loss: 1.9871 - val_accuracy: 0.6125\n",
      "Epoch 62/100\n",
      "1562/1562 - 17s - loss: 1.0143 - accuracy: 0.8747 - val_loss: 1.9545 - val_accuracy: 0.6184\n",
      "Epoch 63/100\n",
      "1562/1562 - 19s - loss: 1.0138 - accuracy: 0.8745 - val_loss: 1.9556 - val_accuracy: 0.6228\n",
      "Epoch 64/100\n",
      "1562/1562 - 18s - loss: 1.0061 - accuracy: 0.8770 - val_loss: 1.9133 - val_accuracy: 0.6194\n",
      "Epoch 65/100\n",
      "1562/1562 - 18s - loss: 0.9972 - accuracy: 0.8781 - val_loss: 1.9975 - val_accuracy: 0.6097\n",
      "Epoch 66/100\n",
      "1562/1562 - 18s - loss: 0.9945 - accuracy: 0.8799 - val_loss: 1.9629 - val_accuracy: 0.6235\n",
      "Epoch 67/100\n",
      "1562/1562 - 19s - loss: 0.9842 - accuracy: 0.8826 - val_loss: 1.9783 - val_accuracy: 0.6186\n",
      "Epoch 68/100\n",
      "1562/1562 - 18s - loss: 0.9786 - accuracy: 0.8843 - val_loss: 1.9757 - val_accuracy: 0.6234\n",
      "Epoch 69/100\n",
      "1562/1562 - 19s - loss: 0.9746 - accuracy: 0.8829 - val_loss: 2.0154 - val_accuracy: 0.6173\n",
      "Epoch 70/100\n",
      "1562/1562 - 18s - loss: 0.9720 - accuracy: 0.8836 - val_loss: 1.9596 - val_accuracy: 0.6293\n",
      "Epoch 71/100\n",
      "1562/1562 - 18s - loss: 0.9560 - accuracy: 0.8897 - val_loss: 1.9903 - val_accuracy: 0.6252\n",
      "Epoch 72/100\n",
      "1562/1562 - 19s - loss: 0.9635 - accuracy: 0.8842 - val_loss: 2.0007 - val_accuracy: 0.6285\n",
      "Epoch 73/100\n",
      "1562/1562 - 19s - loss: 0.9597 - accuracy: 0.8850 - val_loss: 1.9844 - val_accuracy: 0.6296\n",
      "Epoch 74/100\n",
      "1562/1562 - 18s - loss: 0.9538 - accuracy: 0.8859 - val_loss: 2.0165 - val_accuracy: 0.6218\n",
      "Epoch 75/100\n",
      "1562/1562 - 18s - loss: 0.9477 - accuracy: 0.8875 - val_loss: 1.9839 - val_accuracy: 0.6328\n",
      "Epoch 76/100\n",
      "1562/1562 - 19s - loss: 0.9449 - accuracy: 0.8879 - val_loss: 1.9854 - val_accuracy: 0.6302\n",
      "Epoch 77/100\n",
      "1562/1562 - 18s - loss: 0.9399 - accuracy: 0.8887 - val_loss: 1.9395 - val_accuracy: 0.6362\n",
      "Epoch 78/100\n",
      "1562/1562 - 18s - loss: 0.9376 - accuracy: 0.8862 - val_loss: 2.0152 - val_accuracy: 0.6223\n",
      "Epoch 79/100\n",
      "1562/1562 - 18s - loss: 0.9441 - accuracy: 0.8851 - val_loss: 1.9814 - val_accuracy: 0.6327\n",
      "Epoch 80/100\n",
      "1562/1562 - 19s - loss: 0.9337 - accuracy: 0.8897 - val_loss: 1.9309 - val_accuracy: 0.6384\n",
      "Epoch 81/100\n",
      "1562/1562 - 18s - loss: 0.9278 - accuracy: 0.8899 - val_loss: 1.9575 - val_accuracy: 0.6308\n",
      "Epoch 82/100\n",
      "1562/1562 - 18s - loss: 0.9212 - accuracy: 0.8911 - val_loss: 1.9055 - val_accuracy: 0.6281\n",
      "Epoch 83/100\n",
      "1562/1562 - 18s - loss: 0.9262 - accuracy: 0.8923 - val_loss: 1.9331 - val_accuracy: 0.6330\n",
      "Epoch 84/100\n",
      "1562/1562 - 19s - loss: 0.9109 - accuracy: 0.8945 - val_loss: 1.9059 - val_accuracy: 0.6377\n",
      "Epoch 85/100\n",
      "1562/1562 - 18s - loss: 0.9173 - accuracy: 0.8917 - val_loss: 1.8985 - val_accuracy: 0.6351\n",
      "Epoch 86/100\n",
      "1562/1562 - 18s - loss: 0.9089 - accuracy: 0.8944 - val_loss: 1.9197 - val_accuracy: 0.6356\n",
      "Epoch 87/100\n",
      "1562/1562 - 19s - loss: 0.9094 - accuracy: 0.8945 - val_loss: 1.9064 - val_accuracy: 0.6357\n",
      "Epoch 88/100\n",
      "1562/1562 - 18s - loss: 0.9070 - accuracy: 0.8941 - val_loss: 1.9766 - val_accuracy: 0.6284\n",
      "Epoch 89/100\n",
      "1562/1562 - 20s - loss: 0.8990 - accuracy: 0.8955 - val_loss: 1.8500 - val_accuracy: 0.6418\n",
      "Epoch 90/100\n",
      "1562/1562 - 18s - loss: 0.8950 - accuracy: 0.8955 - val_loss: 1.8738 - val_accuracy: 0.6399\n",
      "Epoch 91/100\n",
      "1562/1562 - 18s - loss: 0.8964 - accuracy: 0.8937 - val_loss: 1.8941 - val_accuracy: 0.6376\n",
      "Epoch 92/100\n",
      "1562/1562 - 18s - loss: 0.8897 - accuracy: 0.8954 - val_loss: 1.8749 - val_accuracy: 0.6379\n",
      "Epoch 93/100\n",
      "1562/1562 - 19s - loss: 0.8880 - accuracy: 0.8962 - val_loss: 1.8772 - val_accuracy: 0.6358\n",
      "Epoch 94/100\n",
      "1562/1562 - 17s - loss: 0.8792 - accuracy: 0.8992 - val_loss: 1.9114 - val_accuracy: 0.6280\n",
      "Epoch 95/100\n",
      "1562/1562 - 18s - loss: 0.8854 - accuracy: 0.8965 - val_loss: 1.8337 - val_accuracy: 0.6465\n",
      "Epoch 96/100\n",
      "1562/1562 - 19s - loss: 0.8789 - accuracy: 0.8973 - val_loss: 1.8221 - val_accuracy: 0.6393\n",
      "Epoch 97/100\n",
      "1562/1562 - 18s - loss: 0.8800 - accuracy: 0.8987 - val_loss: 1.8427 - val_accuracy: 0.6419\n",
      "Epoch 98/100\n",
      "1562/1562 - 3s - loss: 0.9137 - accuracy: 0.8840 - val_loss: 1.8847 - val_accuracy: 0.6400\n"
     ]
    }
   ],
   "source": [
    "batch_size = 32 \n",
    "steps = int(x_train.shape[0]/batch_size) \n",
    "\n",
    "history = model.fit(x_train, y_train, steps_per_epoch=steps, epochs=epochs, verbose=2, validation_data=(x_test, y_test))"
   ]
  },
  {
   "cell_type": "code",
   "execution_count": 10,
   "metadata": {
    "execution": {
     "iopub.execute_input": "2021-08-10T08:23:22.944591Z",
     "iopub.status.busy": "2021-08-10T08:23:22.944222Z",
     "iopub.status.idle": "2021-08-10T08:23:23.195423Z",
     "shell.execute_reply": "2021-08-10T08:23:23.194597Z",
     "shell.execute_reply.started": "2021-08-10T08:23:22.944556Z"
    }
   },
   "outputs": [
    {
     "data": {
      "image/png": "[encoded data removed]",
      "text/plain": [
       "<Figure size 432x288 with 1 Axes>"
      ]
     },
     "metadata": {
      "needs_background": "light"
     },
     "output_type": "display_data"
    }
   ],
   "source": [
    "import matplotlib.pyplot as plt \n",
    "plt.plot(history.history['loss'])\n",
    "plt.plot(history.history['val_loss'])\n",
    "plt.title('model loss performance')\n",
    "plt.legend(['train loss', 'validation loss'])\n",
    "plt.show()"
   ]
  },
  {
   "cell_type": "code",
   "execution_count": 11,
   "metadata": {
    "execution": {
     "iopub.execute_input": "2021-08-10T08:23:27.887944Z",
     "iopub.status.busy": "2021-08-10T08:23:27.887621Z",
     "iopub.status.idle": "2021-08-10T08:23:28.030864Z",
     "shell.execute_reply": "2021-08-10T08:23:28.030035Z",
     "shell.execute_reply.started": "2021-08-10T08:23:27.887915Z"
    }
   },
   "outputs": [
    {
     "data": {
      "image/png": "[encoded data removed]",
      "text/plain": [
       "<Figure size 432x288 with 1 Axes>"
      ]
     },
     "metadata": {
      "needs_background": "light"
     },
     "output_type": "display_data"
    }
   ],
   "source": [
    "plt.plot(history.history['accuracy'])\n",
    "plt.plot(history.history['val_accuracy'])\n",
    "plt.title('model accuracy performance')\n",
    "plt.legend(['train accuracy', 'validation accuracy'])\n",
    "plt.show()"
   ]
  },
  {
   "cell_type": "code",
   "execution_count": 12,
   "metadata": {
    "execution": {
     "iopub.execute_input": "2021-08-10T08:23:35.355007Z",
     "iopub.status.busy": "2021-08-10T08:23:35.354682Z",
     "iopub.status.idle": "2021-08-10T08:23:37.171524Z",
     "shell.execute_reply": "2021-08-10T08:23:37.170680Z",
     "shell.execute_reply.started": "2021-08-10T08:23:35.354978Z"
    }
   },
   "outputs": [
    {
     "name": "stdout",
     "output_type": "stream",
     "text": [
      "313/313 [==============================] - 2s 5ms/step - loss: 1.8847 - accuracy: 0.6400\n"
     ]
    },
    {
     "data": {
      "text/plain": [
       "[1.8846632242202759, 0.6399999856948853]"
      ]
     },
     "execution_count": 12,
     "metadata": {},
     "output_type": "execute_result"
    }
   ],
   "source": [
    "model.evaluate(x_test, y_test)"
   ]
  },
  {
   "cell_type": "code",
   "execution_count": null,
   "metadata": {},
   "outputs": [],
   "source": []
  }
 ],
 "metadata": {
  "kernelspec": {
   "display_name": "Python 3",
   "language": "python",
   "name": "python3"
  },
  "language_info": {
   "codemirror_mode": {
    "name": "ipython",
    "version": 3
   },
   "file_extension": ".py",
   "mimetype": "text/x-python",
   "name": "python",
   "nbconvert_exporter": "python",
   "pygments_lexer": "ipython3",
   "version": "3.7.3"
  }
 },
 "nbformat": 4,
 "nbformat_minor": 4
}
