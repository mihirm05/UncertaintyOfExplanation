{
 "cells": [
  {
   "cell_type": "code",
   "execution_count": 10,
   "metadata": {
    "_cell_guid": "b1076dfc-b9ad-4769-8c92-a6c4dae69d19",
    "_uuid": "8f2839f25d086af736a60e9eeb907d3b93b6e0e5",
    "execution": {
     "iopub.execute_input": "2021-08-11T12:48:25.384830Z",
     "iopub.status.busy": "2021-08-11T12:48:25.384508Z",
     "iopub.status.idle": "2021-08-11T12:48:25.388461Z",
     "shell.execute_reply": "2021-08-11T12:48:25.387427Z",
     "shell.execute_reply.started": "2021-08-11T12:48:25.384802Z"
    }
   },
   "outputs": [],
   "source": [
    "# dataset = cifar10\n",
    "# model = mobilenet\n",
    "# optimizer = ADAM (0.001)\n",
    "# loss = categorical_crossentropy\n",
    "# batch_size = 32\n",
    "# decay = l2 (0.01)\n",
    "# augmentation = off\n",
    "# validation_split = 0.2"
   ]
  },
  {
   "cell_type": "code",
   "execution_count": 11,
   "metadata": {
    "execution": {
     "iopub.execute_input": "2021-08-11T12:48:25.393888Z",
     "iopub.status.busy": "2021-08-11T12:48:25.393498Z",
     "iopub.status.idle": "2021-08-11T12:48:25.401884Z",
     "shell.execute_reply": "2021-08-11T12:48:25.401007Z",
     "shell.execute_reply.started": "2021-08-11T12:48:25.393861Z"
    }
   },
   "outputs": [],
   "source": [
    "import tensorflow as tf\n",
    "import os\n",
    "import numpy as np\n",
    "\n",
    "from tensorflow.keras.layers import Dense, Conv2D, BatchNormalization, Activation, Dropout\n",
    "from tensorflow.keras.layers import Input, Flatten, AveragePooling2D, Add\n",
    "from tensorflow.keras.layers import *\n",
    "from tensorflow.keras import backend as K\n",
    "from tensorflow.keras.models import Model\n",
    "from tensorflow.keras.models import Sequential\n",
    "from tensorflow.keras.optimizers import Adam, SGD\n",
    "# https://towardsdatascience.com/weight-decay-l2-regularization-90a9e17713cd\n",
    "from tensorflow.keras.callbacks import ModelCheckpoint\n",
    "from tensorflow.keras.utils import to_categorical\n",
    "from tensorflow.keras.preprocessing.image import ImageDataGenerator\n",
    "from tensorflow.keras.regularizers import L2\n",
    "\n",
    "from tensorflow.keras.datasets import cifar10\n",
    "from tensorflow.keras.datasets import fashion_mnist"
   ]
  },
  {
   "cell_type": "code",
   "execution_count": 12,
   "metadata": {
    "execution": {
     "iopub.execute_input": "2021-08-11T12:48:25.404263Z",
     "iopub.status.busy": "2021-08-11T12:48:25.403579Z",
     "iopub.status.idle": "2021-08-11T12:48:25.410706Z",
     "shell.execute_reply": "2021-08-11T12:48:25.409688Z",
     "shell.execute_reply.started": "2021-08-11T12:48:25.404223Z"
    }
   },
   "outputs": [],
   "source": [
    "batch_size=32\n",
    "epochs=100\n",
    "num_classes=10 \n",
    "depth=20 "
   ]
  },
  {
   "cell_type": "code",
   "execution_count": 13,
   "metadata": {
    "execution": {
     "iopub.execute_input": "2021-08-11T12:48:25.413414Z",
     "iopub.status.busy": "2021-08-11T12:48:25.412872Z",
     "iopub.status.idle": "2021-08-11T12:48:25.418089Z",
     "shell.execute_reply": "2021-08-11T12:48:25.416993Z",
     "shell.execute_reply.started": "2021-08-11T12:48:25.413376Z"
    }
   },
   "outputs": [],
   "source": [
    "model_type = 'MobileNet%d' % (depth)"
   ]
  },
  {
   "cell_type": "code",
   "execution_count": 14,
   "metadata": {
    "execution": {
     "iopub.execute_input": "2021-08-11T12:48:25.420403Z",
     "iopub.status.busy": "2021-08-11T12:48:25.419874Z",
     "iopub.status.idle": "2021-08-11T12:48:26.721111Z",
     "shell.execute_reply": "2021-08-11T12:48:26.720194Z",
     "shell.execute_reply.started": "2021-08-11T12:48:25.420302Z"
    }
   },
   "outputs": [
    {
     "name": "stdout",
     "output_type": "stream",
     "text": [
      "(50000, 32, 32, 3)\n",
      "(10000, 32, 32, 3)\n"
     ]
    }
   ],
   "source": [
    "(x_train, y_train), (x_test, y_test) = cifar10.load_data()\n",
    "x_train = x_train/255\n",
    "x_test = x_test/255\n",
    "\n",
    "print(x_train.shape)\n",
    "print(x_test.shape)\n",
    "\n",
    "y_train = to_categorical(y_train, num_classes)\n",
    "y_test = to_categorical(y_test, num_classes)\n",
    "input_shape=x_train.shape[1:]"
   ]
  },
  {
   "cell_type": "code",
   "execution_count": 15,
   "metadata": {
    "execution": {
     "iopub.execute_input": "2021-08-11T12:48:26.722971Z",
     "iopub.status.busy": "2021-08-11T12:48:26.722475Z",
     "iopub.status.idle": "2021-08-11T12:48:26.726299Z",
     "shell.execute_reply": "2021-08-11T12:48:26.725400Z",
     "shell.execute_reply.started": "2021-08-11T12:48:26.722915Z"
    }
   },
   "outputs": [],
   "source": [
    "#datagen = ImageDataGenerator(rotation_range=40, horizontal_flip=True, zoom_range=0.1, width_shift_range=0.05, height_shift_range=0.05)\n",
    "#augmented_data = datagen.flow(x_train[:40000], y_train[:40000])"
   ]
  },
  {
   "cell_type": "code",
   "execution_count": 16,
   "metadata": {
    "execution": {
     "iopub.execute_input": "2021-08-11T12:48:26.728493Z",
     "iopub.status.busy": "2021-08-11T12:48:26.728000Z",
     "iopub.status.idle": "2021-08-11T12:48:27.637603Z",
     "shell.execute_reply": "2021-08-11T12:48:27.636783Z",
     "shell.execute_reply.started": "2021-08-11T12:48:26.728455Z"
    }
   },
   "outputs": [],
   "source": [
    "# MODEL THAT CLAIMS TO PERFORM BETTER THAN \"OVERFITTING MODEL\" \n",
    "\n",
    "import os\n",
    "import warnings\n",
    "import numpy as np\n",
    "from tensorflow.keras.layers import Input, Activation, Conv2D, Dense, Dropout, BatchNormalization, ReLU, DepthwiseConv2D, GlobalAveragePooling2D, GlobalMaxPooling2D, Add\n",
    "from tensorflow.keras.models import Model\n",
    "from tensorflow.keras import regularizers\n",
    "# define the filter size\n",
    "def _make_divisible(v, divisor, min_value=None):\n",
    "    if min_value is None:\n",
    "        min_value = divisor\n",
    "    new_v = max(min_value, int(v + divisor / 2) // divisor * divisor)\n",
    "    if new_v < 0.9 * v:\n",
    "        new_v += divisor\n",
    "    return new_v\n",
    "\n",
    "\n",
    "# define the calculation of each 'inverted Res_Block'\n",
    "def _inverted_res_block(inputs, expansion, stride, alpha, filters, block_id):\n",
    "    prefix = 'block_{}_'.format(block_id)\n",
    "\n",
    "    in_channels = inputs.shape[-1]\n",
    "    pointwise_conv_filters = int(filters * alpha)\n",
    "    pointwise_filters = _make_divisible(pointwise_conv_filters, 8)\n",
    "    x = inputs\n",
    "\n",
    "    # Expand\n",
    "    if block_id:\n",
    "        x = Conv2D(expansion * in_channels, kernel_size=1, strides=1, padding='same', use_bias=False, activation=None, kernel_initializer=\"he_normal\", kernel_regularizer=regularizers.l2(4e-5), name=prefix + 'expand')(x)\n",
    "        x = BatchNormalization(epsilon=1e-3, momentum=0.999, name=prefix + 'expand_BN')(x)\n",
    "        x = ReLU(6., name=prefix + 'expand_relu')(x)\n",
    "    else:\n",
    "        prefix = 'expanded_conv_'\n",
    "\n",
    "    # Depthwise\n",
    "    x = DepthwiseConv2D(kernel_size=3, strides=stride, activation=None, use_bias=False, padding='same', kernel_initializer=\"he_normal\", depthwise_regularizer=regularizers.l2(4e-5), name=prefix + 'depthwise')(x)\n",
    "    x = BatchNormalization(epsilon=1e-3, momentum=0.999, name=prefix + 'depthwise_BN')(x)\n",
    "    x = ReLU(6., name=prefix + 'depthwise_relu')(x)\n",
    "\n",
    "    # Project\n",
    "    x = Conv2D(pointwise_filters, kernel_size=1, strides=1, padding='same', use_bias=False, activation=None, kernel_initializer=\"he_normal\", kernel_regularizer=regularizers.l2(4e-5), name=prefix + 'project')(x)\n",
    "    x = BatchNormalization(epsilon=1e-3, momentum=0.999, name=prefix + 'project_BN')(x)\n",
    "\n",
    "\n",
    "    if in_channels == pointwise_filters and stride == 1:\n",
    "        return Add(name=prefix + 'add')([inputs, x])\n",
    "    return x\n",
    "\n",
    "#Create Build\n",
    "def create_model(rows, cols, channels, level_0_blocks, level_1_blocks, level_2_blocks, num_classes, lr_initial):\n",
    "  # encoder - input\n",
    "    alpha=1.0\n",
    "    include_top = True\n",
    "    model_input = tf.keras.layers.Input(shape=(rows, cols, channels), name='input_image')\n",
    "    x           = model_input\n",
    "\n",
    "    first_block_filters = _make_divisible(32 * alpha, 8)\n",
    "\n",
    "    # model architechture\n",
    "    x = Conv2D(first_block_filters, kernel_size=3, strides=1, padding='same', use_bias=False, kernel_initializer=\"he_normal\", kernel_regularizer=regularizers.l2(4e-5), name='Conv1')(model_input)\n",
    "\n",
    "    x = _inverted_res_block(x, filters=16,  alpha=alpha, stride=1, expansion=1, block_id=0 )\n",
    "\n",
    "    x = _inverted_res_block(x, filters=24,  alpha=alpha, stride=1, expansion=6, block_id=1 )\n",
    "    x = _inverted_res_block(x, filters=24,  alpha=alpha, stride=1, expansion=6, block_id=2 )\n",
    "\n",
    "    x = _inverted_res_block(x, filters=32,  alpha=alpha, stride=2, expansion=6, block_id=3 )\n",
    "    x = _inverted_res_block(x, filters=32,  alpha=alpha, stride=1, expansion=6, block_id=4 )\n",
    "    x = _inverted_res_block(x, filters=32,  alpha=alpha, stride=1, expansion=6, block_id=5 )\n",
    "\n",
    "    x = _inverted_res_block(x, filters=64,  alpha=alpha, stride=2, expansion=6, block_id=6 )\n",
    "    x = _inverted_res_block(x, filters=64,  alpha=alpha, stride=1, expansion=6, block_id=7 )\n",
    "    x = _inverted_res_block(x, filters=64,  alpha=alpha, stride=1, expansion=6, block_id=8 )\n",
    "    x = _inverted_res_block(x, filters=64,  alpha=alpha, stride=1, expansion=6, block_id=9 )\n",
    "    x = Dropout(rate=0.25)(x)\n",
    "\n",
    "    x = _inverted_res_block(x, filters=96,  alpha=alpha, stride=1, expansion=6, block_id=10)\n",
    "    x = _inverted_res_block(x, filters=96,  alpha=alpha, stride=1, expansion=6, block_id=11)\n",
    "    x = _inverted_res_block(x, filters=96,  alpha=alpha, stride=1, expansion=6, block_id=12)\n",
    "    x = Dropout(rate=0.25)(x)\n",
    "\n",
    "    x = _inverted_res_block(x, filters=160, alpha=alpha, stride=1, expansion=6, block_id=13)\n",
    "    x = _inverted_res_block(x, filters=160, alpha=alpha, stride=1, expansion=6, block_id=14)\n",
    "    x = _inverted_res_block(x, filters=160, alpha=alpha, stride=1, expansion=6, block_id=15)\n",
    "    x = Dropout(rate=0.25)(x)\n",
    "\n",
    "    x = _inverted_res_block(x, filters=320, alpha=alpha, stride=1, expansion=6, block_id=16)\n",
    "    x = Dropout(rate=0.25)(x)\n",
    "\n",
    "\n",
    "    # define filter size (last block)\n",
    "    if alpha > 1.0:\n",
    "        last_block_filters = _make_divisible(1280 * alpha, 8)\n",
    "    else:\n",
    "        last_block_filters = 1280\n",
    "\n",
    "\n",
    "    x = Conv2D(last_block_filters, kernel_size=1, use_bias=False, kernel_initializer=\"he_normal\", kernel_regularizer=regularizers.l2(4e-5), name='Conv_1')(x)\n",
    "    x = BatchNormalization(epsilon=1e-3, momentum=0.999, name='Conv_1_bn')(x)\n",
    "    x = ReLU(6., name='out_relu')(x)\n",
    "    \n",
    "    if include_top:\n",
    "        x = GlobalAveragePooling2D(name='global_average_pool')(x)\n",
    "        x = Dense(num_classes, activation='softmax', use_bias=True, name='Logits')(x)\n",
    "    else:\n",
    "        if pooling == 'avg':\n",
    "            x = GlobalAveragePooling2D()(x)\n",
    "        elif pooling == 'max':\n",
    "            x = GlobalMaxPooling2D()(x)\n",
    "\n",
    "    # create model of MobileNetV2 (for CIFAR-10)\n",
    "    model = Model(inputs=model_input, outputs=x, name='mobilenetv2_cifar10')\n",
    "\n",
    "    #model.compile(optimizer=tf.keras.optimizers.Adam(lr_initial), loss='sparse_categorical_crossentropy', metrics=['accuracy'])\n",
    "    #model.compile(optimizer=tf.keras.optimizers.Adam(lr_initial), loss='sparse_categorical_crossentropy', metrics=['accuracy'])\n",
    "    return model\n",
    "\n",
    "\n",
    "model = create_model(rows=32, cols=32, channels=3, level_0_blocks=4, level_1_blocks=6, level_2_blocks=3, num_classes=10, lr_initial=0.001)\n",
    "# reference for model \n",
    "# https://github.com/ruchi15/CNN-MobileNetV2-Cifar10/blob/master/CNN_Assignment_5_Design.ipynb"
   ]
  },
  {
   "cell_type": "code",
   "execution_count": 17,
   "metadata": {
    "execution": {
     "iopub.execute_input": "2021-08-11T12:48:27.639719Z",
     "iopub.status.busy": "2021-08-11T12:48:27.639392Z",
     "iopub.status.idle": "2021-08-11T12:48:27.650539Z",
     "shell.execute_reply": "2021-08-11T12:48:27.649767Z",
     "shell.execute_reply.started": "2021-08-11T12:48:27.639685Z"
    }
   },
   "outputs": [
    {
     "data": {
      "text/plain": [
       "'\\ndef mobilenet(input_size=(32, 32), l2_decay=0.1, N_CLASSES=10):\\n    \"\"\"\\n    Builds the MobileNet model.\\n    :param tuple input_size: The height and width (in that order) of the\\n        model input.\\n    :param float l2_decay: The amount of L2 weight decay to add to the\\n        loss. Applies only to kernels, not biases.\\n    :return tensorflow.keras.Sequential: A MobileNet model.\\n    \"\"\"\\n\\n    model = Sequential()\\n\\n    def _add_bn_relu():\\n        model.add(BatchNormalization(scale=False))\\n        model.add(ReLU())\\n\\n    def _add_depthwise_block(strides=1):\\n        model.add(DepthwiseConv2D(\\n            (3, 3),\\n            strides=strides,\\n            padding=\\'same\\',\\n            kernel_regularizer=L2(l2=l2_decay)))\\n        _add_bn_relu()\\n\\n    def _add_pointwise_block(filters):\\n        model.add(Conv2D(filters, (1, 1), kernel_regularizer=L2(l2=l2_decay)))\\n        _add_bn_relu()\\n\\n    model.add(Conv2D(\\n        32, (3, 3),\\n        strides=2,\\n        padding=\\'same\\',\\n        kernel_regularizer=L2(l2=l2_decay),\\n        input_shape=input_size + (3,))) # change the channel dimension here\\n    _add_bn_relu()\\n    _add_depthwise_block()\\n    _add_pointwise_block(64)\\n\\n    _add_depthwise_block(strides=2)\\n    _add_pointwise_block(128)\\n    _add_depthwise_block()\\n    _add_pointwise_block(128)\\n\\n    _add_depthwise_block(strides=2)\\n    _add_pointwise_block(256)\\n    _add_depthwise_block()\\n    _add_pointwise_block(256)\\n\\n    _add_depthwise_block(strides=2)\\n    _add_pointwise_block(512)\\n    for _ in range(5):\\n        _add_depthwise_block()\\n        _add_pointwise_block(512)\\n\\n    _add_depthwise_block(strides=2)\\n    _add_pointwise_block(1024)\\n    _add_depthwise_block()\\n    _add_pointwise_block(1024)\\n\\n    model.add(AveragePooling2D(pool_size=(input_size[0] // 32, input_size[1] // 32)))\\n\\n    model.add(Flatten())\\n    model.add(Dense(N_CLASSES, kernel_regularizer=L2(l2=l2_decay)))\\n    model.add(Softmax())\\n\\n    return model\\n\\n\\nmodel = mobilenet(input_size=(32, 32), l2_decay=0.001, N_CLASSES=10)\\nprint(model.summary())\\n'"
      ]
     },
     "execution_count": 17,
     "metadata": {},
     "output_type": "execute_result"
    }
   ],
   "source": [
    "# OVERFITTING MODEL \n",
    "'''\n",
    "def mobilenet(input_size=(32, 32), l2_decay=0.1, N_CLASSES=10):\n",
    "    \"\"\"\n",
    "    Builds the MobileNet model.\n",
    "    :param tuple input_size: The height and width (in that order) of the\n",
    "        model input.\n",
    "    :param float l2_decay: The amount of L2 weight decay to add to the\n",
    "        loss. Applies only to kernels, not biases.\n",
    "    :return tensorflow.keras.Sequential: A MobileNet model.\n",
    "    \"\"\"\n",
    "\n",
    "    model = Sequential()\n",
    "\n",
    "    def _add_bn_relu():\n",
    "        model.add(BatchNormalization(scale=False))\n",
    "        model.add(ReLU())\n",
    "\n",
    "    def _add_depthwise_block(strides=1):\n",
    "        model.add(DepthwiseConv2D(\n",
    "            (3, 3),\n",
    "            strides=strides,\n",
    "            padding='same',\n",
    "            kernel_regularizer=L2(l2=l2_decay)))\n",
    "        _add_bn_relu()\n",
    "\n",
    "    def _add_pointwise_block(filters):\n",
    "        model.add(Conv2D(filters, (1, 1), kernel_regularizer=L2(l2=l2_decay)))\n",
    "        _add_bn_relu()\n",
    "\n",
    "    model.add(Conv2D(\n",
    "        32, (3, 3),\n",
    "        strides=2,\n",
    "        padding='same',\n",
    "        kernel_regularizer=L2(l2=l2_decay),\n",
    "        input_shape=input_size + (3,))) # change the channel dimension here\n",
    "    _add_bn_relu()\n",
    "    _add_depthwise_block()\n",
    "    _add_pointwise_block(64)\n",
    "\n",
    "    _add_depthwise_block(strides=2)\n",
    "    _add_pointwise_block(128)\n",
    "    _add_depthwise_block()\n",
    "    _add_pointwise_block(128)\n",
    "\n",
    "    _add_depthwise_block(strides=2)\n",
    "    _add_pointwise_block(256)\n",
    "    _add_depthwise_block()\n",
    "    _add_pointwise_block(256)\n",
    "\n",
    "    _add_depthwise_block(strides=2)\n",
    "    _add_pointwise_block(512)\n",
    "    for _ in range(5):\n",
    "        _add_depthwise_block()\n",
    "        _add_pointwise_block(512)\n",
    "\n",
    "    _add_depthwise_block(strides=2)\n",
    "    _add_pointwise_block(1024)\n",
    "    _add_depthwise_block()\n",
    "    _add_pointwise_block(1024)\n",
    "\n",
    "    model.add(AveragePooling2D(pool_size=(input_size[0] // 32, input_size[1] // 32)))\n",
    "\n",
    "    model.add(Flatten())\n",
    "    model.add(Dense(N_CLASSES, kernel_regularizer=L2(l2=l2_decay)))\n",
    "    model.add(Softmax())\n",
    "\n",
    "    return model\n",
    "\n",
    "\n",
    "model = mobilenet(input_size=(32, 32), l2_decay=0.001, N_CLASSES=10)\n",
    "print(model.summary())\n",
    "'''"
   ]
  },
  {
   "cell_type": "code",
   "execution_count": 18,
   "metadata": {
    "execution": {
     "iopub.execute_input": "2021-08-11T12:48:27.652243Z",
     "iopub.status.busy": "2021-08-11T12:48:27.651823Z",
     "iopub.status.idle": "2021-08-11T12:48:27.659390Z",
     "shell.execute_reply": "2021-08-11T12:48:27.658499Z",
     "shell.execute_reply.started": "2021-08-11T12:48:27.652205Z"
    }
   },
   "outputs": [],
   "source": [
    "#model_tf = tf.keras.applications.mobilenet.MobileNet(input_shape=(32, 32, 3), weights=None, classes=10)\n",
    "#print(model_tf.summary())"
   ]
  },
  {
   "cell_type": "code",
   "execution_count": 19,
   "metadata": {
    "execution": {
     "iopub.execute_input": "2021-08-11T12:48:27.661226Z",
     "iopub.status.busy": "2021-08-11T12:48:27.660796Z",
     "iopub.status.idle": "2021-08-11T12:48:27.680386Z",
     "shell.execute_reply": "2021-08-11T12:48:27.679537Z",
     "shell.execute_reply.started": "2021-08-11T12:48:27.661189Z"
    }
   },
   "outputs": [],
   "source": [
    "model.compile(loss='categorical_crossentropy', optimizer=Adam(learning_rate=0.001), metrics=['accuracy'])"
   ]
  },
  {
   "cell_type": "code",
   "execution_count": 20,
   "metadata": {
    "execution": {
     "iopub.execute_input": "2021-08-11T12:48:27.682190Z",
     "iopub.status.busy": "2021-08-11T12:48:27.681769Z",
     "iopub.status.idle": "2021-08-11T14:01:54.700671Z",
     "shell.execute_reply": "2021-08-11T14:01:54.699651Z",
     "shell.execute_reply.started": "2021-08-11T12:48:27.682124Z"
    },
    "scrolled": false
   },
   "outputs": [
    {
     "name": "stdout",
     "output_type": "stream",
     "text": [
      "Epoch 1/100\n",
      "1407/1407 - 57s - loss: 2.2097 - accuracy: 0.4473 - val_loss: 4.7993 - val_accuracy: 0.1058\n",
      "Epoch 2/100\n",
      "1407/1407 - 44s - loss: 1.5963 - accuracy: 0.6081 - val_loss: 3.8221 - val_accuracy: 0.1038\n",
      "Epoch 3/100\n",
      "1407/1407 - 44s - loss: 1.2863 - accuracy: 0.6852 - val_loss: 3.3290 - val_accuracy: 0.0958\n",
      "Epoch 4/100\n",
      "1407/1407 - 44s - loss: 1.1009 - accuracy: 0.7341 - val_loss: 1.2475 - val_accuracy: 0.6954\n",
      "Epoch 5/100\n",
      "1407/1407 - 44s - loss: 0.9747 - accuracy: 0.7680 - val_loss: 1.2974 - val_accuracy: 0.6920\n",
      "Epoch 6/100\n",
      "1407/1407 - 44s - loss: 0.8885 - accuracy: 0.7931 - val_loss: 1.0424 - val_accuracy: 0.7578\n",
      "Epoch 7/100\n",
      "1407/1407 - 44s - loss: 0.8312 - accuracy: 0.8097 - val_loss: 1.4357 - val_accuracy: 0.6876\n",
      "Epoch 8/100\n",
      "1407/1407 - 44s - loss: 0.7797 - accuracy: 0.8241 - val_loss: 1.2555 - val_accuracy: 0.6954\n",
      "Epoch 9/100\n",
      "1407/1407 - 44s - loss: 0.7394 - accuracy: 0.8376 - val_loss: 1.1570 - val_accuracy: 0.7382\n",
      "Epoch 10/100\n",
      "1407/1407 - 44s - loss: 0.6996 - accuracy: 0.8488 - val_loss: 1.5050 - val_accuracy: 0.6660\n",
      "Epoch 11/100\n",
      "1407/1407 - 44s - loss: 0.6727 - accuracy: 0.8565 - val_loss: 0.9632 - val_accuracy: 0.7834\n",
      "Epoch 12/100\n",
      "1407/1407 - 44s - loss: 0.6459 - accuracy: 0.8665 - val_loss: 0.9093 - val_accuracy: 0.8000\n",
      "Epoch 13/100\n",
      "1407/1407 - 44s - loss: 0.6235 - accuracy: 0.8734 - val_loss: 0.9099 - val_accuracy: 0.7988\n",
      "Epoch 14/100\n",
      "1407/1407 - 44s - loss: 0.5996 - accuracy: 0.8813 - val_loss: 1.0179 - val_accuracy: 0.7754\n",
      "Epoch 15/100\n",
      "1407/1407 - 44s - loss: 0.5870 - accuracy: 0.8864 - val_loss: 0.9877 - val_accuracy: 0.7870\n",
      "Epoch 16/100\n",
      "1407/1407 - 44s - loss: 0.5671 - accuracy: 0.8896 - val_loss: 1.0536 - val_accuracy: 0.7774\n",
      "Epoch 17/100\n",
      "1407/1407 - 44s - loss: 0.5530 - accuracy: 0.8974 - val_loss: 0.8102 - val_accuracy: 0.8348\n",
      "Epoch 18/100\n",
      "1407/1407 - 44s - loss: 0.5384 - accuracy: 0.9011 - val_loss: 0.8213 - val_accuracy: 0.8314\n",
      "Epoch 19/100\n",
      "1407/1407 - 44s - loss: 0.5312 - accuracy: 0.9049 - val_loss: 0.9267 - val_accuracy: 0.8052\n",
      "Epoch 20/100\n",
      "1407/1407 - 44s - loss: 0.5129 - accuracy: 0.9099 - val_loss: 0.7955 - val_accuracy: 0.8296\n",
      "Epoch 21/100\n",
      "1407/1407 - 44s - loss: 0.5126 - accuracy: 0.9112 - val_loss: 0.9949 - val_accuracy: 0.7980\n",
      "Epoch 22/100\n",
      "1407/1407 - 44s - loss: 0.4991 - accuracy: 0.9143 - val_loss: 1.0086 - val_accuracy: 0.8026\n",
      "Epoch 23/100\n",
      "1407/1407 - 44s - loss: 0.4937 - accuracy: 0.9171 - val_loss: 0.9279 - val_accuracy: 0.8104\n",
      "Epoch 24/100\n",
      "1407/1407 - 44s - loss: 0.4780 - accuracy: 0.9223 - val_loss: 0.9060 - val_accuracy: 0.8170\n",
      "Epoch 25/100\n",
      "1407/1407 - 44s - loss: 0.4792 - accuracy: 0.9215 - val_loss: 1.0196 - val_accuracy: 0.7896\n",
      "Epoch 26/100\n",
      "1407/1407 - 44s - loss: 0.4756 - accuracy: 0.9240 - val_loss: 0.9003 - val_accuracy: 0.8234\n",
      "Epoch 27/100\n",
      "1407/1407 - 44s - loss: 0.4714 - accuracy: 0.9252 - val_loss: 0.9661 - val_accuracy: 0.8158\n",
      "Epoch 28/100\n",
      "1407/1407 - 44s - loss: 0.4636 - accuracy: 0.9281 - val_loss: 1.1085 - val_accuracy: 0.7972\n",
      "Epoch 29/100\n",
      "1407/1407 - 44s - loss: 0.4567 - accuracy: 0.9307 - val_loss: 0.9675 - val_accuracy: 0.8122\n",
      "Epoch 30/100\n",
      "1407/1407 - 44s - loss: 0.4516 - accuracy: 0.9322 - val_loss: 0.9411 - val_accuracy: 0.8164\n",
      "Epoch 31/100\n",
      "1407/1407 - 44s - loss: 0.4513 - accuracy: 0.9333 - val_loss: 0.9255 - val_accuracy: 0.8276\n",
      "Epoch 32/100\n",
      "1407/1407 - 44s - loss: 0.4468 - accuracy: 0.9337 - val_loss: 0.8430 - val_accuracy: 0.8312\n",
      "Epoch 33/100\n",
      "1407/1407 - 44s - loss: 0.4432 - accuracy: 0.9358 - val_loss: 0.9867 - val_accuracy: 0.8114\n",
      "Epoch 34/100\n",
      "1407/1407 - 44s - loss: 0.4416 - accuracy: 0.9363 - val_loss: 0.8005 - val_accuracy: 0.8328\n",
      "Epoch 35/100\n",
      "1407/1407 - 44s - loss: 0.4357 - accuracy: 0.9390 - val_loss: 0.8562 - val_accuracy: 0.8362\n",
      "Epoch 36/100\n",
      "1407/1407 - 44s - loss: 0.4346 - accuracy: 0.9385 - val_loss: 0.8781 - val_accuracy: 0.8258\n",
      "Epoch 37/100\n",
      "1407/1407 - 44s - loss: 0.4325 - accuracy: 0.9403 - val_loss: 0.9549 - val_accuracy: 0.8100\n",
      "Epoch 38/100\n",
      "1407/1407 - 44s - loss: 0.4269 - accuracy: 0.9424 - val_loss: 1.1513 - val_accuracy: 0.7872\n",
      "Epoch 39/100\n",
      "1407/1407 - 44s - loss: 0.4255 - accuracy: 0.9416 - val_loss: 1.1721 - val_accuracy: 0.7936\n",
      "Epoch 40/100\n",
      "1407/1407 - 44s - loss: 0.4251 - accuracy: 0.9432 - val_loss: 0.8776 - val_accuracy: 0.8286\n",
      "Epoch 41/100\n",
      "1407/1407 - 44s - loss: 0.4232 - accuracy: 0.9432 - val_loss: 0.9565 - val_accuracy: 0.8170\n",
      "Epoch 42/100\n",
      "1407/1407 - 44s - loss: 0.4222 - accuracy: 0.9433 - val_loss: 0.8405 - val_accuracy: 0.8434\n",
      "Epoch 43/100\n",
      "1407/1407 - 44s - loss: 0.4143 - accuracy: 0.9461 - val_loss: 0.9223 - val_accuracy: 0.8276\n",
      "Epoch 44/100\n",
      "1407/1407 - 44s - loss: 0.4174 - accuracy: 0.9456 - val_loss: 1.0171 - val_accuracy: 0.8200\n",
      "Epoch 45/100\n",
      "1407/1407 - 44s - loss: 0.4125 - accuracy: 0.9456 - val_loss: 0.8269 - val_accuracy: 0.8418\n",
      "Epoch 46/100\n",
      "1407/1407 - 44s - loss: 0.4149 - accuracy: 0.9451 - val_loss: 0.8456 - val_accuracy: 0.8506\n",
      "Epoch 47/100\n",
      "1407/1407 - 44s - loss: 0.4110 - accuracy: 0.9461 - val_loss: 0.8281 - val_accuracy: 0.8484\n",
      "Epoch 48/100\n",
      "1407/1407 - 44s - loss: 0.4146 - accuracy: 0.9466 - val_loss: 0.9332 - val_accuracy: 0.8176\n",
      "Epoch 49/100\n",
      "1407/1407 - 44s - loss: 0.4036 - accuracy: 0.9488 - val_loss: 0.8717 - val_accuracy: 0.8364\n",
      "Epoch 50/100\n",
      "1407/1407 - 44s - loss: 0.4052 - accuracy: 0.9498 - val_loss: 0.9478 - val_accuracy: 0.8230\n",
      "Epoch 51/100\n",
      "1407/1407 - 44s - loss: 0.4039 - accuracy: 0.9492 - val_loss: 1.0542 - val_accuracy: 0.8118\n",
      "Epoch 52/100\n",
      "1407/1407 - 44s - loss: 0.4006 - accuracy: 0.9507 - val_loss: 0.8161 - val_accuracy: 0.8556\n",
      "Epoch 53/100\n",
      "1407/1407 - 44s - loss: 0.4047 - accuracy: 0.9484 - val_loss: 0.9166 - val_accuracy: 0.8368\n",
      "Epoch 54/100\n",
      "1407/1407 - 44s - loss: 0.3976 - accuracy: 0.9520 - val_loss: 0.9556 - val_accuracy: 0.8216\n",
      "Epoch 55/100\n",
      "1407/1407 - 44s - loss: 0.4001 - accuracy: 0.9496 - val_loss: 0.8747 - val_accuracy: 0.8434\n",
      "Epoch 56/100\n",
      "1407/1407 - 44s - loss: 0.3939 - accuracy: 0.9521 - val_loss: 0.9635 - val_accuracy: 0.8310\n",
      "Epoch 57/100\n",
      "1407/1407 - 44s - loss: 0.3945 - accuracy: 0.9518 - val_loss: 0.8806 - val_accuracy: 0.8412\n",
      "Epoch 58/100\n",
      "1407/1407 - 44s - loss: 0.3930 - accuracy: 0.9523 - val_loss: 0.9331 - val_accuracy: 0.8314\n",
      "Epoch 59/100\n",
      "1407/1407 - 44s - loss: 0.3927 - accuracy: 0.9521 - val_loss: 0.9180 - val_accuracy: 0.8296\n",
      "Epoch 60/100\n",
      "1407/1407 - 44s - loss: 0.3908 - accuracy: 0.9537 - val_loss: 1.0054 - val_accuracy: 0.8216\n",
      "Epoch 61/100\n",
      "1407/1407 - 44s - loss: 0.3874 - accuracy: 0.9545 - val_loss: 0.9043 - val_accuracy: 0.8358\n",
      "Epoch 62/100\n",
      "1407/1407 - 44s - loss: 0.3891 - accuracy: 0.9524 - val_loss: 0.9854 - val_accuracy: 0.8278\n",
      "Epoch 63/100\n",
      "1407/1407 - 44s - loss: 0.3839 - accuracy: 0.9557 - val_loss: 1.0582 - val_accuracy: 0.8010\n",
      "Epoch 64/100\n",
      "1407/1407 - 44s - loss: 0.3842 - accuracy: 0.9547 - val_loss: 1.0430 - val_accuracy: 0.8130\n",
      "Epoch 65/100\n",
      "1407/1407 - 44s - loss: 0.3844 - accuracy: 0.9539 - val_loss: 0.8182 - val_accuracy: 0.8522\n",
      "Epoch 66/100\n",
      "1407/1407 - 44s - loss: 0.3799 - accuracy: 0.9550 - val_loss: 0.8557 - val_accuracy: 0.8456\n",
      "Epoch 67/100\n",
      "1407/1407 - 44s - loss: 0.3808 - accuracy: 0.9553 - val_loss: 0.8495 - val_accuracy: 0.8444\n",
      "Epoch 68/100\n",
      "1407/1407 - 44s - loss: 0.3774 - accuracy: 0.9567 - val_loss: 0.8359 - val_accuracy: 0.8478\n",
      "Epoch 69/100\n",
      "1407/1407 - 44s - loss: 0.3755 - accuracy: 0.9571 - val_loss: 0.8300 - val_accuracy: 0.8538\n",
      "Epoch 70/100\n",
      "1407/1407 - 44s - loss: 0.3746 - accuracy: 0.9575 - val_loss: 0.8614 - val_accuracy: 0.8486\n",
      "Epoch 71/100\n",
      "1407/1407 - 44s - loss: 0.3837 - accuracy: 0.9550 - val_loss: 0.8677 - val_accuracy: 0.8446\n",
      "Epoch 72/100\n",
      "1407/1407 - 44s - loss: 0.3694 - accuracy: 0.9584 - val_loss: 0.8694 - val_accuracy: 0.8434\n",
      "Epoch 73/100\n",
      "1407/1407 - 44s - loss: 0.3756 - accuracy: 0.9568 - val_loss: 0.8846 - val_accuracy: 0.8498\n",
      "Epoch 74/100\n",
      "1407/1407 - 44s - loss: 0.3720 - accuracy: 0.9586 - val_loss: 0.9673 - val_accuracy: 0.8314\n",
      "Epoch 75/100\n",
      "1407/1407 - 44s - loss: 0.3727 - accuracy: 0.9576 - val_loss: 0.9805 - val_accuracy: 0.8216\n",
      "Epoch 76/100\n",
      "1407/1407 - 44s - loss: 0.3721 - accuracy: 0.9569 - val_loss: 0.9449 - val_accuracy: 0.8320\n",
      "Epoch 77/100\n",
      "1407/1407 - 44s - loss: 0.3677 - accuracy: 0.9588 - val_loss: 0.8190 - val_accuracy: 0.8520\n",
      "Epoch 78/100\n",
      "1407/1407 - 44s - loss: 0.3678 - accuracy: 0.9590 - val_loss: 0.8840 - val_accuracy: 0.8314\n",
      "Epoch 79/100\n",
      "1407/1407 - 44s - loss: 0.3685 - accuracy: 0.9582 - val_loss: 0.9406 - val_accuracy: 0.8310\n",
      "Epoch 80/100\n",
      "1407/1407 - 44s - loss: 0.3708 - accuracy: 0.9580 - val_loss: 0.8763 - val_accuracy: 0.8310\n",
      "Epoch 81/100\n",
      "1407/1407 - 44s - loss: 0.3677 - accuracy: 0.9591 - val_loss: 0.8715 - val_accuracy: 0.8362\n",
      "Epoch 82/100\n",
      "1407/1407 - 44s - loss: 0.3658 - accuracy: 0.9594 - val_loss: 0.9876 - val_accuracy: 0.8226\n",
      "Epoch 83/100\n",
      "1407/1407 - 44s - loss: 0.3602 - accuracy: 0.9612 - val_loss: 0.8192 - val_accuracy: 0.8490\n",
      "Epoch 84/100\n",
      "1407/1407 - 44s - loss: 0.3652 - accuracy: 0.9587 - val_loss: 0.9264 - val_accuracy: 0.8300\n",
      "Epoch 85/100\n",
      "1407/1407 - 44s - loss: 0.3645 - accuracy: 0.9585 - val_loss: 0.7723 - val_accuracy: 0.8544\n",
      "Epoch 86/100\n",
      "1407/1407 - 44s - loss: 0.3619 - accuracy: 0.9611 - val_loss: 0.9073 - val_accuracy: 0.8430\n",
      "Epoch 87/100\n",
      "1407/1407 - 44s - loss: 0.3586 - accuracy: 0.9612 - val_loss: 1.0615 - val_accuracy: 0.8148\n",
      "Epoch 88/100\n",
      "1407/1407 - 44s - loss: 0.3705 - accuracy: 0.9566 - val_loss: 0.8278 - val_accuracy: 0.8536\n",
      "Epoch 89/100\n",
      "1407/1407 - 44s - loss: 0.3582 - accuracy: 0.9604 - val_loss: 0.8392 - val_accuracy: 0.8574\n",
      "Epoch 90/100\n",
      "1407/1407 - 44s - loss: 0.3603 - accuracy: 0.9599 - val_loss: 0.8519 - val_accuracy: 0.8392\n",
      "Epoch 91/100\n",
      "1407/1407 - 44s - loss: 0.3571 - accuracy: 0.9609 - val_loss: 0.8312 - val_accuracy: 0.8476\n",
      "Epoch 92/100\n",
      "1407/1407 - 44s - loss: 0.3528 - accuracy: 0.9620 - val_loss: 0.9805 - val_accuracy: 0.8250\n",
      "Epoch 93/100\n",
      "1407/1407 - 44s - loss: 0.3584 - accuracy: 0.9600 - val_loss: 0.9026 - val_accuracy: 0.8418\n",
      "Epoch 94/100\n",
      "1407/1407 - 44s - loss: 0.3596 - accuracy: 0.9593 - val_loss: 0.8566 - val_accuracy: 0.8368\n",
      "Epoch 95/100\n",
      "1407/1407 - 44s - loss: 0.3517 - accuracy: 0.9627 - val_loss: 0.8608 - val_accuracy: 0.8498\n",
      "Epoch 96/100\n",
      "1407/1407 - 44s - loss: 0.3548 - accuracy: 0.9603 - val_loss: 0.9420 - val_accuracy: 0.8374\n",
      "Epoch 97/100\n",
      "1407/1407 - 44s - loss: 0.3541 - accuracy: 0.9607 - val_loss: 0.8689 - val_accuracy: 0.8400\n",
      "Epoch 98/100\n",
      "1407/1407 - 44s - loss: 0.3513 - accuracy: 0.9620 - val_loss: 0.8837 - val_accuracy: 0.8414\n",
      "Epoch 99/100\n",
      "1407/1407 - 44s - loss: 0.3511 - accuracy: 0.9618 - val_loss: 0.8671 - val_accuracy: 0.8440\n",
      "Epoch 100/100\n",
      "1407/1407 - 44s - loss: 0.3515 - accuracy: 0.9609 - val_loss: 0.8558 - val_accuracy: 0.8426\n"
     ]
    }
   ],
   "source": [
    "#steps = int(x_train.shape[0]/batch_size) \n",
    "\n",
    "history = model.fit(x_train, y_train, epochs=epochs, verbose=2, validation_split=0.1)"
   ]
  },
  {
   "cell_type": "code",
   "execution_count": 21,
   "metadata": {
    "execution": {
     "iopub.execute_input": "2021-08-11T14:01:54.703521Z",
     "iopub.status.busy": "2021-08-11T14:01:54.703182Z",
     "iopub.status.idle": "2021-08-11T14:01:54.872366Z",
     "shell.execute_reply": "2021-08-11T14:01:54.871231Z",
     "shell.execute_reply.started": "2021-08-11T14:01:54.703485Z"
    }
   },
   "outputs": [
    {
     "data": {
      "image/png": "[encoded data removed]",
      "text/plain": [
       "<Figure size 432x288 with 1 Axes>"
      ]
     },
     "metadata": {
      "needs_background": "light"
     },
     "output_type": "display_data"
    }
   ],
   "source": [
    "import matplotlib.pyplot as plt\n",
    "plt.plot(history.history['loss'])\n",
    "plt.plot(history.history['val_loss'])\n",
    "plt.title('model loss performance')\n",
    "plt.legend(['train loss', 'validation loss'])\n",
    "plt.show()"
   ]
  },
  {
   "cell_type": "code",
   "execution_count": 22,
   "metadata": {
    "execution": {
     "iopub.execute_input": "2021-08-11T14:01:54.874448Z",
     "iopub.status.busy": "2021-08-11T14:01:54.874067Z",
     "iopub.status.idle": "2021-08-11T14:01:55.027512Z",
     "shell.execute_reply": "2021-08-11T14:01:55.025955Z",
     "shell.execute_reply.started": "2021-08-11T14:01:54.874409Z"
    }
   },
   "outputs": [
    {
     "data": {
      "image/png": "[encoded data removed]",
      "text/plain": [
       "<Figure size 432x288 with 1 Axes>"
      ]
     },
     "metadata": {
      "needs_background": "light"
     },
     "output_type": "display_data"
    }
   ],
   "source": [
    "plt.plot(history.history['accuracy'])\n",
    "plt.plot(history.history['val_accuracy'])\n",
    "plt.title('model accuracy performance')\n",
    "plt.legend(['train accuracy', 'validation accuracy'])\n",
    "plt.show()"
   ]
  },
  {
   "cell_type": "code",
   "execution_count": 23,
   "metadata": {
    "execution": {
     "iopub.execute_input": "2021-08-11T14:01:55.029238Z",
     "iopub.status.busy": "2021-08-11T14:01:55.028848Z",
     "iopub.status.idle": "2021-08-11T14:01:58.820756Z",
     "shell.execute_reply": "2021-08-11T14:01:58.819832Z",
     "shell.execute_reply.started": "2021-08-11T14:01:55.029198Z"
    }
   },
   "outputs": [
    {
     "name": "stdout",
     "output_type": "stream",
     "text": [
      "313/313 [==============================] - 4s 11ms/step - loss: 0.9037 - accuracy: 0.8323\n"
     ]
    },
    {
     "data": {
      "text/plain": [
       "[0.9037297964096069, 0.8323000073432922]"
      ]
     },
     "execution_count": 23,
     "metadata": {},
     "output_type": "execute_result"
    }
   ],
   "source": [
    "model.evaluate(x_test, y_test)"
   ]
  },
  {
   "cell_type": "code",
   "execution_count": null,
   "metadata": {},
   "outputs": [],
   "source": []
  }
 ],
 "metadata": {
  "kernelspec": {
   "display_name": "Python 3",
   "language": "python",
   "name": "python3"
  },
  "language_info": {
   "codemirror_mode": {
    "name": "ipython",
    "version": 3
   },
   "file_extension": ".py",
   "mimetype": "text/x-python",
   "name": "python",
   "nbconvert_exporter": "python",
   "pygments_lexer": "ipython3",
   "version": "3.7.3"
  }
 },
 "nbformat": 4,
 "nbformat_minor": 4
}
