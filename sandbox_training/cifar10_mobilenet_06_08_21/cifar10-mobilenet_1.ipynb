{
 "cells": [
  {
   "cell_type": "code",
   "execution_count": null,
   "metadata": {},
   "outputs": [],
   "source": [
    "# dataset = cifar10 \n",
    "# model = mobilenet \n",
    "# optimizer = ADAM (0.001)\n",
    "# loss = categorical_crossentropy \n",
    "# batch_size = 32 \n",
    "# decay = l2 (0.01)\n",
    "# augmentation = off"
   ]
  },
  {
   "cell_type": "code",
   "execution_count": 2,
   "metadata": {
    "_cell_guid": "b1076dfc-b9ad-4769-8c92-a6c4dae69d19",
    "_uuid": "8f2839f25d086af736a60e9eeb907d3b93b6e0e5",
    "execution": {
     "iopub.execute_input": "2021-08-10T07:02:51.613928Z",
     "iopub.status.busy": "2021-08-10T07:02:51.613672Z",
     "iopub.status.idle": "2021-08-10T07:02:55.943072Z",
     "shell.execute_reply": "2021-08-10T07:02:55.942217Z",
     "shell.execute_reply.started": "2021-08-10T07:02:51.613904Z"
    }
   },
   "outputs": [],
   "source": [
    "import tensorflow as tf\n",
    "import os\n",
    "\n",
    "from tensorflow.keras.layers import Dense, Conv2D, BatchNormalization, Activation, Dropout\n",
    "from tensorflow.keras.layers import Input, Flatten, AveragePooling2D, Add\n",
    "from tensorflow.keras.layers import *\n",
    "from tensorflow.keras import backend as K\n",
    "from tensorflow.keras.models import Model\n",
    "from tensorflow.keras.models import Sequential\n",
    "from tensorflow.keras.optimizers import Adam\n",
    "from tensorflow.keras.callbacks import ModelCheckpoint\n",
    "from tensorflow.keras.utils import to_categorical\n",
    "from tensorflow.keras.preprocessing.image import ImageDataGenerator\n",
    "from tensorflow.keras.regularizers import l2\n",
    "\n",
    "from tensorflow.keras.datasets import cifar10\n",
    "from tensorflow.keras.datasets import fashion_mnist"
   ]
  },
  {
   "cell_type": "code",
   "execution_count": 3,
   "metadata": {
    "execution": {
     "iopub.execute_input": "2021-08-10T07:02:55.944788Z",
     "iopub.status.busy": "2021-08-10T07:02:55.944447Z",
     "iopub.status.idle": "2021-08-10T07:02:55.951709Z",
     "shell.execute_reply": "2021-08-10T07:02:55.950897Z",
     "shell.execute_reply.started": "2021-08-10T07:02:55.944751Z"
    }
   },
   "outputs": [],
   "source": [
    "batch_size=32 \n",
    "epochs=100\n",
    "num_classes=10 \n",
    "depth=20 "
   ]
  },
  {
   "cell_type": "code",
   "execution_count": 4,
   "metadata": {
    "execution": {
     "iopub.execute_input": "2021-08-10T07:02:55.953550Z",
     "iopub.status.busy": "2021-08-10T07:02:55.953245Z",
     "iopub.status.idle": "2021-08-10T07:02:55.958504Z",
     "shell.execute_reply": "2021-08-10T07:02:55.957547Z",
     "shell.execute_reply.started": "2021-08-10T07:02:55.953519Z"
    }
   },
   "outputs": [],
   "source": [
    "model_type = 'MobileNet%d' % (depth)"
   ]
  },
  {
   "cell_type": "code",
   "execution_count": 5,
   "metadata": {
    "execution": {
     "iopub.execute_input": "2021-08-10T07:04:19.350380Z",
     "iopub.status.busy": "2021-08-10T07:04:19.350015Z",
     "iopub.status.idle": "2021-08-10T07:04:28.573245Z",
     "shell.execute_reply": "2021-08-10T07:04:28.572405Z",
     "shell.execute_reply.started": "2021-08-10T07:04:19.350349Z"
    }
   },
   "outputs": [
    {
     "name": "stdout",
     "output_type": "stream",
     "text": [
      "Downloading data from https://www.cs.toronto.edu/~kriz/cifar-10-python.tar.gz\n",
      "170500096/170498071 [==============================] - 6s 0us/step\n"
     ]
    }
   ],
   "source": [
    "(x_train, y_train), (x_test, y_test) = cifar10.load_data() \n",
    "x_train = x_train/255 \n",
    "x_test = x_test/255 \n",
    "\n",
    "y_train = to_categorical(y_train, num_classes)\n",
    "y_test = to_categorical(y_test, num_classes) \n",
    "input_shape=x_train.shape[1:]"
   ]
  },
  {
   "cell_type": "code",
   "execution_count": 6,
   "metadata": {
    "execution": {
     "iopub.execute_input": "2021-08-10T07:04:28.574957Z",
     "iopub.status.busy": "2021-08-10T07:04:28.574636Z",
     "iopub.status.idle": "2021-08-10T07:04:28.579619Z",
     "shell.execute_reply": "2021-08-10T07:04:28.578490Z",
     "shell.execute_reply.started": "2021-08-10T07:04:28.574923Z"
    }
   },
   "outputs": [],
   "source": [
    "#datagen = ImageDataGenerator(rotation_range=40, horizontal_flip=True, zoom_range=0.1, width_shift_range=0.05, height_shift_range=0.05)\n",
    "#augmented_data = datagen.flow(x_train, y_train)"
   ]
  },
  {
   "cell_type": "code",
   "execution_count": 7,
   "metadata": {
    "execution": {
     "iopub.execute_input": "2021-08-10T07:04:30.572130Z",
     "iopub.status.busy": "2021-08-10T07:04:30.571781Z",
     "iopub.status.idle": "2021-08-10T07:04:33.150914Z",
     "shell.execute_reply": "2021-08-10T07:04:33.150146Z",
     "shell.execute_reply.started": "2021-08-10T07:04:30.572086Z"
    }
   },
   "outputs": [
    {
     "name": "stdout",
     "output_type": "stream",
     "text": [
      "Model: \"sequential\"\n",
      "_________________________________________________________________\n",
      "Layer (type)                 Output Shape              Param #   \n",
      "=================================================================\n",
      "conv2d (Conv2D)              (None, 16, 16, 32)        896       \n",
      "_________________________________________________________________\n",
      "batch_normalization (BatchNo (None, 16, 16, 32)        96        \n",
      "_________________________________________________________________\n",
      "re_lu (ReLU)                 (None, 16, 16, 32)        0         \n",
      "_________________________________________________________________\n",
      "depthwise_conv2d (DepthwiseC (None, 16, 16, 32)        320       \n",
      "_________________________________________________________________\n",
      "batch_normalization_1 (Batch (None, 16, 16, 32)        96        \n",
      "_________________________________________________________________\n",
      "re_lu_1 (ReLU)               (None, 16, 16, 32)        0         \n",
      "_________________________________________________________________\n",
      "conv2d_1 (Conv2D)            (None, 16, 16, 64)        2112      \n",
      "_________________________________________________________________\n",
      "batch_normalization_2 (Batch (None, 16, 16, 64)        192       \n",
      "_________________________________________________________________\n",
      "re_lu_2 (ReLU)               (None, 16, 16, 64)        0         \n",
      "_________________________________________________________________\n",
      "depthwise_conv2d_1 (Depthwis (None, 8, 8, 64)          640       \n",
      "_________________________________________________________________\n",
      "batch_normalization_3 (Batch (None, 8, 8, 64)          192       \n",
      "_________________________________________________________________\n",
      "re_lu_3 (ReLU)               (None, 8, 8, 64)          0         \n",
      "_________________________________________________________________\n",
      "conv2d_2 (Conv2D)            (None, 8, 8, 128)         8320      \n",
      "_________________________________________________________________\n",
      "batch_normalization_4 (Batch (None, 8, 8, 128)         384       \n",
      "_________________________________________________________________\n",
      "re_lu_4 (ReLU)               (None, 8, 8, 128)         0         \n",
      "_________________________________________________________________\n",
      "depthwise_conv2d_2 (Depthwis (None, 8, 8, 128)         1280      \n",
      "_________________________________________________________________\n",
      "batch_normalization_5 (Batch (None, 8, 8, 128)         384       \n",
      "_________________________________________________________________\n",
      "re_lu_5 (ReLU)               (None, 8, 8, 128)         0         \n",
      "_________________________________________________________________\n",
      "conv2d_3 (Conv2D)            (None, 8, 8, 128)         16512     \n",
      "_________________________________________________________________\n",
      "batch_normalization_6 (Batch (None, 8, 8, 128)         384       \n",
      "_________________________________________________________________\n",
      "re_lu_6 (ReLU)               (None, 8, 8, 128)         0         \n",
      "_________________________________________________________________\n",
      "depthwise_conv2d_3 (Depthwis (None, 4, 4, 128)         1280      \n",
      "_________________________________________________________________\n",
      "batch_normalization_7 (Batch (None, 4, 4, 128)         384       \n",
      "_________________________________________________________________\n",
      "re_lu_7 (ReLU)               (None, 4, 4, 128)         0         \n",
      "_________________________________________________________________\n",
      "conv2d_4 (Conv2D)            (None, 4, 4, 256)         33024     \n",
      "_________________________________________________________________\n",
      "batch_normalization_8 (Batch (None, 4, 4, 256)         768       \n",
      "_________________________________________________________________\n",
      "re_lu_8 (ReLU)               (None, 4, 4, 256)         0         \n",
      "_________________________________________________________________\n",
      "depthwise_conv2d_4 (Depthwis (None, 4, 4, 256)         2560      \n",
      "_________________________________________________________________\n",
      "batch_normalization_9 (Batch (None, 4, 4, 256)         768       \n",
      "_________________________________________________________________\n",
      "re_lu_9 (ReLU)               (None, 4, 4, 256)         0         \n",
      "_________________________________________________________________\n",
      "conv2d_5 (Conv2D)            (None, 4, 4, 256)         65792     \n",
      "_________________________________________________________________\n",
      "batch_normalization_10 (Batc (None, 4, 4, 256)         768       \n",
      "_________________________________________________________________\n",
      "re_lu_10 (ReLU)              (None, 4, 4, 256)         0         \n",
      "_________________________________________________________________\n",
      "depthwise_conv2d_5 (Depthwis (None, 2, 2, 256)         2560      \n",
      "_________________________________________________________________\n",
      "batch_normalization_11 (Batc (None, 2, 2, 256)         768       \n",
      "_________________________________________________________________\n",
      "re_lu_11 (ReLU)              (None, 2, 2, 256)         0         \n",
      "_________________________________________________________________\n",
      "conv2d_6 (Conv2D)            (None, 2, 2, 512)         131584    \n",
      "_________________________________________________________________\n",
      "batch_normalization_12 (Batc (None, 2, 2, 512)         1536      \n",
      "_________________________________________________________________\n",
      "re_lu_12 (ReLU)              (None, 2, 2, 512)         0         \n",
      "_________________________________________________________________\n",
      "depthwise_conv2d_6 (Depthwis (None, 2, 2, 512)         5120      \n",
      "_________________________________________________________________\n",
      "batch_normalization_13 (Batc (None, 2, 2, 512)         1536      \n",
      "_________________________________________________________________\n",
      "re_lu_13 (ReLU)              (None, 2, 2, 512)         0         \n",
      "_________________________________________________________________\n",
      "conv2d_7 (Conv2D)            (None, 2, 2, 512)         262656    \n",
      "_________________________________________________________________\n",
      "batch_normalization_14 (Batc (None, 2, 2, 512)         1536      \n",
      "_________________________________________________________________\n",
      "re_lu_14 (ReLU)              (None, 2, 2, 512)         0         \n",
      "_________________________________________________________________\n",
      "depthwise_conv2d_7 (Depthwis (None, 2, 2, 512)         5120      \n",
      "_________________________________________________________________\n",
      "batch_normalization_15 (Batc (None, 2, 2, 512)         1536      \n",
      "_________________________________________________________________\n",
      "re_lu_15 (ReLU)              (None, 2, 2, 512)         0         \n",
      "_________________________________________________________________\n",
      "conv2d_8 (Conv2D)            (None, 2, 2, 512)         262656    \n",
      "_________________________________________________________________\n",
      "batch_normalization_16 (Batc (None, 2, 2, 512)         1536      \n",
      "_________________________________________________________________\n",
      "re_lu_16 (ReLU)              (None, 2, 2, 512)         0         \n",
      "_________________________________________________________________\n",
      "depthwise_conv2d_8 (Depthwis (None, 2, 2, 512)         5120      \n",
      "_________________________________________________________________\n",
      "batch_normalization_17 (Batc (None, 2, 2, 512)         1536      \n",
      "_________________________________________________________________\n",
      "re_lu_17 (ReLU)              (None, 2, 2, 512)         0         \n",
      "_________________________________________________________________\n",
      "conv2d_9 (Conv2D)            (None, 2, 2, 512)         262656    \n",
      "_________________________________________________________________\n",
      "batch_normalization_18 (Batc (None, 2, 2, 512)         1536      \n",
      "_________________________________________________________________\n",
      "re_lu_18 (ReLU)              (None, 2, 2, 512)         0         \n",
      "_________________________________________________________________\n",
      "depthwise_conv2d_9 (Depthwis (None, 2, 2, 512)         5120      \n",
      "_________________________________________________________________\n",
      "batch_normalization_19 (Batc (None, 2, 2, 512)         1536      \n",
      "_________________________________________________________________\n",
      "re_lu_19 (ReLU)              (None, 2, 2, 512)         0         \n",
      "_________________________________________________________________\n",
      "conv2d_10 (Conv2D)           (None, 2, 2, 512)         262656    \n",
      "_________________________________________________________________\n",
      "batch_normalization_20 (Batc (None, 2, 2, 512)         1536      \n",
      "_________________________________________________________________\n",
      "re_lu_20 (ReLU)              (None, 2, 2, 512)         0         \n",
      "_________________________________________________________________\n",
      "depthwise_conv2d_10 (Depthwi (None, 2, 2, 512)         5120      \n",
      "_________________________________________________________________\n",
      "batch_normalization_21 (Batc (None, 2, 2, 512)         1536      \n",
      "_________________________________________________________________\n",
      "re_lu_21 (ReLU)              (None, 2, 2, 512)         0         \n",
      "_________________________________________________________________\n",
      "conv2d_11 (Conv2D)           (None, 2, 2, 512)         262656    \n",
      "_________________________________________________________________\n",
      "batch_normalization_22 (Batc (None, 2, 2, 512)         1536      \n",
      "_________________________________________________________________\n",
      "re_lu_22 (ReLU)              (None, 2, 2, 512)         0         \n",
      "_________________________________________________________________\n",
      "depthwise_conv2d_11 (Depthwi (None, 1, 1, 512)         5120      \n",
      "_________________________________________________________________\n",
      "batch_normalization_23 (Batc (None, 1, 1, 512)         1536      \n",
      "_________________________________________________________________\n",
      "re_lu_23 (ReLU)              (None, 1, 1, 512)         0         \n",
      "_________________________________________________________________\n",
      "conv2d_12 (Conv2D)           (None, 1, 1, 1024)        525312    \n",
      "_________________________________________________________________\n",
      "batch_normalization_24 (Batc (None, 1, 1, 1024)        3072      \n",
      "_________________________________________________________________\n",
      "re_lu_24 (ReLU)              (None, 1, 1, 1024)        0         \n",
      "_________________________________________________________________\n",
      "depthwise_conv2d_12 (Depthwi (None, 1, 1, 1024)        10240     \n",
      "_________________________________________________________________\n",
      "batch_normalization_25 (Batc (None, 1, 1, 1024)        3072      \n",
      "_________________________________________________________________\n",
      "re_lu_25 (ReLU)              (None, 1, 1, 1024)        0         \n",
      "_________________________________________________________________\n",
      "conv2d_13 (Conv2D)           (None, 1, 1, 1024)        1049600   \n",
      "_________________________________________________________________\n",
      "batch_normalization_26 (Batc (None, 1, 1, 1024)        3072      \n",
      "_________________________________________________________________\n",
      "re_lu_26 (ReLU)              (None, 1, 1, 1024)        0         \n",
      "_________________________________________________________________\n",
      "average_pooling2d (AveragePo (None, 1, 1, 1024)        0         \n",
      "_________________________________________________________________\n",
      "flatten (Flatten)            (None, 1024)              0         \n",
      "_________________________________________________________________\n",
      "dense (Dense)                (None, 10)                10250     \n",
      "_________________________________________________________________\n",
      "softmax (Softmax)            (None, 10)                0         \n",
      "=================================================================\n",
      "Total params: 3,239,114\n",
      "Trainable params: 3,217,226\n",
      "Non-trainable params: 21,888\n",
      "_________________________________________________________________\n",
      "None\n"
     ]
    }
   ],
   "source": [
    "def mobilenet(input_size=(32, 32), l2_decay=0.1, N_CLASSES=10):\n",
    "    \"\"\"\n",
    "    Builds the MobileNet model.\n",
    "    :param tuple input_size: The height and width (in that order) of the\n",
    "        model input.\n",
    "    :param float l2_decay: The amount of L2 weight decay to add to the\n",
    "        loss. Applies only to kernels, not biases.\n",
    "    :return tensorflow.keras.Sequential: A MobileNet model.\n",
    "    \"\"\"\n",
    "\n",
    "    model = Sequential()\n",
    "\n",
    "    def _add_bn_relu():\n",
    "        model.add(BatchNormalization(scale=False))\n",
    "        model.add(ReLU())\n",
    "\n",
    "    def _add_depthwise_block(strides=1):\n",
    "        model.add(DepthwiseConv2D(\n",
    "            (3, 3),\n",
    "            strides=strides,\n",
    "            padding='same',\n",
    "            kernel_regularizer=l2(l=l2_decay)))\n",
    "        _add_bn_relu()\n",
    "\n",
    "    def _add_pointwise_block(filters):\n",
    "        model.add(Conv2D(filters, (1, 1), kernel_regularizer=l2(l=l2_decay)))\n",
    "        _add_bn_relu()\n",
    "\n",
    "    model.add(Conv2D(\n",
    "        32, (3, 3),\n",
    "        strides=2,\n",
    "        padding='same',\n",
    "        kernel_regularizer=l2(l=l2_decay),\n",
    "        input_shape=input_size + (3,)))\n",
    "    _add_bn_relu()\n",
    "    _add_depthwise_block()\n",
    "    _add_pointwise_block(64)\n",
    "\n",
    "    _add_depthwise_block(strides=2)\n",
    "    _add_pointwise_block(128)\n",
    "    _add_depthwise_block()\n",
    "    _add_pointwise_block(128)\n",
    "\n",
    "    _add_depthwise_block(strides=2)\n",
    "    _add_pointwise_block(256)\n",
    "    _add_depthwise_block()\n",
    "    _add_pointwise_block(256)\n",
    "\n",
    "    _add_depthwise_block(strides=2)\n",
    "    _add_pointwise_block(512)\n",
    "    for _ in range(5):\n",
    "        _add_depthwise_block()\n",
    "        _add_pointwise_block(512)\n",
    "\n",
    "    _add_depthwise_block(strides=2)\n",
    "    _add_pointwise_block(1024)\n",
    "    _add_depthwise_block()\n",
    "    _add_pointwise_block(1024)\n",
    "\n",
    "    model.add(AveragePooling2D(pool_size=(input_size[0] // 32, input_size[1] // 32)))\n",
    "\n",
    "    model.add(Flatten())\n",
    "    model.add(Dense(N_CLASSES, kernel_regularizer=l2(l=l2_decay)))\n",
    "    model.add(Softmax())\n",
    "\n",
    "    return model\n",
    "\n",
    "\n",
    "model = mobilenet(input_size=(32, 32), l2_decay=0.01, N_CLASSES=10)\n",
    "print(model.summary())"
   ]
  },
  {
   "cell_type": "code",
   "execution_count": 8,
   "metadata": {
    "execution": {
     "iopub.execute_input": "2021-08-10T07:04:38.238168Z",
     "iopub.status.busy": "2021-08-10T07:04:38.237812Z",
     "iopub.status.idle": "2021-08-10T07:04:38.241384Z",
     "shell.execute_reply": "2021-08-10T07:04:38.240521Z",
     "shell.execute_reply.started": "2021-08-10T07:04:38.238132Z"
    }
   },
   "outputs": [],
   "source": [
    "#model_tf = tf.keras.applications.mobilenet.MobileNet(input_shape=(32, 32, 3), weights=None, classes=10)\n",
    "#print(model_tf.summary())"
   ]
  },
  {
   "cell_type": "code",
   "execution_count": 9,
   "metadata": {
    "execution": {
     "iopub.execute_input": "2021-08-10T07:04:38.557375Z",
     "iopub.status.busy": "2021-08-10T07:04:38.557019Z",
     "iopub.status.idle": "2021-08-10T07:04:38.574795Z",
     "shell.execute_reply": "2021-08-10T07:04:38.574043Z",
     "shell.execute_reply.started": "2021-08-10T07:04:38.557343Z"
    }
   },
   "outputs": [],
   "source": [
    "model.compile(loss='categorical_crossentropy', optimizer=Adam(learning_rate=0.001), metrics=['accuracy'])"
   ]
  },
  {
   "cell_type": "code",
   "execution_count": 10,
   "metadata": {
    "execution": {
     "iopub.execute_input": "2021-08-10T07:04:41.119788Z",
     "iopub.status.busy": "2021-08-10T07:04:41.119463Z",
     "iopub.status.idle": "2021-08-10T07:34:11.121443Z",
     "shell.execute_reply": "2021-08-10T07:34:11.120498Z",
     "shell.execute_reply.started": "2021-08-10T07:04:41.119759Z"
    }
   },
   "outputs": [
    {
     "name": "stdout",
     "output_type": "stream",
     "text": [
      "Epoch 1/100\n",
      "1562/1562 - 29s - loss: 14.0504 - accuracy: 0.2714 - val_loss: 4.0979 - val_accuracy: 0.2831\n",
      "Epoch 2/100\n",
      "1562/1562 - 18s - loss: 3.0351 - accuracy: 0.3469 - val_loss: 2.4788 - val_accuracy: 0.3390\n",
      "Epoch 3/100\n",
      "1562/1562 - 18s - loss: 2.1392 - accuracy: 0.4188 - val_loss: 2.2040 - val_accuracy: 0.4149\n",
      "Epoch 4/100\n",
      "1562/1562 - 18s - loss: 1.9463 - accuracy: 0.4852 - val_loss: 2.4665 - val_accuracy: 0.2963\n",
      "Epoch 5/100\n",
      "1562/1562 - 18s - loss: 1.8139 - accuracy: 0.5420 - val_loss: 1.9361 - val_accuracy: 0.4944\n",
      "Epoch 6/100\n",
      "1562/1562 - 18s - loss: 1.7492 - accuracy: 0.5748 - val_loss: 2.5011 - val_accuracy: 0.3404\n",
      "Epoch 7/100\n",
      "1562/1562 - 18s - loss: 1.6425 - accuracy: 0.6046 - val_loss: 1.8263 - val_accuracy: 0.5350\n",
      "Epoch 8/100\n",
      "1562/1562 - 18s - loss: 1.5510 - accuracy: 0.6256 - val_loss: 1.7697 - val_accuracy: 0.5627\n",
      "Epoch 9/100\n",
      "1562/1562 - 19s - loss: 1.5153 - accuracy: 0.6360 - val_loss: 2.0110 - val_accuracy: 0.4281\n",
      "Epoch 10/100\n",
      "1562/1562 - 17s - loss: 1.4704 - accuracy: 0.6453 - val_loss: 1.9932 - val_accuracy: 0.4605\n",
      "Epoch 11/100\n",
      "1562/1562 - 18s - loss: 1.4288 - accuracy: 0.6566 - val_loss: 2.1517 - val_accuracy: 0.3431\n",
      "Epoch 12/100\n",
      "1562/1562 - 18s - loss: 1.3939 - accuracy: 0.6645 - val_loss: 2.0912 - val_accuracy: 0.4227\n",
      "Epoch 13/100\n",
      "1562/1562 - 18s - loss: 1.3555 - accuracy: 0.6713 - val_loss: 1.8239 - val_accuracy: 0.5323\n",
      "Epoch 14/100\n",
      "1562/1562 - 18s - loss: 1.3496 - accuracy: 0.6732 - val_loss: 4.9742 - val_accuracy: 0.1389\n",
      "Epoch 15/100\n",
      "1562/1562 - 18s - loss: 1.3070 - accuracy: 0.6795 - val_loss: 1.9908 - val_accuracy: 0.4545\n",
      "Epoch 16/100\n",
      "1562/1562 - 18s - loss: 1.2943 - accuracy: 0.6839 - val_loss: 1.9496 - val_accuracy: 0.4375\n",
      "Epoch 17/100\n",
      "1562/1562 - 18s - loss: 1.2698 - accuracy: 0.6886 - val_loss: 2.1091 - val_accuracy: 0.4243\n",
      "Epoch 18/100\n",
      "1562/1562 - 19s - loss: 1.2511 - accuracy: 0.6916 - val_loss: 5.6095 - val_accuracy: 0.1124\n",
      "Epoch 19/100\n",
      "1562/1562 - 17s - loss: 1.2430 - accuracy: 0.6970 - val_loss: 2.1441 - val_accuracy: 0.3356\n",
      "Epoch 20/100\n",
      "1562/1562 - 18s - loss: 1.2315 - accuracy: 0.7003 - val_loss: 3.7651 - val_accuracy: 0.1489\n",
      "Epoch 21/100\n",
      "1562/1562 - 18s - loss: 1.2141 - accuracy: 0.7068 - val_loss: 1.9926 - val_accuracy: 0.4145\n",
      "Epoch 22/100\n",
      "1562/1562 - 18s - loss: 1.1929 - accuracy: 0.7122 - val_loss: 1.8548 - val_accuracy: 0.5139\n",
      "Epoch 23/100\n",
      "1562/1562 - 18s - loss: 1.1726 - accuracy: 0.7160 - val_loss: 4.9966 - val_accuracy: 0.1697\n",
      "Epoch 24/100\n",
      "1562/1562 - 18s - loss: 1.1641 - accuracy: 0.7187 - val_loss: 4.5877 - val_accuracy: 0.1886\n",
      "Epoch 25/100\n",
      "1562/1562 - 19s - loss: 1.1469 - accuracy: 0.7219 - val_loss: 4.5590 - val_accuracy: 0.1872\n",
      "Epoch 26/100\n",
      "1562/1562 - 18s - loss: 1.1434 - accuracy: 0.7204 - val_loss: 3.8888 - val_accuracy: 0.2429\n",
      "Epoch 27/100\n",
      "1562/1562 - 18s - loss: 1.1377 - accuracy: 0.7248 - val_loss: 4.3624 - val_accuracy: 0.1392\n",
      "Epoch 28/100\n",
      "1562/1562 - 18s - loss: 1.1256 - accuracy: 0.7271 - val_loss: 5.3240 - val_accuracy: 0.2680\n",
      "Epoch 29/100\n",
      "1562/1562 - 19s - loss: 1.1242 - accuracy: 0.7239 - val_loss: 2.9869 - val_accuracy: 0.2664\n",
      "Epoch 30/100\n",
      "1562/1562 - 18s - loss: 1.1081 - accuracy: 0.7293 - val_loss: 4.4569 - val_accuracy: 0.1859\n",
      "Epoch 31/100\n",
      "1562/1562 - 18s - loss: 1.1007 - accuracy: 0.7328 - val_loss: 3.9783 - val_accuracy: 0.2580\n",
      "Epoch 32/100\n",
      "1562/1562 - 18s - loss: 1.1164 - accuracy: 0.7285 - val_loss: 2.4799 - val_accuracy: 0.2850\n",
      "Epoch 33/100\n",
      "1562/1562 - 18s - loss: 1.0924 - accuracy: 0.7312 - val_loss: 1.9473 - val_accuracy: 0.4124\n",
      "Epoch 34/100\n",
      "1562/1562 - 19s - loss: 1.0940 - accuracy: 0.7338 - val_loss: 1.8372 - val_accuracy: 0.4830\n",
      "Epoch 35/100\n",
      "1562/1562 - 18s - loss: 1.0936 - accuracy: 0.7329 - val_loss: 8.5640 - val_accuracy: 0.1007\n",
      "Epoch 36/100\n",
      "1562/1562 - 18s - loss: 1.0706 - accuracy: 0.7380 - val_loss: 5.9394 - val_accuracy: 0.1238\n",
      "Epoch 37/100\n",
      "1562/1562 - 18s - loss: 1.0731 - accuracy: 0.7367 - val_loss: 5.6650 - val_accuracy: 0.2320\n",
      "Epoch 38/100\n",
      "1562/1562 - 18s - loss: 1.0858 - accuracy: 0.7337 - val_loss: 6.8952 - val_accuracy: 0.1867\n",
      "Epoch 39/100\n",
      "1562/1562 - 18s - loss: 1.0708 - accuracy: 0.7398 - val_loss: 5.6356 - val_accuracy: 0.1919\n",
      "Epoch 40/100\n",
      "1562/1562 - 18s - loss: 1.0609 - accuracy: 0.7383 - val_loss: 6.0359 - val_accuracy: 0.1864\n",
      "Epoch 41/100\n",
      "1562/1562 - 19s - loss: 1.0620 - accuracy: 0.7372 - val_loss: 5.2660 - val_accuracy: 0.1046\n",
      "Epoch 42/100\n",
      "1562/1562 - 18s - loss: 1.0472 - accuracy: 0.7418 - val_loss: 5.7192 - val_accuracy: 0.1904\n",
      "Epoch 43/100\n",
      "1562/1562 - 18s - loss: 1.0476 - accuracy: 0.7413 - val_loss: 3.9423 - val_accuracy: 0.2334\n",
      "Epoch 44/100\n",
      "1562/1562 - 18s - loss: 1.0548 - accuracy: 0.7403 - val_loss: 5.5976 - val_accuracy: 0.1493\n",
      "Epoch 45/100\n",
      "1562/1562 - 18s - loss: 1.0535 - accuracy: 0.7407 - val_loss: 4.2866 - val_accuracy: 0.2439\n",
      "Epoch 46/100\n",
      "1562/1562 - 18s - loss: 1.0385 - accuracy: 0.7461 - val_loss: 1.9992 - val_accuracy: 0.4587\n",
      "Epoch 47/100\n",
      "1562/1562 - 17s - loss: 1.0389 - accuracy: 0.7420 - val_loss: 3.8670 - val_accuracy: 0.1646\n",
      "Epoch 48/100\n",
      "1562/1562 - 19s - loss: 1.0380 - accuracy: 0.7434 - val_loss: 3.3819 - val_accuracy: 0.3716\n",
      "Epoch 49/100\n",
      "1562/1562 - 18s - loss: 1.0361 - accuracy: 0.7449 - val_loss: 6.2414 - val_accuracy: 0.1433\n",
      "Epoch 50/100\n",
      "1562/1562 - 19s - loss: 1.0500 - accuracy: 0.7422 - val_loss: 5.3614 - val_accuracy: 0.1769\n",
      "Epoch 51/100\n",
      "1562/1562 - 18s - loss: 1.0266 - accuracy: 0.7493 - val_loss: 4.0820 - val_accuracy: 0.2374\n",
      "Epoch 52/100\n",
      "1562/1562 - 18s - loss: 1.0389 - accuracy: 0.7449 - val_loss: 5.0126 - val_accuracy: 0.1436\n",
      "Epoch 53/100\n",
      "1562/1562 - 17s - loss: 1.0302 - accuracy: 0.7470 - val_loss: 7.5412 - val_accuracy: 0.1429\n",
      "Epoch 54/100\n",
      "1562/1562 - 19s - loss: 1.0201 - accuracy: 0.7497 - val_loss: 3.0911 - val_accuracy: 0.3530\n",
      "Epoch 55/100\n",
      "1562/1562 - 18s - loss: 1.0250 - accuracy: 0.7473 - val_loss: 4.8926 - val_accuracy: 0.2500\n",
      "Epoch 56/100\n",
      "1562/1562 - 18s - loss: 1.0244 - accuracy: 0.7476 - val_loss: 5.9216 - val_accuracy: 0.1122\n",
      "Epoch 57/100\n",
      "1562/1562 - 19s - loss: 1.0227 - accuracy: 0.7476 - val_loss: 1.5021 - val_accuracy: 0.5795\n",
      "Epoch 58/100\n",
      "1562/1562 - 18s - loss: 1.0224 - accuracy: 0.7472 - val_loss: 3.8457 - val_accuracy: 0.2649\n",
      "Epoch 59/100\n",
      "1562/1562 - 18s - loss: 1.0278 - accuracy: 0.7468 - val_loss: 5.8838 - val_accuracy: 0.1669\n",
      "Epoch 60/100\n",
      "1562/1562 - 18s - loss: 1.0115 - accuracy: 0.7492 - val_loss: 5.2558 - val_accuracy: 0.1207\n",
      "Epoch 61/100\n",
      "1562/1562 - 18s - loss: 1.0103 - accuracy: 0.7513 - val_loss: 5.0806 - val_accuracy: 0.1185\n",
      "Epoch 62/100\n",
      "1562/1562 - 18s - loss: 1.0203 - accuracy: 0.7484 - val_loss: 5.5961 - val_accuracy: 0.1717\n",
      "Epoch 63/100\n",
      "1562/1562 - 18s - loss: 1.0158 - accuracy: 0.7486 - val_loss: 4.1378 - val_accuracy: 0.1754\n",
      "Epoch 64/100\n",
      "1562/1562 - 17s - loss: 1.0108 - accuracy: 0.7509 - val_loss: 2.0477 - val_accuracy: 0.4316\n",
      "Epoch 65/100\n",
      "1562/1562 - 19s - loss: 1.0117 - accuracy: 0.7502 - val_loss: 6.5054 - val_accuracy: 0.1002\n",
      "Epoch 66/100\n",
      "1562/1562 - 18s - loss: 1.0200 - accuracy: 0.7486 - val_loss: 13.4859 - val_accuracy: 0.1000\n",
      "Epoch 67/100\n",
      "1562/1562 - 18s - loss: 1.0255 - accuracy: 0.7501 - val_loss: 8.4293 - val_accuracy: 0.1000\n",
      "Epoch 68/100\n",
      "1562/1562 - 18s - loss: 1.0151 - accuracy: 0.7502 - val_loss: 7.3960 - val_accuracy: 0.1000\n",
      "Epoch 69/100\n",
      "1562/1562 - 18s - loss: 1.0059 - accuracy: 0.7505 - val_loss: 3.7245 - val_accuracy: 0.2443\n",
      "Epoch 70/100\n",
      "1562/1562 - 18s - loss: 1.0030 - accuracy: 0.7487 - val_loss: 5.6851 - val_accuracy: 0.2741\n",
      "Epoch 71/100\n",
      "1562/1562 - 18s - loss: 1.0130 - accuracy: 0.7550 - val_loss: 2.5790 - val_accuracy: 0.2587\n",
      "Epoch 72/100\n",
      "1562/1562 - 18s - loss: 1.0038 - accuracy: 0.7529 - val_loss: 3.6960 - val_accuracy: 0.2225\n",
      "Epoch 73/100\n",
      "1562/1562 - 18s - loss: 0.9981 - accuracy: 0.7523 - val_loss: 4.2790 - val_accuracy: 0.1838\n",
      "Epoch 74/100\n",
      "1562/1562 - 19s - loss: 1.0018 - accuracy: 0.7523 - val_loss: 5.3080 - val_accuracy: 0.3172\n",
      "Epoch 75/100\n",
      "1562/1562 - 18s - loss: 0.9955 - accuracy: 0.7548 - val_loss: 18.8451 - val_accuracy: 0.1000\n",
      "Epoch 76/100\n",
      "1562/1562 - 18s - loss: 0.9922 - accuracy: 0.7537 - val_loss: 10.1536 - val_accuracy: 0.1000\n",
      "Epoch 77/100\n",
      "1562/1562 - 18s - loss: 0.9951 - accuracy: 0.7529 - val_loss: 7.5203 - val_accuracy: 0.1145\n",
      "Epoch 78/100\n",
      "1562/1562 - 18s - loss: 0.9963 - accuracy: 0.7516 - val_loss: 5.1144 - val_accuracy: 0.1901\n",
      "Epoch 79/100\n",
      "1562/1562 - 18s - loss: 0.9875 - accuracy: 0.7555 - val_loss: 18.5232 - val_accuracy: 0.1000\n",
      "Epoch 80/100\n",
      "1562/1562 - 18s - loss: 0.9930 - accuracy: 0.7511 - val_loss: 3.2277 - val_accuracy: 0.3055\n",
      "Epoch 81/100\n",
      "1562/1562 - 18s - loss: 1.0034 - accuracy: 0.7547 - val_loss: 2.9487 - val_accuracy: 0.3098\n",
      "Epoch 82/100\n",
      "1562/1562 - 18s - loss: 1.0143 - accuracy: 0.7515 - val_loss: 1.9028 - val_accuracy: 0.4403\n",
      "Epoch 83/100\n",
      "1562/1562 - 18s - loss: 0.9983 - accuracy: 0.7556 - val_loss: 2.9606 - val_accuracy: 0.2726\n",
      "Epoch 84/100\n",
      "1562/1562 - 18s - loss: 0.9957 - accuracy: 0.7506 - val_loss: 6.1577 - val_accuracy: 0.1096\n",
      "Epoch 85/100\n",
      "1562/1562 - 19s - loss: 0.9865 - accuracy: 0.7559 - val_loss: 3.7051 - val_accuracy: 0.2729\n",
      "Epoch 86/100\n",
      "1562/1562 - 18s - loss: 0.9952 - accuracy: 0.7531 - val_loss: 3.9040 - val_accuracy: 0.3225\n",
      "Epoch 87/100\n",
      "1562/1562 - 19s - loss: 0.9914 - accuracy: 0.7541 - val_loss: 5.1602 - val_accuracy: 0.2664\n",
      "Epoch 88/100\n",
      "1562/1562 - 18s - loss: 0.9925 - accuracy: 0.7527 - val_loss: 4.4457 - val_accuracy: 0.3254\n",
      "Epoch 89/100\n",
      "1562/1562 - 17s - loss: 0.9996 - accuracy: 0.7500 - val_loss: 2.6659 - val_accuracy: 0.3283\n",
      "Epoch 90/100\n",
      "1562/1562 - 19s - loss: 1.0068 - accuracy: 0.7474 - val_loss: 4.0656 - val_accuracy: 0.2823\n",
      "Epoch 91/100\n",
      "1562/1562 - 18s - loss: 0.9855 - accuracy: 0.7563 - val_loss: 7.7352 - val_accuracy: 0.1188\n",
      "Epoch 92/100\n",
      "1562/1562 - 18s - loss: 0.9769 - accuracy: 0.7584 - val_loss: 5.4402 - val_accuracy: 0.3110\n",
      "Epoch 93/100\n",
      "1562/1562 - 17s - loss: 0.9889 - accuracy: 0.7540 - val_loss: 4.8469 - val_accuracy: 0.3203\n",
      "Epoch 94/100\n",
      "1562/1562 - 19s - loss: 0.9989 - accuracy: 0.7558 - val_loss: 2.9263 - val_accuracy: 0.3633\n",
      "Epoch 95/100\n",
      "1562/1562 - 18s - loss: 0.9807 - accuracy: 0.7583 - val_loss: 5.5954 - val_accuracy: 0.2414\n",
      "Epoch 96/100\n",
      "1562/1562 - 18s - loss: 0.9861 - accuracy: 0.7553 - val_loss: 6.5517 - val_accuracy: 0.2450\n",
      "Epoch 97/100\n",
      "1562/1562 - 18s - loss: 0.9812 - accuracy: 0.7571 - val_loss: 8.1450 - val_accuracy: 0.1244\n",
      "Epoch 98/100\n",
      "1562/1562 - 2s - loss: 0.9608 - accuracy: 0.7559 - val_loss: 3.8571 - val_accuracy: 0.2674\n"
     ]
    }
   ],
   "source": [
    "batch_size = 32 \n",
    "steps = int(x_train.shape[0]/batch_size) \n",
    "\n",
    "history = model.fit(x_train, y_train, steps_per_epoch=steps, epochs=epochs, verbose=2, validation_data=(x_test, y_test))"
   ]
  },
  {
   "cell_type": "code",
   "execution_count": 12,
   "metadata": {
    "execution": {
     "iopub.execute_input": "2021-08-10T07:42:20.373375Z",
     "iopub.status.busy": "2021-08-10T07:42:20.372997Z",
     "iopub.status.idle": "2021-08-10T07:42:20.545825Z",
     "shell.execute_reply": "2021-08-10T07:42:20.544828Z",
     "shell.execute_reply.started": "2021-08-10T07:42:20.373334Z"
    }
   },
   "outputs": [
    {
     "data": {
      "image/png": "[encoded data removed]",
      "text/plain": [
       "<Figure size 432x288 with 1 Axes>"
      ]
     },
     "metadata": {
      "needs_background": "light"
     },
     "output_type": "display_data"
    }
   ],
   "source": [
    "import matplotlib.pyplot as plt \n",
    "plt.plot(history.history['loss'])\n",
    "plt.plot(history.history['val_loss'])\n",
    "plt.title('model loss performance')\n",
    "plt.legend(['train loss', 'validation loss'])\n",
    "plt.show()"
   ]
  },
  {
   "cell_type": "code",
   "execution_count": 13,
   "metadata": {
    "execution": {
     "iopub.execute_input": "2021-08-10T07:42:25.659689Z",
     "iopub.status.busy": "2021-08-10T07:42:25.659336Z",
     "iopub.status.idle": "2021-08-10T07:42:25.814452Z",
     "shell.execute_reply": "2021-08-10T07:42:25.813655Z",
     "shell.execute_reply.started": "2021-08-10T07:42:25.659659Z"
    }
   },
   "outputs": [
    {
     "data": {
      "image/png": "[encoded data removed]",
      "text/plain": [
       "<Figure size 432x288 with 1 Axes>"
      ]
     },
     "metadata": {
      "needs_background": "light"
     },
     "output_type": "display_data"
    }
   ],
   "source": [
    "plt.plot(history.history['accuracy'])\n",
    "plt.plot(history.history['val_accuracy'])\n",
    "plt.title('model accuracy performance')\n",
    "plt.legend(['train accuracy', 'validation accuracy'])\n",
    "plt.show()"
   ]
  },
  {
   "cell_type": "code",
   "execution_count": 15,
   "metadata": {
    "execution": {
     "iopub.execute_input": "2021-08-10T07:42:33.683220Z",
     "iopub.status.busy": "2021-08-10T07:42:33.682816Z",
     "iopub.status.idle": "2021-08-10T07:42:35.640899Z",
     "shell.execute_reply": "2021-08-10T07:42:35.640155Z",
     "shell.execute_reply.started": "2021-08-10T07:42:33.683185Z"
    }
   },
   "outputs": [
    {
     "name": "stdout",
     "output_type": "stream",
     "text": [
      "313/313 [==============================] - 2s 6ms/step - loss: 3.8571 - accuracy: 0.2674\n"
     ]
    },
    {
     "data": {
      "text/plain": [
       "[3.857088565826416, 0.26739999651908875]"
      ]
     },
     "execution_count": 15,
     "metadata": {},
     "output_type": "execute_result"
    }
   ],
   "source": [
    "model.evaluate(x_test, y_test)"
   ]
  },
  {
   "cell_type": "code",
   "execution_count": null,
   "metadata": {},
   "outputs": [],
   "source": []
  }
 ],
 "metadata": {
  "kernelspec": {
   "display_name": "Python 3",
   "language": "python",
   "name": "python3"
  },
  "language_info": {
   "codemirror_mode": {
    "name": "ipython",
    "version": 3
   },
   "file_extension": ".py",
   "mimetype": "text/x-python",
   "name": "python",
   "nbconvert_exporter": "python",
   "pygments_lexer": "ipython3",
   "version": "3.7.3"
  }
 },
 "nbformat": 4,
 "nbformat_minor": 4
}
