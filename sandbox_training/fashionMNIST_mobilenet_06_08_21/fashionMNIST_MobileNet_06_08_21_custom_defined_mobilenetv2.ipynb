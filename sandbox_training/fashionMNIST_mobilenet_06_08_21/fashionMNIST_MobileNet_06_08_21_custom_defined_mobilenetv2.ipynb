{
  "nbformat": 4,
  "nbformat_minor": 0,
  "metadata": {
    "colab": {
      "name": "fashionMNIST_MobileNet_06_08_21.ipynb",
      "provenance": [],
      "collapsed_sections": []
    },
    "kernelspec": {
      "name": "python3",
      "display_name": "Python 3"
    },
    "language_info": {
      "name": "python"
    },
    "accelerator": "GPU"
  },
  "cells": [
    {
      "cell_type": "code",
      "metadata": {
        "colab": {
          "base_uri": "https://localhost:8080/"
        },
        "id": "tSD59fzx2NwB",
        "outputId": "1aaaa363-1c86-47bc-aa34-025f2b2e9a24"
      },
      "source": [
        "from google.colab import drive\n",
        "drive.mount('/content/drive')"
      ],
      "execution_count": 1,
      "outputs": [
        {
          "output_type": "stream",
          "text": [
            "Mounted at /content/drive\n"
          ],
          "name": "stdout"
        }
      ]
    },
    {
      "cell_type": "code",
      "metadata": {
        "id": "ZmXI6jeS1-t9"
      },
      "source": [
        "import tensorflow as tf\n",
        "import os\n",
        "import numpy as np\n",
        "\n",
        "from tensorflow.keras.layers import Dense, Conv2D, BatchNormalization, Activation, Dropout\n",
        "from tensorflow.keras.layers import Input, Flatten, AveragePooling2D, Add\n",
        "from tensorflow.keras.layers import *\n",
        "from tensorflow.keras import backend as K \n",
        "from tensorflow.keras.models import Model\n",
        "from tensorflow.keras.optimizers import Adam\n",
        "from tensorflow.keras.callbacks import ModelCheckpoint\n",
        "from tensorflow.keras.utils import to_categorical\n",
        "from tensorflow.keras.models import Sequential\n",
        "from tensorflow.keras.preprocessing.image import ImageDataGenerator\n",
        "from tensorflow.keras.regularizers import L2\n",
        "from tensorflow.keras.datasets import cifar10\n",
        "from tensorflow.keras.datasets import fashion_mnist"
      ],
      "execution_count": 2,
      "outputs": []
    },
    {
      "cell_type": "code",
      "metadata": {
        "id": "zROr-05a2Gkd"
      },
      "source": [
        "batch_size=32\n",
        "epochs=100\n",
        "num_classes=10\n",
        "depth=20"
      ],
      "execution_count": 3,
      "outputs": []
    },
    {
      "cell_type": "code",
      "metadata": {
        "id": "ALLQbtz2cA4b"
      },
      "source": [
        "model_type = 'MobileNet%d' % (depth)"
      ],
      "execution_count": 4,
      "outputs": []
    },
    {
      "cell_type": "code",
      "metadata": {
        "colab": {
          "base_uri": "https://localhost:8080/"
        },
        "id": "ft7a2_0T7dk0",
        "outputId": "eb45cf3d-92c3-498f-d008-8e26b35e3199"
      },
      "source": [
        "(x_train, y_train), (x_test, y_test) = fashion_mnist.load_data()\n",
        "x_train = x_train/255\n",
        "x_test = x_test/255\n",
        "\n",
        "# resize\n",
        "x_train = np.expand_dims(x_train, axis=-1)\n",
        "x_train = tf.image.resize(x_train, [32,32]) # if we want to resize\n",
        "\n",
        "x_test = np.expand_dims(x_test, axis=-1)\n",
        "x_test = tf.image.resize(x_test, [32,32]) # if we want to resize\n",
        "\n",
        "print(x_train.shape)\n",
        "print(x_test.shape)\n",
        "\n",
        "y_train = to_categorical(y_train, num_classes)\n",
        "y_test = to_categorical(y_test, num_classes)\n",
        "input_shape=x_train.shape[1:]"
      ],
      "execution_count": 5,
      "outputs": [
        {
          "output_type": "stream",
          "text": [
            "Downloading data from https://storage.googleapis.com/tensorflow/tf-keras-datasets/train-labels-idx1-ubyte.gz\n",
            "32768/29515 [=================================] - 0s 0us/step\n",
            "Downloading data from https://storage.googleapis.com/tensorflow/tf-keras-datasets/train-images-idx3-ubyte.gz\n",
            "26427392/26421880 [==============================] - 0s 0us/step\n",
            "Downloading data from https://storage.googleapis.com/tensorflow/tf-keras-datasets/t10k-labels-idx1-ubyte.gz\n",
            "8192/5148 [===============================================] - 0s 0us/step\n",
            "Downloading data from https://storage.googleapis.com/tensorflow/tf-keras-datasets/t10k-images-idx3-ubyte.gz\n",
            "4423680/4422102 [==============================] - 0s 0us/step\n",
            "(60000, 32, 32, 1)\n",
            "(10000, 32, 32, 1)\n"
          ],
          "name": "stdout"
        }
      ]
    },
    {
      "cell_type": "code",
      "metadata": {
        "id": "YkT1Gkmuzi8y"
      },
      "source": [
        "#datagen = ImageDataGenerator(rotation_range=10, horizontal_flip=True, zoom_range=0.1, width_shift_range=0.05, height_shift_range=0.05)\n",
        "#augmented_data = datagen.flow(x_train, y_train)"
      ],
      "execution_count": 6,
      "outputs": []
    },
    {
      "cell_type": "code",
      "metadata": {
        "id": "GO-mvindRGv0"
      },
      "source": [
        "# MODEL THAT CLAIMS TO PERFORM BETTER THAN \"OVERFITTING MODEL\" \n",
        "\n",
        "import os\n",
        "import warnings\n",
        "import numpy as np\n",
        "from tensorflow.keras.layers import Input, Activation, Conv2D, Dense, Dropout, BatchNormalization, ReLU, DepthwiseConv2D, GlobalAveragePooling2D, GlobalMaxPooling2D, Add\n",
        "from tensorflow.keras.models import Model\n",
        "from tensorflow.keras import regularizers\n",
        "# define the filter size\n",
        "def _make_divisible(v, divisor, min_value=None):\n",
        "    if min_value is None:\n",
        "        min_value = divisor\n",
        "    new_v = max(min_value, int(v + divisor / 2) // divisor * divisor)\n",
        "    if new_v < 0.9 * v:\n",
        "        new_v += divisor\n",
        "    return new_v\n",
        "\n",
        "\n",
        "# define the calculation of each 'inverted Res_Block'\n",
        "def _inverted_res_block(inputs, expansion, stride, alpha, filters, block_id):\n",
        "    prefix = 'block_{}_'.format(block_id)\n",
        "\n",
        "    in_channels = inputs.shape[-1]\n",
        "    pointwise_conv_filters = int(filters * alpha)\n",
        "    pointwise_filters = _make_divisible(pointwise_conv_filters, 8)\n",
        "    x = inputs\n",
        "\n",
        "    # Expand\n",
        "    if block_id:\n",
        "        x = Conv2D(expansion * in_channels, kernel_size=1, strides=1, padding='same', use_bias=False, activation=None, kernel_initializer=\"he_normal\", kernel_regularizer=regularizers.l2(4e-5), name=prefix + 'expand')(x)\n",
        "        x = BatchNormalization(epsilon=1e-3, momentum=0.999, name=prefix + 'expand_BN')(x)\n",
        "        x = ReLU(6., name=prefix + 'expand_relu')(x)\n",
        "    else:\n",
        "        prefix = 'expanded_conv_'\n",
        "\n",
        "    # Depthwise\n",
        "    x = DepthwiseConv2D(kernel_size=3, strides=stride, activation=None, use_bias=False, padding='same', kernel_initializer=\"he_normal\", depthwise_regularizer=regularizers.l2(4e-5), name=prefix + 'depthwise')(x)\n",
        "    x = BatchNormalization(epsilon=1e-3, momentum=0.999, name=prefix + 'depthwise_BN')(x)\n",
        "    x = ReLU(6., name=prefix + 'depthwise_relu')(x)\n",
        "\n",
        "    # Project\n",
        "    x = Conv2D(pointwise_filters, kernel_size=1, strides=1, padding='same', use_bias=False, activation=None, kernel_initializer=\"he_normal\", kernel_regularizer=regularizers.l2(4e-5), name=prefix + 'project')(x)\n",
        "    x = BatchNormalization(epsilon=1e-3, momentum=0.999, name=prefix + 'project_BN')(x)\n",
        "\n",
        "\n",
        "    if in_channels == pointwise_filters and stride == 1:\n",
        "        return Add(name=prefix + 'add')([inputs, x])\n",
        "    return x\n",
        "\n",
        "#Create Build\n",
        "def create_model(rows, cols, channels, level_0_blocks, level_1_blocks, level_2_blocks, num_classes, lr_initial):\n",
        "  # encoder - input\n",
        "    alpha=1.0\n",
        "    include_top = True\n",
        "    model_input = tf.keras.layers.Input(shape=(rows, cols, channels), name='input_image')\n",
        "    x           = model_input\n",
        "\n",
        "    first_block_filters = _make_divisible(32 * alpha, 8)\n",
        "\n",
        "    # model architechture\n",
        "    x = Conv2D(first_block_filters, kernel_size=3, strides=1, padding='same', use_bias=False, kernel_initializer=\"he_normal\", kernel_regularizer=regularizers.l2(4e-5), name='Conv1')(model_input)\n",
        "\n",
        "    x = _inverted_res_block(x, filters=16,  alpha=alpha, stride=1, expansion=1, block_id=0 )\n",
        "\n",
        "    x = _inverted_res_block(x, filters=24,  alpha=alpha, stride=1, expansion=6, block_id=1 )\n",
        "    x = _inverted_res_block(x, filters=24,  alpha=alpha, stride=1, expansion=6, block_id=2 )\n",
        "\n",
        "    x = _inverted_res_block(x, filters=32,  alpha=alpha, stride=2, expansion=6, block_id=3 )\n",
        "    x = _inverted_res_block(x, filters=32,  alpha=alpha, stride=1, expansion=6, block_id=4 )\n",
        "    x = _inverted_res_block(x, filters=32,  alpha=alpha, stride=1, expansion=6, block_id=5 )\n",
        "\n",
        "    x = _inverted_res_block(x, filters=64,  alpha=alpha, stride=2, expansion=6, block_id=6 )\n",
        "    x = _inverted_res_block(x, filters=64,  alpha=alpha, stride=1, expansion=6, block_id=7 )\n",
        "    x = _inverted_res_block(x, filters=64,  alpha=alpha, stride=1, expansion=6, block_id=8 )\n",
        "    x = _inverted_res_block(x, filters=64,  alpha=alpha, stride=1, expansion=6, block_id=9 )\n",
        "    x = Dropout(rate=0.25)(x)\n",
        "\n",
        "    x = _inverted_res_block(x, filters=96,  alpha=alpha, stride=1, expansion=6, block_id=10)\n",
        "    x = _inverted_res_block(x, filters=96,  alpha=alpha, stride=1, expansion=6, block_id=11)\n",
        "    x = _inverted_res_block(x, filters=96,  alpha=alpha, stride=1, expansion=6, block_id=12)\n",
        "    x = Dropout(rate=0.25)(x)\n",
        "\n",
        "    x = _inverted_res_block(x, filters=160, alpha=alpha, stride=1, expansion=6, block_id=13)\n",
        "    x = _inverted_res_block(x, filters=160, alpha=alpha, stride=1, expansion=6, block_id=14)\n",
        "    x = _inverted_res_block(x, filters=160, alpha=alpha, stride=1, expansion=6, block_id=15)\n",
        "    x = Dropout(rate=0.25)(x)\n",
        "\n",
        "    x = _inverted_res_block(x, filters=320, alpha=alpha, stride=1, expansion=6, block_id=16)\n",
        "    x = Dropout(rate=0.25)(x)\n",
        "\n",
        "\n",
        "    # define filter size (last block)\n",
        "    if alpha > 1.0:\n",
        "        last_block_filters = _make_divisible(1280 * alpha, 8)\n",
        "    else:\n",
        "        last_block_filters = 1280\n",
        "\n",
        "\n",
        "    x = Conv2D(last_block_filters, kernel_size=1, use_bias=False, kernel_initializer=\"he_normal\", kernel_regularizer=regularizers.l2(4e-5), name='Conv_1')(x)\n",
        "    x = BatchNormalization(epsilon=1e-3, momentum=0.999, name='Conv_1_bn')(x)\n",
        "    x = ReLU(6., name='out_relu')(x)\n",
        "    \n",
        "    if include_top:\n",
        "        x = GlobalAveragePooling2D(name='global_average_pool')(x)\n",
        "        x = Dense(num_classes, activation='softmax', use_bias=True, name='Logits')(x)\n",
        "    else:\n",
        "        if pooling == 'avg':\n",
        "            x = GlobalAveragePooling2D()(x)\n",
        "        elif pooling == 'max':\n",
        "            x = GlobalMaxPooling2D()(x)\n",
        "\n",
        "    # create model of MobileNetV2 (for CIFAR-10)\n",
        "    model = Model(inputs=model_input, outputs=x, name='mobilenetv2_cifar10')\n",
        "\n",
        "    #model.compile(optimizer=tf.keras.optimizers.Adam(lr_initial), loss='sparse_categorical_crossentropy', metrics=['accuracy'])\n",
        "    #model.compile(optimizer=tf.keras.optimizers.Adam(lr_initial), loss='sparse_categorical_crossentropy', metrics=['accuracy'])\n",
        "    return model\n",
        "\n",
        "\n",
        "model = create_model(rows=32, cols=32, channels=1, level_0_blocks=4, level_1_blocks=6, level_2_blocks=3, num_classes=10, lr_initial=0.001)\n",
        "# reference for model \n",
        "# https://github.com/ruchi15/CNN-MobileNetV2-Cifar10/blob/master/CNN_Assignment_5_Design.ipynb"
      ],
      "execution_count": 7,
      "outputs": []
    },
    {
      "cell_type": "code",
      "metadata": {
        "id": "geI2YTs_8Sfz",
        "colab": {
          "base_uri": "https://localhost:8080/",
          "height": 120
        },
        "outputId": "f7443ab4-6e94-4f81-8063-83e19bfb2e8f"
      },
      "source": [
        "# OVERFITTING MODEL \n",
        "'''\n",
        "def mobilenet(input_size=(32, 32), l2_decay=0.1, N_CLASSES=10):\n",
        "    \"\"\"\n",
        "    Builds the MobileNet model.\n",
        "    :param tuple input_size: The height and width (in that order) of the\n",
        "        model input.\n",
        "    :param float l2_decay: The amount of L2 weight decay to add to the\n",
        "        loss. Applies only to kernels, not biases.\n",
        "    :return tensorflow.keras.Sequential: A MobileNet model.\n",
        "    \"\"\"\n",
        "\n",
        "    model = Sequential()\n",
        "\n",
        "    def _add_bn_relu():\n",
        "        model.add(BatchNormalization(scale=False))\n",
        "        model.add(ReLU())\n",
        "\n",
        "    def _add_depthwise_block(strides=1):\n",
        "        model.add(DepthwiseConv2D(\n",
        "            (3, 3),\n",
        "            strides=strides,\n",
        "            padding='same',\n",
        "            kernel_regularizer=L2(l2=l2_decay)))\n",
        "        _add_bn_relu()\n",
        "\n",
        "    def _add_pointwise_block(filters):\n",
        "        model.add(Conv2D(filters, (1, 1), kernel_regularizer=L2(l2=l2_decay)))\n",
        "        _add_bn_relu()\n",
        "\n",
        "    model.add(Conv2D(\n",
        "        32, (3, 3),\n",
        "        strides=2,\n",
        "        padding='same',\n",
        "        kernel_regularizer=L2(l2=l2_decay),\n",
        "        input_shape=input_size + (1,))) # change the channel dimension here\n",
        "    _add_bn_relu()\n",
        "    _add_depthwise_block()\n",
        "    _add_pointwise_block(64)\n",
        "\n",
        "    _add_depthwise_block(strides=2)\n",
        "    _add_pointwise_block(128)\n",
        "    _add_depthwise_block()\n",
        "    _add_pointwise_block(128)\n",
        "\n",
        "    _add_depthwise_block(strides=2)\n",
        "    _add_pointwise_block(256)\n",
        "    _add_depthwise_block()\n",
        "    _add_pointwise_block(256)\n",
        "\n",
        "    _add_depthwise_block(strides=2)\n",
        "    _add_pointwise_block(512)\n",
        "    for _ in range(5):\n",
        "        _add_depthwise_block()\n",
        "        _add_pointwise_block(512)\n",
        "\n",
        "    _add_depthwise_block(strides=2)\n",
        "    _add_pointwise_block(1024)\n",
        "    _add_depthwise_block()\n",
        "    _add_pointwise_block(1024)\n",
        "\n",
        "    model.add(AveragePooling2D(pool_size=(input_size[0] // 32, input_size[1] // 32)))\n",
        "\n",
        "    model.add(Flatten())\n",
        "    model.add(Dense(N_CLASSES, kernel_regularizer=L2(l2=l2_decay)))\n",
        "    model.add(Softmax())\n",
        "\n",
        "    return model\n",
        "\n",
        "\n",
        "model = mobilenet(input_size=(32, 32), l2_decay=0.001, N_CLASSES=10)\n",
        "print(model.summary())\n",
        "'''"
      ],
      "execution_count": 8,
      "outputs": [
        {
          "output_type": "execute_result",
          "data": {
            "application/vnd.google.colaboratory.intrinsic+json": {
              "type": "string"
            },
            "text/plain": [
              "'\\ndef mobilenet(input_size=(32, 32), l2_decay=0.1, N_CLASSES=10):\\n    \"\"\"\\n    Builds the MobileNet model.\\n    :param tuple input_size: The height and width (in that order) of the\\n        model input.\\n    :param float l2_decay: The amount of L2 weight decay to add to the\\n        loss. Applies only to kernels, not biases.\\n    :return tensorflow.keras.Sequential: A MobileNet model.\\n    \"\"\"\\n\\n    model = Sequential()\\n\\n    def _add_bn_relu():\\n        model.add(BatchNormalization(scale=False))\\n        model.add(ReLU())\\n\\n    def _add_depthwise_block(strides=1):\\n        model.add(DepthwiseConv2D(\\n            (3, 3),\\n            strides=strides,\\n            padding=\\'same\\',\\n            kernel_regularizer=L2(l2=l2_decay)))\\n        _add_bn_relu()\\n\\n    def _add_pointwise_block(filters):\\n        model.add(Conv2D(filters, (1, 1), kernel_regularizer=L2(l2=l2_decay)))\\n        _add_bn_relu()\\n\\n    model.add(Conv2D(\\n        32, (3, 3),\\n        strides=2,\\n        padding=\\'same\\',\\n        kernel_regularizer=L2(l2=l2_decay),\\n        input_shape=input_size + (1,))) # change the channel dimension here\\n    _add_bn_relu()\\n    _add_depthwise_block()\\n    _add_pointwise_block(64)\\n\\n    _add_depthwise_block(strides=2)\\n    _add_pointwise_block(128)\\n    _add_depthwise_block()\\n    _add_pointwise_block(128)\\n\\n    _add_depthwise_block(strides=2)\\n    _add_pointwise_block(256)\\n    _add_depthwise_block()\\n    _add_pointwise_block(256)\\n\\n    _add_depthwise_block(strides=2)\\n    _add_pointwise_block(512)\\n    for _ in range(5):\\n        _add_depthwise_block()\\n        _add_pointwise_block(512)\\n\\n    _add_depthwise_block(strides=2)\\n    _add_pointwise_block(1024)\\n    _add_depthwise_block()\\n    _add_pointwise_block(1024)\\n\\n    model.add(AveragePooling2D(pool_size=(input_size[0] // 32, input_size[1] // 32)))\\n\\n    model.add(Flatten())\\n    model.add(Dense(N_CLASSES, kernel_regularizer=L2(l2=l2_decay)))\\n    model.add(Softmax())\\n\\n    return model\\n\\n\\nmodel = mobilenet(input_size=(32, 32), l2_decay=0.001, N_CLASSES=10)\\nprint(model.summary())\\n'"
            ]
          },
          "metadata": {
            "tags": []
          },
          "execution_count": 8
        }
      ]
    },
    {
      "cell_type": "code",
      "metadata": {
        "id": "9I3Q5TJ-WFee"
      },
      "source": [
        "model.compile(loss='categorical_crossentropy', optimizer=Adam(learning_rate=0.001), metrics=['accuracy'])"
      ],
      "execution_count": 9,
      "outputs": []
    },
    {
      "cell_type": "code",
      "metadata": {
        "id": "3yEUNWxvWgrl"
      },
      "source": [
        "#save_dir = os.path.join(os.getcwd(), 'saved_models')\n",
        "#model_name = 'cifar10_%s_model_tf.{epoch:03d}.h5'%model_type\n",
        "#if not os.path.isdir(save_dir):\n",
        "#    os.makedirs(save_dir)\n",
        "#filepath = os.path.join(save_dir, model_name)"
      ],
      "execution_count": 10,
      "outputs": []
    },
    {
      "cell_type": "code",
      "metadata": {
        "id": "kJ_VTtsJXTWg"
      },
      "source": [
        "#checkpoint = ModelCheckpoint(filepath=filepath, monitor='val_accuracy', verbose=2, save_best_only=True)"
      ],
      "execution_count": 11,
      "outputs": []
    },
    {
      "cell_type": "code",
      "metadata": {
        "id": "8FB9ARxQXca9"
      },
      "source": [
        "#callbacks = [checkpoint]"
      ],
      "execution_count": 12,
      "outputs": []
    },
    {
      "cell_type": "code",
      "metadata": {
        "colab": {
          "base_uri": "https://localhost:8080/"
        },
        "id": "2vC3MVxoYXjh",
        "outputId": "3d4a45ac-639b-4eab-e751-f851cff9ccc9"
      },
      "source": [
        "batch_size = 32\n",
        "steps = int(x_train.shape[0]/batch_size)\n",
        "\n",
        "history = model.fit(x_train, y_train, epochs=epochs, verbose=2, validation_split=0.1)"
      ],
      "execution_count": 13,
      "outputs": [
        {
          "output_type": "stream",
          "text": [
            "Epoch 1/100\n",
            "1688/1688 - 107s - loss: 1.2030 - accuracy: 0.7974 - val_loss: 4.1793 - val_accuracy: 0.1055\n",
            "Epoch 2/100\n",
            "1688/1688 - 73s - loss: 0.7594 - accuracy: 0.8784 - val_loss: 3.0594 - val_accuracy: 0.1027\n",
            "Epoch 3/100\n",
            "1688/1688 - 72s - loss: 0.6018 - accuracy: 0.8940 - val_loss: 1.2600 - val_accuracy: 0.6135\n",
            "Epoch 4/100\n",
            "1688/1688 - 72s - loss: 0.5183 - accuracy: 0.9023 - val_loss: 0.5198 - val_accuracy: 0.8988\n",
            "Epoch 5/100\n",
            "1688/1688 - 72s - loss: 0.4695 - accuracy: 0.9077 - val_loss: 0.5309 - val_accuracy: 0.8852\n",
            "Epoch 6/100\n",
            "1688/1688 - 71s - loss: 0.4332 - accuracy: 0.9133 - val_loss: 0.5743 - val_accuracy: 0.8610\n",
            "Epoch 7/100\n",
            "1688/1688 - 72s - loss: 0.4083 - accuracy: 0.9149 - val_loss: 0.4543 - val_accuracy: 0.9017\n",
            "Epoch 8/100\n",
            "1688/1688 - 71s - loss: 0.3873 - accuracy: 0.9206 - val_loss: 0.4721 - val_accuracy: 0.8932\n",
            "Epoch 9/100\n",
            "1688/1688 - 71s - loss: 0.3669 - accuracy: 0.9251 - val_loss: 0.3742 - val_accuracy: 0.9210\n",
            "Epoch 10/100\n",
            "1688/1688 - 71s - loss: 0.3545 - accuracy: 0.9274 - val_loss: 0.3765 - val_accuracy: 0.9168\n",
            "Epoch 11/100\n",
            "1688/1688 - 71s - loss: 0.3411 - accuracy: 0.9290 - val_loss: 0.3787 - val_accuracy: 0.9202\n",
            "Epoch 12/100\n",
            "1688/1688 - 71s - loss: 0.3334 - accuracy: 0.9319 - val_loss: 0.4375 - val_accuracy: 0.8945\n",
            "Epoch 13/100\n",
            "1688/1688 - 71s - loss: 0.3229 - accuracy: 0.9332 - val_loss: 0.4985 - val_accuracy: 0.8842\n",
            "Epoch 14/100\n",
            "1688/1688 - 71s - loss: 0.3167 - accuracy: 0.9359 - val_loss: 0.4488 - val_accuracy: 0.8945\n",
            "Epoch 15/100\n",
            "1688/1688 - 71s - loss: 0.3086 - accuracy: 0.9374 - val_loss: 0.3991 - val_accuracy: 0.9080\n",
            "Epoch 16/100\n",
            "1688/1688 - 71s - loss: 0.3014 - accuracy: 0.9400 - val_loss: 0.3741 - val_accuracy: 0.9178\n",
            "Epoch 17/100\n",
            "1688/1688 - 71s - loss: 0.2946 - accuracy: 0.9409 - val_loss: 0.3979 - val_accuracy: 0.9125\n",
            "Epoch 18/100\n",
            "1688/1688 - 71s - loss: 0.2930 - accuracy: 0.9406 - val_loss: 0.3320 - val_accuracy: 0.9255\n",
            "Epoch 19/100\n",
            "1688/1688 - 71s - loss: 0.2882 - accuracy: 0.9423 - val_loss: 0.3610 - val_accuracy: 0.9220\n",
            "Epoch 20/100\n",
            "1688/1688 - 71s - loss: 0.2840 - accuracy: 0.9450 - val_loss: 0.3931 - val_accuracy: 0.9123\n",
            "Epoch 21/100\n",
            "1688/1688 - 71s - loss: 0.2810 - accuracy: 0.9449 - val_loss: 0.5552 - val_accuracy: 0.8708\n",
            "Epoch 22/100\n",
            "1688/1688 - 71s - loss: 0.2769 - accuracy: 0.9454 - val_loss: 0.3677 - val_accuracy: 0.9188\n",
            "Epoch 23/100\n",
            "1688/1688 - 71s - loss: 0.2732 - accuracy: 0.9472 - val_loss: 0.4278 - val_accuracy: 0.8953\n",
            "Epoch 24/100\n",
            "1688/1688 - 71s - loss: 0.2681 - accuracy: 0.9487 - val_loss: 0.4863 - val_accuracy: 0.8930\n",
            "Epoch 25/100\n",
            "1688/1688 - 71s - loss: 0.2700 - accuracy: 0.9481 - val_loss: 0.4189 - val_accuracy: 0.9062\n",
            "Epoch 26/100\n",
            "1688/1688 - 71s - loss: 0.2640 - accuracy: 0.9503 - val_loss: 0.3505 - val_accuracy: 0.9220\n",
            "Epoch 27/100\n",
            "1688/1688 - 71s - loss: 0.2621 - accuracy: 0.9504 - val_loss: 0.3410 - val_accuracy: 0.9257\n",
            "Epoch 28/100\n",
            "1688/1688 - 71s - loss: 0.2605 - accuracy: 0.9513 - val_loss: 0.3992 - val_accuracy: 0.9095\n",
            "Epoch 29/100\n",
            "1688/1688 - 71s - loss: 0.2620 - accuracy: 0.9497 - val_loss: 0.3363 - val_accuracy: 0.9223\n",
            "Epoch 30/100\n",
            "1688/1688 - 71s - loss: 0.2564 - accuracy: 0.9522 - val_loss: 0.4001 - val_accuracy: 0.9097\n",
            "Epoch 31/100\n",
            "1688/1688 - 71s - loss: 0.2543 - accuracy: 0.9524 - val_loss: 0.3221 - val_accuracy: 0.9303\n",
            "Epoch 32/100\n",
            "1688/1688 - 71s - loss: 0.2523 - accuracy: 0.9539 - val_loss: 0.3661 - val_accuracy: 0.9190\n",
            "Epoch 33/100\n",
            "1688/1688 - 71s - loss: 0.2511 - accuracy: 0.9539 - val_loss: 0.3573 - val_accuracy: 0.9182\n",
            "Epoch 34/100\n",
            "1688/1688 - 71s - loss: 0.2451 - accuracy: 0.9566 - val_loss: 0.4363 - val_accuracy: 0.9053\n",
            "Epoch 35/100\n",
            "1688/1688 - 71s - loss: 0.2465 - accuracy: 0.9544 - val_loss: 0.3854 - val_accuracy: 0.9158\n",
            "Epoch 36/100\n",
            "1688/1688 - 71s - loss: 0.2437 - accuracy: 0.9556 - val_loss: 0.3595 - val_accuracy: 0.9228\n",
            "Epoch 37/100\n",
            "1688/1688 - 71s - loss: 0.2440 - accuracy: 0.9562 - val_loss: 0.3743 - val_accuracy: 0.9215\n",
            "Epoch 38/100\n",
            "1688/1688 - 71s - loss: 0.2371 - accuracy: 0.9594 - val_loss: 0.4419 - val_accuracy: 0.9178\n",
            "Epoch 39/100\n",
            "1688/1688 - 71s - loss: 0.2402 - accuracy: 0.9572 - val_loss: 0.3757 - val_accuracy: 0.9255\n",
            "Epoch 40/100\n",
            "1688/1688 - 71s - loss: 0.2382 - accuracy: 0.9588 - val_loss: 0.3942 - val_accuracy: 0.9123\n",
            "Epoch 41/100\n",
            "1688/1688 - 71s - loss: 0.2376 - accuracy: 0.9584 - val_loss: 0.3585 - val_accuracy: 0.9262\n",
            "Epoch 42/100\n",
            "1688/1688 - 71s - loss: 0.2342 - accuracy: 0.9595 - val_loss: 0.4361 - val_accuracy: 0.9042\n",
            "Epoch 43/100\n",
            "1688/1688 - 71s - loss: 0.2363 - accuracy: 0.9587 - val_loss: 0.3667 - val_accuracy: 0.9230\n",
            "Epoch 44/100\n",
            "1688/1688 - 71s - loss: 0.2343 - accuracy: 0.9594 - val_loss: 0.3811 - val_accuracy: 0.9207\n",
            "Epoch 45/100\n",
            "1688/1688 - 70s - loss: 0.2346 - accuracy: 0.9590 - val_loss: 0.3724 - val_accuracy: 0.9205\n",
            "Epoch 46/100\n",
            "1688/1688 - 70s - loss: 0.2294 - accuracy: 0.9608 - val_loss: 0.4146 - val_accuracy: 0.9112\n",
            "Epoch 47/100\n",
            "1688/1688 - 70s - loss: 0.2309 - accuracy: 0.9604 - val_loss: 0.3765 - val_accuracy: 0.9207\n",
            "Epoch 48/100\n",
            "1688/1688 - 70s - loss: 0.2284 - accuracy: 0.9613 - val_loss: 0.3746 - val_accuracy: 0.9205\n",
            "Epoch 49/100\n",
            "1688/1688 - 70s - loss: 0.2289 - accuracy: 0.9610 - val_loss: 0.3877 - val_accuracy: 0.9210\n",
            "Epoch 50/100\n",
            "1688/1688 - 71s - loss: 0.2285 - accuracy: 0.9614 - val_loss: 0.4600 - val_accuracy: 0.9045\n",
            "Epoch 51/100\n",
            "1688/1688 - 71s - loss: 0.2234 - accuracy: 0.9636 - val_loss: 0.3878 - val_accuracy: 0.9253\n",
            "Epoch 52/100\n",
            "1688/1688 - 70s - loss: 0.2272 - accuracy: 0.9616 - val_loss: 0.3670 - val_accuracy: 0.9220\n",
            "Epoch 53/100\n",
            "1688/1688 - 70s - loss: 0.2237 - accuracy: 0.9631 - val_loss: 0.3646 - val_accuracy: 0.9272\n",
            "Epoch 54/100\n",
            "1688/1688 - 70s - loss: 0.2221 - accuracy: 0.9644 - val_loss: 0.3967 - val_accuracy: 0.9165\n",
            "Epoch 55/100\n",
            "1688/1688 - 70s - loss: 0.2227 - accuracy: 0.9640 - val_loss: 0.4100 - val_accuracy: 0.9162\n",
            "Epoch 56/100\n",
            "1688/1688 - 70s - loss: 0.2210 - accuracy: 0.9645 - val_loss: 0.3379 - val_accuracy: 0.9295\n",
            "Epoch 57/100\n",
            "1688/1688 - 71s - loss: 0.2233 - accuracy: 0.9632 - val_loss: 0.3796 - val_accuracy: 0.9260\n",
            "Epoch 58/100\n",
            "1688/1688 - 70s - loss: 0.2183 - accuracy: 0.9650 - val_loss: 0.3792 - val_accuracy: 0.9208\n",
            "Epoch 59/100\n",
            "1688/1688 - 71s - loss: 0.2186 - accuracy: 0.9643 - val_loss: 0.3625 - val_accuracy: 0.9203\n",
            "Epoch 60/100\n",
            "1688/1688 - 71s - loss: 0.2207 - accuracy: 0.9645 - val_loss: 0.4103 - val_accuracy: 0.9095\n",
            "Epoch 61/100\n",
            "1688/1688 - 71s - loss: 0.2190 - accuracy: 0.9664 - val_loss: 0.3767 - val_accuracy: 0.9272\n",
            "Epoch 62/100\n",
            "1688/1688 - 71s - loss: 0.2182 - accuracy: 0.9654 - val_loss: 0.4133 - val_accuracy: 0.9163\n",
            "Epoch 63/100\n",
            "1688/1688 - 70s - loss: 0.2173 - accuracy: 0.9665 - val_loss: 0.3678 - val_accuracy: 0.9277\n",
            "Epoch 64/100\n",
            "1688/1688 - 70s - loss: 0.2156 - accuracy: 0.9665 - val_loss: 0.4069 - val_accuracy: 0.9148\n",
            "Epoch 65/100\n",
            "1688/1688 - 71s - loss: 0.2145 - accuracy: 0.9667 - val_loss: 0.3544 - val_accuracy: 0.9302\n",
            "Epoch 66/100\n",
            "1688/1688 - 70s - loss: 0.2129 - accuracy: 0.9674 - val_loss: 0.4022 - val_accuracy: 0.9058\n",
            "Epoch 67/100\n",
            "1688/1688 - 71s - loss: 0.2153 - accuracy: 0.9655 - val_loss: 0.3808 - val_accuracy: 0.9257\n",
            "Epoch 68/100\n",
            "1688/1688 - 71s - loss: 0.2113 - accuracy: 0.9680 - val_loss: 0.3807 - val_accuracy: 0.9253\n",
            "Epoch 69/100\n",
            "1688/1688 - 70s - loss: 0.2113 - accuracy: 0.9673 - val_loss: 0.3514 - val_accuracy: 0.9320\n",
            "Epoch 70/100\n",
            "1688/1688 - 70s - loss: 0.2125 - accuracy: 0.9673 - val_loss: 0.3822 - val_accuracy: 0.9253\n",
            "Epoch 71/100\n",
            "1688/1688 - 70s - loss: 0.2128 - accuracy: 0.9678 - val_loss: 0.3817 - val_accuracy: 0.9263\n",
            "Epoch 72/100\n",
            "1688/1688 - 70s - loss: 0.2114 - accuracy: 0.9674 - val_loss: 0.3733 - val_accuracy: 0.9238\n",
            "Epoch 73/100\n",
            "1688/1688 - 70s - loss: 0.2071 - accuracy: 0.9694 - val_loss: 0.4118 - val_accuracy: 0.9218\n",
            "Epoch 74/100\n",
            "1688/1688 - 70s - loss: 0.2086 - accuracy: 0.9687 - val_loss: 0.3734 - val_accuracy: 0.9238\n",
            "Epoch 75/100\n",
            "1688/1688 - 70s - loss: 0.2053 - accuracy: 0.9705 - val_loss: 0.3596 - val_accuracy: 0.9322\n",
            "Epoch 76/100\n",
            "1688/1688 - 70s - loss: 0.2090 - accuracy: 0.9685 - val_loss: 0.4985 - val_accuracy: 0.8963\n",
            "Epoch 77/100\n",
            "1688/1688 - 70s - loss: 0.2079 - accuracy: 0.9684 - val_loss: 0.3804 - val_accuracy: 0.9260\n",
            "Epoch 78/100\n",
            "1688/1688 - 70s - loss: 0.2078 - accuracy: 0.9687 - val_loss: 0.4908 - val_accuracy: 0.9112\n",
            "Epoch 79/100\n",
            "1688/1688 - 70s - loss: 0.2044 - accuracy: 0.9703 - val_loss: 0.4256 - val_accuracy: 0.9167\n",
            "Epoch 80/100\n",
            "1688/1688 - 70s - loss: 0.2048 - accuracy: 0.9699 - val_loss: 0.3905 - val_accuracy: 0.9173\n",
            "Epoch 81/100\n",
            "1688/1688 - 70s - loss: 0.2058 - accuracy: 0.9699 - val_loss: 0.3867 - val_accuracy: 0.9250\n",
            "Epoch 82/100\n",
            "1688/1688 - 70s - loss: 0.2074 - accuracy: 0.9689 - val_loss: 0.3775 - val_accuracy: 0.9213\n",
            "Epoch 83/100\n",
            "1688/1688 - 70s - loss: 0.2026 - accuracy: 0.9709 - val_loss: 0.4113 - val_accuracy: 0.9177\n",
            "Epoch 84/100\n",
            "1688/1688 - 70s - loss: 0.2035 - accuracy: 0.9710 - val_loss: 0.5067 - val_accuracy: 0.9037\n",
            "Epoch 85/100\n",
            "1688/1688 - 70s - loss: 0.2040 - accuracy: 0.9699 - val_loss: 0.3754 - val_accuracy: 0.9197\n",
            "Epoch 86/100\n",
            "1688/1688 - 70s - loss: 0.2035 - accuracy: 0.9704 - val_loss: 0.3729 - val_accuracy: 0.9273\n",
            "Epoch 87/100\n",
            "1688/1688 - 70s - loss: 0.2018 - accuracy: 0.9705 - val_loss: 0.3967 - val_accuracy: 0.9220\n",
            "Epoch 88/100\n",
            "1688/1688 - 70s - loss: 0.1977 - accuracy: 0.9725 - val_loss: 0.4589 - val_accuracy: 0.9007\n",
            "Epoch 89/100\n",
            "1688/1688 - 70s - loss: 0.2029 - accuracy: 0.9703 - val_loss: 0.3930 - val_accuracy: 0.9192\n",
            "Epoch 90/100\n",
            "1688/1688 - 70s - loss: 0.1968 - accuracy: 0.9727 - val_loss: 0.4392 - val_accuracy: 0.9117\n",
            "Epoch 91/100\n",
            "1688/1688 - 70s - loss: 0.2007 - accuracy: 0.9712 - val_loss: 0.4062 - val_accuracy: 0.9197\n",
            "Epoch 92/100\n",
            "1688/1688 - 70s - loss: 0.1992 - accuracy: 0.9715 - val_loss: 0.4705 - val_accuracy: 0.8933\n",
            "Epoch 93/100\n",
            "1688/1688 - 70s - loss: 0.1996 - accuracy: 0.9714 - val_loss: 0.4256 - val_accuracy: 0.9207\n",
            "Epoch 94/100\n",
            "1688/1688 - 70s - loss: 0.1997 - accuracy: 0.9707 - val_loss: 0.3761 - val_accuracy: 0.9215\n",
            "Epoch 95/100\n",
            "1688/1688 - 70s - loss: 0.1970 - accuracy: 0.9724 - val_loss: 0.4505 - val_accuracy: 0.9082\n",
            "Epoch 96/100\n",
            "1688/1688 - 70s - loss: 0.1968 - accuracy: 0.9722 - val_loss: 0.4993 - val_accuracy: 0.9060\n",
            "Epoch 97/100\n",
            "1688/1688 - 70s - loss: 0.1991 - accuracy: 0.9716 - val_loss: 0.4018 - val_accuracy: 0.9217\n",
            "Epoch 98/100\n",
            "1688/1688 - 70s - loss: 0.1954 - accuracy: 0.9718 - val_loss: 0.4183 - val_accuracy: 0.9180\n",
            "Epoch 99/100\n",
            "1688/1688 - 70s - loss: 0.1966 - accuracy: 0.9722 - val_loss: 0.4292 - val_accuracy: 0.9162\n",
            "Epoch 100/100\n",
            "1688/1688 - 70s - loss: 0.1945 - accuracy: 0.9734 - val_loss: 0.4594 - val_accuracy: 0.9072\n"
          ],
          "name": "stdout"
        }
      ]
    },
    {
      "cell_type": "code",
      "metadata": {
        "id": "cc0aq8wk5m6F",
        "colab": {
          "base_uri": "https://localhost:8080/",
          "height": 281
        },
        "outputId": "9337a2cb-c6a1-48b5-8cc8-18421a78b86a"
      },
      "source": [
        "import matplotlib.pyplot as plt\n",
        "plt.plot(history.history['loss'])\n",
        "plt.plot(history.history['val_loss'])\n",
        "plt.title('model loss performance')\n",
        "plt.legend(['train loss', 'validation loss'])\n",
        "plt.show()"
      ],
      "execution_count": 14,
      "outputs": [
        {
          "output_type": "display_data",
          "data": {
            "image/png": "[encoded data removed]",
            "text/plain": [
              "<Figure size 432x288 with 1 Axes>"
            ]
          },
          "metadata": {
            "tags": [],
            "needs_background": "light"
          }
        }
      ]
    },
    {
      "cell_type": "code",
      "metadata": {
        "id": "bOGWA0NL6UF_",
        "colab": {
          "base_uri": "https://localhost:8080/",
          "height": 281
        },
        "outputId": "160e2b98-4bca-4f13-c98f-5ba415efaa02"
      },
      "source": [
        "plt.plot(history.history['accuracy'])\n",
        "plt.plot(history.history['val_accuracy'])\n",
        "plt.title('model accuracy performance')\n",
        "plt.legend(['train accuracy', 'validation accuracy'])\n",
        "plt.show()"
      ],
      "execution_count": 15,
      "outputs": [
        {
          "output_type": "display_data",
          "data": {
            "image/png": "[encoded data removed]",
            "text/plain": [
              "<Figure size 432x288 with 1 Axes>"
            ]
          },
          "metadata": {
            "tags": [],
            "needs_background": "light"
          }
        }
      ]
    },
    {
      "cell_type": "code",
      "metadata": {
        "id": "KSGatV59isQC",
        "colab": {
          "base_uri": "https://localhost:8080/"
        },
        "outputId": "401c22db-984c-4437-f500-ebe5ea14df06"
      },
      "source": [
        "model.evaluate(x_test, y_test)"
      ],
      "execution_count": 16,
      "outputs": [
        {
          "output_type": "stream",
          "text": [
            "313/313 [==============================] - 5s 15ms/step - loss: 0.4816 - accuracy: 0.9030\n"
          ],
          "name": "stdout"
        },
        {
          "output_type": "execute_result",
          "data": {
            "text/plain": [
              "[0.4816246032714844, 0.902999997138977]"
            ]
          },
          "metadata": {
            "tags": []
          },
          "execution_count": 16
        }
      ]
    },
    {
      "cell_type": "code",
      "metadata": {
        "id": "JIdYvpFeCjbK"
      },
      "source": [
        "# https://github.com/mattdutson/mobilenet/blob/master/mobilenet/model.py\n",
        "# https://github.com/kuangliu/pytorch-cifar/blob/master/models/mobilenet.py\n",
        "# https://mydeeplearningnb.wordpress.com/2019/07/24/visualizing-cnns-using-tensorflow/"
      ],
      "execution_count": 17,
      "outputs": []
    },
    {
      "cell_type": "code",
      "metadata": {
        "id": "DEwcw_mn2r5S"
      },
      "source": [
        ""
      ],
      "execution_count": 17,
      "outputs": []
    }
  ]
}