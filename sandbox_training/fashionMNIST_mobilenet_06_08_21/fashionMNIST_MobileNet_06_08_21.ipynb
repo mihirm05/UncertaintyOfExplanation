{
  "nbformat": 4,
  "nbformat_minor": 0,
  "metadata": {
    "colab": {
      "name": "fashionMNIST_MobileNet_06_08_21.ipynb",
      "provenance": [],
      "collapsed_sections": []
    },
    "kernelspec": {
      "name": "python3",
      "display_name": "Python 3"
    },
    "language_info": {
      "name": "python"
    },
    "accelerator": "GPU"
  },
  "cells": [
    {
      "cell_type": "code",
      "metadata": {
        "colab": {
          "base_uri": "https://localhost:8080/"
        },
        "id": "tSD59fzx2NwB",
        "outputId": "92af43c1-5cac-48b4-e2a2-99a186b69c29"
      },
      "source": [
        "from google.colab import drive\n",
        "drive.mount('/content/drive')"
      ],
      "execution_count": 1,
      "outputs": [
        {
          "output_type": "stream",
          "text": [
            "Mounted at /content/drive\n"
          ],
          "name": "stdout"
        }
      ]
    },
    {
      "cell_type": "code",
      "metadata": {
        "id": "ZmXI6jeS1-t9"
      },
      "source": [
        "import tensorflow as tf\n",
        "import os\n",
        "import numpy as np\n",
        "\n",
        "from tensorflow.keras.layers import Dense, Conv2D, BatchNormalization, Activation, Dropout\n",
        "from tensorflow.keras.layers import Input, Flatten, AveragePooling2D, Add\n",
        "from tensorflow.keras.layers import *\n",
        "from tensorflow.keras import backend as K \n",
        "from tensorflow.keras.models import Model\n",
        "from tensorflow.keras.optimizers import Adam\n",
        "from tensorflow.keras.callbacks import ModelCheckpoint\n",
        "from tensorflow.keras.utils import to_categorical\n",
        "from tensorflow.keras.models import Sequential\n",
        "from tensorflow.keras.preprocessing.image import ImageDataGenerator\n",
        "from tensorflow.keras.regularizers import L2\n",
        "from tensorflow.keras.datasets import cifar10\n",
        "from tensorflow.keras.datasets import fashion_mnist"
      ],
      "execution_count": 2,
      "outputs": []
    },
    {
      "cell_type": "code",
      "metadata": {
        "id": "zROr-05a2Gkd"
      },
      "source": [
        "batch_size=32\n",
        "epochs=100\n",
        "num_classes=10\n",
        "depth=20"
      ],
      "execution_count": 3,
      "outputs": []
    },
    {
      "cell_type": "code",
      "metadata": {
        "id": "ALLQbtz2cA4b"
      },
      "source": [
        "model_type = 'MobileNet%d' % (depth)"
      ],
      "execution_count": 4,
      "outputs": []
    },
    {
      "cell_type": "code",
      "metadata": {
        "colab": {
          "base_uri": "https://localhost:8080/"
        },
        "id": "ft7a2_0T7dk0",
        "outputId": "15983688-3de7-49be-af69-7037f15ffa5a"
      },
      "source": [
        "(x_train, y_train), (x_test, y_test) = fashion_mnist.load_data()\n",
        "x_train = x_train/255\n",
        "x_test = x_test/255\n",
        "\n",
        "# resize\n",
        "x_train = np.expand_dims(x_train, axis=-1)\n",
        "x_train = tf.image.resize(x_train, [32,32]) # if we want to resize\n",
        "\n",
        "x_test = np.expand_dims(x_test, axis=-1)\n",
        "x_test = tf.image.resize(x_test, [32,32]) # if we want to resize\n",
        "\n",
        "print(x_train.shape)\n",
        "print(x_test.shape)\n",
        "\n",
        "y_train = to_categorical(y_train, num_classes)\n",
        "y_test = to_categorical(y_test, num_classes)\n",
        "input_shape=x_train.shape[1:]"
      ],
      "execution_count": 5,
      "outputs": [
        {
          "output_type": "stream",
          "text": [
            "Downloading data from https://storage.googleapis.com/tensorflow/tf-keras-datasets/train-labels-idx1-ubyte.gz\n",
            "32768/29515 [=================================] - 0s 0us/step\n",
            "Downloading data from https://storage.googleapis.com/tensorflow/tf-keras-datasets/train-images-idx3-ubyte.gz\n",
            "26427392/26421880 [==============================] - 0s 0us/step\n",
            "Downloading data from https://storage.googleapis.com/tensorflow/tf-keras-datasets/t10k-labels-idx1-ubyte.gz\n",
            "8192/5148 [===============================================] - 0s 0us/step\n",
            "Downloading data from https://storage.googleapis.com/tensorflow/tf-keras-datasets/t10k-images-idx3-ubyte.gz\n",
            "4423680/4422102 [==============================] - 0s 0us/step\n",
            "(60000, 32, 32, 1)\n",
            "(10000, 32, 32, 1)\n"
          ],
          "name": "stdout"
        }
      ]
    },
    {
      "cell_type": "code",
      "metadata": {
        "id": "YkT1Gkmuzi8y"
      },
      "source": [
        "#datagen = ImageDataGenerator(rotation_range=10, horizontal_flip=True, zoom_range=0.1, width_shift_range=0.05, height_shift_range=0.05)\n",
        "#augmented_data = datagen.flow(x_train, y_train)"
      ],
      "execution_count": 6,
      "outputs": []
    },
    {
      "cell_type": "code",
      "metadata": {
        "id": "GO-mvindRGv0"
      },
      "source": [
        "# MODEL THAT CLAIMS TO PERFORM BETTER THAN \"OVERFITTING MODEL\" \n",
        "\n",
        "import os\n",
        "import warnings\n",
        "import numpy as np\n",
        "from tensorflow.keras.layers import Input, Activation, Conv2D, Dense, Dropout, BatchNormalization, ReLU, DepthwiseConv2D, GlobalAveragePooling2D, GlobalMaxPooling2D, Add\n",
        "from tensorflow.keras.models import Model\n",
        "from tensorflow.keras import regularizers\n",
        "# define the filter size\n",
        "def _make_divisible(v, divisor, min_value=None):\n",
        "    if min_value is None:\n",
        "        min_value = divisor\n",
        "    new_v = max(min_value, int(v + divisor / 2) // divisor * divisor)\n",
        "    if new_v < 0.9 * v:\n",
        "        new_v += divisor\n",
        "    return new_v\n",
        "\n",
        "\n",
        "# define the calculation of each 'inverted Res_Block'\n",
        "def _inverted_res_block(inputs, expansion, stride, alpha, filters, block_id):\n",
        "    prefix = 'block_{}_'.format(block_id)\n",
        "\n",
        "    in_channels = inputs.shape[-1]\n",
        "    pointwise_conv_filters = int(filters * alpha)\n",
        "    pointwise_filters = _make_divisible(pointwise_conv_filters, 8)\n",
        "    x = inputs\n",
        "\n",
        "    # Expand\n",
        "    if block_id:\n",
        "        x = Conv2D(expansion * in_channels, kernel_size=1, strides=1, padding='same', use_bias=False, activation=None, kernel_initializer=\"he_normal\", kernel_regularizer=regularizers.l2(4e-5), name=prefix + 'expand')(x)\n",
        "        x = BatchNormalization(epsilon=1e-3, momentum=0.999, name=prefix + 'expand_BN')(x)\n",
        "        x = ReLU(6., name=prefix + 'expand_relu')(x)\n",
        "    else:\n",
        "        prefix = 'expanded_conv_'\n",
        "\n",
        "    # Depthwise\n",
        "    x = DepthwiseConv2D(kernel_size=3, strides=stride, activation=None, use_bias=False, padding='same', kernel_initializer=\"he_normal\", depthwise_regularizer=regularizers.l2(4e-5), name=prefix + 'depthwise')(x)\n",
        "    x = BatchNormalization(epsilon=1e-3, momentum=0.999, name=prefix + 'depthwise_BN')(x)\n",
        "    x = ReLU(6., name=prefix + 'depthwise_relu')(x)\n",
        "\n",
        "    # Project\n",
        "    x = Conv2D(pointwise_filters, kernel_size=1, strides=1, padding='same', use_bias=False, activation=None, kernel_initializer=\"he_normal\", kernel_regularizer=regularizers.l2(4e-5), name=prefix + 'project')(x)\n",
        "    x = BatchNormalization(epsilon=1e-3, momentum=0.999, name=prefix + 'project_BN')(x)\n",
        "\n",
        "\n",
        "    if in_channels == pointwise_filters and stride == 1:\n",
        "        return Add(name=prefix + 'add')([inputs, x])\n",
        "    return x\n",
        "\n",
        "#Create Build\n",
        "def create_model(rows, cols, channels, level_0_blocks, level_1_blocks, level_2_blocks, num_classes, lr_initial):\n",
        "  # encoder - input\n",
        "    alpha=1.0\n",
        "    include_top = True\n",
        "    model_input = tf.keras.layers.Input(shape=(rows, cols, channels), name='input_image')\n",
        "    x           = model_input\n",
        "\n",
        "    first_block_filters = _make_divisible(32 * alpha, 8)\n",
        "\n",
        "    # model architechture\n",
        "    x = Conv2D(first_block_filters, kernel_size=3, strides=1, padding='same', use_bias=False, kernel_initializer=\"he_normal\", kernel_regularizer=regularizers.l2(4e-5), name='Conv1')(model_input)\n",
        "\n",
        "    x = _inverted_res_block(x, filters=16,  alpha=alpha, stride=1, expansion=1, block_id=0 )\n",
        "\n",
        "    x = _inverted_res_block(x, filters=24,  alpha=alpha, stride=1, expansion=6, block_id=1 )\n",
        "    x = _inverted_res_block(x, filters=24,  alpha=alpha, stride=1, expansion=6, block_id=2 )\n",
        "\n",
        "    x = _inverted_res_block(x, filters=32,  alpha=alpha, stride=2, expansion=6, block_id=3 )\n",
        "    x = _inverted_res_block(x, filters=32,  alpha=alpha, stride=1, expansion=6, block_id=4 )\n",
        "    x = _inverted_res_block(x, filters=32,  alpha=alpha, stride=1, expansion=6, block_id=5 )\n",
        "\n",
        "    x = _inverted_res_block(x, filters=64,  alpha=alpha, stride=2, expansion=6, block_id=6 )\n",
        "    x = _inverted_res_block(x, filters=64,  alpha=alpha, stride=1, expansion=6, block_id=7 )\n",
        "    x = _inverted_res_block(x, filters=64,  alpha=alpha, stride=1, expansion=6, block_id=8 )\n",
        "    x = _inverted_res_block(x, filters=64,  alpha=alpha, stride=1, expansion=6, block_id=9 )\n",
        "    x = Dropout(rate=0.25)(x)\n",
        "\n",
        "    x = _inverted_res_block(x, filters=96,  alpha=alpha, stride=1, expansion=6, block_id=10)\n",
        "    x = _inverted_res_block(x, filters=96,  alpha=alpha, stride=1, expansion=6, block_id=11)\n",
        "    x = _inverted_res_block(x, filters=96,  alpha=alpha, stride=1, expansion=6, block_id=12)\n",
        "    x = Dropout(rate=0.25)(x)\n",
        "\n",
        "    x = _inverted_res_block(x, filters=160, alpha=alpha, stride=1, expansion=6, block_id=13)\n",
        "    x = _inverted_res_block(x, filters=160, alpha=alpha, stride=1, expansion=6, block_id=14)\n",
        "    x = _inverted_res_block(x, filters=160, alpha=alpha, stride=1, expansion=6, block_id=15)\n",
        "    x = Dropout(rate=0.25)(x)\n",
        "\n",
        "    x = _inverted_res_block(x, filters=320, alpha=alpha, stride=1, expansion=6, block_id=16)\n",
        "    x = Dropout(rate=0.25)(x)\n",
        "\n",
        "\n",
        "    # define filter size (last block)\n",
        "    if alpha > 1.0:\n",
        "        last_block_filters = _make_divisible(1280 * alpha, 8)\n",
        "    else:\n",
        "        last_block_filters = 1280\n",
        "\n",
        "\n",
        "    x = Conv2D(last_block_filters, kernel_size=1, use_bias=False, kernel_initializer=\"he_normal\", kernel_regularizer=regularizers.l2(4e-5), name='Conv_1')(x)\n",
        "    x = BatchNormalization(epsilon=1e-3, momentum=0.999, name='Conv_1_bn')(x)\n",
        "    x = ReLU(6., name='out_relu')(x)\n",
        "    \n",
        "    if include_top:\n",
        "        x = GlobalAveragePooling2D(name='global_average_pool')(x)\n",
        "        x = Dense(num_classes, activation='softmax', use_bias=True, name='Logits')(x)\n",
        "    else:\n",
        "        if pooling == 'avg':\n",
        "            x = GlobalAveragePooling2D()(x)\n",
        "        elif pooling == 'max':\n",
        "            x = GlobalMaxPooling2D()(x)\n",
        "\n",
        "    # create model of MobileNetV2 (for CIFAR-10)\n",
        "    model = Model(inputs=model_input, outputs=x, name='mobilenetv2_cifar10')\n",
        "\n",
        "    #model.compile(optimizer=tf.keras.optimizers.Adam(lr_initial), loss='sparse_categorical_crossentropy', metrics=['accuracy'])\n",
        "    #model.compile(optimizer=tf.keras.optimizers.Adam(lr_initial), loss='sparse_categorical_crossentropy', metrics=['accuracy'])\n",
        "    return model\n",
        "\n",
        "\n",
        "model = create_model(rows=32, cols=32, channels=1, level_0_blocks=4, level_1_blocks=6, level_2_blocks=3, num_classes=10, lr_initial=0.001)\n",
        "# reference for model \n",
        "# https://github.com/ruchi15/CNN-MobileNetV2-Cifar10/blob/master/CNN_Assignment_5_Design.ipynb"
      ],
      "execution_count": 7,
      "outputs": []
    },
    {
      "cell_type": "code",
      "metadata": {
        "id": "geI2YTs_8Sfz",
        "colab": {
          "base_uri": "https://localhost:8080/",
          "height": 154
        },
        "outputId": "47c578c7-ea96-4f33-f6dd-2e627898c022"
      },
      "source": [
        "# OVERFITTING MODEL \n",
        "'''\n",
        "def mobilenet(input_size=(32, 32), l2_decay=0.1, N_CLASSES=10):\n",
        "    \"\"\"\n",
        "    Builds the MobileNet model.\n",
        "    :param tuple input_size: The height and width (in that order) of the\n",
        "        model input.\n",
        "    :param float l2_decay: The amount of L2 weight decay to add to the\n",
        "        loss. Applies only to kernels, not biases.\n",
        "    :return tensorflow.keras.Sequential: A MobileNet model.\n",
        "    \"\"\"\n",
        "\n",
        "    model = Sequential()\n",
        "\n",
        "    def _add_bn_relu():\n",
        "        model.add(BatchNormalization(scale=False))\n",
        "        model.add(ReLU())\n",
        "\n",
        "    def _add_depthwise_block(strides=1):\n",
        "        model.add(DepthwiseConv2D(\n",
        "            (3, 3),\n",
        "            strides=strides,\n",
        "            padding='same',\n",
        "            kernel_regularizer=L2(l2=l2_decay)))\n",
        "        _add_bn_relu()\n",
        "\n",
        "    def _add_pointwise_block(filters):\n",
        "        model.add(Conv2D(filters, (1, 1), kernel_regularizer=L2(l2=l2_decay)))\n",
        "        _add_bn_relu()\n",
        "\n",
        "    model.add(Conv2D(\n",
        "        32, (3, 3),\n",
        "        strides=2,\n",
        "        padding='same',\n",
        "        kernel_regularizer=L2(l2=l2_decay),\n",
        "        input_shape=input_size + (1,))) # change the channel dimension here\n",
        "    _add_bn_relu()\n",
        "    _add_depthwise_block()\n",
        "    _add_pointwise_block(64)\n",
        "\n",
        "    _add_depthwise_block(strides=2)\n",
        "    _add_pointwise_block(128)\n",
        "    _add_depthwise_block()\n",
        "    _add_pointwise_block(128)\n",
        "\n",
        "    _add_depthwise_block(strides=2)\n",
        "    _add_pointwise_block(256)\n",
        "    _add_depthwise_block()\n",
        "    _add_pointwise_block(256)\n",
        "\n",
        "    _add_depthwise_block(strides=2)\n",
        "    _add_pointwise_block(512)\n",
        "    for _ in range(5):\n",
        "        _add_depthwise_block()\n",
        "        _add_pointwise_block(512)\n",
        "\n",
        "    _add_depthwise_block(strides=2)\n",
        "    _add_pointwise_block(1024)\n",
        "    _add_depthwise_block()\n",
        "    _add_pointwise_block(1024)\n",
        "\n",
        "    model.add(AveragePooling2D(pool_size=(input_size[0] // 32, input_size[1] // 32)))\n",
        "\n",
        "    model.add(Flatten())\n",
        "    model.add(Dense(N_CLASSES, kernel_regularizer=L2(l2=l2_decay)))\n",
        "    model.add(Softmax())\n",
        "\n",
        "    return model\n",
        "\n",
        "\n",
        "model = mobilenet(input_size=(32, 32), l2_decay=0.001, N_CLASSES=10)\n",
        "print(model.summary())\n",
        "'''"
      ],
      "execution_count": 8,
      "outputs": [
        {
          "output_type": "execute_result",
          "data": {
            "application/vnd.google.colaboratory.intrinsic+json": {
              "type": "string"
            },
            "text/plain": [
              "'\\ndef mobilenet(input_size=(32, 32), l2_decay=0.1, N_CLASSES=10):\\n    \"\"\"\\n    Builds the MobileNet model.\\n    :param tuple input_size: The height and width (in that order) of the\\n        model input.\\n    :param float l2_decay: The amount of L2 weight decay to add to the\\n        loss. Applies only to kernels, not biases.\\n    :return tensorflow.keras.Sequential: A MobileNet model.\\n    \"\"\"\\n\\n    model = Sequential()\\n\\n    def _add_bn_relu():\\n        model.add(BatchNormalization(scale=False))\\n        model.add(ReLU())\\n\\n    def _add_depthwise_block(strides=1):\\n        model.add(DepthwiseConv2D(\\n            (3, 3),\\n            strides=strides,\\n            padding=\\'same\\',\\n            kernel_regularizer=L2(l2=l2_decay)))\\n        _add_bn_relu()\\n\\n    def _add_pointwise_block(filters):\\n        model.add(Conv2D(filters, (1, 1), kernel_regularizer=L2(l2=l2_decay)))\\n        _add_bn_relu()\\n\\n    model.add(Conv2D(\\n        32, (3, 3),\\n        strides=2,\\n        padding=\\'same\\',\\n        kernel_regularizer=L2(l2=l2_decay),\\n        input_shape=input_size + (1,))) # change the channel dimension here\\n    _add_bn_relu()\\n    _add_depthwise_block()\\n    _add_pointwise_block(64)\\n\\n    _add_depthwise_block(strides=2)\\n    _add_pointwise_block(128)\\n    _add_depthwise_block()\\n    _add_pointwise_block(128)\\n\\n    _add_depthwise_block(strides=2)\\n    _add_pointwise_block(256)\\n    _add_depthwise_block()\\n    _add_pointwise_block(256)\\n\\n    _add_depthwise_block(strides=2)\\n    _add_pointwise_block(512)\\n    for _ in range(5):\\n        _add_depthwise_block()\\n        _add_pointwise_block(512)\\n\\n    _add_depthwise_block(strides=2)\\n    _add_pointwise_block(1024)\\n    _add_depthwise_block()\\n    _add_pointwise_block(1024)\\n\\n    model.add(AveragePooling2D(pool_size=(input_size[0] // 32, input_size[1] // 32)))\\n\\n    model.add(Flatten())\\n    model.add(Dense(N_CLASSES, kernel_regularizer=L2(l2=l2_decay)))\\n    model.add(Softmax())\\n\\n    return model\\n\\n\\nmodel = mobilenet(input_size=(32, 32), l2_decay=0.001, N_CLASSES=10)\\nprint(model.summary())\\n'"
            ]
          },
          "metadata": {
            "tags": []
          },
          "execution_count": 8
        }
      ]
    },
    {
      "cell_type": "code",
      "metadata": {
        "id": "9I3Q5TJ-WFee"
      },
      "source": [
        "model.compile(loss='categorical_crossentropy', optimizer=Adam(learning_rate=0.001), metrics=['accuracy'])"
      ],
      "execution_count": 9,
      "outputs": []
    },
    {
      "cell_type": "code",
      "metadata": {
        "id": "3yEUNWxvWgrl"
      },
      "source": [
        "save_dir = os.path.join(os.getcwd(), 'saved_models')\n",
        "model_name = 'cifar10_%s_model_tf.{epoch:03d}.h5'%model_type\n",
        "if not os.path.isdir(save_dir):\n",
        "    os.makedirs(save_dir)\n",
        "filepath = os.path.join(save_dir, model_name)"
      ],
      "execution_count": 10,
      "outputs": []
    },
    {
      "cell_type": "code",
      "metadata": {
        "id": "kJ_VTtsJXTWg"
      },
      "source": [
        "checkpoint = ModelCheckpoint(filepath=filepath, monitor='val_accuracy', verbose=2, save_best_only=True)"
      ],
      "execution_count": 11,
      "outputs": []
    },
    {
      "cell_type": "code",
      "metadata": {
        "id": "8FB9ARxQXca9"
      },
      "source": [
        "callbacks = [checkpoint]"
      ],
      "execution_count": 12,
      "outputs": []
    },
    {
      "cell_type": "code",
      "metadata": {
        "colab": {
          "base_uri": "https://localhost:8080/"
        },
        "id": "2vC3MVxoYXjh",
        "outputId": "137087af-8706-4e6b-ad66-f66ec7120b4d"
      },
      "source": [
        "batch_size = 32\n",
        "steps = int(x_train.shape[0]/batch_size)\n",
        "\n",
        "history = model.fit(x_train, y_train, epochs=epochs, verbose=2, callbacks=[callbacks], validation_split=0.1)"
      ],
      "execution_count": 13,
      "outputs": [
        {
          "output_type": "stream",
          "text": [
            "Epoch 1/100\n",
            "1688/1688 - 107s - loss: 1.2204 - accuracy: 0.7956 - val_loss: 5.5593 - val_accuracy: 0.1027\n",
            "\n",
            "Epoch 00001: val_accuracy improved from -inf to 0.10267, saving model to /content/saved_models/cifar10_MobileNet20_model_tf.001.h5\n"
          ],
          "name": "stdout"
        },
        {
          "output_type": "stream",
          "text": [
            "/usr/local/lib/python3.7/dist-packages/tensorflow/python/keras/utils/generic_utils.py:497: CustomMaskWarning: Custom mask layers require a config and must override get_config. When loading, the custom mask layer must be passed to the custom_objects argument.\n",
            "  category=CustomMaskWarning)\n"
          ],
          "name": "stderr"
        },
        {
          "output_type": "stream",
          "text": [
            "Epoch 2/100\n",
            "1688/1688 - 72s - loss: 0.7729 - accuracy: 0.8787 - val_loss: 5.6350 - val_accuracy: 0.1027\n",
            "\n",
            "Epoch 00002: val_accuracy did not improve from 0.10267\n",
            "Epoch 3/100\n",
            "1688/1688 - 72s - loss: 0.6113 - accuracy: 0.8945 - val_loss: 1.1985 - val_accuracy: 0.6568\n",
            "\n",
            "Epoch 00003: val_accuracy improved from 0.10267 to 0.65683, saving model to /content/saved_models/cifar10_MobileNet20_model_tf.003.h5\n",
            "Epoch 4/100\n",
            "1688/1688 - 72s - loss: 0.5355 - accuracy: 0.9001 - val_loss: 0.6443 - val_accuracy: 0.8642\n",
            "\n",
            "Epoch 00004: val_accuracy improved from 0.65683 to 0.86417, saving model to /content/saved_models/cifar10_MobileNet20_model_tf.004.h5\n",
            "Epoch 5/100\n",
            "1688/1688 - 72s - loss: 0.4787 - accuracy: 0.9081 - val_loss: 0.6434 - val_accuracy: 0.8683\n",
            "\n",
            "Epoch 00005: val_accuracy improved from 0.86417 to 0.86833, saving model to /content/saved_models/cifar10_MobileNet20_model_tf.005.h5\n",
            "Epoch 6/100\n",
            "1688/1688 - 72s - loss: 0.4384 - accuracy: 0.9152 - val_loss: 0.4632 - val_accuracy: 0.9003\n",
            "\n",
            "Epoch 00006: val_accuracy improved from 0.86833 to 0.90033, saving model to /content/saved_models/cifar10_MobileNet20_model_tf.006.h5\n",
            "Epoch 7/100\n",
            "1688/1688 - 72s - loss: 0.4124 - accuracy: 0.9189 - val_loss: 0.4239 - val_accuracy: 0.9085\n",
            "\n",
            "Epoch 00007: val_accuracy improved from 0.90033 to 0.90850, saving model to /content/saved_models/cifar10_MobileNet20_model_tf.007.h5\n",
            "Epoch 8/100\n",
            "1688/1688 - 71s - loss: 0.3910 - accuracy: 0.9225 - val_loss: 0.4774 - val_accuracy: 0.8940\n",
            "\n",
            "Epoch 00008: val_accuracy did not improve from 0.90850\n",
            "Epoch 9/100\n",
            "1688/1688 - 71s - loss: 0.3758 - accuracy: 0.9249 - val_loss: 0.4194 - val_accuracy: 0.9053\n",
            "\n",
            "Epoch 00009: val_accuracy did not improve from 0.90850\n",
            "Epoch 10/100\n",
            "1688/1688 - 71s - loss: 0.3585 - accuracy: 0.9279 - val_loss: 0.4441 - val_accuracy: 0.9042\n",
            "\n",
            "Epoch 00010: val_accuracy did not improve from 0.90850\n",
            "Epoch 11/100\n",
            "1688/1688 - 71s - loss: 0.3492 - accuracy: 0.9305 - val_loss: 0.4099 - val_accuracy: 0.9083\n",
            "\n",
            "Epoch 00011: val_accuracy did not improve from 0.90850\n",
            "Epoch 12/100\n",
            "1688/1688 - 71s - loss: 0.3390 - accuracy: 0.9308 - val_loss: 0.4370 - val_accuracy: 0.8998\n",
            "\n",
            "Epoch 00012: val_accuracy did not improve from 0.90850\n",
            "Epoch 13/100\n",
            "1688/1688 - 71s - loss: 0.3270 - accuracy: 0.9345 - val_loss: 0.3860 - val_accuracy: 0.9157\n",
            "\n",
            "Epoch 00013: val_accuracy improved from 0.90850 to 0.91567, saving model to /content/saved_models/cifar10_MobileNet20_model_tf.013.h5\n",
            "Epoch 14/100\n",
            "1688/1688 - 71s - loss: 0.3216 - accuracy: 0.9354 - val_loss: 0.3569 - val_accuracy: 0.9197\n",
            "\n",
            "Epoch 00014: val_accuracy improved from 0.91567 to 0.91967, saving model to /content/saved_models/cifar10_MobileNet20_model_tf.014.h5\n",
            "Epoch 15/100\n",
            "1688/1688 - 71s - loss: 0.3114 - accuracy: 0.9386 - val_loss: 0.4102 - val_accuracy: 0.8967\n",
            "\n",
            "Epoch 00015: val_accuracy did not improve from 0.91967\n",
            "Epoch 16/100\n",
            "1688/1688 - 71s - loss: 0.3080 - accuracy: 0.9388 - val_loss: 0.3730 - val_accuracy: 0.9212\n",
            "\n",
            "Epoch 00016: val_accuracy improved from 0.91967 to 0.92117, saving model to /content/saved_models/cifar10_MobileNet20_model_tf.016.h5\n",
            "Epoch 17/100\n",
            "1688/1688 - 71s - loss: 0.3007 - accuracy: 0.9412 - val_loss: 0.3926 - val_accuracy: 0.9138\n",
            "\n",
            "Epoch 00017: val_accuracy did not improve from 0.92117\n",
            "Epoch 18/100\n",
            "1688/1688 - 71s - loss: 0.2976 - accuracy: 0.9421 - val_loss: 0.3994 - val_accuracy: 0.9108\n",
            "\n",
            "Epoch 00018: val_accuracy did not improve from 0.92117\n",
            "Epoch 19/100\n",
            "1688/1688 - 71s - loss: 0.2911 - accuracy: 0.9444 - val_loss: 0.3943 - val_accuracy: 0.9107\n",
            "\n",
            "Epoch 00019: val_accuracy did not improve from 0.92117\n",
            "Epoch 20/100\n",
            "1688/1688 - 71s - loss: 0.2893 - accuracy: 0.9440 - val_loss: 0.3662 - val_accuracy: 0.9202\n",
            "\n",
            "Epoch 00020: val_accuracy did not improve from 0.92117\n",
            "Epoch 21/100\n",
            "1688/1688 - 71s - loss: 0.2834 - accuracy: 0.9453 - val_loss: 0.3611 - val_accuracy: 0.9250\n",
            "\n",
            "Epoch 00021: val_accuracy improved from 0.92117 to 0.92500, saving model to /content/saved_models/cifar10_MobileNet20_model_tf.021.h5\n",
            "Epoch 22/100\n",
            "1688/1688 - 71s - loss: 0.2803 - accuracy: 0.9462 - val_loss: 0.4297 - val_accuracy: 0.9023\n",
            "\n",
            "Epoch 00022: val_accuracy did not improve from 0.92500\n",
            "Epoch 23/100\n",
            "1688/1688 - 71s - loss: 0.2767 - accuracy: 0.9479 - val_loss: 0.3999 - val_accuracy: 0.9135\n",
            "\n",
            "Epoch 00023: val_accuracy did not improve from 0.92500\n",
            "Epoch 24/100\n",
            "1688/1688 - 71s - loss: 0.2715 - accuracy: 0.9491 - val_loss: 0.4331 - val_accuracy: 0.9007\n",
            "\n",
            "Epoch 00024: val_accuracy did not improve from 0.92500\n",
            "Epoch 25/100\n",
            "1688/1688 - 71s - loss: 0.2714 - accuracy: 0.9496 - val_loss: 0.4048 - val_accuracy: 0.9167\n",
            "\n",
            "Epoch 00025: val_accuracy did not improve from 0.92500\n",
            "Epoch 26/100\n",
            "1688/1688 - 71s - loss: 0.2653 - accuracy: 0.9511 - val_loss: 0.3521 - val_accuracy: 0.9238\n",
            "\n",
            "Epoch 00026: val_accuracy did not improve from 0.92500\n",
            "Epoch 27/100\n",
            "1688/1688 - 71s - loss: 0.2653 - accuracy: 0.9504 - val_loss: 0.3681 - val_accuracy: 0.9230\n",
            "\n",
            "Epoch 00027: val_accuracy did not improve from 0.92500\n",
            "Epoch 28/100\n",
            "1688/1688 - 71s - loss: 0.2611 - accuracy: 0.9515 - val_loss: 0.3604 - val_accuracy: 0.9233\n",
            "\n",
            "Epoch 00028: val_accuracy did not improve from 0.92500\n",
            "Epoch 29/100\n",
            "1688/1688 - 71s - loss: 0.2606 - accuracy: 0.9515 - val_loss: 0.4404 - val_accuracy: 0.9012\n",
            "\n",
            "Epoch 00029: val_accuracy did not improve from 0.92500\n",
            "Epoch 30/100\n",
            "1688/1688 - 71s - loss: 0.2576 - accuracy: 0.9516 - val_loss: 0.4078 - val_accuracy: 0.9170\n",
            "\n",
            "Epoch 00030: val_accuracy did not improve from 0.92500\n",
            "Epoch 31/100\n",
            "1688/1688 - 71s - loss: 0.2551 - accuracy: 0.9540 - val_loss: 0.3651 - val_accuracy: 0.9277\n",
            "\n",
            "Epoch 00031: val_accuracy improved from 0.92500 to 0.92767, saving model to /content/saved_models/cifar10_MobileNet20_model_tf.031.h5\n",
            "Epoch 32/100\n",
            "1688/1688 - 71s - loss: 0.2555 - accuracy: 0.9535 - val_loss: 0.4102 - val_accuracy: 0.9150\n",
            "\n",
            "Epoch 00032: val_accuracy did not improve from 0.92767\n",
            "Epoch 33/100\n",
            "1688/1688 - 70s - loss: 0.2551 - accuracy: 0.9539 - val_loss: 0.3728 - val_accuracy: 0.9197\n",
            "\n",
            "Epoch 00033: val_accuracy did not improve from 0.92767\n",
            "Epoch 34/100\n",
            "1688/1688 - 71s - loss: 0.2501 - accuracy: 0.9558 - val_loss: 0.4127 - val_accuracy: 0.9080\n",
            "\n",
            "Epoch 00034: val_accuracy did not improve from 0.92767\n",
            "Epoch 35/100\n",
            "1688/1688 - 71s - loss: 0.2498 - accuracy: 0.9567 - val_loss: 0.3888 - val_accuracy: 0.9207\n",
            "\n",
            "Epoch 00035: val_accuracy did not improve from 0.92767\n",
            "Epoch 36/100\n",
            "1688/1688 - 71s - loss: 0.2441 - accuracy: 0.9574 - val_loss: 0.3750 - val_accuracy: 0.9175\n",
            "\n",
            "Epoch 00036: val_accuracy did not improve from 0.92767\n",
            "Epoch 37/100\n",
            "1688/1688 - 71s - loss: 0.2444 - accuracy: 0.9577 - val_loss: 0.3567 - val_accuracy: 0.9258\n",
            "\n",
            "Epoch 00037: val_accuracy did not improve from 0.92767\n",
            "Epoch 38/100\n",
            "1688/1688 - 71s - loss: 0.2433 - accuracy: 0.9574 - val_loss: 0.5772 - val_accuracy: 0.8880\n",
            "\n",
            "Epoch 00038: val_accuracy did not improve from 0.92767\n",
            "Epoch 39/100\n",
            "1688/1688 - 70s - loss: 0.2421 - accuracy: 0.9584 - val_loss: 0.4048 - val_accuracy: 0.9175\n",
            "\n",
            "Epoch 00039: val_accuracy did not improve from 0.92767\n",
            "Epoch 40/100\n",
            "1688/1688 - 71s - loss: 0.2409 - accuracy: 0.9593 - val_loss: 0.3815 - val_accuracy: 0.9242\n",
            "\n",
            "Epoch 00040: val_accuracy did not improve from 0.92767\n",
            "Epoch 41/100\n",
            "1688/1688 - 71s - loss: 0.2398 - accuracy: 0.9589 - val_loss: 0.3623 - val_accuracy: 0.9245\n",
            "\n",
            "Epoch 00041: val_accuracy did not improve from 0.92767\n",
            "Epoch 42/100\n",
            "1688/1688 - 71s - loss: 0.2375 - accuracy: 0.9590 - val_loss: 0.3544 - val_accuracy: 0.9308\n",
            "\n",
            "Epoch 00042: val_accuracy improved from 0.92767 to 0.93083, saving model to /content/saved_models/cifar10_MobileNet20_model_tf.042.h5\n",
            "Epoch 43/100\n",
            "1688/1688 - 71s - loss: 0.2365 - accuracy: 0.9602 - val_loss: 0.4277 - val_accuracy: 0.9187\n",
            "\n",
            "Epoch 00043: val_accuracy did not improve from 0.93083\n",
            "Epoch 44/100\n",
            "1688/1688 - 70s - loss: 0.2308 - accuracy: 0.9627 - val_loss: 0.4258 - val_accuracy: 0.9157\n",
            "\n",
            "Epoch 00044: val_accuracy did not improve from 0.93083\n",
            "Epoch 45/100\n",
            "1688/1688 - 71s - loss: 0.2338 - accuracy: 0.9606 - val_loss: 0.4298 - val_accuracy: 0.9095\n",
            "\n",
            "Epoch 00045: val_accuracy did not improve from 0.93083\n",
            "Epoch 46/100\n",
            "1688/1688 - 70s - loss: 0.2302 - accuracy: 0.9619 - val_loss: 0.3481 - val_accuracy: 0.9280\n",
            "\n",
            "Epoch 00046: val_accuracy did not improve from 0.93083\n",
            "Epoch 47/100\n",
            "1688/1688 - 70s - loss: 0.2290 - accuracy: 0.9629 - val_loss: 0.3874 - val_accuracy: 0.9193\n",
            "\n",
            "Epoch 00047: val_accuracy did not improve from 0.93083\n",
            "Epoch 48/100\n",
            "1688/1688 - 71s - loss: 0.2296 - accuracy: 0.9627 - val_loss: 0.3636 - val_accuracy: 0.9325\n",
            "\n",
            "Epoch 00048: val_accuracy improved from 0.93083 to 0.93250, saving model to /content/saved_models/cifar10_MobileNet20_model_tf.048.h5\n",
            "Epoch 49/100\n",
            "1688/1688 - 71s - loss: 0.2286 - accuracy: 0.9624 - val_loss: 0.4643 - val_accuracy: 0.9055\n",
            "\n",
            "Epoch 00049: val_accuracy did not improve from 0.93250\n",
            "Epoch 50/100\n",
            "1688/1688 - 71s - loss: 0.2294 - accuracy: 0.9623 - val_loss: 0.3616 - val_accuracy: 0.9275\n",
            "\n",
            "Epoch 00050: val_accuracy did not improve from 0.93250\n",
            "Epoch 51/100\n",
            "1688/1688 - 70s - loss: 0.2278 - accuracy: 0.9637 - val_loss: 0.3864 - val_accuracy: 0.9235\n",
            "\n",
            "Epoch 00051: val_accuracy did not improve from 0.93250\n",
            "Epoch 52/100\n",
            "1688/1688 - 70s - loss: 0.2283 - accuracy: 0.9637 - val_loss: 0.4026 - val_accuracy: 0.9203\n",
            "\n",
            "Epoch 00052: val_accuracy did not improve from 0.93250\n",
            "Epoch 53/100\n",
            "1688/1688 - 71s - loss: 0.2248 - accuracy: 0.9639 - val_loss: 0.3495 - val_accuracy: 0.9313\n",
            "\n",
            "Epoch 00053: val_accuracy did not improve from 0.93250\n",
            "Epoch 54/100\n",
            "1688/1688 - 70s - loss: 0.2245 - accuracy: 0.9646 - val_loss: 0.4211 - val_accuracy: 0.9095\n",
            "\n",
            "Epoch 00054: val_accuracy did not improve from 0.93250\n",
            "Epoch 55/100\n",
            "1688/1688 - 70s - loss: 0.2262 - accuracy: 0.9643 - val_loss: 0.3627 - val_accuracy: 0.9307\n",
            "\n",
            "Epoch 00055: val_accuracy did not improve from 0.93250\n",
            "Epoch 56/100\n",
            "1688/1688 - 70s - loss: 0.2214 - accuracy: 0.9651 - val_loss: 0.4077 - val_accuracy: 0.9142\n",
            "\n",
            "Epoch 00056: val_accuracy did not improve from 0.93250\n",
            "Epoch 57/100\n",
            "1688/1688 - 71s - loss: 0.2230 - accuracy: 0.9638 - val_loss: 0.3858 - val_accuracy: 0.9193\n",
            "\n",
            "Epoch 00057: val_accuracy did not improve from 0.93250\n",
            "Epoch 58/100\n",
            "1688/1688 - 70s - loss: 0.2200 - accuracy: 0.9658 - val_loss: 0.4129 - val_accuracy: 0.9157\n",
            "\n",
            "Epoch 00058: val_accuracy did not improve from 0.93250\n",
            "Epoch 59/100\n",
            "1688/1688 - 70s - loss: 0.2207 - accuracy: 0.9647 - val_loss: 0.3988 - val_accuracy: 0.9222\n",
            "\n",
            "Epoch 00059: val_accuracy did not improve from 0.93250\n",
            "Epoch 60/100\n",
            "1688/1688 - 70s - loss: 0.2217 - accuracy: 0.9656 - val_loss: 0.4038 - val_accuracy: 0.9228\n",
            "\n",
            "Epoch 00060: val_accuracy did not improve from 0.93250\n",
            "Epoch 61/100\n",
            "1688/1688 - 70s - loss: 0.2185 - accuracy: 0.9653 - val_loss: 0.4141 - val_accuracy: 0.9058\n",
            "\n",
            "Epoch 00061: val_accuracy did not improve from 0.93250\n",
            "Epoch 62/100\n",
            "1688/1688 - 70s - loss: 0.2186 - accuracy: 0.9656 - val_loss: 0.4168 - val_accuracy: 0.9215\n",
            "\n",
            "Epoch 00062: val_accuracy did not improve from 0.93250\n",
            "Epoch 63/100\n",
            "1688/1688 - 70s - loss: 0.2182 - accuracy: 0.9663 - val_loss: 0.3702 - val_accuracy: 0.9275\n",
            "\n",
            "Epoch 00063: val_accuracy did not improve from 0.93250\n",
            "Epoch 64/100\n",
            "1688/1688 - 70s - loss: 0.2150 - accuracy: 0.9674 - val_loss: 0.4212 - val_accuracy: 0.9190\n",
            "\n",
            "Epoch 00064: val_accuracy did not improve from 0.93250\n",
            "Epoch 65/100\n",
            "1688/1688 - 71s - loss: 0.2167 - accuracy: 0.9671 - val_loss: 0.4147 - val_accuracy: 0.9132\n",
            "\n",
            "Epoch 00065: val_accuracy did not improve from 0.93250\n",
            "Epoch 66/100\n",
            "1688/1688 - 70s - loss: 0.2159 - accuracy: 0.9658 - val_loss: 0.4109 - val_accuracy: 0.9180\n",
            "\n",
            "Epoch 00066: val_accuracy did not improve from 0.93250\n",
            "Epoch 67/100\n",
            "1688/1688 - 70s - loss: 0.2135 - accuracy: 0.9673 - val_loss: 0.3674 - val_accuracy: 0.9248\n",
            "\n",
            "Epoch 00067: val_accuracy did not improve from 0.93250\n",
            "Epoch 68/100\n",
            "1688/1688 - 70s - loss: 0.2126 - accuracy: 0.9681 - val_loss: 0.3986 - val_accuracy: 0.9203\n",
            "\n",
            "Epoch 00068: val_accuracy did not improve from 0.93250\n",
            "Epoch 69/100\n",
            "1688/1688 - 70s - loss: 0.2139 - accuracy: 0.9686 - val_loss: 0.3808 - val_accuracy: 0.9188\n",
            "\n",
            "Epoch 00069: val_accuracy did not improve from 0.93250\n",
            "Epoch 70/100\n",
            "1688/1688 - 70s - loss: 0.2128 - accuracy: 0.9678 - val_loss: 0.4104 - val_accuracy: 0.9212\n",
            "\n",
            "Epoch 00070: val_accuracy did not improve from 0.93250\n",
            "Epoch 71/100\n",
            "1688/1688 - 70s - loss: 0.2135 - accuracy: 0.9677 - val_loss: 0.3772 - val_accuracy: 0.9220\n",
            "\n",
            "Epoch 00071: val_accuracy did not improve from 0.93250\n",
            "Epoch 72/100\n",
            "1688/1688 - 70s - loss: 0.2107 - accuracy: 0.9692 - val_loss: 0.4116 - val_accuracy: 0.9178\n",
            "\n",
            "Epoch 00072: val_accuracy did not improve from 0.93250\n",
            "Epoch 73/100\n",
            "1688/1688 - 70s - loss: 0.2128 - accuracy: 0.9676 - val_loss: 0.3921 - val_accuracy: 0.9227\n",
            "\n",
            "Epoch 00073: val_accuracy did not improve from 0.93250\n",
            "Epoch 74/100\n",
            "1688/1688 - 71s - loss: 0.2106 - accuracy: 0.9682 - val_loss: 0.4341 - val_accuracy: 0.9178\n",
            "\n",
            "Epoch 00074: val_accuracy did not improve from 0.93250\n",
            "Epoch 75/100\n",
            "1688/1688 - 70s - loss: 0.2079 - accuracy: 0.9686 - val_loss: 0.4045 - val_accuracy: 0.9163\n",
            "\n",
            "Epoch 00075: val_accuracy did not improve from 0.93250\n",
            "Epoch 76/100\n",
            "1688/1688 - 71s - loss: 0.2068 - accuracy: 0.9693 - val_loss: 0.3842 - val_accuracy: 0.9235\n",
            "\n",
            "Epoch 00076: val_accuracy did not improve from 0.93250\n",
            "Epoch 77/100\n",
            "1688/1688 - 70s - loss: 0.2041 - accuracy: 0.9704 - val_loss: 0.3861 - val_accuracy: 0.9242\n",
            "\n",
            "Epoch 00077: val_accuracy did not improve from 0.93250\n",
            "Epoch 78/100\n",
            "1688/1688 - 70s - loss: 0.2064 - accuracy: 0.9694 - val_loss: 0.3836 - val_accuracy: 0.9178\n",
            "\n",
            "Epoch 00078: val_accuracy did not improve from 0.93250\n",
            "Epoch 79/100\n",
            "1688/1688 - 70s - loss: 0.2057 - accuracy: 0.9698 - val_loss: 0.4328 - val_accuracy: 0.9147\n",
            "\n",
            "Epoch 00079: val_accuracy did not improve from 0.93250\n",
            "Epoch 80/100\n",
            "1688/1688 - 70s - loss: 0.2043 - accuracy: 0.9707 - val_loss: 0.3889 - val_accuracy: 0.9243\n",
            "\n",
            "Epoch 00080: val_accuracy did not improve from 0.93250\n",
            "Epoch 81/100\n",
            "1688/1688 - 70s - loss: 0.2056 - accuracy: 0.9694 - val_loss: 0.4098 - val_accuracy: 0.9153\n",
            "\n",
            "Epoch 00081: val_accuracy did not improve from 0.93250\n",
            "Epoch 82/100\n",
            "1688/1688 - 70s - loss: 0.2060 - accuracy: 0.9696 - val_loss: 0.3913 - val_accuracy: 0.9228\n",
            "\n",
            "Epoch 00082: val_accuracy did not improve from 0.93250\n",
            "Epoch 83/100\n",
            "1688/1688 - 70s - loss: 0.2046 - accuracy: 0.9700 - val_loss: 0.4731 - val_accuracy: 0.9133\n",
            "\n",
            "Epoch 00083: val_accuracy did not improve from 0.93250\n",
            "Epoch 84/100\n",
            "1688/1688 - 70s - loss: 0.2056 - accuracy: 0.9695 - val_loss: 0.4059 - val_accuracy: 0.9207\n",
            "\n",
            "Epoch 00084: val_accuracy did not improve from 0.93250\n",
            "Epoch 85/100\n",
            "1688/1688 - 70s - loss: 0.2024 - accuracy: 0.9705 - val_loss: 0.3745 - val_accuracy: 0.9188\n",
            "\n",
            "Epoch 00085: val_accuracy did not improve from 0.93250\n",
            "Epoch 86/100\n",
            "1688/1688 - 70s - loss: 0.2028 - accuracy: 0.9708 - val_loss: 0.4173 - val_accuracy: 0.9180\n",
            "\n",
            "Epoch 00086: val_accuracy did not improve from 0.93250\n",
            "Epoch 87/100\n",
            "1688/1688 - 70s - loss: 0.2004 - accuracy: 0.9712 - val_loss: 0.4057 - val_accuracy: 0.9250\n",
            "\n",
            "Epoch 00087: val_accuracy did not improve from 0.93250\n",
            "Epoch 88/100\n",
            "1688/1688 - 70s - loss: 0.2026 - accuracy: 0.9706 - val_loss: 0.4030 - val_accuracy: 0.9230\n",
            "\n",
            "Epoch 00088: val_accuracy did not improve from 0.93250\n",
            "Epoch 89/100\n",
            "1688/1688 - 70s - loss: 0.1997 - accuracy: 0.9719 - val_loss: 0.4477 - val_accuracy: 0.9070\n",
            "\n",
            "Epoch 00089: val_accuracy did not improve from 0.93250\n",
            "Epoch 90/100\n",
            "1688/1688 - 70s - loss: 0.1999 - accuracy: 0.9710 - val_loss: 0.4801 - val_accuracy: 0.9085\n",
            "\n",
            "Epoch 00090: val_accuracy did not improve from 0.93250\n",
            "Epoch 91/100\n",
            "1688/1688 - 70s - loss: 0.2027 - accuracy: 0.9703 - val_loss: 0.4650 - val_accuracy: 0.9063\n",
            "\n",
            "Epoch 00091: val_accuracy did not improve from 0.93250\n",
            "Epoch 92/100\n",
            "1688/1688 - 70s - loss: 0.1994 - accuracy: 0.9710 - val_loss: 0.3587 - val_accuracy: 0.9263\n",
            "\n",
            "Epoch 00092: val_accuracy did not improve from 0.93250\n",
            "Epoch 93/100\n",
            "1688/1688 - 70s - loss: 0.1974 - accuracy: 0.9727 - val_loss: 0.3592 - val_accuracy: 0.9275\n",
            "\n",
            "Epoch 00093: val_accuracy did not improve from 0.93250\n",
            "Epoch 94/100\n",
            "1688/1688 - 70s - loss: 0.1995 - accuracy: 0.9712 - val_loss: 0.4020 - val_accuracy: 0.9240\n",
            "\n",
            "Epoch 00094: val_accuracy did not improve from 0.93250\n",
            "Epoch 95/100\n",
            "1688/1688 - 70s - loss: 0.1966 - accuracy: 0.9719 - val_loss: 0.3853 - val_accuracy: 0.9248\n",
            "\n",
            "Epoch 00095: val_accuracy did not improve from 0.93250\n",
            "Epoch 96/100\n",
            "1688/1688 - 70s - loss: 0.1965 - accuracy: 0.9726 - val_loss: 0.4048 - val_accuracy: 0.9198\n",
            "\n",
            "Epoch 00096: val_accuracy did not improve from 0.93250\n",
            "Epoch 97/100\n",
            "1688/1688 - 70s - loss: 0.1990 - accuracy: 0.9712 - val_loss: 0.4165 - val_accuracy: 0.9212\n",
            "\n",
            "Epoch 00097: val_accuracy did not improve from 0.93250\n",
            "Epoch 98/100\n",
            "1688/1688 - 70s - loss: 0.1948 - accuracy: 0.9729 - val_loss: 0.4550 - val_accuracy: 0.9050\n",
            "\n",
            "Epoch 00098: val_accuracy did not improve from 0.93250\n",
            "Epoch 99/100\n",
            "1688/1688 - 70s - loss: 0.1978 - accuracy: 0.9716 - val_loss: 0.3871 - val_accuracy: 0.9238\n",
            "\n",
            "Epoch 00099: val_accuracy did not improve from 0.93250\n",
            "Epoch 100/100\n",
            "1688/1688 - 70s - loss: 0.1945 - accuracy: 0.9730 - val_loss: 0.5003 - val_accuracy: 0.9025\n",
            "\n",
            "Epoch 00100: val_accuracy did not improve from 0.93250\n"
          ],
          "name": "stdout"
        }
      ]
    },
    {
      "cell_type": "code",
      "metadata": {
        "id": "cc0aq8wk5m6F",
        "colab": {
          "base_uri": "https://localhost:8080/",
          "height": 281
        },
        "outputId": "51d358ad-12ab-413f-ab2c-3e6019902b05"
      },
      "source": [
        "import matplotlib.pyplot as plt\n",
        "plt.plot(history.history['loss'])\n",
        "plt.plot(history.history['val_loss'])\n",
        "plt.title('model loss performance')\n",
        "plt.legend(['train loss', 'validation loss'])\n",
        "plt.show()"
      ],
      "execution_count": 14,
      "outputs": [
        {
          "output_type": "display_data",
          "data": {
            "image/png": "[encoded data removed]",
            "text/plain": [
              "<Figure size 432x288 with 1 Axes>"
            ]
          },
          "metadata": {
            "tags": [],
            "needs_background": "light"
          }
        }
      ]
    },
    {
      "cell_type": "code",
      "metadata": {
        "id": "bOGWA0NL6UF_",
        "colab": {
          "base_uri": "https://localhost:8080/",
          "height": 281
        },
        "outputId": "b67ac7f8-3ce0-4e59-dd08-2b1c3e74167f"
      },
      "source": [
        "plt.plot(history.history['accuracy'])\n",
        "plt.plot(history.history['val_accuracy'])\n",
        "plt.title('model accuracy performance')\n",
        "plt.legend(['train accuracy', 'validation accuracy'])\n",
        "plt.show()"
      ],
      "execution_count": 16,
      "outputs": [
        {
          "output_type": "display_data",
          "data": {
            "image/png": "[encoded data removed]",
            "text/plain": [
              "<Figure size 432x288 with 1 Axes>"
            ]
          },
          "metadata": {
            "tags": [],
            "needs_background": "light"
          }
        }
      ]
    },
    {
      "cell_type": "code",
      "metadata": {
        "id": "KSGatV59isQC",
        "colab": {
          "base_uri": "https://localhost:8080/"
        },
        "outputId": "0b0f3537-d7f1-467f-cd76-81ba6bdde955"
      },
      "source": [
        "model.evaluate(x_test, y_test)"
      ],
      "execution_count": 17,
      "outputs": [
        {
          "output_type": "stream",
          "text": [
            "313/313 [==============================] - 5s 14ms/step - loss: 0.5179 - accuracy: 0.9032\n"
          ],
          "name": "stdout"
        },
        {
          "output_type": "execute_result",
          "data": {
            "text/plain": [
              "[0.5179480910301208, 0.9031999707221985]"
            ]
          },
          "metadata": {
            "tags": []
          },
          "execution_count": 17
        }
      ]
    },
    {
      "cell_type": "code",
      "metadata": {
        "id": "JIdYvpFeCjbK"
      },
      "source": [
        "# https://github.com/mattdutson/mobilenet/blob/master/mobilenet/model.py\n",
        "# https://github.com/kuangliu/pytorch-cifar/blob/master/models/mobilenet.py\n",
        "# https://mydeeplearningnb.wordpress.com/2019/07/24/visualizing-cnns-using-tensorflow/"
      ],
      "execution_count": null,
      "outputs": []
    },
    {
      "cell_type": "code",
      "metadata": {
        "id": "DEwcw_mn2r5S"
      },
      "source": [
        ""
      ],
      "execution_count": null,
      "outputs": []
    }
  ]
}