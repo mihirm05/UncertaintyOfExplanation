{
 "cells": [
  {
   "cell_type": "code",
   "execution_count": 1,
   "metadata": {
    "colab": {
     "base_uri": "https://localhost:8080/"
    },
    "id": "tSD59fzx2NwB",
    "outputId": "b3729fdf-41f5-43cb-bf19-e83c748ad264"
   },
   "outputs": [
    {
     "name": "stdout",
     "output_type": "stream",
     "text": [
      "Mounted at /content/drive\n"
     ]
    }
   ],
   "source": [
    "from google.colab import drive\n",
    "drive.mount('/content/drive')"
   ]
  },
  {
   "cell_type": "code",
   "execution_count": 2,
   "metadata": {
    "id": "ZmXI6jeS1-t9"
   },
   "outputs": [],
   "source": [
    "import tensorflow as tf \n",
    "import os \n",
    "import numpy as np \n",
    "\n",
    "from tensorflow.keras.layers import Dense, Conv2D, BatchNormalization, Activation, Dropout\n",
    "from tensorflow.keras.layers import Input, Flatten, AveragePooling2D, Add\n",
    "from tensorflow.keras.layers import *\n",
    "from tensorflow.keras import backend as K \n",
    "from tensorflow.keras.models import Model\n",
    "from tensorflow.keras.optimizers import Adam\n",
    "from tensorflow.keras.callbacks import ModelCheckpoint \n",
    "from tensorflow.keras.utils import to_categorical\n",
    "from tensorflow.keras.models import Sequential\n",
    "from tensorflow.keras.preprocessing.image import ImageDataGenerator\n",
    "from tensorflow.keras.regularizers import l2\n",
    "from tensorflow.keras.datasets import cifar10 \n",
    "from tensorflow.keras.datasets import fashion_mnist"
   ]
  },
  {
   "cell_type": "code",
   "execution_count": 3,
   "metadata": {
    "id": "zROr-05a2Gkd"
   },
   "outputs": [],
   "source": [
    "batch_size=32 \n",
    "epochs=100\n",
    "num_classes=10 \n",
    "depth=20 "
   ]
  },
  {
   "cell_type": "code",
   "execution_count": 4,
   "metadata": {
    "id": "ALLQbtz2cA4b"
   },
   "outputs": [],
   "source": [
    "model_type = 'MobileNet%d' % (depth)"
   ]
  },
  {
   "cell_type": "code",
   "execution_count": 5,
   "metadata": {
    "colab": {
     "base_uri": "https://localhost:8080/"
    },
    "id": "ft7a2_0T7dk0",
    "outputId": "f4210b51-f858-47e0-8383-ff7e498444b8"
   },
   "outputs": [
    {
     "name": "stdout",
     "output_type": "stream",
     "text": [
      "Downloading data from https://storage.googleapis.com/tensorflow/tf-keras-datasets/train-labels-idx1-ubyte.gz\n",
      "32768/29515 [=================================] - 0s 0us/step\n",
      "Downloading data from https://storage.googleapis.com/tensorflow/tf-keras-datasets/train-images-idx3-ubyte.gz\n",
      "26427392/26421880 [==============================] - 0s 0us/step\n",
      "Downloading data from https://storage.googleapis.com/tensorflow/tf-keras-datasets/t10k-labels-idx1-ubyte.gz\n",
      "8192/5148 [===============================================] - 0s 0us/step\n",
      "Downloading data from https://storage.googleapis.com/tensorflow/tf-keras-datasets/t10k-images-idx3-ubyte.gz\n",
      "4423680/4422102 [==============================] - 0s 0us/step\n",
      "(60000, 32, 32, 1)\n",
      "(10000, 32, 32, 1)\n"
     ]
    }
   ],
   "source": [
    "(x_train, y_train), (x_test, y_test) = fashion_mnist.load_data() \n",
    "x_train = x_train/255 \n",
    "x_test = x_test/255 \n",
    "\n",
    "# resize\n",
    "x_train = np.expand_dims(x_train, axis=-1)\n",
    "x_train = tf.image.resize(x_train, [32,32]) # if we want to resize \n",
    "\n",
    "x_test = np.expand_dims(x_test, axis=-1)\n",
    "x_test = tf.image.resize(x_test, [32,32]) # if we want to resize \n",
    "\n",
    "print(x_train.shape)\n",
    "print(x_test.shape)\n",
    "\n",
    "y_train = to_categorical(y_train, num_classes)\n",
    "y_test = to_categorical(y_test, num_classes) \n",
    "input_shape=x_train.shape[1:]"
   ]
  },
  {
   "cell_type": "code",
   "execution_count": 6,
   "metadata": {
    "id": "YkT1Gkmuzi8y"
   },
   "outputs": [],
   "source": [
    "#datagen = ImageDataGenerator(rotation_range=10, horizontal_flip=True, zoom_range=0.1, width_shift_range=0.05, height_shift_range=0.05)\n",
    "#augmented_data = datagen.flow(x_train, y_train)"
   ]
  },
  {
   "cell_type": "code",
   "execution_count": 7,
   "metadata": {
    "colab": {
     "base_uri": "https://localhost:8080/"
    },
    "id": "geI2YTs_8Sfz",
    "outputId": "4d28d85f-af1c-4b6c-9d10-bae4e08b4972"
   },
   "outputs": [
    {
     "name": "stdout",
     "output_type": "stream",
     "text": [
      "Model: \"sequential\"\n",
      "_________________________________________________________________\n",
      "Layer (type)                 Output Shape              Param #   \n",
      "=================================================================\n",
      "conv2d (Conv2D)              (None, 16, 16, 32)        320       \n",
      "_________________________________________________________________\n",
      "batch_normalization (BatchNo (None, 16, 16, 32)        96        \n",
      "_________________________________________________________________\n",
      "re_lu (ReLU)                 (None, 16, 16, 32)        0         \n",
      "_________________________________________________________________\n",
      "depthwise_conv2d (DepthwiseC (None, 16, 16, 32)        320       \n",
      "_________________________________________________________________\n",
      "batch_normalization_1 (Batch (None, 16, 16, 32)        96        \n",
      "_________________________________________________________________\n",
      "re_lu_1 (ReLU)               (None, 16, 16, 32)        0         \n",
      "_________________________________________________________________\n",
      "conv2d_1 (Conv2D)            (None, 16, 16, 64)        2112      \n",
      "_________________________________________________________________\n",
      "batch_normalization_2 (Batch (None, 16, 16, 64)        192       \n",
      "_________________________________________________________________\n",
      "re_lu_2 (ReLU)               (None, 16, 16, 64)        0         \n",
      "_________________________________________________________________\n",
      "depthwise_conv2d_1 (Depthwis (None, 8, 8, 64)          640       \n",
      "_________________________________________________________________\n",
      "batch_normalization_3 (Batch (None, 8, 8, 64)          192       \n",
      "_________________________________________________________________\n",
      "re_lu_3 (ReLU)               (None, 8, 8, 64)          0         \n",
      "_________________________________________________________________\n",
      "conv2d_2 (Conv2D)            (None, 8, 8, 128)         8320      \n",
      "_________________________________________________________________\n",
      "batch_normalization_4 (Batch (None, 8, 8, 128)         384       \n",
      "_________________________________________________________________\n",
      "re_lu_4 (ReLU)               (None, 8, 8, 128)         0         \n",
      "_________________________________________________________________\n",
      "depthwise_conv2d_2 (Depthwis (None, 8, 8, 128)         1280      \n",
      "_________________________________________________________________\n",
      "batch_normalization_5 (Batch (None, 8, 8, 128)         384       \n",
      "_________________________________________________________________\n",
      "re_lu_5 (ReLU)               (None, 8, 8, 128)         0         \n",
      "_________________________________________________________________\n",
      "conv2d_3 (Conv2D)            (None, 8, 8, 128)         16512     \n",
      "_________________________________________________________________\n",
      "batch_normalization_6 (Batch (None, 8, 8, 128)         384       \n",
      "_________________________________________________________________\n",
      "re_lu_6 (ReLU)               (None, 8, 8, 128)         0         \n",
      "_________________________________________________________________\n",
      "depthwise_conv2d_3 (Depthwis (None, 4, 4, 128)         1280      \n",
      "_________________________________________________________________\n",
      "batch_normalization_7 (Batch (None, 4, 4, 128)         384       \n",
      "_________________________________________________________________\n",
      "re_lu_7 (ReLU)               (None, 4, 4, 128)         0         \n",
      "_________________________________________________________________\n",
      "conv2d_4 (Conv2D)            (None, 4, 4, 256)         33024     \n",
      "_________________________________________________________________\n",
      "batch_normalization_8 (Batch (None, 4, 4, 256)         768       \n",
      "_________________________________________________________________\n",
      "re_lu_8 (ReLU)               (None, 4, 4, 256)         0         \n",
      "_________________________________________________________________\n",
      "depthwise_conv2d_4 (Depthwis (None, 4, 4, 256)         2560      \n",
      "_________________________________________________________________\n",
      "batch_normalization_9 (Batch (None, 4, 4, 256)         768       \n",
      "_________________________________________________________________\n",
      "re_lu_9 (ReLU)               (None, 4, 4, 256)         0         \n",
      "_________________________________________________________________\n",
      "conv2d_5 (Conv2D)            (None, 4, 4, 256)         65792     \n",
      "_________________________________________________________________\n",
      "batch_normalization_10 (Batc (None, 4, 4, 256)         768       \n",
      "_________________________________________________________________\n",
      "re_lu_10 (ReLU)              (None, 4, 4, 256)         0         \n",
      "_________________________________________________________________\n",
      "depthwise_conv2d_5 (Depthwis (None, 2, 2, 256)         2560      \n",
      "_________________________________________________________________\n",
      "batch_normalization_11 (Batc (None, 2, 2, 256)         768       \n",
      "_________________________________________________________________\n",
      "re_lu_11 (ReLU)              (None, 2, 2, 256)         0         \n",
      "_________________________________________________________________\n",
      "conv2d_6 (Conv2D)            (None, 2, 2, 512)         131584    \n",
      "_________________________________________________________________\n",
      "batch_normalization_12 (Batc (None, 2, 2, 512)         1536      \n",
      "_________________________________________________________________\n",
      "re_lu_12 (ReLU)              (None, 2, 2, 512)         0         \n",
      "_________________________________________________________________\n",
      "depthwise_conv2d_6 (Depthwis (None, 2, 2, 512)         5120      \n",
      "_________________________________________________________________\n",
      "batch_normalization_13 (Batc (None, 2, 2, 512)         1536      \n",
      "_________________________________________________________________\n",
      "re_lu_13 (ReLU)              (None, 2, 2, 512)         0         \n",
      "_________________________________________________________________\n",
      "conv2d_7 (Conv2D)            (None, 2, 2, 512)         262656    \n",
      "_________________________________________________________________\n",
      "batch_normalization_14 (Batc (None, 2, 2, 512)         1536      \n",
      "_________________________________________________________________\n",
      "re_lu_14 (ReLU)              (None, 2, 2, 512)         0         \n",
      "_________________________________________________________________\n",
      "depthwise_conv2d_7 (Depthwis (None, 2, 2, 512)         5120      \n",
      "_________________________________________________________________\n",
      "batch_normalization_15 (Batc (None, 2, 2, 512)         1536      \n",
      "_________________________________________________________________\n",
      "re_lu_15 (ReLU)              (None, 2, 2, 512)         0         \n",
      "_________________________________________________________________\n",
      "conv2d_8 (Conv2D)            (None, 2, 2, 512)         262656    \n",
      "_________________________________________________________________\n",
      "batch_normalization_16 (Batc (None, 2, 2, 512)         1536      \n",
      "_________________________________________________________________\n",
      "re_lu_16 (ReLU)              (None, 2, 2, 512)         0         \n",
      "_________________________________________________________________\n",
      "depthwise_conv2d_8 (Depthwis (None, 2, 2, 512)         5120      \n",
      "_________________________________________________________________\n",
      "batch_normalization_17 (Batc (None, 2, 2, 512)         1536      \n",
      "_________________________________________________________________\n",
      "re_lu_17 (ReLU)              (None, 2, 2, 512)         0         \n",
      "_________________________________________________________________\n",
      "conv2d_9 (Conv2D)            (None, 2, 2, 512)         262656    \n",
      "_________________________________________________________________\n",
      "batch_normalization_18 (Batc (None, 2, 2, 512)         1536      \n",
      "_________________________________________________________________\n",
      "re_lu_18 (ReLU)              (None, 2, 2, 512)         0         \n",
      "_________________________________________________________________\n",
      "depthwise_conv2d_9 (Depthwis (None, 2, 2, 512)         5120      \n",
      "_________________________________________________________________\n",
      "batch_normalization_19 (Batc (None, 2, 2, 512)         1536      \n",
      "_________________________________________________________________\n",
      "re_lu_19 (ReLU)              (None, 2, 2, 512)         0         \n",
      "_________________________________________________________________\n",
      "conv2d_10 (Conv2D)           (None, 2, 2, 512)         262656    \n",
      "_________________________________________________________________\n",
      "batch_normalization_20 (Batc (None, 2, 2, 512)         1536      \n",
      "_________________________________________________________________\n",
      "re_lu_20 (ReLU)              (None, 2, 2, 512)         0         \n",
      "_________________________________________________________________\n",
      "depthwise_conv2d_10 (Depthwi (None, 2, 2, 512)         5120      \n",
      "_________________________________________________________________\n",
      "batch_normalization_21 (Batc (None, 2, 2, 512)         1536      \n",
      "_________________________________________________________________\n",
      "re_lu_21 (ReLU)              (None, 2, 2, 512)         0         \n",
      "_________________________________________________________________\n",
      "conv2d_11 (Conv2D)           (None, 2, 2, 512)         262656    \n",
      "_________________________________________________________________\n",
      "batch_normalization_22 (Batc (None, 2, 2, 512)         1536      \n",
      "_________________________________________________________________\n",
      "re_lu_22 (ReLU)              (None, 2, 2, 512)         0         \n",
      "_________________________________________________________________\n",
      "depthwise_conv2d_11 (Depthwi (None, 1, 1, 512)         5120      \n",
      "_________________________________________________________________\n",
      "batch_normalization_23 (Batc (None, 1, 1, 512)         1536      \n",
      "_________________________________________________________________\n",
      "re_lu_23 (ReLU)              (None, 1, 1, 512)         0         \n",
      "_________________________________________________________________\n",
      "conv2d_12 (Conv2D)           (None, 1, 1, 1024)        525312    \n",
      "_________________________________________________________________\n",
      "batch_normalization_24 (Batc (None, 1, 1, 1024)        3072      \n",
      "_________________________________________________________________\n",
      "re_lu_24 (ReLU)              (None, 1, 1, 1024)        0         \n",
      "_________________________________________________________________\n",
      "depthwise_conv2d_12 (Depthwi (None, 1, 1, 1024)        10240     \n",
      "_________________________________________________________________\n",
      "batch_normalization_25 (Batc (None, 1, 1, 1024)        3072      \n",
      "_________________________________________________________________\n",
      "re_lu_25 (ReLU)              (None, 1, 1, 1024)        0         \n",
      "_________________________________________________________________\n",
      "conv2d_13 (Conv2D)           (None, 1, 1, 1024)        1049600   \n",
      "_________________________________________________________________\n",
      "batch_normalization_26 (Batc (None, 1, 1, 1024)        3072      \n",
      "_________________________________________________________________\n",
      "re_lu_26 (ReLU)              (None, 1, 1, 1024)        0         \n",
      "_________________________________________________________________\n",
      "average_pooling2d (AveragePo (None, 1, 1, 1024)        0         \n",
      "_________________________________________________________________\n",
      "flatten (Flatten)            (None, 1024)              0         \n",
      "_________________________________________________________________\n",
      "dense (Dense)                (None, 10)                10250     \n",
      "_________________________________________________________________\n",
      "softmax (Softmax)            (None, 10)                0         \n",
      "=================================================================\n",
      "Total params: 3,238,538\n",
      "Trainable params: 3,216,650\n",
      "Non-trainable params: 21,888\n",
      "_________________________________________________________________\n",
      "None\n"
     ]
    }
   ],
   "source": [
    "def mobilenet(input_size=(32, 32), l2_decay=0.1, N_CLASSES=10):\n",
    "    \"\"\"\n",
    "    Builds the MobileNet model.\n",
    "    :param tuple input_size: The height and width (in that order) of the\n",
    "        model input.\n",
    "    :param float l2_decay: The amount of L2 weight decay to add to the\n",
    "        loss. Applies only to kernels, not biases.\n",
    "    :return tensorflow.keras.Sequential: A MobileNet model.\n",
    "    \"\"\"\n",
    "\n",
    "    model = Sequential()\n",
    "\n",
    "    def _add_bn_relu():\n",
    "        model.add(BatchNormalization(scale=False))\n",
    "        model.add(ReLU())\n",
    "\n",
    "    def _add_depthwise_block(strides=1):\n",
    "        model.add(DepthwiseConv2D(\n",
    "            (3, 3),\n",
    "            strides=strides,\n",
    "            padding='same',\n",
    "            kernel_regularizer=l2(l=l2_decay)))\n",
    "        _add_bn_relu()\n",
    "\n",
    "    def _add_pointwise_block(filters):\n",
    "        model.add(Conv2D(filters, (1, 1), kernel_regularizer=l2(l=l2_decay)))\n",
    "        _add_bn_relu()\n",
    "\n",
    "    model.add(Conv2D(\n",
    "        32, (3, 3),\n",
    "        strides=2,\n",
    "        padding='same',\n",
    "        kernel_regularizer=l2(l=l2_decay),\n",
    "        input_shape=input_size + (1,))) # change the channel dimension here\n",
    "    _add_bn_relu()\n",
    "    _add_depthwise_block()\n",
    "    _add_pointwise_block(64)\n",
    "\n",
    "    _add_depthwise_block(strides=2)\n",
    "    _add_pointwise_block(128)\n",
    "    _add_depthwise_block()\n",
    "    _add_pointwise_block(128)\n",
    "\n",
    "    _add_depthwise_block(strides=2)\n",
    "    _add_pointwise_block(256)\n",
    "    _add_depthwise_block()\n",
    "    _add_pointwise_block(256)\n",
    "\n",
    "    _add_depthwise_block(strides=2)\n",
    "    _add_pointwise_block(512)\n",
    "    for _ in range(5):\n",
    "        _add_depthwise_block()\n",
    "        _add_pointwise_block(512)\n",
    "\n",
    "    _add_depthwise_block(strides=2)\n",
    "    _add_pointwise_block(1024)\n",
    "    _add_depthwise_block()\n",
    "    _add_pointwise_block(1024)\n",
    "\n",
    "    model.add(AveragePooling2D(pool_size=(input_size[0] // 32, input_size[1] // 32)))\n",
    "\n",
    "    model.add(Flatten())\n",
    "    model.add(Dense(N_CLASSES, kernel_regularizer=l2(l=l2_decay)))\n",
    "    model.add(Softmax())\n",
    "\n",
    "    return model\n",
    "\n",
    "\n",
    "model = mobilenet(input_size=(32, 32), l2_decay=0.001, N_CLASSES=10)\n",
    "print(model.summary())          "
   ]
  },
  {
   "cell_type": "code",
   "execution_count": 8,
   "metadata": {
    "id": "9I3Q5TJ-WFee"
   },
   "outputs": [],
   "source": [
    "model.compile(loss='categorical_crossentropy', optimizer=Adam(learning_rate=0.001), metrics=['accuracy'])"
   ]
  },
  {
   "cell_type": "code",
   "execution_count": 9,
   "metadata": {
    "id": "3yEUNWxvWgrl"
   },
   "outputs": [],
   "source": [
    "#save_dir = os.path.join(os.getcwd(), 'saved_models') \n",
    "#model_name = 'cifar10_%s_model_tf.{epoch:03d}.h5'%model_type\n",
    "#if not os.path.isdir(save_dir):\n",
    "#    os.makedirs(save_dir)\n",
    "#filepath = os.path.join(save_dir, model_name)"
   ]
  },
  {
   "cell_type": "code",
   "execution_count": 10,
   "metadata": {
    "id": "kJ_VTtsJXTWg"
   },
   "outputs": [],
   "source": [
    "#checkpoint = ModelCheckpoint(filepath=filepath, monitor='val_accuracy', verbose=2, save_best_only=True)"
   ]
  },
  {
   "cell_type": "code",
   "execution_count": 11,
   "metadata": {
    "id": "8FB9ARxQXca9"
   },
   "outputs": [],
   "source": [
    "#callbacks = [checkpoint] "
   ]
  },
  {
   "cell_type": "code",
   "execution_count": 13,
   "metadata": {
    "colab": {
     "base_uri": "https://localhost:8080/"
    },
    "id": "2vC3MVxoYXjh",
    "outputId": "f7a90c3c-bbec-4502-b376-a4ca15b3c8dc",
    "scrolled": false
   },
   "outputs": [
    {
     "name": "stdout",
     "output_type": "stream",
     "text": [
      "Epoch 1/100\n",
      "1875/1875 - 60s - loss: 3.9519 - accuracy: 0.7476 - val_loss: 3.4530 - val_accuracy: 0.6167\n",
      "Epoch 2/100\n",
      "1875/1875 - 26s - loss: 1.6964 - accuracy: 0.8232 - val_loss: 2.0762 - val_accuracy: 0.7045\n",
      "Epoch 3/100\n",
      "1875/1875 - 26s - loss: 1.1455 - accuracy: 0.8376 - val_loss: 1.1221 - val_accuracy: 0.8297\n",
      "Epoch 4/100\n",
      "1875/1875 - 26s - loss: 0.9851 - accuracy: 0.8476 - val_loss: 0.9360 - val_accuracy: 0.8490\n",
      "Epoch 5/100\n",
      "1875/1875 - 27s - loss: 0.8462 - accuracy: 0.8621 - val_loss: 0.8555 - val_accuracy: 0.8478\n",
      "Epoch 6/100\n",
      "1875/1875 - 26s - loss: 0.7621 - accuracy: 0.8707 - val_loss: 0.6797 - val_accuracy: 0.8880\n",
      "Epoch 7/100\n",
      "1875/1875 - 26s - loss: 0.6816 - accuracy: 0.8812 - val_loss: 0.7028 - val_accuracy: 0.8720\n",
      "Epoch 8/100\n",
      "1875/1875 - 26s - loss: 0.6408 - accuracy: 0.8857 - val_loss: 0.6801 - val_accuracy: 0.8527\n",
      "Epoch 9/100\n",
      "1875/1875 - 27s - loss: 0.6110 - accuracy: 0.8893 - val_loss: 0.5929 - val_accuracy: 0.8805\n",
      "Epoch 10/100\n",
      "1875/1875 - 25s - loss: 0.5664 - accuracy: 0.8953 - val_loss: 0.5529 - val_accuracy: 0.8892\n",
      "Epoch 11/100\n",
      "1875/1875 - 26s - loss: 0.5420 - accuracy: 0.8975 - val_loss: 0.5823 - val_accuracy: 0.8805\n",
      "Epoch 12/100\n",
      "1875/1875 - 26s - loss: 0.5177 - accuracy: 0.8989 - val_loss: 0.5418 - val_accuracy: 0.8925\n",
      "Epoch 13/100\n",
      "1875/1875 - 25s - loss: 0.5101 - accuracy: 0.9012 - val_loss: 0.4720 - val_accuracy: 0.9100\n",
      "Epoch 14/100\n",
      "1875/1875 - 27s - loss: 0.4831 - accuracy: 0.9060 - val_loss: 0.4942 - val_accuracy: 0.8958\n",
      "Epoch 15/100\n",
      "1875/1875 - 25s - loss: 0.4783 - accuracy: 0.9049 - val_loss: 0.5080 - val_accuracy: 0.9002\n",
      "Epoch 16/100\n",
      "1875/1875 - 25s - loss: 0.4790 - accuracy: 0.9036 - val_loss: 0.4551 - val_accuracy: 0.9038\n",
      "Epoch 17/100\n",
      "1875/1875 - 26s - loss: 0.4545 - accuracy: 0.9101 - val_loss: 0.4681 - val_accuracy: 0.8960\n",
      "Epoch 18/100\n",
      "1875/1875 - 25s - loss: 0.4425 - accuracy: 0.9122 - val_loss: 0.4455 - val_accuracy: 0.9120\n",
      "Epoch 19/100\n",
      "1875/1875 - 26s - loss: 0.4483 - accuracy: 0.9083 - val_loss: 0.5657 - val_accuracy: 0.8775\n",
      "Epoch 20/100\n",
      "1875/1875 - 25s - loss: 0.4292 - accuracy: 0.9126 - val_loss: 0.4480 - val_accuracy: 0.9005\n",
      "Epoch 21/100\n",
      "1875/1875 - 25s - loss: 0.4234 - accuracy: 0.9134 - val_loss: 0.4825 - val_accuracy: 0.8872\n",
      "Epoch 22/100\n",
      "1875/1875 - 26s - loss: 0.4238 - accuracy: 0.9128 - val_loss: 0.4179 - val_accuracy: 0.9130\n",
      "Epoch 23/100\n",
      "1875/1875 - 27s - loss: 0.4106 - accuracy: 0.9165 - val_loss: 0.4431 - val_accuracy: 0.9043\n",
      "Epoch 24/100\n",
      "1875/1875 - 25s - loss: 0.4102 - accuracy: 0.9160 - val_loss: 0.4317 - val_accuracy: 0.9082\n",
      "Epoch 25/100\n",
      "1875/1875 - 26s - loss: 0.3980 - accuracy: 0.9162 - val_loss: 0.4176 - val_accuracy: 0.9107\n",
      "Epoch 26/100\n",
      "1875/1875 - 26s - loss: 0.3936 - accuracy: 0.9183 - val_loss: 0.4081 - val_accuracy: 0.9108\n",
      "Epoch 27/100\n",
      "1875/1875 - 25s - loss: 0.3914 - accuracy: 0.9188 - val_loss: 0.4381 - val_accuracy: 0.9013\n",
      "Epoch 28/100\n",
      "1875/1875 - 27s - loss: 0.3932 - accuracy: 0.9179 - val_loss: 0.4334 - val_accuracy: 0.9032\n",
      "Epoch 29/100\n",
      "1875/1875 - 26s - loss: 0.3915 - accuracy: 0.9175 - val_loss: 0.4356 - val_accuracy: 0.8973\n",
      "Epoch 30/100\n",
      "1875/1875 - 26s - loss: 0.3832 - accuracy: 0.9193 - val_loss: 0.4141 - val_accuracy: 0.9085\n",
      "Epoch 31/100\n",
      "1875/1875 - 26s - loss: 0.3811 - accuracy: 0.9188 - val_loss: 0.4160 - val_accuracy: 0.9037\n",
      "Epoch 32/100\n",
      "1875/1875 - 25s - loss: 0.3715 - accuracy: 0.9211 - val_loss: 0.4241 - val_accuracy: 0.9017\n",
      "Epoch 33/100\n",
      "1875/1875 - 26s - loss: 0.3705 - accuracy: 0.9211 - val_loss: 0.4267 - val_accuracy: 0.9052\n",
      "Epoch 34/100\n",
      "1875/1875 - 26s - loss: 0.3712 - accuracy: 0.9207 - val_loss: 0.4137 - val_accuracy: 0.9118\n",
      "Epoch 35/100\n",
      "1875/1875 - 26s - loss: 0.3692 - accuracy: 0.9210 - val_loss: 0.3821 - val_accuracy: 0.9205\n",
      "Epoch 36/100\n",
      "1875/1875 - 25s - loss: 0.3628 - accuracy: 0.9217 - val_loss: 0.3944 - val_accuracy: 0.9123\n",
      "Epoch 37/100\n",
      "1875/1875 - 27s - loss: 0.3645 - accuracy: 0.9219 - val_loss: 0.3980 - val_accuracy: 0.9113\n",
      "Epoch 38/100\n",
      "1875/1875 - 25s - loss: 0.3566 - accuracy: 0.9226 - val_loss: 0.3922 - val_accuracy: 0.9087\n",
      "Epoch 39/100\n",
      "1875/1875 - 25s - loss: 0.3546 - accuracy: 0.9236 - val_loss: 0.3865 - val_accuracy: 0.9147\n",
      "Epoch 40/100\n",
      "1875/1875 - 26s - loss: 0.3568 - accuracy: 0.9239 - val_loss: 0.4031 - val_accuracy: 0.9058\n",
      "Epoch 41/100\n",
      "1875/1875 - 25s - loss: 0.3512 - accuracy: 0.9228 - val_loss: 0.3700 - val_accuracy: 0.9160\n",
      "Epoch 42/100\n",
      "1875/1875 - 26s - loss: 0.3549 - accuracy: 0.9226 - val_loss: 0.3929 - val_accuracy: 0.9158\n",
      "Epoch 43/100\n",
      "1875/1875 - 26s - loss: 0.3485 - accuracy: 0.9247 - val_loss: 0.3842 - val_accuracy: 0.9087\n",
      "Epoch 44/100\n",
      "1875/1875 - 26s - loss: 0.3481 - accuracy: 0.9241 - val_loss: 0.3953 - val_accuracy: 0.9080\n",
      "Epoch 45/100\n",
      "1875/1875 - 26s - loss: 0.3471 - accuracy: 0.9248 - val_loss: 0.3754 - val_accuracy: 0.9138\n",
      "Epoch 46/100\n",
      "1875/1875 - 27s - loss: 0.3403 - accuracy: 0.9263 - val_loss: 0.3976 - val_accuracy: 0.9107\n",
      "Epoch 47/100\n",
      "1875/1875 - 25s - loss: 0.3433 - accuracy: 0.9260 - val_loss: 0.3668 - val_accuracy: 0.9172\n",
      "Epoch 48/100\n",
      "1875/1875 - 26s - loss: 0.3388 - accuracy: 0.9257 - val_loss: 0.4403 - val_accuracy: 0.8943\n",
      "Epoch 49/100\n",
      "1875/1875 - 26s - loss: 0.3323 - accuracy: 0.9273 - val_loss: 0.4062 - val_accuracy: 0.8912\n",
      "Epoch 50/100\n",
      "1875/1875 - 25s - loss: 0.3377 - accuracy: 0.9257 - val_loss: 0.3931 - val_accuracy: 0.9077\n",
      "Epoch 51/100\n",
      "1875/1875 - 26s - loss: 0.3326 - accuracy: 0.9266 - val_loss: 0.3776 - val_accuracy: 0.9072\n",
      "Epoch 52/100\n",
      "1875/1875 - 25s - loss: 0.3400 - accuracy: 0.9244 - val_loss: 0.3962 - val_accuracy: 0.9027\n",
      "Epoch 53/100\n",
      "1875/1875 - 25s - loss: 0.3317 - accuracy: 0.9273 - val_loss: 0.3840 - val_accuracy: 0.9113\n",
      "Epoch 54/100\n",
      "1875/1875 - 26s - loss: 0.3265 - accuracy: 0.9281 - val_loss: 0.3647 - val_accuracy: 0.9122\n",
      "Epoch 55/100\n",
      "1875/1875 - 25s - loss: 0.3313 - accuracy: 0.9274 - val_loss: 0.3678 - val_accuracy: 0.9122\n",
      "Epoch 56/100\n",
      "1875/1875 - 26s - loss: 0.3308 - accuracy: 0.9272 - val_loss: 0.3679 - val_accuracy: 0.9143\n",
      "Epoch 57/100\n",
      "1875/1875 - 25s - loss: 0.3252 - accuracy: 0.9285 - val_loss: 0.3933 - val_accuracy: 0.9082\n",
      "Epoch 58/100\n",
      "1875/1875 - 25s - loss: 0.3238 - accuracy: 0.9276 - val_loss: 0.3906 - val_accuracy: 0.8990\n",
      "Epoch 59/100\n",
      "1875/1875 - 27s - loss: 0.3254 - accuracy: 0.9261 - val_loss: 0.3590 - val_accuracy: 0.9180\n",
      "Epoch 60/100\n",
      "1875/1875 - 27s - loss: 0.3211 - accuracy: 0.9287 - val_loss: 0.3682 - val_accuracy: 0.9065\n",
      "Epoch 61/100\n",
      "1875/1875 - 25s - loss: 0.3260 - accuracy: 0.9267 - val_loss: 0.3906 - val_accuracy: 0.9080\n",
      "Epoch 62/100\n",
      "1875/1875 - 26s - loss: 0.3185 - accuracy: 0.9306 - val_loss: 0.3894 - val_accuracy: 0.9040\n",
      "Epoch 63/100\n",
      "1875/1875 - 26s - loss: 0.3177 - accuracy: 0.9302 - val_loss: 0.3713 - val_accuracy: 0.9088\n",
      "Epoch 64/100\n",
      "1875/1875 - 25s - loss: 0.3198 - accuracy: 0.9292 - val_loss: 0.3520 - val_accuracy: 0.9167\n",
      "Epoch 65/100\n",
      "1875/1875 - 26s - loss: 0.3174 - accuracy: 0.9286 - val_loss: 0.3484 - val_accuracy: 0.9157\n",
      "Epoch 66/100\n",
      "1875/1875 - 26s - loss: 0.3158 - accuracy: 0.9292 - val_loss: 0.3750 - val_accuracy: 0.9090\n",
      "Epoch 67/100\n",
      "1875/1875 - 25s - loss: 0.3149 - accuracy: 0.9299 - val_loss: 0.3579 - val_accuracy: 0.9138\n",
      "Epoch 68/100\n",
      "1875/1875 - 26s - loss: 0.3147 - accuracy: 0.9298 - val_loss: 0.3842 - val_accuracy: 0.9100\n",
      "Epoch 69/100\n",
      "1875/1875 - 25s - loss: 0.3159 - accuracy: 0.9293 - val_loss: 0.3538 - val_accuracy: 0.9195\n",
      "Epoch 70/100\n",
      "1875/1875 - 26s - loss: 0.3154 - accuracy: 0.9306 - val_loss: 0.3635 - val_accuracy: 0.9118\n",
      "Epoch 71/100\n",
      "1875/1875 - 27s - loss: 0.3151 - accuracy: 0.9293 - val_loss: 0.3861 - val_accuracy: 0.9100\n",
      "Epoch 72/100\n",
      "1875/1875 - 27s - loss: 0.3157 - accuracy: 0.9287 - val_loss: 0.3577 - val_accuracy: 0.9120\n",
      "Epoch 73/100\n",
      "1875/1875 - 25s - loss: 0.3151 - accuracy: 0.9285 - val_loss: 0.3644 - val_accuracy: 0.9127\n",
      "Epoch 74/100\n",
      "1875/1875 - 27s - loss: 0.3054 - accuracy: 0.9313 - val_loss: 0.3661 - val_accuracy: 0.9110\n",
      "Epoch 75/100\n",
      "1875/1875 - 25s - loss: 0.3102 - accuracy: 0.9301 - val_loss: 0.3512 - val_accuracy: 0.9188\n",
      "Epoch 76/100\n",
      "1875/1875 - 26s - loss: 0.3078 - accuracy: 0.9306 - val_loss: 0.3622 - val_accuracy: 0.9100\n",
      "Epoch 77/100\n",
      "1875/1875 - 26s - loss: 0.3104 - accuracy: 0.9291 - val_loss: 0.3627 - val_accuracy: 0.9185\n",
      "Epoch 78/100\n",
      "1875/1875 - 25s - loss: 0.3096 - accuracy: 0.9309 - val_loss: 0.3828 - val_accuracy: 0.9045\n",
      "Epoch 79/100\n",
      "1875/1875 - 26s - loss: 0.3043 - accuracy: 0.9314 - val_loss: 0.4629 - val_accuracy: 0.8987\n",
      "Epoch 80/100\n",
      "1875/1875 - 26s - loss: 0.3044 - accuracy: 0.9320 - val_loss: 0.3790 - val_accuracy: 0.9087\n",
      "Epoch 81/100\n",
      "1875/1875 - 25s - loss: 0.3079 - accuracy: 0.9302 - val_loss: 0.4096 - val_accuracy: 0.9045\n",
      "Epoch 82/100\n",
      "1875/1875 - 26s - loss: 0.3052 - accuracy: 0.9303 - val_loss: 0.3585 - val_accuracy: 0.9175\n",
      "Epoch 83/100\n",
      "1875/1875 - 25s - loss: 0.3051 - accuracy: 0.9308 - val_loss: 0.4226 - val_accuracy: 0.9045\n",
      "Epoch 84/100\n",
      "1875/1875 - 26s - loss: 0.3040 - accuracy: 0.9321 - val_loss: 0.3608 - val_accuracy: 0.9115\n",
      "Epoch 85/100\n",
      "1875/1875 - 26s - loss: 0.3050 - accuracy: 0.9315 - val_loss: 0.3415 - val_accuracy: 0.9172\n",
      "Epoch 86/100\n",
      "1875/1875 - 26s - loss: 0.3014 - accuracy: 0.9332 - val_loss: 0.3526 - val_accuracy: 0.9158\n",
      "Epoch 87/100\n",
      "1875/1875 - 25s - loss: 0.2977 - accuracy: 0.9331 - val_loss: 0.3509 - val_accuracy: 0.9170\n",
      "Epoch 88/100\n",
      "1875/1875 - 26s - loss: 0.3006 - accuracy: 0.9321 - val_loss: 0.3408 - val_accuracy: 0.9178\n",
      "Epoch 89/100\n",
      "1875/1875 - 25s - loss: 0.3040 - accuracy: 0.9318 - val_loss: 0.3425 - val_accuracy: 0.9160\n",
      "Epoch 90/100\n",
      "1875/1875 - 25s - loss: 0.2979 - accuracy: 0.9332 - val_loss: 0.3771 - val_accuracy: 0.9103\n",
      "Epoch 91/100\n",
      "1875/1875 - 27s - loss: 0.3046 - accuracy: 0.9319 - val_loss: 0.3568 - val_accuracy: 0.9108\n",
      "Epoch 92/100\n",
      "1875/1875 - 25s - loss: 0.3026 - accuracy: 0.9327 - val_loss: 0.3455 - val_accuracy: 0.9193\n",
      "Epoch 93/100\n",
      "1875/1875 - 26s - loss: 0.3010 - accuracy: 0.9327 - val_loss: 0.4129 - val_accuracy: 0.9003\n",
      "Epoch 94/100\n",
      "1875/1875 - 26s - loss: 0.3007 - accuracy: 0.9323 - val_loss: 0.3632 - val_accuracy: 0.9168\n",
      "Epoch 95/100\n",
      "1875/1875 - 26s - loss: 0.3014 - accuracy: 0.9329 - val_loss: 0.3946 - val_accuracy: 0.9050\n",
      "Epoch 96/100\n",
      "1875/1875 - 27s - loss: 0.2939 - accuracy: 0.9331 - val_loss: 0.3696 - val_accuracy: 0.9075\n",
      "Epoch 97/100\n",
      "1875/1875 - 26s - loss: 0.2992 - accuracy: 0.9327 - val_loss: 0.3324 - val_accuracy: 0.9217\n",
      "Epoch 98/100\n",
      "1875/1875 - 25s - loss: 0.2973 - accuracy: 0.9321 - val_loss: 0.3523 - val_accuracy: 0.9152\n",
      "Epoch 99/100\n",
      "1875/1875 - 25s - loss: 0.2939 - accuracy: 0.9340 - val_loss: 0.3599 - val_accuracy: 0.9140\n",
      "Epoch 100/100\n",
      "WARNING:tensorflow:Your input ran out of data; interrupting training. Make sure that your dataset or generator can generate at least `steps_per_epoch * epochs` batches (in this case, 187500 batches). You may need to use the repeat() function when building your dataset.\n",
      "1875/1875 - 10s - loss: 0.2948 - accuracy: 0.9329 - val_loss: 0.3482 - val_accuracy: 0.9157\n"
     ]
    }
   ],
   "source": [
    "batch_size = 32 \n",
    "steps = int(x_train.shape[0]/batch_size) \n",
    "\n",
    "history = model.fit(x_train, y_train, steps_per_epoch=steps, epochs=epochs, verbose=2, validation_split=0.1)"
   ]
  },
  {
   "cell_type": "code",
   "execution_count": 14,
   "metadata": {
    "colab": {
     "base_uri": "https://localhost:8080/",
     "height": 281
    },
    "id": "cc0aq8wk5m6F",
    "outputId": "c76c9f1a-ab61-4323-ae04-9126f0831642"
   },
   "outputs": [
    {
     "data": {
      "image/png": "[encoded data removed]",
      "text/plain": [
       "<Figure size 432x288 with 1 Axes>"
      ]
     },
     "metadata": {
      "needs_background": "light",
      "tags": []
     },
     "output_type": "display_data"
    }
   ],
   "source": [
    "import matplotlib.pyplot as plt\n",
    "plt.plot(history.history['loss'])\n",
    "plt.plot(history.history['val_loss'])\n",
    "plt.title('model loss performance')\n",
    "plt.legend(['train loss', 'validation loss'])\n",
    "plt.show()"
   ]
  },
  {
   "cell_type": "code",
   "execution_count": 15,
   "metadata": {
    "colab": {
     "base_uri": "https://localhost:8080/",
     "height": 281
    },
    "id": "bOGWA0NL6UF_",
    "outputId": "f58d5e58-d72f-4c50-aee5-e2e374959ed6"
   },
   "outputs": [
    {
     "data": {
      "image/png": "[encoded data removed]",
      "text/plain": [
       "<Figure size 432x288 with 1 Axes>"
      ]
     },
     "metadata": {
      "needs_background": "light",
      "tags": []
     },
     "output_type": "display_data"
    }
   ],
   "source": [
    "plt.plot(history.history['accuracy'])\n",
    "plt.plot(history.history['val_accuracy'])\n",
    "plt.title('model accuracy performance')\n",
    "plt.legend(['train accuracy', 'validation accuracy'])\n",
    "plt.show()"
   ]
  },
  {
   "cell_type": "code",
   "execution_count": 16,
   "metadata": {
    "colab": {
     "base_uri": "https://localhost:8080/"
    },
    "id": "KSGatV59isQC",
    "outputId": "0f06d85a-cf92-403b-90a9-7c70f5bd0cd5"
   },
   "outputs": [
    {
     "name": "stdout",
     "output_type": "stream",
     "text": [
      "313/313 [==============================] - 2s 6ms/step - loss: 0.3568 - accuracy: 0.9101\n"
     ]
    },
    {
     "data": {
      "text/plain": [
       "[0.3567757308483124, 0.910099983215332]"
      ]
     },
     "execution_count": 16,
     "metadata": {
      "tags": []
     },
     "output_type": "execute_result"
    }
   ],
   "source": [
    "model.evaluate(x_test, y_test)"
   ]
  },
  {
   "cell_type": "code",
   "execution_count": 17,
   "metadata": {
    "id": "JIdYvpFeCjbK"
   },
   "outputs": [],
   "source": [
    "# https://github.com/mattdutson/mobilenet/blob/master/mobilenet/model.py\n",
    "# https://github.com/kuangliu/pytorch-cifar/blob/master/models/mobilenet.py\n",
    "# https://mydeeplearningnb.wordpress.com/2019/07/24/visualizing-cnns-using-tensorflow/"
   ]
  },
  {
   "cell_type": "code",
   "execution_count": null,
   "metadata": {
    "id": "DEwcw_mn2r5S"
   },
   "outputs": [],
   "source": []
  }
 ],
 "metadata": {
  "accelerator": "GPU",
  "colab": {
   "collapsed_sections": [],
   "name": "fashionMNIST_MobileNet_06_08_21.ipynb",
   "provenance": []
  },
  "kernelspec": {
   "display_name": "Python 3",
   "language": "python",
   "name": "python3"
  },
  "language_info": {
   "codemirror_mode": {
    "name": "ipython",
    "version": 3
   },
   "file_extension": ".py",
   "mimetype": "text/x-python",
   "name": "python",
   "nbconvert_exporter": "python",
   "pygments_lexer": "ipython3",
   "version": "3.7.3"
  }
 },
 "nbformat": 4,
 "nbformat_minor": 1
}
