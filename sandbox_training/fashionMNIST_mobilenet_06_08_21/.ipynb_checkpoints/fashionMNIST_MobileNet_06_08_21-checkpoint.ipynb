{
 "cells": [
  {
   "cell_type": "code",
   "execution_count": null,
   "metadata": {},
   "outputs": [],
   "source": [
    "# dataset = cifar10 \n",
    "# model = mobilenet \n",
    "# optimizer = ADAM (0.001)\n",
    "# loss = categorical_crossentropy \n",
    "# batch_size = 32 \n",
    "# decay = l2 (0.001)\n",
    "# augmentation = off"
   ]
  },
  {
   "cell_type": "code",
   "execution_count": 1,
   "metadata": {
    "colab": {
     "base_uri": "https://localhost:8080/"
    },
    "id": "tSD59fzx2NwB",
    "outputId": "2a43b63d-7669-471d-807c-65e1b01876a4"
   },
   "outputs": [
    {
     "name": "stdout",
     "output_type": "stream",
     "text": [
      "Mounted at /content/drive\n"
     ]
    }
   ],
   "source": [
    "from google.colab import drive\n",
    "drive.mount('/content/drive')"
   ]
  },
  {
   "cell_type": "code",
   "execution_count": 9,
   "metadata": {
    "id": "ZmXI6jeS1-t9"
   },
   "outputs": [],
   "source": [
    "import tensorflow as tf \n",
    "import os \n",
    "import numpy as np \n",
    "\n",
    "from tensorflow.keras.layers import Dense, Conv2D, BatchNormalization, Activation, Dropout\n",
    "from tensorflow.keras.layers import Input, Flatten, AveragePooling2D, Add\n",
    "from tensorflow.keras.layers import *\n",
    "from tensorflow.keras import backend as K \n",
    "from tensorflow.keras.models import Model\n",
    "from tensorflow.keras.optimizers import Adam\n",
    "from tensorflow.keras.callbacks import ModelCheckpoint \n",
    "from tensorflow.keras.utils import to_categorical\n",
    "from tensorflow.keras.models import Sequential\n",
    "from tensorflow.keras.preprocessing.image import ImageDataGenerator\n",
    "from tensorflow.keras.regularizers import l2\n",
    "from tensorflow.keras.datasets import cifar10 \n",
    "from tensorflow.keras.datasets import fashion_mnist"
   ]
  },
  {
   "cell_type": "code",
   "execution_count": 3,
   "metadata": {
    "id": "zROr-05a2Gkd"
   },
   "outputs": [],
   "source": [
    "batch_size=32 \n",
    "epochs=100\n",
    "num_classes=10 \n",
    "depth=20 "
   ]
  },
  {
   "cell_type": "code",
   "execution_count": 4,
   "metadata": {
    "id": "ALLQbtz2cA4b"
   },
   "outputs": [],
   "source": [
    "model_type = 'MobileNet%d' % (depth)"
   ]
  },
  {
   "cell_type": "code",
   "execution_count": 5,
   "metadata": {
    "colab": {
     "base_uri": "https://localhost:8080/"
    },
    "id": "ft7a2_0T7dk0",
    "outputId": "5dc12449-c3ae-4356-fadd-197062fbb1f4"
   },
   "outputs": [
    {
     "name": "stdout",
     "output_type": "stream",
     "text": [
      "Downloading data from https://storage.googleapis.com/tensorflow/tf-keras-datasets/train-labels-idx1-ubyte.gz\n",
      "32768/29515 [=================================] - 0s 0us/step\n",
      "Downloading data from https://storage.googleapis.com/tensorflow/tf-keras-datasets/train-images-idx3-ubyte.gz\n",
      "26427392/26421880 [==============================] - 0s 0us/step\n",
      "Downloading data from https://storage.googleapis.com/tensorflow/tf-keras-datasets/t10k-labels-idx1-ubyte.gz\n",
      "8192/5148 [===============================================] - 0s 0us/step\n",
      "Downloading data from https://storage.googleapis.com/tensorflow/tf-keras-datasets/t10k-images-idx3-ubyte.gz\n",
      "4423680/4422102 [==============================] - 0s 0us/step\n",
      "(60000, 32, 32, 1)\n",
      "(10000, 32, 32, 1)\n"
     ]
    }
   ],
   "source": [
    "(x_train, y_train), (x_test, y_test) = fashion_mnist.load_data() \n",
    "x_train = x_train/255 \n",
    "x_test = x_test/255 \n",
    "\n",
    "# resize\n",
    "x_train = np.expand_dims(x_train, axis=-1)\n",
    "x_train = tf.image.resize(x_train, [32,32]) # if we want to resize \n",
    "\n",
    "x_test = np.expand_dims(x_test, axis=-1)\n",
    "x_test = tf.image.resize(x_test, [32,32]) # if we want to resize \n",
    "\n",
    "print(x_train.shape)\n",
    "print(x_test.shape)\n",
    "\n",
    "y_train = to_categorical(y_train, num_classes)\n",
    "y_test = to_categorical(y_test, num_classes) \n",
    "input_shape=x_train.shape[1:]"
   ]
  },
  {
   "cell_type": "code",
   "execution_count": 9,
   "metadata": {
    "id": "YkT1Gkmuzi8y"
   },
   "outputs": [],
   "source": [
    "#datagen = ImageDataGenerator(rotation_range=10, horizontal_flip=True, zoom_range=0.1, width_shift_range=0.05, height_shift_range=0.05)\n",
    "#augmented_data = datagen.flow(x_train, y_train)"
   ]
  },
  {
   "cell_type": "code",
   "execution_count": 14,
   "metadata": {
    "colab": {
     "base_uri": "https://localhost:8080/"
    },
    "id": "geI2YTs_8Sfz",
    "outputId": "7ce68d09-3996-4f79-d823-5075e628afc4"
   },
   "outputs": [
    {
     "name": "stdout",
     "output_type": "stream",
     "text": [
      "Model: \"sequential_2\"\n",
      "_________________________________________________________________\n",
      "Layer (type)                 Output Shape              Param #   \n",
      "=================================================================\n",
      "conv2d_14 (Conv2D)           (None, 16, 16, 32)        320       \n",
      "_________________________________________________________________\n",
      "batch_normalization_27 (Batc (None, 16, 16, 32)        96        \n",
      "_________________________________________________________________\n",
      "re_lu_27 (ReLU)              (None, 16, 16, 32)        0         \n",
      "_________________________________________________________________\n",
      "depthwise_conv2d_13 (Depthwi (None, 16, 16, 32)        320       \n",
      "_________________________________________________________________\n",
      "batch_normalization_28 (Batc (None, 16, 16, 32)        96        \n",
      "_________________________________________________________________\n",
      "re_lu_28 (ReLU)              (None, 16, 16, 32)        0         \n",
      "_________________________________________________________________\n",
      "conv2d_15 (Conv2D)           (None, 16, 16, 64)        2112      \n",
      "_________________________________________________________________\n",
      "batch_normalization_29 (Batc (None, 16, 16, 64)        192       \n",
      "_________________________________________________________________\n",
      "re_lu_29 (ReLU)              (None, 16, 16, 64)        0         \n",
      "_________________________________________________________________\n",
      "depthwise_conv2d_14 (Depthwi (None, 8, 8, 64)          640       \n",
      "_________________________________________________________________\n",
      "batch_normalization_30 (Batc (None, 8, 8, 64)          192       \n",
      "_________________________________________________________________\n",
      "re_lu_30 (ReLU)              (None, 8, 8, 64)          0         \n",
      "_________________________________________________________________\n",
      "conv2d_16 (Conv2D)           (None, 8, 8, 128)         8320      \n",
      "_________________________________________________________________\n",
      "batch_normalization_31 (Batc (None, 8, 8, 128)         384       \n",
      "_________________________________________________________________\n",
      "re_lu_31 (ReLU)              (None, 8, 8, 128)         0         \n",
      "_________________________________________________________________\n",
      "depthwise_conv2d_15 (Depthwi (None, 8, 8, 128)         1280      \n",
      "_________________________________________________________________\n",
      "batch_normalization_32 (Batc (None, 8, 8, 128)         384       \n",
      "_________________________________________________________________\n",
      "re_lu_32 (ReLU)              (None, 8, 8, 128)         0         \n",
      "_________________________________________________________________\n",
      "conv2d_17 (Conv2D)           (None, 8, 8, 128)         16512     \n",
      "_________________________________________________________________\n",
      "batch_normalization_33 (Batc (None, 8, 8, 128)         384       \n",
      "_________________________________________________________________\n",
      "re_lu_33 (ReLU)              (None, 8, 8, 128)         0         \n",
      "_________________________________________________________________\n",
      "depthwise_conv2d_16 (Depthwi (None, 4, 4, 128)         1280      \n",
      "_________________________________________________________________\n",
      "batch_normalization_34 (Batc (None, 4, 4, 128)         384       \n",
      "_________________________________________________________________\n",
      "re_lu_34 (ReLU)              (None, 4, 4, 128)         0         \n",
      "_________________________________________________________________\n",
      "conv2d_18 (Conv2D)           (None, 4, 4, 256)         33024     \n",
      "_________________________________________________________________\n",
      "batch_normalization_35 (Batc (None, 4, 4, 256)         768       \n",
      "_________________________________________________________________\n",
      "re_lu_35 (ReLU)              (None, 4, 4, 256)         0         \n",
      "_________________________________________________________________\n",
      "depthwise_conv2d_17 (Depthwi (None, 4, 4, 256)         2560      \n",
      "_________________________________________________________________\n",
      "batch_normalization_36 (Batc (None, 4, 4, 256)         768       \n",
      "_________________________________________________________________\n",
      "re_lu_36 (ReLU)              (None, 4, 4, 256)         0         \n",
      "_________________________________________________________________\n",
      "conv2d_19 (Conv2D)           (None, 4, 4, 256)         65792     \n",
      "_________________________________________________________________\n",
      "batch_normalization_37 (Batc (None, 4, 4, 256)         768       \n",
      "_________________________________________________________________\n",
      "re_lu_37 (ReLU)              (None, 4, 4, 256)         0         \n",
      "_________________________________________________________________\n",
      "depthwise_conv2d_18 (Depthwi (None, 2, 2, 256)         2560      \n",
      "_________________________________________________________________\n",
      "batch_normalization_38 (Batc (None, 2, 2, 256)         768       \n",
      "_________________________________________________________________\n",
      "re_lu_38 (ReLU)              (None, 2, 2, 256)         0         \n",
      "_________________________________________________________________\n",
      "conv2d_20 (Conv2D)           (None, 2, 2, 512)         131584    \n",
      "_________________________________________________________________\n",
      "batch_normalization_39 (Batc (None, 2, 2, 512)         1536      \n",
      "_________________________________________________________________\n",
      "re_lu_39 (ReLU)              (None, 2, 2, 512)         0         \n",
      "_________________________________________________________________\n",
      "depthwise_conv2d_19 (Depthwi (None, 2, 2, 512)         5120      \n",
      "_________________________________________________________________\n",
      "batch_normalization_40 (Batc (None, 2, 2, 512)         1536      \n",
      "_________________________________________________________________\n",
      "re_lu_40 (ReLU)              (None, 2, 2, 512)         0         \n",
      "_________________________________________________________________\n",
      "conv2d_21 (Conv2D)           (None, 2, 2, 512)         262656    \n",
      "_________________________________________________________________\n",
      "batch_normalization_41 (Batc (None, 2, 2, 512)         1536      \n",
      "_________________________________________________________________\n",
      "re_lu_41 (ReLU)              (None, 2, 2, 512)         0         \n",
      "_________________________________________________________________\n",
      "depthwise_conv2d_20 (Depthwi (None, 2, 2, 512)         5120      \n",
      "_________________________________________________________________\n",
      "batch_normalization_42 (Batc (None, 2, 2, 512)         1536      \n",
      "_________________________________________________________________\n",
      "re_lu_42 (ReLU)              (None, 2, 2, 512)         0         \n",
      "_________________________________________________________________\n",
      "conv2d_22 (Conv2D)           (None, 2, 2, 512)         262656    \n",
      "_________________________________________________________________\n",
      "batch_normalization_43 (Batc (None, 2, 2, 512)         1536      \n",
      "_________________________________________________________________\n",
      "re_lu_43 (ReLU)              (None, 2, 2, 512)         0         \n",
      "_________________________________________________________________\n",
      "depthwise_conv2d_21 (Depthwi (None, 2, 2, 512)         5120      \n",
      "_________________________________________________________________\n",
      "batch_normalization_44 (Batc (None, 2, 2, 512)         1536      \n",
      "_________________________________________________________________\n",
      "re_lu_44 (ReLU)              (None, 2, 2, 512)         0         \n",
      "_________________________________________________________________\n",
      "conv2d_23 (Conv2D)           (None, 2, 2, 512)         262656    \n",
      "_________________________________________________________________\n",
      "batch_normalization_45 (Batc (None, 2, 2, 512)         1536      \n",
      "_________________________________________________________________\n",
      "re_lu_45 (ReLU)              (None, 2, 2, 512)         0         \n",
      "_________________________________________________________________\n",
      "depthwise_conv2d_22 (Depthwi (None, 2, 2, 512)         5120      \n",
      "_________________________________________________________________\n",
      "batch_normalization_46 (Batc (None, 2, 2, 512)         1536      \n",
      "_________________________________________________________________\n",
      "re_lu_46 (ReLU)              (None, 2, 2, 512)         0         \n",
      "_________________________________________________________________\n",
      "conv2d_24 (Conv2D)           (None, 2, 2, 512)         262656    \n",
      "_________________________________________________________________\n",
      "batch_normalization_47 (Batc (None, 2, 2, 512)         1536      \n",
      "_________________________________________________________________\n",
      "re_lu_47 (ReLU)              (None, 2, 2, 512)         0         \n",
      "_________________________________________________________________\n",
      "depthwise_conv2d_23 (Depthwi (None, 2, 2, 512)         5120      \n",
      "_________________________________________________________________\n",
      "batch_normalization_48 (Batc (None, 2, 2, 512)         1536      \n",
      "_________________________________________________________________\n",
      "re_lu_48 (ReLU)              (None, 2, 2, 512)         0         \n",
      "_________________________________________________________________\n",
      "conv2d_25 (Conv2D)           (None, 2, 2, 512)         262656    \n",
      "_________________________________________________________________\n",
      "batch_normalization_49 (Batc (None, 2, 2, 512)         1536      \n",
      "_________________________________________________________________\n",
      "re_lu_49 (ReLU)              (None, 2, 2, 512)         0         \n",
      "_________________________________________________________________\n",
      "depthwise_conv2d_24 (Depthwi (None, 1, 1, 512)         5120      \n",
      "_________________________________________________________________\n",
      "batch_normalization_50 (Batc (None, 1, 1, 512)         1536      \n",
      "_________________________________________________________________\n",
      "re_lu_50 (ReLU)              (None, 1, 1, 512)         0         \n",
      "_________________________________________________________________\n",
      "conv2d_26 (Conv2D)           (None, 1, 1, 1024)        525312    \n",
      "_________________________________________________________________\n",
      "batch_normalization_51 (Batc (None, 1, 1, 1024)        3072      \n",
      "_________________________________________________________________\n",
      "re_lu_51 (ReLU)              (None, 1, 1, 1024)        0         \n",
      "_________________________________________________________________\n",
      "depthwise_conv2d_25 (Depthwi (None, 1, 1, 1024)        10240     \n",
      "_________________________________________________________________\n",
      "batch_normalization_52 (Batc (None, 1, 1, 1024)        3072      \n",
      "_________________________________________________________________\n",
      "re_lu_52 (ReLU)              (None, 1, 1, 1024)        0         \n",
      "_________________________________________________________________\n",
      "conv2d_27 (Conv2D)           (None, 1, 1, 1024)        1049600   \n",
      "_________________________________________________________________\n",
      "batch_normalization_53 (Batc (None, 1, 1, 1024)        3072      \n",
      "_________________________________________________________________\n",
      "re_lu_53 (ReLU)              (None, 1, 1, 1024)        0         \n",
      "_________________________________________________________________\n",
      "average_pooling2d_1 (Average (None, 1, 1, 1024)        0         \n",
      "_________________________________________________________________\n",
      "flatten_1 (Flatten)          (None, 1024)              0         \n",
      "_________________________________________________________________\n",
      "dense_1 (Dense)              (None, 10)                10250     \n",
      "_________________________________________________________________\n",
      "softmax_1 (Softmax)          (None, 10)                0         \n",
      "=================================================================\n",
      "Total params: 3,238,538\n",
      "Trainable params: 3,216,650\n",
      "Non-trainable params: 21,888\n",
      "_________________________________________________________________\n",
      "None\n"
     ]
    }
   ],
   "source": [
    "def mobilenet(input_size=(32, 32), l2_decay=0.1, N_CLASSES=10):\n",
    "    \"\"\"\n",
    "    Builds the MobileNet model.\n",
    "    :param tuple input_size: The height and width (in that order) of the\n",
    "        model input.\n",
    "    :param float l2_decay: The amount of L2 weight decay to add to the\n",
    "        loss. Applies only to kernels, not biases.\n",
    "    :return tensorflow.keras.Sequential: A MobileNet model.\n",
    "    \"\"\"\n",
    "\n",
    "    model = Sequential()\n",
    "\n",
    "    def _add_bn_relu():\n",
    "        model.add(BatchNormalization(scale=False))\n",
    "        model.add(ReLU())\n",
    "\n",
    "    def _add_depthwise_block(strides=1):\n",
    "        model.add(DepthwiseConv2D(\n",
    "            (3, 3),\n",
    "            strides=strides,\n",
    "            padding='same',\n",
    "            kernel_regularizer=l2(l=l2_decay)))\n",
    "        _add_bn_relu()\n",
    "\n",
    "    def _add_pointwise_block(filters):\n",
    "        model.add(Conv2D(filters, (1, 1), kernel_regularizer=l2(l=l2_decay)))\n",
    "        _add_bn_relu()\n",
    "\n",
    "    model.add(Conv2D(\n",
    "        32, (3, 3),\n",
    "        strides=2,\n",
    "        padding='same',\n",
    "        kernel_regularizer=l2(l=l2_decay),\n",
    "        input_shape=input_size + (1,))) # change the channel dimension here\n",
    "    _add_bn_relu()\n",
    "    _add_depthwise_block()\n",
    "    _add_pointwise_block(64)\n",
    "\n",
    "    _add_depthwise_block(strides=2)\n",
    "    _add_pointwise_block(128)\n",
    "    _add_depthwise_block()\n",
    "    _add_pointwise_block(128)\n",
    "\n",
    "    _add_depthwise_block(strides=2)\n",
    "    _add_pointwise_block(256)\n",
    "    _add_depthwise_block()\n",
    "    _add_pointwise_block(256)\n",
    "\n",
    "    _add_depthwise_block(strides=2)\n",
    "    _add_pointwise_block(512)\n",
    "    for _ in range(5):\n",
    "        _add_depthwise_block()\n",
    "        _add_pointwise_block(512)\n",
    "\n",
    "    _add_depthwise_block(strides=2)\n",
    "    _add_pointwise_block(1024)\n",
    "    _add_depthwise_block()\n",
    "    _add_pointwise_block(1024)\n",
    "\n",
    "    model.add(AveragePooling2D(pool_size=(input_size[0] // 32, input_size[1] // 32)))\n",
    "\n",
    "    model.add(Flatten())\n",
    "    model.add(Dense(N_CLASSES, kernel_regularizer=l2(l=l2_decay)))\n",
    "    model.add(Softmax())\n",
    "\n",
    "    return model\n",
    "\n",
    "\n",
    "model = mobilenet(input_size=(32, 32), l2_decay=0.001, N_CLASSES=10)\n",
    "print(model.summary())          "
   ]
  },
  {
   "cell_type": "code",
   "execution_count": 15,
   "metadata": {
    "id": "9I3Q5TJ-WFee"
   },
   "outputs": [],
   "source": [
    "model.compile(loss='categorical_crossentropy', optimizer=Adam(learning_rate=0.001), metrics=['accuracy'])"
   ]
  },
  {
   "cell_type": "code",
   "execution_count": null,
   "metadata": {
    "id": "3yEUNWxvWgrl"
   },
   "outputs": [],
   "source": [
    "#save_dir = os.path.join(os.getcwd(), 'saved_models') \n",
    "#model_name = 'cifar10_%s_model_tf.{epoch:03d}.h5'%model_type\n",
    "#if not os.path.isdir(save_dir):\n",
    "#    os.makedirs(save_dir)\n",
    "#filepath = os.path.join(save_dir, model_name)"
   ]
  },
  {
   "cell_type": "code",
   "execution_count": null,
   "metadata": {
    "id": "kJ_VTtsJXTWg"
   },
   "outputs": [],
   "source": [
    "#checkpoint = ModelCheckpoint(filepath=filepath, monitor='val_accuracy', verbose=2, save_best_only=True)"
   ]
  },
  {
   "cell_type": "code",
   "execution_count": null,
   "metadata": {
    "id": "8FB9ARxQXca9"
   },
   "outputs": [],
   "source": [
    "#callbacks = [checkpoint] "
   ]
  },
  {
   "cell_type": "code",
   "execution_count": 16,
   "metadata": {
    "colab": {
     "base_uri": "https://localhost:8080/"
    },
    "id": "2vC3MVxoYXjh",
    "outputId": "1777d552-fc98-44a0-81e8-3620ba684a0d"
   },
   "outputs": [
    {
     "name": "stdout",
     "output_type": "stream",
     "text": [
      "Epoch 1/100\n",
      "1875/1875 - 61s - loss: 3.8274 - accuracy: 0.7510 - val_loss: 2.1293 - val_accuracy: 0.8255\n",
      "Epoch 2/100\n",
      "1875/1875 - 26s - loss: 1.5813 - accuracy: 0.8293 - val_loss: 1.1912 - val_accuracy: 0.8294\n",
      "Epoch 3/100\n",
      "1875/1875 - 25s - loss: 1.0730 - accuracy: 0.8472 - val_loss: 0.9476 - val_accuracy: 0.8549\n",
      "Epoch 4/100\n",
      "1875/1875 - 25s - loss: 0.8976 - accuracy: 0.8565 - val_loss: 0.8190 - val_accuracy: 0.8761\n",
      "Epoch 5/100\n",
      "1875/1875 - 26s - loss: 0.7710 - accuracy: 0.8701 - val_loss: 0.7404 - val_accuracy: 0.8725\n",
      "Epoch 6/100\n",
      "1875/1875 - 25s - loss: 0.6885 - accuracy: 0.8769 - val_loss: 0.6920 - val_accuracy: 0.8692\n",
      "Epoch 7/100\n",
      "1875/1875 - 26s - loss: 0.6328 - accuracy: 0.8838 - val_loss: 0.5920 - val_accuracy: 0.8880\n",
      "Epoch 8/100\n",
      "1875/1875 - 25s - loss: 0.5777 - accuracy: 0.8897 - val_loss: 0.5606 - val_accuracy: 0.8907\n",
      "Epoch 9/100\n",
      "1875/1875 - 25s - loss: 0.5573 - accuracy: 0.8931 - val_loss: 0.5846 - val_accuracy: 0.8779\n",
      "Epoch 10/100\n",
      "1875/1875 - 26s - loss: 0.5361 - accuracy: 0.8961 - val_loss: 0.5191 - val_accuracy: 0.8985\n",
      "Epoch 11/100\n",
      "1875/1875 - 25s - loss: 0.5004 - accuracy: 0.9011 - val_loss: 0.6313 - val_accuracy: 0.8601\n",
      "Epoch 12/100\n",
      "1875/1875 - 25s - loss: 0.4834 - accuracy: 0.9014 - val_loss: 0.4944 - val_accuracy: 0.8919\n",
      "Epoch 13/100\n",
      "1875/1875 - 26s - loss: 0.4703 - accuracy: 0.9047 - val_loss: 0.4789 - val_accuracy: 0.9006\n",
      "Epoch 14/100\n",
      "1875/1875 - 26s - loss: 0.4556 - accuracy: 0.9068 - val_loss: 0.4943 - val_accuracy: 0.8979\n",
      "Epoch 15/100\n",
      "1875/1875 - 25s - loss: 0.4494 - accuracy: 0.9076 - val_loss: 0.4407 - val_accuracy: 0.9068\n",
      "Epoch 16/100\n",
      "1875/1875 - 26s - loss: 0.4309 - accuracy: 0.9090 - val_loss: 0.4894 - val_accuracy: 0.8897\n",
      "Epoch 17/100\n",
      "1875/1875 - 26s - loss: 0.4332 - accuracy: 0.9106 - val_loss: 0.4229 - val_accuracy: 0.9091\n",
      "Epoch 18/100\n",
      "1875/1875 - 24s - loss: 0.4186 - accuracy: 0.9104 - val_loss: 0.4162 - val_accuracy: 0.9088\n",
      "Epoch 19/100\n",
      "1875/1875 - 26s - loss: 0.4087 - accuracy: 0.9126 - val_loss: 0.4780 - val_accuracy: 0.8926\n",
      "Epoch 20/100\n",
      "1875/1875 - 25s - loss: 0.4055 - accuracy: 0.9145 - val_loss: 0.4233 - val_accuracy: 0.9075\n",
      "Epoch 21/100\n",
      "1875/1875 - 25s - loss: 0.3945 - accuracy: 0.9150 - val_loss: 0.4627 - val_accuracy: 0.8889\n",
      "Epoch 22/100\n",
      "1875/1875 - 26s - loss: 0.3914 - accuracy: 0.9150 - val_loss: 0.3973 - val_accuracy: 0.9116\n",
      "Epoch 23/100\n",
      "1875/1875 - 25s - loss: 0.3844 - accuracy: 0.9172 - val_loss: 0.4384 - val_accuracy: 0.8971\n",
      "Epoch 24/100\n",
      "1875/1875 - 26s - loss: 0.3815 - accuracy: 0.9170 - val_loss: 0.4478 - val_accuracy: 0.8930\n",
      "Epoch 25/100\n",
      "1875/1875 - 25s - loss: 0.3796 - accuracy: 0.9187 - val_loss: 0.4021 - val_accuracy: 0.9098\n",
      "Epoch 26/100\n",
      "1875/1875 - 25s - loss: 0.3761 - accuracy: 0.9179 - val_loss: 0.3988 - val_accuracy: 0.9118\n",
      "Epoch 27/100\n",
      "1875/1875 - 26s - loss: 0.3715 - accuracy: 0.9195 - val_loss: 0.4380 - val_accuracy: 0.8926\n",
      "Epoch 28/100\n",
      "1875/1875 - 26s - loss: 0.3680 - accuracy: 0.9206 - val_loss: 0.4081 - val_accuracy: 0.9072\n",
      "Epoch 29/100\n",
      "1875/1875 - 25s - loss: 0.3609 - accuracy: 0.9212 - val_loss: 0.4070 - val_accuracy: 0.9058\n",
      "Epoch 30/100\n",
      "1875/1875 - 25s - loss: 0.3612 - accuracy: 0.9215 - val_loss: 0.3809 - val_accuracy: 0.9155\n",
      "Epoch 31/100\n",
      "1875/1875 - 26s - loss: 0.3615 - accuracy: 0.9205 - val_loss: 0.4163 - val_accuracy: 0.8983\n",
      "Epoch 32/100\n",
      "1875/1875 - 25s - loss: 0.3570 - accuracy: 0.9225 - val_loss: 0.3870 - val_accuracy: 0.9100\n",
      "Epoch 33/100\n",
      "1875/1875 - 26s - loss: 0.3566 - accuracy: 0.9220 - val_loss: 0.4031 - val_accuracy: 0.9073\n",
      "Epoch 34/100\n",
      "1875/1875 - 25s - loss: 0.3496 - accuracy: 0.9240 - val_loss: 0.3896 - val_accuracy: 0.9128\n",
      "Epoch 35/100\n",
      "1875/1875 - 25s - loss: 0.3491 - accuracy: 0.9234 - val_loss: 0.4416 - val_accuracy: 0.8941\n",
      "Epoch 36/100\n",
      "1875/1875 - 26s - loss: 0.3454 - accuracy: 0.9237 - val_loss: 0.3830 - val_accuracy: 0.9096\n",
      "Epoch 37/100\n",
      "1875/1875 - 25s - loss: 0.3451 - accuracy: 0.9243 - val_loss: 0.3731 - val_accuracy: 0.9130\n",
      "Epoch 38/100\n",
      "1875/1875 - 25s - loss: 0.3444 - accuracy: 0.9247 - val_loss: 0.3904 - val_accuracy: 0.9060\n",
      "Epoch 39/100\n",
      "1875/1875 - 26s - loss: 0.3405 - accuracy: 0.9251 - val_loss: 0.4004 - val_accuracy: 0.9069\n",
      "Epoch 40/100\n",
      "1875/1875 - 26s - loss: 0.3450 - accuracy: 0.9243 - val_loss: 0.3881 - val_accuracy: 0.9083\n",
      "Epoch 41/100\n",
      "1875/1875 - 25s - loss: 0.3439 - accuracy: 0.9241 - val_loss: 0.3713 - val_accuracy: 0.9104\n",
      "Epoch 42/100\n",
      "1875/1875 - 26s - loss: 0.3389 - accuracy: 0.9251 - val_loss: 0.3811 - val_accuracy: 0.9077\n",
      "Epoch 43/100\n",
      "1875/1875 - 25s - loss: 0.3344 - accuracy: 0.9264 - val_loss: 0.3667 - val_accuracy: 0.9103\n",
      "Epoch 44/100\n",
      "1875/1875 - 25s - loss: 0.3314 - accuracy: 0.9258 - val_loss: 0.4000 - val_accuracy: 0.9054\n",
      "Epoch 45/100\n",
      "1875/1875 - 26s - loss: 0.3417 - accuracy: 0.9250 - val_loss: 0.3751 - val_accuracy: 0.9155\n",
      "Epoch 46/100\n",
      "1875/1875 - 25s - loss: 0.3309 - accuracy: 0.9275 - val_loss: 0.4019 - val_accuracy: 0.9042\n",
      "Epoch 47/100\n",
      "1875/1875 - 25s - loss: 0.3346 - accuracy: 0.9251 - val_loss: 0.3707 - val_accuracy: 0.9092\n",
      "Epoch 48/100\n",
      "1875/1875 - 26s - loss: 0.3296 - accuracy: 0.9273 - val_loss: 0.3877 - val_accuracy: 0.9095\n",
      "Epoch 49/100\n",
      "1875/1875 - 25s - loss: 0.3287 - accuracy: 0.9268 - val_loss: 0.3784 - val_accuracy: 0.9083\n",
      "Epoch 50/100\n",
      "1875/1875 - 26s - loss: 0.3264 - accuracy: 0.9269 - val_loss: 0.3778 - val_accuracy: 0.9111\n",
      "Epoch 51/100\n",
      "1875/1875 - 25s - loss: 0.3256 - accuracy: 0.9280 - val_loss: 0.3654 - val_accuracy: 0.9138\n",
      "Epoch 52/100\n",
      "1875/1875 - 25s - loss: 0.3261 - accuracy: 0.9284 - val_loss: 0.3807 - val_accuracy: 0.9091\n",
      "Epoch 53/100\n",
      "1875/1875 - 26s - loss: 0.3232 - accuracy: 0.9293 - val_loss: 0.4024 - val_accuracy: 0.9030\n",
      "Epoch 54/100\n",
      "1875/1875 - 26s - loss: 0.3182 - accuracy: 0.9293 - val_loss: 0.4009 - val_accuracy: 0.8988\n",
      "Epoch 55/100\n",
      "1875/1875 - 25s - loss: 0.3240 - accuracy: 0.9277 - val_loss: 0.3782 - val_accuracy: 0.9120\n",
      "Epoch 56/100\n",
      "1875/1875 - 25s - loss: 0.3209 - accuracy: 0.9277 - val_loss: 0.3633 - val_accuracy: 0.9133\n",
      "Epoch 57/100\n",
      "1875/1875 - 26s - loss: 0.3147 - accuracy: 0.9311 - val_loss: 0.3656 - val_accuracy: 0.9144\n",
      "Epoch 58/100\n",
      "1875/1875 - 25s - loss: 0.3192 - accuracy: 0.9296 - val_loss: 0.3590 - val_accuracy: 0.9145\n",
      "Epoch 59/100\n",
      "1875/1875 - 26s - loss: 0.3170 - accuracy: 0.9298 - val_loss: 0.3762 - val_accuracy: 0.9106\n",
      "Epoch 60/100\n",
      "1875/1875 - 25s - loss: 0.3180 - accuracy: 0.9291 - val_loss: 0.3822 - val_accuracy: 0.9056\n",
      "Epoch 61/100\n",
      "1875/1875 - 25s - loss: 0.3180 - accuracy: 0.9299 - val_loss: 0.3677 - val_accuracy: 0.9100\n",
      "Epoch 62/100\n",
      "1875/1875 - 26s - loss: 0.3190 - accuracy: 0.9283 - val_loss: 0.3804 - val_accuracy: 0.9082\n",
      "Epoch 63/100\n",
      "1875/1875 - 25s - loss: 0.3132 - accuracy: 0.9301 - val_loss: 0.3670 - val_accuracy: 0.9136\n",
      "Epoch 64/100\n",
      "1875/1875 - 26s - loss: 0.3143 - accuracy: 0.9303 - val_loss: 0.3712 - val_accuracy: 0.9087\n",
      "Epoch 65/100\n",
      "1875/1875 - 26s - loss: 0.3133 - accuracy: 0.9301 - val_loss: 0.3828 - val_accuracy: 0.9102\n",
      "Epoch 66/100\n",
      "1875/1875 - 26s - loss: 0.3115 - accuracy: 0.9304 - val_loss: 0.3560 - val_accuracy: 0.9117\n",
      "Epoch 67/100\n",
      "1875/1875 - 25s - loss: 0.3095 - accuracy: 0.9311 - val_loss: 0.4158 - val_accuracy: 0.8970\n",
      "Epoch 68/100\n",
      "1875/1875 - 26s - loss: 0.3111 - accuracy: 0.9319 - val_loss: 0.4419 - val_accuracy: 0.8909\n",
      "Epoch 69/100\n",
      "1875/1875 - 25s - loss: 0.3119 - accuracy: 0.9301 - val_loss: 0.3895 - val_accuracy: 0.9080\n",
      "Epoch 70/100\n",
      "1875/1875 - 25s - loss: 0.3053 - accuracy: 0.9328 - val_loss: 0.3573 - val_accuracy: 0.9136\n",
      "Epoch 71/100\n",
      "1875/1875 - 26s - loss: 0.3095 - accuracy: 0.9301 - val_loss: 0.3497 - val_accuracy: 0.9162\n",
      "Epoch 72/100\n",
      "1875/1875 - 25s - loss: 0.3043 - accuracy: 0.9321 - val_loss: 0.3770 - val_accuracy: 0.9076\n",
      "Epoch 73/100\n",
      "1875/1875 - 25s - loss: 0.3077 - accuracy: 0.9320 - val_loss: 0.3682 - val_accuracy: 0.9126\n",
      "Epoch 74/100\n",
      "1875/1875 - 26s - loss: 0.3089 - accuracy: 0.9309 - val_loss: 0.3916 - val_accuracy: 0.9073\n",
      "Epoch 75/100\n",
      "1875/1875 - 25s - loss: 0.3058 - accuracy: 0.9318 - val_loss: 0.3602 - val_accuracy: 0.9119\n",
      "Epoch 76/100\n",
      "1875/1875 - 26s - loss: 0.3050 - accuracy: 0.9316 - val_loss: 0.4060 - val_accuracy: 0.9083\n",
      "Epoch 77/100\n",
      "1875/1875 - 25s - loss: 0.3036 - accuracy: 0.9316 - val_loss: 0.3879 - val_accuracy: 0.9039\n",
      "Epoch 78/100\n",
      "1875/1875 - 25s - loss: 0.3042 - accuracy: 0.9327 - val_loss: 0.4003 - val_accuracy: 0.9024\n",
      "Epoch 79/100\n",
      "1875/1875 - 26s - loss: 0.3039 - accuracy: 0.9327 - val_loss: 0.3705 - val_accuracy: 0.9105\n",
      "Epoch 80/100\n",
      "1875/1875 - 26s - loss: 0.3007 - accuracy: 0.9324 - val_loss: 0.3744 - val_accuracy: 0.9113\n",
      "Epoch 81/100\n",
      "1875/1875 - 25s - loss: 0.3002 - accuracy: 0.9342 - val_loss: 0.3703 - val_accuracy: 0.9054\n",
      "Epoch 82/100\n",
      "1875/1875 - 25s - loss: 0.3025 - accuracy: 0.9308 - val_loss: 0.3587 - val_accuracy: 0.9135\n",
      "Epoch 83/100\n",
      "1875/1875 - 26s - loss: 0.3115 - accuracy: 0.9301 - val_loss: 0.3689 - val_accuracy: 0.9100\n",
      "Epoch 84/100\n",
      "1875/1875 - 25s - loss: 0.2998 - accuracy: 0.9328 - val_loss: 0.3751 - val_accuracy: 0.9076\n",
      "Epoch 85/100\n",
      "1875/1875 - 26s - loss: 0.2999 - accuracy: 0.9334 - val_loss: 0.3450 - val_accuracy: 0.9180\n",
      "Epoch 86/100\n",
      "1875/1875 - 25s - loss: 0.3001 - accuracy: 0.9344 - val_loss: 0.3623 - val_accuracy: 0.9099\n",
      "Epoch 87/100\n",
      "1875/1875 - 25s - loss: 0.2949 - accuracy: 0.9345 - val_loss: 0.3549 - val_accuracy: 0.9107\n",
      "Epoch 88/100\n",
      "1875/1875 - 26s - loss: 0.2976 - accuracy: 0.9340 - val_loss: 0.3593 - val_accuracy: 0.9120\n",
      "Epoch 89/100\n",
      "1875/1875 - 25s - loss: 0.2961 - accuracy: 0.9342 - val_loss: 0.3644 - val_accuracy: 0.9125\n",
      "Epoch 90/100\n",
      "1875/1875 - 25s - loss: 0.2953 - accuracy: 0.9333 - val_loss: 0.3763 - val_accuracy: 0.9051\n",
      "Epoch 91/100\n",
      "1875/1875 - 26s - loss: 0.2946 - accuracy: 0.9338 - val_loss: 0.3650 - val_accuracy: 0.9152\n",
      "Epoch 92/100\n",
      "1875/1875 - 26s - loss: 0.2951 - accuracy: 0.9340 - val_loss: 0.3736 - val_accuracy: 0.9097\n",
      "Epoch 93/100\n",
      "1875/1875 - 25s - loss: 0.2966 - accuracy: 0.9331 - val_loss: 0.3559 - val_accuracy: 0.9130\n",
      "Epoch 94/100\n",
      "1875/1875 - 25s - loss: 0.2935 - accuracy: 0.9339 - val_loss: 0.4056 - val_accuracy: 0.8984\n",
      "Epoch 95/100\n",
      "1875/1875 - 26s - loss: 0.3024 - accuracy: 0.9322 - val_loss: 0.4080 - val_accuracy: 0.8965\n",
      "Epoch 96/100\n",
      "1875/1875 - 25s - loss: 0.3037 - accuracy: 0.9330 - val_loss: 0.3770 - val_accuracy: 0.9061\n",
      "Epoch 97/100\n",
      "1875/1875 - 26s - loss: 0.2912 - accuracy: 0.9359 - val_loss: 0.3772 - val_accuracy: 0.9045\n",
      "Epoch 98/100\n",
      "1875/1875 - 25s - loss: 0.2951 - accuracy: 0.9332 - val_loss: 0.4292 - val_accuracy: 0.9055\n",
      "Epoch 99/100\n",
      "1875/1875 - 25s - loss: 0.2936 - accuracy: 0.9338 - val_loss: 0.3622 - val_accuracy: 0.9126\n",
      "Epoch 100/100\n",
      "1875/1875 - 26s - loss: 0.2926 - accuracy: 0.9344 - val_loss: 0.3786 - val_accuracy: 0.9051\n"
     ]
    }
   ],
   "source": [
    "batch_size = 32 \n",
    "steps = int(x_train.shape[0]/batch_size) \n",
    "\n",
    "history = model.fit(x_train, y_train, steps_per_epoch=steps, epochs=epochs, verbose=2, validation_data=(x_test, y_test))"
   ]
  },
  {
   "cell_type": "code",
   "execution_count": 17,
   "metadata": {
    "colab": {
     "base_uri": "https://localhost:8080/",
     "height": 281
    },
    "id": "cc0aq8wk5m6F",
    "outputId": "245c2b2a-f7c3-4d33-a3e0-cd6efde4121c"
   },
   "outputs": [
    {
     "data": {
      "image/png": "[encoded data removed]",
      "text/plain": [
       "<Figure size 432x288 with 1 Axes>"
      ]
     },
     "metadata": {
      "needs_background": "light",
      "tags": []
     },
     "output_type": "display_data"
    }
   ],
   "source": [
    "import matplotlib.pyplot as plt\n",
    "plt.plot(history.history['loss'])\n",
    "plt.plot(history.history['val_loss'])\n",
    "plt.title('model loss performance')\n",
    "plt.legend(['train loss', 'validation loss'])\n",
    "plt.show()"
   ]
  },
  {
   "cell_type": "code",
   "execution_count": 18,
   "metadata": {
    "colab": {
     "base_uri": "https://localhost:8080/",
     "height": 281
    },
    "id": "bOGWA0NL6UF_",
    "outputId": "9da8d66e-2285-47bb-a3d4-af763fc9844b"
   },
   "outputs": [
    {
     "data": {
      "image/png": "[encoded data removed]",
      "text/plain": [
       "<Figure size 432x288 with 1 Axes>"
      ]
     },
     "metadata": {
      "needs_background": "light",
      "tags": []
     },
     "output_type": "display_data"
    }
   ],
   "source": [
    "plt.plot(history.history['accuracy'])\n",
    "plt.plot(history.history['val_accuracy'])\n",
    "plt.title('model accuracy performance')\n",
    "plt.legend(['train accuracy', 'validation accuracy'])\n",
    "plt.show()"
   ]
  },
  {
   "cell_type": "code",
   "execution_count": 19,
   "metadata": {
    "colab": {
     "base_uri": "https://localhost:8080/"
    },
    "id": "KSGatV59isQC",
    "outputId": "a0ce50eb-b904-4e46-c2ff-64bce15984d1"
   },
   "outputs": [
    {
     "name": "stdout",
     "output_type": "stream",
     "text": [
      "313/313 [==============================] - 2s 8ms/step - loss: 0.3786 - accuracy: 0.9051\n"
     ]
    },
    {
     "data": {
      "text/plain": [
       "[0.37864187359809875, 0.9050999879837036]"
      ]
     },
     "execution_count": 19,
     "metadata": {
      "tags": []
     },
     "output_type": "execute_result"
    }
   ],
   "source": [
    "model.evaluate(x_test, y_test)"
   ]
  },
  {
   "cell_type": "code",
   "execution_count": null,
   "metadata": {
    "id": "JIdYvpFeCjbK"
   },
   "outputs": [],
   "source": [
    "# https://github.com/mattdutson/mobilenet/blob/master/mobilenet/model.py\n",
    "# https://github.com/kuangliu/pytorch-cifar/blob/master/models/mobilenet.py\n",
    "# https://mydeeplearningnb.wordpress.com/2019/07/24/visualizing-cnns-using-tensorflow/"
   ]
  }
 ],
 "metadata": {
  "accelerator": "GPU",
  "colab": {
   "collapsed_sections": [],
   "name": "fashionMNIST_MobileNet_06_08_21.ipynb",
   "provenance": []
  },
  "kernelspec": {
   "display_name": "Python 3",
   "language": "python",
   "name": "python3"
  },
  "language_info": {
   "codemirror_mode": {
    "name": "ipython",
    "version": 3
   },
   "file_extension": ".py",
   "mimetype": "text/x-python",
   "name": "python",
   "nbconvert_exporter": "python",
   "pygments_lexer": "ipython3",
   "version": "3.7.3"
  }
 },
 "nbformat": 4,
 "nbformat_minor": 1
}
