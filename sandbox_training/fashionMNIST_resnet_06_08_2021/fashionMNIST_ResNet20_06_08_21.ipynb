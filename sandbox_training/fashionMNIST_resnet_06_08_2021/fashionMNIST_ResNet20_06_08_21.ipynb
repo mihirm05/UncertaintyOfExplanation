{
  "nbformat": 4,
  "nbformat_minor": 0,
  "metadata": {
    "colab": {
      "name": "fashionMNIST_ResNet20_06_08_21.ipynb",
      "provenance": [],
      "collapsed_sections": []
    },
    "kernelspec": {
      "name": "python3",
      "display_name": "Python 3"
    },
    "language_info": {
      "name": "python"
    },
    "accelerator": "GPU"
  },
  "cells": [
    {
      "cell_type": "code",
      "metadata": {
        "colab": {
          "base_uri": "https://localhost:8080/"
        },
        "id": "FFV7xDSkAxm7",
        "outputId": "6b0085d8-3ad2-411a-9a47-3b41347c6cc3"
      },
      "source": [
        "!pip install scipy==1.2.2"
      ],
      "execution_count": 1,
      "outputs": [
        {
          "output_type": "stream",
          "text": [
            "Collecting scipy==1.2.2\n",
            "  Downloading scipy-1.2.2-cp37-cp37m-manylinux1_x86_64.whl (24.8 MB)\n",
            "\u001b[K     |████████████████████████████████| 24.8 MB 39 kB/s \n",
            "\u001b[?25hRequirement already satisfied: numpy>=1.8.2 in /usr/local/lib/python3.7/dist-packages (from scipy==1.2.2) (1.19.5)\n",
            "Installing collected packages: scipy\n",
            "  Attempting uninstall: scipy\n",
            "    Found existing installation: scipy 1.4.1\n",
            "    Uninstalling scipy-1.4.1:\n",
            "      Successfully uninstalled scipy-1.4.1\n",
            "\u001b[31mERROR: pip's dependency resolver does not currently take into account all the packages that are installed. This behaviour is the source of the following dependency conflicts.\n",
            "albumentations 0.1.12 requires imgaug<0.2.7,>=0.2.5, but you have imgaug 0.2.9 which is incompatible.\u001b[0m\n",
            "Successfully installed scipy-1.2.2\n"
          ],
          "name": "stdout"
        }
      ]
    },
    {
      "cell_type": "code",
      "metadata": {
        "colab": {
          "base_uri": "https://localhost:8080/"
        },
        "id": "tSD59fzx2NwB",
        "outputId": "ae3d5ee8-39b4-4409-a869-538f50a4401f"
      },
      "source": [
        "from google.colab import drive\n",
        "drive.mount('/content/drive')"
      ],
      "execution_count": 2,
      "outputs": [
        {
          "output_type": "stream",
          "text": [
            "Mounted at /content/drive\n"
          ],
          "name": "stdout"
        }
      ]
    },
    {
      "cell_type": "code",
      "metadata": {
        "id": "ZmXI6jeS1-t9"
      },
      "source": [
        "import tensorflow as tf \n",
        "import os \n",
        "import numpy as np \n",
        "import matplotlib.pyplot as plt\n",
        "\n",
        "from tensorflow.keras.layers import Dense, Conv2D, BatchNormalization, Activation, Dropout\n",
        "from tensorflow.keras.layers import Input, Flatten, AveragePooling2D, Add\n",
        "from tensorflow.keras import backend as K \n",
        "from tensorflow.keras.models import Model\n",
        "from tensorflow.keras.optimizers import Adam\n",
        "from tensorflow.keras.callbacks import ModelCheckpoint \n",
        "from tensorflow.keras.utils import to_categorical\n",
        "\n",
        "from tensorflow.keras.datasets import cifar10 \n",
        "from tensorflow.keras.datasets import fashion_mnist\n",
        "\n",
        "# to resize fashion MNIST from 28x28 to 32x32 \n",
        "from tqdm import tqdm\n",
        "from scipy import misc"
      ],
      "execution_count": 3,
      "outputs": []
    },
    {
      "cell_type": "code",
      "metadata": {
        "id": "zROr-05a2Gkd"
      },
      "source": [
        "batch_size=32 \n",
        "epochs=100 \n",
        "num_classes=10 \n",
        "depth=20 "
      ],
      "execution_count": 4,
      "outputs": []
    },
    {
      "cell_type": "code",
      "metadata": {
        "id": "ALLQbtz2cA4b"
      },
      "source": [
        "model_type = 'ResNet%d' % (depth)"
      ],
      "execution_count": 5,
      "outputs": []
    },
    {
      "cell_type": "code",
      "metadata": {
        "id": "ft7a2_0T7dk0",
        "colab": {
          "base_uri": "https://localhost:8080/"
        },
        "outputId": "d9269cbf-dd03-491a-9ce4-200ea48abb77"
      },
      "source": [
        "(x_train, y_train), (x_test, y_test) = fashion_mnist.load_data() "
      ],
      "execution_count": 6,
      "outputs": [
        {
          "output_type": "stream",
          "text": [
            "Downloading data from https://storage.googleapis.com/tensorflow/tf-keras-datasets/train-labels-idx1-ubyte.gz\n",
            "32768/29515 [=================================] - 0s 0us/step\n",
            "Downloading data from https://storage.googleapis.com/tensorflow/tf-keras-datasets/train-images-idx3-ubyte.gz\n",
            "26427392/26421880 [==============================] - 0s 0us/step\n",
            "Downloading data from https://storage.googleapis.com/tensorflow/tf-keras-datasets/t10k-labels-idx1-ubyte.gz\n",
            "8192/5148 [===============================================] - 0s 0us/step\n",
            "Downloading data from https://storage.googleapis.com/tensorflow/tf-keras-datasets/t10k-images-idx3-ubyte.gz\n",
            "4423680/4422102 [==============================] - 0s 0us/step\n"
          ],
          "name": "stdout"
        }
      ]
    },
    {
      "cell_type": "code",
      "metadata": {
        "colab": {
          "base_uri": "https://localhost:8080/",
          "height": 453
        },
        "id": "1XAn6inKB5Up",
        "outputId": "2cf5c927-db0c-4883-8498-aa60786361a9"
      },
      "source": [
        "x_train = np.array([misc.imresize(x, (32, 32)).astype(float) for x in tqdm(iter(x_train))])\n",
        "x_train = x_train[:, :, :, np.newaxis]\n",
        "\n",
        "x_test = np.array([misc.imresize(x, (32, 32)).astype(float) for x in tqdm(iter(x_test))])\n",
        "x_test = x_test[:, :, :, np.newaxis]\n",
        "\n",
        "x_train = x_train/255 \n",
        "x_test = x_test/255 \n",
        "\n",
        "idx = np.random.randint(0, 59999)\n",
        "\n",
        "img = x_train[idx].squeeze()\n",
        "\n",
        "plt.imshow(img)\n",
        "print(img.shape)\n",
        "\n",
        "\n",
        "y_train = to_categorical(y_train, num_classes)\n",
        "y_test = to_categorical(y_test, num_classes) \n",
        "input_shape=x_train.shape[1:]"
      ],
      "execution_count": 7,
      "outputs": [
        {
          "output_type": "stream",
          "text": [
            "0it [00:00, ?it/s]/usr/local/lib/python3.7/dist-packages/ipykernel_launcher.py:1: DeprecationWarning:     `imresize` is deprecated!\n",
            "    `imresize` is deprecated in SciPy 1.0.0, and will be removed in 1.3.0.\n",
            "    Use Pillow instead: ``numpy.array(Image.fromarray(arr).resize())``.\n",
            "  \"\"\"Entry point for launching an IPython kernel.\n",
            "60000it [00:04, 14735.23it/s]\n",
            "0it [00:00, ?it/s]/usr/local/lib/python3.7/dist-packages/ipykernel_launcher.py:4: DeprecationWarning:     `imresize` is deprecated!\n",
            "    `imresize` is deprecated in SciPy 1.0.0, and will be removed in 1.3.0.\n",
            "    Use Pillow instead: ``numpy.array(Image.fromarray(arr).resize())``.\n",
            "  after removing the cwd from sys.path.\n",
            "10000it [00:00, 15485.20it/s]\n"
          ],
          "name": "stderr"
        },
        {
          "output_type": "stream",
          "text": [
            "(32, 32)\n"
          ],
          "name": "stdout"
        },
        {
          "output_type": "display_data",
          "data": {
            "image/png": "[encoded data removed]",
            "text/plain": [
              "<Figure size 432x288 with 1 Axes>"
            ]
          },
          "metadata": {
            "tags": [],
            "needs_background": "light"
          }
        }
      ]
    },
    {
      "cell_type": "code",
      "metadata": {
        "id": "geI2YTs_8Sfz"
      },
      "source": [
        "def resnet_layer(inputs, num_filters=16, kernel_size=3, strides=1, activation='relu', batch_normalization=True, conv_first=True):\n",
        "    conv = Conv2D(num_filters, kernel_size=kernel_size, strides=strides, padding='same')\n",
        "    x = inputs \n",
        "    if conv_first:\n",
        "        x = conv(x) \n",
        "        if batch_normalization:\n",
        "            x = BatchNormalization()(x) \n",
        "        if activation is not None:\n",
        "            x = Activation(activation)(x)\n",
        "\n",
        "    else: \n",
        "        if batch_normalization:\n",
        "            x = BatchNormalization()(x) \n",
        "        if activation is not None:\n",
        "            x = Activation(activation)(x) \n",
        "        x = conv(x) \n",
        "    return x"
      ],
      "execution_count": 8,
      "outputs": []
    },
    {
      "cell_type": "code",
      "metadata": {
        "id": "bTatFBthCAG9"
      },
      "source": [
        "def resnet_v1(input_shape, depth, num_classes=10):\n",
        "    if (depth - 2)%6 != 0:\n",
        "        raise ValueError('depth should be 6n+2 (eg 20,32, 44 in [a])')\n",
        "\n",
        "    # model definition \n",
        "    num_filters = 16 \n",
        "    num_res_blocks = int((depth-2)/6)\n",
        "\n",
        "    inputs = Input(shape=input_shape)\n",
        "    x = resnet_layer(inputs=inputs) \n",
        "\n",
        "    ## instantiate the stack of residual units \n",
        "    for stack in range(3):\n",
        "        for res_block in range(num_res_blocks):\n",
        "            strides = 1 \n",
        "            if stack > 0 and res_block ==0: # first layer but not first stack \n",
        "                strides = 2 # downsample\n",
        "            y = resnet_layer(inputs=x, num_filters=num_filters, strides=strides)\n",
        "            y = resnet_layer(inputs=y, num_filters=num_filters, activation=None)\n",
        "            if stack > 0 and res_block == 0: # first layer but not first stack \n",
        "                # linear projection residual shortcut connection to match changed dimes \n",
        "                x = resnet_layer(inputs=x, num_filters=num_filters, kernel_size=1, strides=strides, activation=None, batch_normalization=False)\n",
        "            x = tf.keras.layers.add([x, y])\n",
        "            x = Activation('relu')(x) \n",
        "            x = Dropout(rate=0.25)(x) \n",
        "        num_filters *= 2 \n",
        "\n",
        "    # Add classifier on top \n",
        "    # v1 does not use BN after last shortcut connection to match changed dims \n",
        "    x = AveragePooling2D(pool_size=8)(x)\n",
        "    y = Flatten()(x) \n",
        "\n",
        "    outputs = Dense(num_classes, activation='softmax')(y)\n",
        "\n",
        "    # Instantiate model \n",
        "    model = Model(inputs=inputs, outputs=outputs)\n",
        "    return model          "
      ],
      "execution_count": 9,
      "outputs": []
    },
    {
      "cell_type": "code",
      "metadata": {
        "id": "yhA6KOZ-V-Zl"
      },
      "source": [
        "model = resnet_v1(input_shape=input_shape, depth=depth)"
      ],
      "execution_count": 10,
      "outputs": []
    },
    {
      "cell_type": "code",
      "metadata": {
        "id": "9I3Q5TJ-WFee"
      },
      "source": [
        "model.compile(loss='categorical_crossentropy', optimizer=Adam(learning_rate=0.001), metrics=['accuracy'])"
      ],
      "execution_count": 11,
      "outputs": []
    },
    {
      "cell_type": "code",
      "metadata": {
        "colab": {
          "base_uri": "https://localhost:8080/"
        },
        "id": "n4Q1NrNaWapd",
        "outputId": "227b2753-0723-4cdd-cabf-6ef5547ce54f"
      },
      "source": [
        "model.summary() \n",
        "print(model_type)"
      ],
      "execution_count": 12,
      "outputs": [
        {
          "output_type": "stream",
          "text": [
            "Model: \"model\"\n",
            "__________________________________________________________________________________________________\n",
            "Layer (type)                    Output Shape         Param #     Connected to                     \n",
            "==================================================================================================\n",
            "input_1 (InputLayer)            [(None, 32, 32, 1)]  0                                            \n",
            "__________________________________________________________________________________________________\n",
            "conv2d (Conv2D)                 (None, 32, 32, 16)   160         input_1[0][0]                    \n",
            "__________________________________________________________________________________________________\n",
            "batch_normalization (BatchNorma (None, 32, 32, 16)   64          conv2d[0][0]                     \n",
            "__________________________________________________________________________________________________\n",
            "activation (Activation)         (None, 32, 32, 16)   0           batch_normalization[0][0]        \n",
            "__________________________________________________________________________________________________\n",
            "conv2d_1 (Conv2D)               (None, 32, 32, 16)   2320        activation[0][0]                 \n",
            "__________________________________________________________________________________________________\n",
            "batch_normalization_1 (BatchNor (None, 32, 32, 16)   64          conv2d_1[0][0]                   \n",
            "__________________________________________________________________________________________________\n",
            "activation_1 (Activation)       (None, 32, 32, 16)   0           batch_normalization_1[0][0]      \n",
            "__________________________________________________________________________________________________\n",
            "conv2d_2 (Conv2D)               (None, 32, 32, 16)   2320        activation_1[0][0]               \n",
            "__________________________________________________________________________________________________\n",
            "batch_normalization_2 (BatchNor (None, 32, 32, 16)   64          conv2d_2[0][0]                   \n",
            "__________________________________________________________________________________________________\n",
            "add (Add)                       (None, 32, 32, 16)   0           activation[0][0]                 \n",
            "                                                                 batch_normalization_2[0][0]      \n",
            "__________________________________________________________________________________________________\n",
            "activation_2 (Activation)       (None, 32, 32, 16)   0           add[0][0]                        \n",
            "__________________________________________________________________________________________________\n",
            "dropout (Dropout)               (None, 32, 32, 16)   0           activation_2[0][0]               \n",
            "__________________________________________________________________________________________________\n",
            "conv2d_3 (Conv2D)               (None, 32, 32, 16)   2320        dropout[0][0]                    \n",
            "__________________________________________________________________________________________________\n",
            "batch_normalization_3 (BatchNor (None, 32, 32, 16)   64          conv2d_3[0][0]                   \n",
            "__________________________________________________________________________________________________\n",
            "activation_3 (Activation)       (None, 32, 32, 16)   0           batch_normalization_3[0][0]      \n",
            "__________________________________________________________________________________________________\n",
            "conv2d_4 (Conv2D)               (None, 32, 32, 16)   2320        activation_3[0][0]               \n",
            "__________________________________________________________________________________________________\n",
            "batch_normalization_4 (BatchNor (None, 32, 32, 16)   64          conv2d_4[0][0]                   \n",
            "__________________________________________________________________________________________________\n",
            "add_1 (Add)                     (None, 32, 32, 16)   0           dropout[0][0]                    \n",
            "                                                                 batch_normalization_4[0][0]      \n",
            "__________________________________________________________________________________________________\n",
            "activation_4 (Activation)       (None, 32, 32, 16)   0           add_1[0][0]                      \n",
            "__________________________________________________________________________________________________\n",
            "dropout_1 (Dropout)             (None, 32, 32, 16)   0           activation_4[0][0]               \n",
            "__________________________________________________________________________________________________\n",
            "conv2d_5 (Conv2D)               (None, 32, 32, 16)   2320        dropout_1[0][0]                  \n",
            "__________________________________________________________________________________________________\n",
            "batch_normalization_5 (BatchNor (None, 32, 32, 16)   64          conv2d_5[0][0]                   \n",
            "__________________________________________________________________________________________________\n",
            "activation_5 (Activation)       (None, 32, 32, 16)   0           batch_normalization_5[0][0]      \n",
            "__________________________________________________________________________________________________\n",
            "conv2d_6 (Conv2D)               (None, 32, 32, 16)   2320        activation_5[0][0]               \n",
            "__________________________________________________________________________________________________\n",
            "batch_normalization_6 (BatchNor (None, 32, 32, 16)   64          conv2d_6[0][0]                   \n",
            "__________________________________________________________________________________________________\n",
            "add_2 (Add)                     (None, 32, 32, 16)   0           dropout_1[0][0]                  \n",
            "                                                                 batch_normalization_6[0][0]      \n",
            "__________________________________________________________________________________________________\n",
            "activation_6 (Activation)       (None, 32, 32, 16)   0           add_2[0][0]                      \n",
            "__________________________________________________________________________________________________\n",
            "dropout_2 (Dropout)             (None, 32, 32, 16)   0           activation_6[0][0]               \n",
            "__________________________________________________________________________________________________\n",
            "conv2d_7 (Conv2D)               (None, 16, 16, 32)   4640        dropout_2[0][0]                  \n",
            "__________________________________________________________________________________________________\n",
            "batch_normalization_7 (BatchNor (None, 16, 16, 32)   128         conv2d_7[0][0]                   \n",
            "__________________________________________________________________________________________________\n",
            "activation_7 (Activation)       (None, 16, 16, 32)   0           batch_normalization_7[0][0]      \n",
            "__________________________________________________________________________________________________\n",
            "conv2d_8 (Conv2D)               (None, 16, 16, 32)   9248        activation_7[0][0]               \n",
            "__________________________________________________________________________________________________\n",
            "conv2d_9 (Conv2D)               (None, 16, 16, 32)   544         dropout_2[0][0]                  \n",
            "__________________________________________________________________________________________________\n",
            "batch_normalization_8 (BatchNor (None, 16, 16, 32)   128         conv2d_8[0][0]                   \n",
            "__________________________________________________________________________________________________\n",
            "add_3 (Add)                     (None, 16, 16, 32)   0           conv2d_9[0][0]                   \n",
            "                                                                 batch_normalization_8[0][0]      \n",
            "__________________________________________________________________________________________________\n",
            "activation_8 (Activation)       (None, 16, 16, 32)   0           add_3[0][0]                      \n",
            "__________________________________________________________________________________________________\n",
            "dropout_3 (Dropout)             (None, 16, 16, 32)   0           activation_8[0][0]               \n",
            "__________________________________________________________________________________________________\n",
            "conv2d_10 (Conv2D)              (None, 16, 16, 32)   9248        dropout_3[0][0]                  \n",
            "__________________________________________________________________________________________________\n",
            "batch_normalization_9 (BatchNor (None, 16, 16, 32)   128         conv2d_10[0][0]                  \n",
            "__________________________________________________________________________________________________\n",
            "activation_9 (Activation)       (None, 16, 16, 32)   0           batch_normalization_9[0][0]      \n",
            "__________________________________________________________________________________________________\n",
            "conv2d_11 (Conv2D)              (None, 16, 16, 32)   9248        activation_9[0][0]               \n",
            "__________________________________________________________________________________________________\n",
            "batch_normalization_10 (BatchNo (None, 16, 16, 32)   128         conv2d_11[0][0]                  \n",
            "__________________________________________________________________________________________________\n",
            "add_4 (Add)                     (None, 16, 16, 32)   0           dropout_3[0][0]                  \n",
            "                                                                 batch_normalization_10[0][0]     \n",
            "__________________________________________________________________________________________________\n",
            "activation_10 (Activation)      (None, 16, 16, 32)   0           add_4[0][0]                      \n",
            "__________________________________________________________________________________________________\n",
            "dropout_4 (Dropout)             (None, 16, 16, 32)   0           activation_10[0][0]              \n",
            "__________________________________________________________________________________________________\n",
            "conv2d_12 (Conv2D)              (None, 16, 16, 32)   9248        dropout_4[0][0]                  \n",
            "__________________________________________________________________________________________________\n",
            "batch_normalization_11 (BatchNo (None, 16, 16, 32)   128         conv2d_12[0][0]                  \n",
            "__________________________________________________________________________________________________\n",
            "activation_11 (Activation)      (None, 16, 16, 32)   0           batch_normalization_11[0][0]     \n",
            "__________________________________________________________________________________________________\n",
            "conv2d_13 (Conv2D)              (None, 16, 16, 32)   9248        activation_11[0][0]              \n",
            "__________________________________________________________________________________________________\n",
            "batch_normalization_12 (BatchNo (None, 16, 16, 32)   128         conv2d_13[0][0]                  \n",
            "__________________________________________________________________________________________________\n",
            "add_5 (Add)                     (None, 16, 16, 32)   0           dropout_4[0][0]                  \n",
            "                                                                 batch_normalization_12[0][0]     \n",
            "__________________________________________________________________________________________________\n",
            "activation_12 (Activation)      (None, 16, 16, 32)   0           add_5[0][0]                      \n",
            "__________________________________________________________________________________________________\n",
            "dropout_5 (Dropout)             (None, 16, 16, 32)   0           activation_12[0][0]              \n",
            "__________________________________________________________________________________________________\n",
            "conv2d_14 (Conv2D)              (None, 8, 8, 64)     18496       dropout_5[0][0]                  \n",
            "__________________________________________________________________________________________________\n",
            "batch_normalization_13 (BatchNo (None, 8, 8, 64)     256         conv2d_14[0][0]                  \n",
            "__________________________________________________________________________________________________\n",
            "activation_13 (Activation)      (None, 8, 8, 64)     0           batch_normalization_13[0][0]     \n",
            "__________________________________________________________________________________________________\n",
            "conv2d_15 (Conv2D)              (None, 8, 8, 64)     36928       activation_13[0][0]              \n",
            "__________________________________________________________________________________________________\n",
            "conv2d_16 (Conv2D)              (None, 8, 8, 64)     2112        dropout_5[0][0]                  \n",
            "__________________________________________________________________________________________________\n",
            "batch_normalization_14 (BatchNo (None, 8, 8, 64)     256         conv2d_15[0][0]                  \n",
            "__________________________________________________________________________________________________\n",
            "add_6 (Add)                     (None, 8, 8, 64)     0           conv2d_16[0][0]                  \n",
            "                                                                 batch_normalization_14[0][0]     \n",
            "__________________________________________________________________________________________________\n",
            "activation_14 (Activation)      (None, 8, 8, 64)     0           add_6[0][0]                      \n",
            "__________________________________________________________________________________________________\n",
            "dropout_6 (Dropout)             (None, 8, 8, 64)     0           activation_14[0][0]              \n",
            "__________________________________________________________________________________________________\n",
            "conv2d_17 (Conv2D)              (None, 8, 8, 64)     36928       dropout_6[0][0]                  \n",
            "__________________________________________________________________________________________________\n",
            "batch_normalization_15 (BatchNo (None, 8, 8, 64)     256         conv2d_17[0][0]                  \n",
            "__________________________________________________________________________________________________\n",
            "activation_15 (Activation)      (None, 8, 8, 64)     0           batch_normalization_15[0][0]     \n",
            "__________________________________________________________________________________________________\n",
            "conv2d_18 (Conv2D)              (None, 8, 8, 64)     36928       activation_15[0][0]              \n",
            "__________________________________________________________________________________________________\n",
            "batch_normalization_16 (BatchNo (None, 8, 8, 64)     256         conv2d_18[0][0]                  \n",
            "__________________________________________________________________________________________________\n",
            "add_7 (Add)                     (None, 8, 8, 64)     0           dropout_6[0][0]                  \n",
            "                                                                 batch_normalization_16[0][0]     \n",
            "__________________________________________________________________________________________________\n",
            "activation_16 (Activation)      (None, 8, 8, 64)     0           add_7[0][0]                      \n",
            "__________________________________________________________________________________________________\n",
            "dropout_7 (Dropout)             (None, 8, 8, 64)     0           activation_16[0][0]              \n",
            "__________________________________________________________________________________________________\n",
            "conv2d_19 (Conv2D)              (None, 8, 8, 64)     36928       dropout_7[0][0]                  \n",
            "__________________________________________________________________________________________________\n",
            "batch_normalization_17 (BatchNo (None, 8, 8, 64)     256         conv2d_19[0][0]                  \n",
            "__________________________________________________________________________________________________\n",
            "activation_17 (Activation)      (None, 8, 8, 64)     0           batch_normalization_17[0][0]     \n",
            "__________________________________________________________________________________________________\n",
            "conv2d_20 (Conv2D)              (None, 8, 8, 64)     36928       activation_17[0][0]              \n",
            "__________________________________________________________________________________________________\n",
            "batch_normalization_18 (BatchNo (None, 8, 8, 64)     256         conv2d_20[0][0]                  \n",
            "__________________________________________________________________________________________________\n",
            "add_8 (Add)                     (None, 8, 8, 64)     0           dropout_7[0][0]                  \n",
            "                                                                 batch_normalization_18[0][0]     \n",
            "__________________________________________________________________________________________________\n",
            "activation_18 (Activation)      (None, 8, 8, 64)     0           add_8[0][0]                      \n",
            "__________________________________________________________________________________________________\n",
            "dropout_8 (Dropout)             (None, 8, 8, 64)     0           activation_18[0][0]              \n",
            "__________________________________________________________________________________________________\n",
            "average_pooling2d (AveragePooli (None, 1, 1, 64)     0           dropout_8[0][0]                  \n",
            "__________________________________________________________________________________________________\n",
            "flatten (Flatten)               (None, 64)           0           average_pooling2d[0][0]          \n",
            "__________________________________________________________________________________________________\n",
            "dense (Dense)                   (None, 10)           650         flatten[0][0]                    \n",
            "==================================================================================================\n",
            "Total params: 274,154\n",
            "Trainable params: 272,778\n",
            "Non-trainable params: 1,376\n",
            "__________________________________________________________________________________________________\n",
            "ResNet20\n"
          ],
          "name": "stdout"
        }
      ]
    },
    {
      "cell_type": "code",
      "metadata": {
        "id": "3yEUNWxvWgrl"
      },
      "source": [
        "save_dir = os.path.join(os.getcwd(), 'saved_models') \n",
        "model_name = 'fashionMNIST_%s_model.{epoch:03d}.h5'%model_type\n",
        "if not os.path.isdir(save_dir):\n",
        "    os.makedirs(save_dir)\n",
        "filepath = os.path.join(save_dir, model_name)"
      ],
      "execution_count": 13,
      "outputs": []
    },
    {
      "cell_type": "code",
      "metadata": {
        "id": "kJ_VTtsJXTWg"
      },
      "source": [
        "checkpoint = ModelCheckpoint(filepath=filepath, monitor='val_accuracy', verbose=2, save_best_only=True)"
      ],
      "execution_count": 14,
      "outputs": []
    },
    {
      "cell_type": "code",
      "metadata": {
        "id": "8FB9ARxQXca9"
      },
      "source": [
        "callbacks = [checkpoint] "
      ],
      "execution_count": 15,
      "outputs": []
    },
    {
      "cell_type": "code",
      "metadata": {
        "colab": {
          "base_uri": "https://localhost:8080/"
        },
        "id": "2vC3MVxoYXjh",
        "outputId": "24091535-6605-4602-e496-8212a3eecc79"
      },
      "source": [
        "history = model.fit(x_train, y_train, batch_size=batch_size, epochs=epochs, validation_split=0.2, shuffle=True, callbacks=callbacks)"
      ],
      "execution_count": 16,
      "outputs": [
        {
          "output_type": "stream",
          "text": [
            "Epoch 1/100\n",
            "1500/1500 [==============================] - 52s 12ms/step - loss: 0.6821 - accuracy: 0.7485 - val_loss: 0.4970 - val_accuracy: 0.8155\n",
            "\n",
            "Epoch 00001: val_accuracy improved from -inf to 0.81550, saving model to /content/saved_models/fashionMNIST_ResNet20_model.001.h5\n"
          ],
          "name": "stdout"
        },
        {
          "output_type": "stream",
          "text": [
            "/usr/local/lib/python3.7/dist-packages/tensorflow/python/keras/utils/generic_utils.py:497: CustomMaskWarning: Custom mask layers require a config and must override get_config. When loading, the custom mask layer must be passed to the custom_objects argument.\n",
            "  category=CustomMaskWarning)\n"
          ],
          "name": "stderr"
        },
        {
          "output_type": "stream",
          "text": [
            "Epoch 2/100\n",
            "1500/1500 [==============================] - 19s 13ms/step - loss: 0.4132 - accuracy: 0.8511 - val_loss: 0.4025 - val_accuracy: 0.8569\n",
            "\n",
            "Epoch 00002: val_accuracy improved from 0.81550 to 0.85692, saving model to /content/saved_models/fashionMNIST_ResNet20_model.002.h5\n",
            "Epoch 3/100\n",
            "1500/1500 [==============================] - 19s 13ms/step - loss: 0.3502 - accuracy: 0.8744 - val_loss: 0.3098 - val_accuracy: 0.8892\n",
            "\n",
            "Epoch 00003: val_accuracy improved from 0.85692 to 0.88917, saving model to /content/saved_models/fashionMNIST_ResNet20_model.003.h5\n",
            "Epoch 4/100\n",
            "1500/1500 [==============================] - 19s 12ms/step - loss: 0.3154 - accuracy: 0.8870 - val_loss: 0.2659 - val_accuracy: 0.9022\n",
            "\n",
            "Epoch 00004: val_accuracy improved from 0.88917 to 0.90217, saving model to /content/saved_models/fashionMNIST_ResNet20_model.004.h5\n",
            "Epoch 5/100\n",
            "1500/1500 [==============================] - 19s 13ms/step - loss: 0.2947 - accuracy: 0.8927 - val_loss: 0.3223 - val_accuracy: 0.8848\n",
            "\n",
            "Epoch 00005: val_accuracy did not improve from 0.90217\n",
            "Epoch 6/100\n",
            "1500/1500 [==============================] - 19s 13ms/step - loss: 0.2812 - accuracy: 0.8975 - val_loss: 0.2630 - val_accuracy: 0.9054\n",
            "\n",
            "Epoch 00006: val_accuracy improved from 0.90217 to 0.90542, saving model to /content/saved_models/fashionMNIST_ResNet20_model.006.h5\n",
            "Epoch 7/100\n",
            "1500/1500 [==============================] - 18s 12ms/step - loss: 0.2662 - accuracy: 0.9029 - val_loss: 0.2510 - val_accuracy: 0.9056\n",
            "\n",
            "Epoch 00007: val_accuracy improved from 0.90542 to 0.90558, saving model to /content/saved_models/fashionMNIST_ResNet20_model.007.h5\n",
            "Epoch 8/100\n",
            "1500/1500 [==============================] - 19s 12ms/step - loss: 0.2553 - accuracy: 0.9078 - val_loss: 0.2630 - val_accuracy: 0.9054\n",
            "\n",
            "Epoch 00008: val_accuracy did not improve from 0.90558\n",
            "Epoch 9/100\n",
            "1500/1500 [==============================] - 19s 13ms/step - loss: 0.2469 - accuracy: 0.9095 - val_loss: 0.2417 - val_accuracy: 0.9154\n",
            "\n",
            "Epoch 00009: val_accuracy improved from 0.90558 to 0.91542, saving model to /content/saved_models/fashionMNIST_ResNet20_model.009.h5\n",
            "Epoch 10/100\n",
            "1500/1500 [==============================] - 19s 13ms/step - loss: 0.2388 - accuracy: 0.9115 - val_loss: 0.2513 - val_accuracy: 0.9108\n",
            "\n",
            "Epoch 00010: val_accuracy did not improve from 0.91542\n",
            "Epoch 11/100\n",
            "1500/1500 [==============================] - 19s 13ms/step - loss: 0.2332 - accuracy: 0.9154 - val_loss: 0.2266 - val_accuracy: 0.9175\n",
            "\n",
            "Epoch 00011: val_accuracy improved from 0.91542 to 0.91750, saving model to /content/saved_models/fashionMNIST_ResNet20_model.011.h5\n",
            "Epoch 12/100\n",
            "1500/1500 [==============================] - 18s 12ms/step - loss: 0.2294 - accuracy: 0.9164 - val_loss: 0.2547 - val_accuracy: 0.9080\n",
            "\n",
            "Epoch 00012: val_accuracy did not improve from 0.91750\n",
            "Epoch 13/100\n",
            "1500/1500 [==============================] - 18s 12ms/step - loss: 0.2225 - accuracy: 0.9184 - val_loss: 0.2724 - val_accuracy: 0.9047\n",
            "\n",
            "Epoch 00013: val_accuracy did not improve from 0.91750\n",
            "Epoch 14/100\n",
            "1500/1500 [==============================] - 19s 13ms/step - loss: 0.2156 - accuracy: 0.9212 - val_loss: 0.2449 - val_accuracy: 0.9138\n",
            "\n",
            "Epoch 00014: val_accuracy did not improve from 0.91750\n",
            "Epoch 15/100\n",
            "1500/1500 [==============================] - 19s 13ms/step - loss: 0.2102 - accuracy: 0.9238 - val_loss: 0.2056 - val_accuracy: 0.9237\n",
            "\n",
            "Epoch 00015: val_accuracy improved from 0.91750 to 0.92367, saving model to /content/saved_models/fashionMNIST_ResNet20_model.015.h5\n",
            "Epoch 16/100\n",
            "1500/1500 [==============================] - 18s 12ms/step - loss: 0.2065 - accuracy: 0.9233 - val_loss: 0.2206 - val_accuracy: 0.9204\n",
            "\n",
            "Epoch 00016: val_accuracy did not improve from 0.92367\n",
            "Epoch 17/100\n",
            "1500/1500 [==============================] - 18s 12ms/step - loss: 0.2021 - accuracy: 0.9244 - val_loss: 0.2020 - val_accuracy: 0.9273\n",
            "\n",
            "Epoch 00017: val_accuracy improved from 0.92367 to 0.92725, saving model to /content/saved_models/fashionMNIST_ResNet20_model.017.h5\n",
            "Epoch 18/100\n",
            "1500/1500 [==============================] - 20s 14ms/step - loss: 0.2000 - accuracy: 0.9248 - val_loss: 0.2063 - val_accuracy: 0.9276\n",
            "\n",
            "Epoch 00018: val_accuracy improved from 0.92725 to 0.92758, saving model to /content/saved_models/fashionMNIST_ResNet20_model.018.h5\n",
            "Epoch 19/100\n",
            "1500/1500 [==============================] - 18s 12ms/step - loss: 0.1982 - accuracy: 0.9272 - val_loss: 0.2115 - val_accuracy: 0.9226\n",
            "\n",
            "Epoch 00019: val_accuracy did not improve from 0.92758\n",
            "Epoch 20/100\n",
            "1500/1500 [==============================] - 18s 12ms/step - loss: 0.1931 - accuracy: 0.9294 - val_loss: 0.2085 - val_accuracy: 0.9225\n",
            "\n",
            "Epoch 00020: val_accuracy did not improve from 0.92758\n",
            "Epoch 21/100\n",
            "1500/1500 [==============================] - 19s 13ms/step - loss: 0.1905 - accuracy: 0.9300 - val_loss: 0.2057 - val_accuracy: 0.9285\n",
            "\n",
            "Epoch 00021: val_accuracy improved from 0.92758 to 0.92850, saving model to /content/saved_models/fashionMNIST_ResNet20_model.021.h5\n",
            "Epoch 22/100\n",
            "1500/1500 [==============================] - 19s 12ms/step - loss: 0.1862 - accuracy: 0.9300 - val_loss: 0.2008 - val_accuracy: 0.9285\n",
            "\n",
            "Epoch 00022: val_accuracy did not improve from 0.92850\n",
            "Epoch 23/100\n",
            "1500/1500 [==============================] - 18s 12ms/step - loss: 0.1866 - accuracy: 0.9309 - val_loss: 0.1948 - val_accuracy: 0.9300\n",
            "\n",
            "Epoch 00023: val_accuracy improved from 0.92850 to 0.93000, saving model to /content/saved_models/fashionMNIST_ResNet20_model.023.h5\n",
            "Epoch 24/100\n",
            "1500/1500 [==============================] - 19s 12ms/step - loss: 0.1817 - accuracy: 0.9344 - val_loss: 0.1934 - val_accuracy: 0.9313\n",
            "\n",
            "Epoch 00024: val_accuracy improved from 0.93000 to 0.93133, saving model to /content/saved_models/fashionMNIST_ResNet20_model.024.h5\n",
            "Epoch 25/100\n",
            "1500/1500 [==============================] - 19s 13ms/step - loss: 0.1776 - accuracy: 0.9340 - val_loss: 0.2049 - val_accuracy: 0.9281\n",
            "\n",
            "Epoch 00025: val_accuracy did not improve from 0.93133\n",
            "Epoch 26/100\n",
            "1500/1500 [==============================] - 19s 13ms/step - loss: 0.1759 - accuracy: 0.9359 - val_loss: 0.2050 - val_accuracy: 0.9293\n",
            "\n",
            "Epoch 00026: val_accuracy did not improve from 0.93133\n",
            "Epoch 27/100\n",
            "1500/1500 [==============================] - 19s 13ms/step - loss: 0.1746 - accuracy: 0.9358 - val_loss: 0.1923 - val_accuracy: 0.9306\n",
            "\n",
            "Epoch 00027: val_accuracy did not improve from 0.93133\n",
            "Epoch 28/100\n",
            "1500/1500 [==============================] - 19s 12ms/step - loss: 0.1717 - accuracy: 0.9368 - val_loss: 0.1902 - val_accuracy: 0.9308\n",
            "\n",
            "Epoch 00028: val_accuracy did not improve from 0.93133\n",
            "Epoch 29/100\n",
            "1500/1500 [==============================] - 19s 12ms/step - loss: 0.1705 - accuracy: 0.9371 - val_loss: 0.1908 - val_accuracy: 0.9330\n",
            "\n",
            "Epoch 00029: val_accuracy improved from 0.93133 to 0.93300, saving model to /content/saved_models/fashionMNIST_ResNet20_model.029.h5\n",
            "Epoch 30/100\n",
            "1500/1500 [==============================] - 19s 13ms/step - loss: 0.1672 - accuracy: 0.9390 - val_loss: 0.1958 - val_accuracy: 0.9308\n",
            "\n",
            "Epoch 00030: val_accuracy did not improve from 0.93300\n",
            "Epoch 31/100\n",
            "1500/1500 [==============================] - 18s 12ms/step - loss: 0.1652 - accuracy: 0.9398 - val_loss: 0.2015 - val_accuracy: 0.9275\n",
            "\n",
            "Epoch 00031: val_accuracy did not improve from 0.93300\n",
            "Epoch 32/100\n",
            "1500/1500 [==============================] - 18s 12ms/step - loss: 0.1638 - accuracy: 0.9395 - val_loss: 0.2019 - val_accuracy: 0.9297\n",
            "\n",
            "Epoch 00032: val_accuracy did not improve from 0.93300\n",
            "Epoch 33/100\n",
            "1500/1500 [==============================] - 19s 12ms/step - loss: 0.1604 - accuracy: 0.9404 - val_loss: 0.2059 - val_accuracy: 0.9270\n",
            "\n",
            "Epoch 00033: val_accuracy did not improve from 0.93300\n",
            "Epoch 34/100\n",
            "1500/1500 [==============================] - 19s 13ms/step - loss: 0.1604 - accuracy: 0.9400 - val_loss: 0.2090 - val_accuracy: 0.9238\n",
            "\n",
            "Epoch 00034: val_accuracy did not improve from 0.93300\n",
            "Epoch 35/100\n",
            "1500/1500 [==============================] - 18s 12ms/step - loss: 0.1552 - accuracy: 0.9430 - val_loss: 0.1964 - val_accuracy: 0.9302\n",
            "\n",
            "Epoch 00035: val_accuracy did not improve from 0.93300\n",
            "Epoch 36/100\n",
            "1500/1500 [==============================] - 19s 12ms/step - loss: 0.1570 - accuracy: 0.9417 - val_loss: 0.1936 - val_accuracy: 0.9333\n",
            "\n",
            "Epoch 00036: val_accuracy improved from 0.93300 to 0.93325, saving model to /content/saved_models/fashionMNIST_ResNet20_model.036.h5\n",
            "Epoch 37/100\n",
            "1500/1500 [==============================] - 21s 14ms/step - loss: 0.1532 - accuracy: 0.9443 - val_loss: 0.1964 - val_accuracy: 0.9309\n",
            "\n",
            "Epoch 00037: val_accuracy did not improve from 0.93325\n",
            "Epoch 38/100\n",
            "1500/1500 [==============================] - 19s 12ms/step - loss: 0.1532 - accuracy: 0.9436 - val_loss: 0.1883 - val_accuracy: 0.9329\n",
            "\n",
            "Epoch 00038: val_accuracy did not improve from 0.93325\n",
            "Epoch 39/100\n",
            "1500/1500 [==============================] - 18s 12ms/step - loss: 0.1502 - accuracy: 0.9448 - val_loss: 0.1980 - val_accuracy: 0.9306\n",
            "\n",
            "Epoch 00039: val_accuracy did not improve from 0.93325\n",
            "Epoch 40/100\n",
            "1500/1500 [==============================] - 19s 13ms/step - loss: 0.1483 - accuracy: 0.9454 - val_loss: 0.2030 - val_accuracy: 0.9306\n",
            "\n",
            "Epoch 00040: val_accuracy did not improve from 0.93325\n",
            "Epoch 41/100\n",
            "1500/1500 [==============================] - 19s 13ms/step - loss: 0.1474 - accuracy: 0.9455 - val_loss: 0.1928 - val_accuracy: 0.9317\n",
            "\n",
            "Epoch 00041: val_accuracy did not improve from 0.93325\n",
            "Epoch 42/100\n",
            "1500/1500 [==============================] - 19s 12ms/step - loss: 0.1458 - accuracy: 0.9460 - val_loss: 0.1994 - val_accuracy: 0.9299\n",
            "\n",
            "Epoch 00042: val_accuracy did not improve from 0.93325\n",
            "Epoch 43/100\n",
            "1500/1500 [==============================] - 18s 12ms/step - loss: 0.1446 - accuracy: 0.9453 - val_loss: 0.1887 - val_accuracy: 0.9357\n",
            "\n",
            "Epoch 00043: val_accuracy improved from 0.93325 to 0.93567, saving model to /content/saved_models/fashionMNIST_ResNet20_model.043.h5\n",
            "Epoch 44/100\n",
            "1500/1500 [==============================] - 21s 14ms/step - loss: 0.1408 - accuracy: 0.9480 - val_loss: 0.1913 - val_accuracy: 0.9343\n",
            "\n",
            "Epoch 00044: val_accuracy did not improve from 0.93567\n",
            "Epoch 45/100\n",
            "1500/1500 [==============================] - 19s 13ms/step - loss: 0.1419 - accuracy: 0.9480 - val_loss: 0.1907 - val_accuracy: 0.9335\n",
            "\n",
            "Epoch 00045: val_accuracy did not improve from 0.93567\n",
            "Epoch 46/100\n",
            "1500/1500 [==============================] - 19s 13ms/step - loss: 0.1400 - accuracy: 0.9467 - val_loss: 0.2008 - val_accuracy: 0.9317\n",
            "\n",
            "Epoch 00046: val_accuracy did not improve from 0.93567\n",
            "Epoch 47/100\n",
            "1500/1500 [==============================] - 18s 12ms/step - loss: 0.1397 - accuracy: 0.9480 - val_loss: 0.2025 - val_accuracy: 0.9309\n",
            "\n",
            "Epoch 00047: val_accuracy did not improve from 0.93567\n",
            "Epoch 48/100\n",
            "1500/1500 [==============================] - 18s 12ms/step - loss: 0.1378 - accuracy: 0.9484 - val_loss: 0.1956 - val_accuracy: 0.9321\n",
            "\n",
            "Epoch 00048: val_accuracy did not improve from 0.93567\n",
            "Epoch 49/100\n",
            "1500/1500 [==============================] - 19s 13ms/step - loss: 0.1352 - accuracy: 0.9486 - val_loss: 0.1930 - val_accuracy: 0.9327\n",
            "\n",
            "Epoch 00049: val_accuracy did not improve from 0.93567\n",
            "Epoch 50/100\n",
            "1500/1500 [==============================] - 19s 13ms/step - loss: 0.1350 - accuracy: 0.9497 - val_loss: 0.2033 - val_accuracy: 0.9298\n",
            "\n",
            "Epoch 00050: val_accuracy did not improve from 0.93567\n",
            "Epoch 51/100\n",
            "1500/1500 [==============================] - 19s 12ms/step - loss: 0.1337 - accuracy: 0.9501 - val_loss: 0.1948 - val_accuracy: 0.9349\n",
            "\n",
            "Epoch 00051: val_accuracy did not improve from 0.93567\n",
            "Epoch 52/100\n",
            "1500/1500 [==============================] - 19s 13ms/step - loss: 0.1336 - accuracy: 0.9500 - val_loss: 0.1888 - val_accuracy: 0.9340\n",
            "\n",
            "Epoch 00052: val_accuracy did not improve from 0.93567\n",
            "Epoch 53/100\n",
            "1500/1500 [==============================] - 19s 13ms/step - loss: 0.1336 - accuracy: 0.9501 - val_loss: 0.1924 - val_accuracy: 0.9352\n",
            "\n",
            "Epoch 00053: val_accuracy did not improve from 0.93567\n",
            "Epoch 54/100\n",
            "1500/1500 [==============================] - 19s 12ms/step - loss: 0.1295 - accuracy: 0.9516 - val_loss: 0.2048 - val_accuracy: 0.9302\n",
            "\n",
            "Epoch 00054: val_accuracy did not improve from 0.93567\n",
            "Epoch 55/100\n",
            "1500/1500 [==============================] - 19s 12ms/step - loss: 0.1295 - accuracy: 0.9519 - val_loss: 0.1911 - val_accuracy: 0.9355\n",
            "\n",
            "Epoch 00055: val_accuracy did not improve from 0.93567\n",
            "Epoch 56/100\n",
            "1500/1500 [==============================] - 19s 13ms/step - loss: 0.1288 - accuracy: 0.9519 - val_loss: 0.2010 - val_accuracy: 0.9318\n",
            "\n",
            "Epoch 00056: val_accuracy did not improve from 0.93567\n",
            "Epoch 57/100\n",
            "1500/1500 [==============================] - 19s 13ms/step - loss: 0.1292 - accuracy: 0.9524 - val_loss: 0.1972 - val_accuracy: 0.9326\n",
            "\n",
            "Epoch 00057: val_accuracy did not improve from 0.93567\n",
            "Epoch 58/100\n",
            "1500/1500 [==============================] - 19s 12ms/step - loss: 0.1274 - accuracy: 0.9521 - val_loss: 0.1919 - val_accuracy: 0.9337\n",
            "\n",
            "Epoch 00058: val_accuracy did not improve from 0.93567\n",
            "Epoch 59/100\n",
            "1500/1500 [==============================] - 19s 13ms/step - loss: 0.1249 - accuracy: 0.9522 - val_loss: 0.1963 - val_accuracy: 0.9351\n",
            "\n",
            "Epoch 00059: val_accuracy did not improve from 0.93567\n",
            "Epoch 60/100\n",
            "1500/1500 [==============================] - 19s 13ms/step - loss: 0.1233 - accuracy: 0.9534 - val_loss: 0.1998 - val_accuracy: 0.9337\n",
            "\n",
            "Epoch 00060: val_accuracy did not improve from 0.93567\n",
            "Epoch 61/100\n",
            "1500/1500 [==============================] - 19s 13ms/step - loss: 0.1251 - accuracy: 0.9529 - val_loss: 0.1992 - val_accuracy: 0.9352\n",
            "\n",
            "Epoch 00061: val_accuracy did not improve from 0.93567\n",
            "Epoch 62/100\n",
            "1500/1500 [==============================] - 19s 13ms/step - loss: 0.1231 - accuracy: 0.9534 - val_loss: 0.2167 - val_accuracy: 0.9289\n",
            "\n",
            "Epoch 00062: val_accuracy did not improve from 0.93567\n",
            "Epoch 63/100\n",
            "1500/1500 [==============================] - 18s 12ms/step - loss: 0.1222 - accuracy: 0.9543 - val_loss: 0.2117 - val_accuracy: 0.9313\n",
            "\n",
            "Epoch 00063: val_accuracy did not improve from 0.93567\n",
            "Epoch 64/100\n",
            "1500/1500 [==============================] - 19s 13ms/step - loss: 0.1199 - accuracy: 0.9560 - val_loss: 0.1948 - val_accuracy: 0.9362\n",
            "\n",
            "Epoch 00064: val_accuracy improved from 0.93567 to 0.93625, saving model to /content/saved_models/fashionMNIST_ResNet20_model.064.h5\n",
            "Epoch 65/100\n",
            "1500/1500 [==============================] - 20s 13ms/step - loss: 0.1210 - accuracy: 0.9552 - val_loss: 0.2026 - val_accuracy: 0.9337\n",
            "\n",
            "Epoch 00065: val_accuracy did not improve from 0.93625\n",
            "Epoch 66/100\n",
            "1500/1500 [==============================] - 19s 12ms/step - loss: 0.1188 - accuracy: 0.9550 - val_loss: 0.2007 - val_accuracy: 0.9343\n",
            "\n",
            "Epoch 00066: val_accuracy did not improve from 0.93625\n",
            "Epoch 67/100\n",
            "1500/1500 [==============================] - 19s 12ms/step - loss: 0.1160 - accuracy: 0.9576 - val_loss: 0.2062 - val_accuracy: 0.9327\n",
            "\n",
            "Epoch 00067: val_accuracy did not improve from 0.93625\n",
            "Epoch 68/100\n",
            "1500/1500 [==============================] - 19s 13ms/step - loss: 0.1195 - accuracy: 0.9550 - val_loss: 0.1964 - val_accuracy: 0.9385\n",
            "\n",
            "Epoch 00068: val_accuracy improved from 0.93625 to 0.93850, saving model to /content/saved_models/fashionMNIST_ResNet20_model.068.h5\n",
            "Epoch 69/100\n",
            "1500/1500 [==============================] - 19s 13ms/step - loss: 0.1159 - accuracy: 0.9565 - val_loss: 0.1981 - val_accuracy: 0.9366\n",
            "\n",
            "Epoch 00069: val_accuracy did not improve from 0.93850\n",
            "Epoch 70/100\n",
            "1500/1500 [==============================] - 19s 12ms/step - loss: 0.1165 - accuracy: 0.9567 - val_loss: 0.1911 - val_accuracy: 0.9363\n",
            "\n",
            "Epoch 00070: val_accuracy did not improve from 0.93850\n",
            "Epoch 71/100\n",
            "1500/1500 [==============================] - 19s 13ms/step - loss: 0.1168 - accuracy: 0.9561 - val_loss: 0.1924 - val_accuracy: 0.9353\n",
            "\n",
            "Epoch 00071: val_accuracy did not improve from 0.93850\n",
            "Epoch 72/100\n",
            "1500/1500 [==============================] - 20s 13ms/step - loss: 0.1141 - accuracy: 0.9572 - val_loss: 0.1906 - val_accuracy: 0.9368\n",
            "\n",
            "Epoch 00072: val_accuracy did not improve from 0.93850\n",
            "Epoch 73/100\n",
            "1500/1500 [==============================] - 19s 12ms/step - loss: 0.1127 - accuracy: 0.9576 - val_loss: 0.2108 - val_accuracy: 0.9313\n",
            "\n",
            "Epoch 00073: val_accuracy did not improve from 0.93850\n",
            "Epoch 74/100\n",
            "1500/1500 [==============================] - 19s 13ms/step - loss: 0.1140 - accuracy: 0.9574 - val_loss: 0.1981 - val_accuracy: 0.9367\n",
            "\n",
            "Epoch 00074: val_accuracy did not improve from 0.93850\n",
            "Epoch 75/100\n",
            "1500/1500 [==============================] - 19s 13ms/step - loss: 0.1110 - accuracy: 0.9586 - val_loss: 0.2096 - val_accuracy: 0.9303\n",
            "\n",
            "Epoch 00075: val_accuracy did not improve from 0.93850\n",
            "Epoch 76/100\n",
            "1500/1500 [==============================] - 19s 13ms/step - loss: 0.1110 - accuracy: 0.9586 - val_loss: 0.1964 - val_accuracy: 0.9385\n",
            "\n",
            "Epoch 00076: val_accuracy did not improve from 0.93850\n",
            "Epoch 77/100\n",
            "1500/1500 [==============================] - 19s 12ms/step - loss: 0.1082 - accuracy: 0.9598 - val_loss: 0.2253 - val_accuracy: 0.9311\n",
            "\n",
            "Epoch 00077: val_accuracy did not improve from 0.93850\n",
            "Epoch 78/100\n",
            "1500/1500 [==============================] - 19s 13ms/step - loss: 0.1110 - accuracy: 0.9578 - val_loss: 0.2035 - val_accuracy: 0.9348\n",
            "\n",
            "Epoch 00078: val_accuracy did not improve from 0.93850\n",
            "Epoch 79/100\n",
            "1500/1500 [==============================] - 20s 13ms/step - loss: 0.1078 - accuracy: 0.9589 - val_loss: 0.1963 - val_accuracy: 0.9325\n",
            "\n",
            "Epoch 00079: val_accuracy did not improve from 0.93850\n",
            "Epoch 80/100\n",
            "1500/1500 [==============================] - 19s 13ms/step - loss: 0.1087 - accuracy: 0.9592 - val_loss: 0.2022 - val_accuracy: 0.9360\n",
            "\n",
            "Epoch 00080: val_accuracy did not improve from 0.93850\n",
            "Epoch 81/100\n",
            "1500/1500 [==============================] - 19s 13ms/step - loss: 0.1058 - accuracy: 0.9605 - val_loss: 0.2000 - val_accuracy: 0.9350\n",
            "\n",
            "Epoch 00081: val_accuracy did not improve from 0.93850\n",
            "Epoch 82/100\n",
            "1500/1500 [==============================] - 19s 12ms/step - loss: 0.1059 - accuracy: 0.9610 - val_loss: 0.2463 - val_accuracy: 0.9259\n",
            "\n",
            "Epoch 00082: val_accuracy did not improve from 0.93850\n",
            "Epoch 83/100\n",
            "1500/1500 [==============================] - 19s 13ms/step - loss: 0.1049 - accuracy: 0.9599 - val_loss: 0.1988 - val_accuracy: 0.9347\n",
            "\n",
            "Epoch 00083: val_accuracy did not improve from 0.93850\n",
            "Epoch 84/100\n",
            "1500/1500 [==============================] - 20s 13ms/step - loss: 0.1061 - accuracy: 0.9603 - val_loss: 0.1985 - val_accuracy: 0.9377\n",
            "\n",
            "Epoch 00084: val_accuracy did not improve from 0.93850\n",
            "Epoch 85/100\n",
            "1500/1500 [==============================] - 19s 12ms/step - loss: 0.1048 - accuracy: 0.9602 - val_loss: 0.2038 - val_accuracy: 0.9362\n",
            "\n",
            "Epoch 00085: val_accuracy did not improve from 0.93850\n",
            "Epoch 86/100\n",
            "1500/1500 [==============================] - 19s 12ms/step - loss: 0.1034 - accuracy: 0.9615 - val_loss: 0.2008 - val_accuracy: 0.9349\n",
            "\n",
            "Epoch 00086: val_accuracy did not improve from 0.93850\n",
            "Epoch 87/100\n",
            "1500/1500 [==============================] - 19s 13ms/step - loss: 0.1012 - accuracy: 0.9614 - val_loss: 0.1959 - val_accuracy: 0.9375\n",
            "\n",
            "Epoch 00087: val_accuracy did not improve from 0.93850\n",
            "Epoch 88/100\n",
            "1500/1500 [==============================] - 19s 13ms/step - loss: 0.1001 - accuracy: 0.9626 - val_loss: 0.2009 - val_accuracy: 0.9373\n",
            "\n",
            "Epoch 00088: val_accuracy did not improve from 0.93850\n",
            "Epoch 89/100\n",
            "1500/1500 [==============================] - 19s 12ms/step - loss: 0.1035 - accuracy: 0.9620 - val_loss: 0.2051 - val_accuracy: 0.9371\n",
            "\n",
            "Epoch 00089: val_accuracy did not improve from 0.93850\n",
            "Epoch 90/100\n",
            "1500/1500 [==============================] - 19s 13ms/step - loss: 0.1000 - accuracy: 0.9627 - val_loss: 0.2104 - val_accuracy: 0.9315\n",
            "\n",
            "Epoch 00090: val_accuracy did not improve from 0.93850\n",
            "Epoch 91/100\n",
            "1500/1500 [==============================] - 20s 13ms/step - loss: 0.0991 - accuracy: 0.9630 - val_loss: 0.2087 - val_accuracy: 0.9377\n",
            "\n",
            "Epoch 00091: val_accuracy did not improve from 0.93850\n",
            "Epoch 92/100\n",
            "1500/1500 [==============================] - 19s 13ms/step - loss: 0.0968 - accuracy: 0.9638 - val_loss: 0.2156 - val_accuracy: 0.9345\n",
            "\n",
            "Epoch 00092: val_accuracy did not improve from 0.93850\n",
            "Epoch 93/100\n",
            "1500/1500 [==============================] - 19s 12ms/step - loss: 0.0984 - accuracy: 0.9631 - val_loss: 0.2127 - val_accuracy: 0.9334\n",
            "\n",
            "Epoch 00093: val_accuracy did not improve from 0.93850\n",
            "Epoch 94/100\n",
            "1500/1500 [==============================] - 20s 13ms/step - loss: 0.0981 - accuracy: 0.9639 - val_loss: 0.2085 - val_accuracy: 0.9352\n",
            "\n",
            "Epoch 00094: val_accuracy did not improve from 0.93850\n",
            "Epoch 95/100\n",
            "1500/1500 [==============================] - 19s 13ms/step - loss: 0.0963 - accuracy: 0.9641 - val_loss: 0.2109 - val_accuracy: 0.9348\n",
            "\n",
            "Epoch 00095: val_accuracy did not improve from 0.93850\n",
            "Epoch 96/100\n",
            "1500/1500 [==============================] - 20s 13ms/step - loss: 0.0955 - accuracy: 0.9640 - val_loss: 0.2153 - val_accuracy: 0.9354\n",
            "\n",
            "Epoch 00096: val_accuracy did not improve from 0.93850\n",
            "Epoch 97/100\n",
            "1500/1500 [==============================] - 19s 13ms/step - loss: 0.0963 - accuracy: 0.9648 - val_loss: 0.2324 - val_accuracy: 0.9299\n",
            "\n",
            "Epoch 00097: val_accuracy did not improve from 0.93850\n",
            "Epoch 98/100\n",
            "1500/1500 [==============================] - 19s 12ms/step - loss: 0.0926 - accuracy: 0.9649 - val_loss: 0.2188 - val_accuracy: 0.9337\n",
            "\n",
            "Epoch 00098: val_accuracy did not improve from 0.93850\n",
            "Epoch 99/100\n",
            "1500/1500 [==============================] - 19s 13ms/step - loss: 0.0994 - accuracy: 0.9621 - val_loss: 0.2027 - val_accuracy: 0.9365\n",
            "\n",
            "Epoch 00099: val_accuracy did not improve from 0.93850\n",
            "Epoch 100/100\n",
            "1500/1500 [==============================] - 19s 13ms/step - loss: 0.0928 - accuracy: 0.9651 - val_loss: 0.2094 - val_accuracy: 0.9371\n",
            "\n",
            "Epoch 00100: val_accuracy did not improve from 0.93850\n"
          ],
          "name": "stdout"
        }
      ]
    },
    {
      "cell_type": "code",
      "metadata": {
        "colab": {
          "base_uri": "https://localhost:8080/",
          "height": 281
        },
        "id": "cc0aq8wk5m6F",
        "outputId": "c3a95a6b-0491-4ae8-cf19-8b83cbfa912f"
      },
      "source": [
        "plt.plot(history.history['loss'])\n",
        "plt.plot(history.history['val_loss'])\n",
        "plt.title('model loss performance')\n",
        "plt.legend(['train loss', 'validation loss'])\n",
        "plt.show()"
      ],
      "execution_count": 17,
      "outputs": [
        {
          "output_type": "display_data",
          "data": {
            "image/png": "[encoded data removed]",
            "text/plain": [
              "<Figure size 432x288 with 1 Axes>"
            ]
          },
          "metadata": {
            "tags": [],
            "needs_background": "light"
          }
        }
      ]
    },
    {
      "cell_type": "code",
      "metadata": {
        "colab": {
          "base_uri": "https://localhost:8080/",
          "height": 281
        },
        "id": "bOGWA0NL6UF_",
        "outputId": "08167f25-c60a-4579-ca7f-d61bf36b8642"
      },
      "source": [
        "plt.plot(history.history['accuracy'])\n",
        "plt.plot(history.history['val_accuracy'])\n",
        "plt.title('model accuracy performance')\n",
        "plt.legend(['train accuracy', 'validation accuracy'])\n",
        "plt.show()"
      ],
      "execution_count": 18,
      "outputs": [
        {
          "output_type": "display_data",
          "data": {
            "image/png": "[encoded data removed]",
            "text/plain": [
              "<Figure size 432x288 with 1 Axes>"
            ]
          },
          "metadata": {
            "tags": [],
            "needs_background": "light"
          }
        }
      ]
    },
    {
      "cell_type": "code",
      "metadata": {
        "colab": {
          "base_uri": "https://localhost:8080/"
        },
        "id": "KSGatV59isQC",
        "outputId": "41aff612-d6c8-42bd-9f05-f24d3172dd32"
      },
      "source": [
        "model.evaluate(x_test, y_test)"
      ],
      "execution_count": 19,
      "outputs": [
        {
          "output_type": "stream",
          "text": [
            "313/313 [==============================] - 2s 5ms/step - loss: 0.2172 - accuracy: 0.9362\n"
          ],
          "name": "stdout"
        },
        {
          "output_type": "execute_result",
          "data": {
            "text/plain": [
              "[0.2172386646270752, 0.9362000226974487]"
            ]
          },
          "metadata": {
            "tags": []
          },
          "execution_count": 19
        }
      ]
    },
    {
      "cell_type": "code",
      "metadata": {
        "id": "OOeBUFuq6sgn"
      },
      "source": [
        "# https://towardsdatascience.com/resnets-for-cifar-10-e63e900524e0\n",
        "# http://www.pabloruizruiz10.com/resources/CNNs/ResNet-PyTorch.html \n",
        "# https://github.com/shoji9x9/Fashion-MNIST-By-ResNet/blob/master/Fashion-MNIST-by-ResNet-50.ipynb"
      ],
      "execution_count": null,
      "outputs": []
    }
  ]
}