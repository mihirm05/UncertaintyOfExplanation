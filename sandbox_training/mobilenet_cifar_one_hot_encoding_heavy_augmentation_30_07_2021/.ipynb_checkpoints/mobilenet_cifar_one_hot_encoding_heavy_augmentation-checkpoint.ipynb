{
 "cells": [
  {
   "cell_type": "markdown",
   "metadata": {
    "id": "P4lqcFV3Ctu9"
   },
   "source": [
    "### Imports"
   ]
  },
  {
   "cell_type": "code",
   "execution_count": 1,
   "metadata": {
    "id": "AhIu5UBSB_QT"
   },
   "outputs": [],
   "source": [
    "import numpy as np \n",
    "import matplotlib.pyplot as plt \n",
    "\n",
    "import tensorflow as tf \n",
    "import tensorflow.keras.datasets as data \n",
    "from tensorflow.keras.layers import *\n",
    "from tensorflow.keras.models import Model\n",
    "from tensorflow.keras.utils import to_categorical\n",
    "from tensorflow.keras.applications.resnet50 import ResNet50\n",
    "from tensorflow.keras.applications.mobilenet import MobileNet\n",
    "from tensorflow.keras.preprocessing.image import ImageDataGenerator \n",
    "from tensorflow.keras.datasets import cifar10\n",
    "\n",
    "\n",
    "# https://keras.io/applications/#mobilenet\n",
    "# https://arxiv.org/pdf/1704.04861.pdf"
   ]
  },
  {
   "cell_type": "markdown",
   "metadata": {
    "id": "BwX9o8GhCvrf"
   },
   "source": [
    "### Loading dataset"
   ]
  },
  {
   "cell_type": "code",
   "execution_count": 2,
   "metadata": {
    "id": "T8Sdd1fsCw-N"
   },
   "outputs": [],
   "source": [
    "# load and preprocess the data\n",
    "\n",
    "(x_train, y_train), (x_test, y_test) = cifar10.load_data()\n",
    "x_train = x_train.astype('float32')\n",
    "x_test = x_test.astype('float32') \n",
    "\n",
    "x_train = x_train/255 \n",
    "x_test = x_test/255 \n",
    "\n",
    "y_train = to_categorical(y_train)\n",
    "y_test = to_categorical(y_test)"
   ]
  },
  {
   "cell_type": "markdown",
   "metadata": {
    "id": "MC3nykwfDlA_"
   },
   "source": [
    "### Data Augmentation"
   ]
  },
  {
   "cell_type": "code",
   "execution_count": 3,
   "metadata": {
    "id": "gnDyN8XxDm65"
   },
   "outputs": [],
   "source": [
    "datagen = ImageDataGenerator(rotation_range=30, \n",
    "                             horizontal_flip=True, \n",
    "                             width_shift_range=0.05, \n",
    "                             height_shift_range=0.05,\n",
    "                             zoom_range=0.1)\n",
    "\n",
    "train_augmented = datagen.flow(x_train, y_train, batch_size=32)"
   ]
  },
  {
   "cell_type": "markdown",
   "metadata": {
    "id": "pV9JZ8-ig9T_"
   },
   "source": [
    "### Building Model"
   ]
  },
  {
   "cell_type": "code",
   "execution_count": null,
   "metadata": {
    "id": "3uxwjDAaJqNw"
   },
   "outputs": [],
   "source": [
    "def build_model(): \n",
    "    input_image = Input(shape=(32, 32, 3))\n",
    "\n",
    "    base_model = MobileNet(weights='imagenet', include_top=False, input_shape=(32, 32, 3))\n",
    "\n",
    "    x = base_model.output\n",
    "    x = Dropout(0.5)(x)\n",
    "    x = GlobalAveragePooling2D()(x)\n",
    "    predictions = Dense(10, activation='softmax')(x)\n",
    "\n",
    "    model = Model(inputs=base_model.input, outputs=predictions)\n",
    "    return model\n",
    "\n",
    "model = build_model()\n",
    "model.compile(optimizer=tf.keras.optimizers.Adam(learning_rate=0.0001), loss='categorical_crossentropy', metrics=['accuracy'])\n",
    "model.summary()"
   ]
  },
  {
   "cell_type": "markdown",
   "metadata": {
    "id": "j_J54XeshAYy"
   },
   "source": [
    "### Training"
   ]
  },
  {
   "cell_type": "code",
   "execution_count": 5,
   "metadata": {
    "colab": {
     "base_uri": "https://localhost:8080/"
    },
    "id": "z9VFS29tJbgi",
    "outputId": "daa66506-d35f-4006-a59c-bd4023ebb1a3"
   },
   "outputs": [
    {
     "name": "stderr",
     "output_type": "stream",
     "text": [
      "/usr/local/lib/python3.7/dist-packages/tensorflow/python/keras/engine/training.py:1940: UserWarning: `Model.fit_generator` is deprecated and will be removed in a future version. Please use `Model.fit`, which supports generators.\n",
      "  warnings.warn('`Model.fit_generator` is deprecated and '\n"
     ]
    },
    {
     "name": "stdout",
     "output_type": "stream",
     "text": [
      "Epoch 1/100\n",
      "1562/1562 [==============================] - 58s 34ms/step - loss: 2.3821 - accuracy: 0.3622 - val_loss: 1.2245 - val_accuracy: 0.5737\n",
      "Epoch 2/100\n",
      "1562/1562 [==============================] - 53s 34ms/step - loss: 1.3660 - accuracy: 0.5302 - val_loss: 1.0481 - val_accuracy: 0.6403\n",
      "Epoch 3/100\n",
      "1562/1562 [==============================] - 55s 35ms/step - loss: 1.1660 - accuracy: 0.5982 - val_loss: 0.8957 - val_accuracy: 0.6960\n",
      "Epoch 4/100\n",
      "1562/1562 [==============================] - 55s 35ms/step - loss: 1.0467 - accuracy: 0.6419 - val_loss: 0.8202 - val_accuracy: 0.7199\n",
      "Epoch 5/100\n",
      "1562/1562 [==============================] - 54s 34ms/step - loss: 0.9625 - accuracy: 0.6741 - val_loss: 0.7616 - val_accuracy: 0.7414\n",
      "Epoch 6/100\n",
      "1562/1562 [==============================] - 55s 35ms/step - loss: 0.8981 - accuracy: 0.6976 - val_loss: 0.7099 - val_accuracy: 0.7654\n",
      "Epoch 7/100\n",
      "1562/1562 [==============================] - 55s 35ms/step - loss: 0.8360 - accuracy: 0.7192 - val_loss: 0.6584 - val_accuracy: 0.7759\n",
      "Epoch 8/100\n",
      "1562/1562 [==============================] - 52s 33ms/step - loss: 0.7985 - accuracy: 0.7299 - val_loss: 0.6536 - val_accuracy: 0.7816\n",
      "Epoch 9/100\n",
      "1562/1562 [==============================] - 55s 35ms/step - loss: 0.7627 - accuracy: 0.7450 - val_loss: 0.6228 - val_accuracy: 0.7855\n",
      "Epoch 10/100\n",
      "1562/1562 [==============================] - 54s 35ms/step - loss: 0.7264 - accuracy: 0.7548 - val_loss: 0.6038 - val_accuracy: 0.7996\n",
      "Epoch 11/100\n",
      "1562/1562 [==============================] - 54s 35ms/step - loss: 0.7028 - accuracy: 0.7635 - val_loss: 0.5974 - val_accuracy: 0.7976\n",
      "Epoch 12/100\n",
      "1562/1562 [==============================] - 53s 34ms/step - loss: 0.6750 - accuracy: 0.7724 - val_loss: 0.5538 - val_accuracy: 0.8127\n",
      "Epoch 13/100\n",
      "1562/1562 [==============================] - 55s 35ms/step - loss: 0.6543 - accuracy: 0.7797 - val_loss: 0.5569 - val_accuracy: 0.8115\n",
      "Epoch 14/100\n",
      "1562/1562 [==============================] - 54s 35ms/step - loss: 0.6350 - accuracy: 0.7837 - val_loss: 0.5316 - val_accuracy: 0.8224\n",
      "Epoch 15/100\n",
      "1562/1562 [==============================] - 54s 35ms/step - loss: 0.6126 - accuracy: 0.7929 - val_loss: 0.5092 - val_accuracy: 0.8254\n",
      "Epoch 16/100\n",
      "1562/1562 [==============================] - 55s 35ms/step - loss: 0.5987 - accuracy: 0.7983 - val_loss: 0.5293 - val_accuracy: 0.8207\n",
      "Epoch 17/100\n",
      "1562/1562 [==============================] - 56s 36ms/step - loss: 0.5840 - accuracy: 0.8010 - val_loss: 0.5175 - val_accuracy: 0.8286\n",
      "Epoch 18/100\n",
      "1562/1562 [==============================] - 56s 36ms/step - loss: 0.5719 - accuracy: 0.8059 - val_loss: 0.5007 - val_accuracy: 0.8282\n",
      "Epoch 19/100\n",
      "1562/1562 [==============================] - 55s 35ms/step - loss: 0.5478 - accuracy: 0.8140 - val_loss: 0.5206 - val_accuracy: 0.8237\n",
      "Epoch 20/100\n",
      "1562/1562 [==============================] - 54s 35ms/step - loss: 0.5374 - accuracy: 0.8158 - val_loss: 0.4875 - val_accuracy: 0.8322\n",
      "Epoch 21/100\n",
      "1562/1562 [==============================] - 53s 34ms/step - loss: 0.5288 - accuracy: 0.8194 - val_loss: 0.5072 - val_accuracy: 0.8277\n",
      "Epoch 22/100\n",
      "1562/1562 [==============================] - 54s 35ms/step - loss: 0.5188 - accuracy: 0.8247 - val_loss: 0.4751 - val_accuracy: 0.8406\n",
      "Epoch 23/100\n",
      "1562/1562 [==============================] - 55s 35ms/step - loss: 0.5122 - accuracy: 0.8259 - val_loss: 0.4838 - val_accuracy: 0.8355\n",
      "Epoch 24/100\n",
      "1562/1562 [==============================] - 55s 35ms/step - loss: 0.4905 - accuracy: 0.8315 - val_loss: 0.4770 - val_accuracy: 0.8390\n",
      "Epoch 25/100\n",
      "1562/1562 [==============================] - 56s 36ms/step - loss: 0.4837 - accuracy: 0.8372 - val_loss: 0.4773 - val_accuracy: 0.8384\n",
      "Epoch 26/100\n",
      "1562/1562 [==============================] - 56s 36ms/step - loss: 0.4704 - accuracy: 0.8415 - val_loss: 0.4771 - val_accuracy: 0.8371\n",
      "Epoch 27/100\n",
      "1562/1562 [==============================] - 55s 35ms/step - loss: 0.4626 - accuracy: 0.8407 - val_loss: 0.4661 - val_accuracy: 0.8402\n",
      "Epoch 28/100\n",
      "1562/1562 [==============================] - 55s 36ms/step - loss: 0.4558 - accuracy: 0.8471 - val_loss: 0.4661 - val_accuracy: 0.8423\n",
      "Epoch 29/100\n",
      "1562/1562 [==============================] - 56s 36ms/step - loss: 0.4509 - accuracy: 0.8482 - val_loss: 0.4631 - val_accuracy: 0.8437\n",
      "Epoch 30/100\n",
      "1562/1562 [==============================] - 55s 35ms/step - loss: 0.4336 - accuracy: 0.8530 - val_loss: 0.4543 - val_accuracy: 0.8442\n",
      "Epoch 31/100\n",
      "1562/1562 [==============================] - 56s 36ms/step - loss: 0.4281 - accuracy: 0.8554 - val_loss: 0.4682 - val_accuracy: 0.8403\n",
      "Epoch 32/100\n",
      "1562/1562 [==============================] - 56s 36ms/step - loss: 0.4199 - accuracy: 0.8557 - val_loss: 0.4297 - val_accuracy: 0.8534\n",
      "Epoch 33/100\n",
      "1562/1562 [==============================] - 55s 35ms/step - loss: 0.4175 - accuracy: 0.8578 - val_loss: 0.4479 - val_accuracy: 0.8512\n",
      "Epoch 34/100\n",
      "1562/1562 [==============================] - 56s 36ms/step - loss: 0.4080 - accuracy: 0.8610 - val_loss: 0.4582 - val_accuracy: 0.8466\n",
      "Epoch 35/100\n",
      "1562/1562 [==============================] - 55s 35ms/step - loss: 0.4051 - accuracy: 0.8630 - val_loss: 0.4484 - val_accuracy: 0.8514\n",
      "Epoch 36/100\n",
      "1562/1562 [==============================] - 56s 36ms/step - loss: 0.3977 - accuracy: 0.8647 - val_loss: 0.4519 - val_accuracy: 0.8477\n",
      "Epoch 37/100\n",
      "1562/1562 [==============================] - 55s 35ms/step - loss: 0.3876 - accuracy: 0.8679 - val_loss: 0.4457 - val_accuracy: 0.8470\n",
      "Epoch 38/100\n",
      "1562/1562 [==============================] - 55s 35ms/step - loss: 0.3855 - accuracy: 0.8702 - val_loss: 0.4381 - val_accuracy: 0.8540\n",
      "Epoch 39/100\n",
      "1562/1562 [==============================] - 55s 35ms/step - loss: 0.3811 - accuracy: 0.8679 - val_loss: 0.4432 - val_accuracy: 0.8518\n",
      "Epoch 40/100\n",
      "1562/1562 [==============================] - 56s 36ms/step - loss: 0.3736 - accuracy: 0.8730 - val_loss: 0.4502 - val_accuracy: 0.8501\n",
      "Epoch 41/100\n",
      "1562/1562 [==============================] - 55s 35ms/step - loss: 0.3665 - accuracy: 0.8757 - val_loss: 0.4428 - val_accuracy: 0.8500\n",
      "Epoch 42/100\n",
      "1562/1562 [==============================] - 54s 35ms/step - loss: 0.3594 - accuracy: 0.8761 - val_loss: 0.4509 - val_accuracy: 0.8449\n",
      "Epoch 43/100\n",
      "1562/1562 [==============================] - 54s 35ms/step - loss: 0.3592 - accuracy: 0.8771 - val_loss: 0.4374 - val_accuracy: 0.8523\n",
      "Epoch 44/100\n",
      "1562/1562 [==============================] - 54s 35ms/step - loss: 0.3598 - accuracy: 0.8775 - val_loss: 0.4314 - val_accuracy: 0.8560\n",
      "Epoch 45/100\n",
      "1562/1562 [==============================] - 55s 35ms/step - loss: 0.3523 - accuracy: 0.8786 - val_loss: 0.4283 - val_accuracy: 0.8562\n",
      "Epoch 46/100\n",
      "1562/1562 [==============================] - 55s 35ms/step - loss: 0.3413 - accuracy: 0.8827 - val_loss: 0.4569 - val_accuracy: 0.8514\n",
      "Epoch 47/100\n",
      "1562/1562 [==============================] - 55s 35ms/step - loss: 0.3411 - accuracy: 0.8845 - val_loss: 0.4280 - val_accuracy: 0.8583\n",
      "Epoch 48/100\n",
      "1562/1562 [==============================] - 55s 35ms/step - loss: 0.3346 - accuracy: 0.8871 - val_loss: 0.4324 - val_accuracy: 0.8567\n",
      "Epoch 49/100\n",
      "1562/1562 [==============================] - 56s 36ms/step - loss: 0.3276 - accuracy: 0.8871 - val_loss: 0.4433 - val_accuracy: 0.8538\n",
      "Epoch 50/100\n",
      "1562/1562 [==============================] - 56s 36ms/step - loss: 0.3299 - accuracy: 0.8861 - val_loss: 0.4330 - val_accuracy: 0.8553\n",
      "Epoch 51/100\n",
      "1562/1562 [==============================] - 56s 36ms/step - loss: 0.3149 - accuracy: 0.8920 - val_loss: 0.4455 - val_accuracy: 0.8527\n",
      "Epoch 52/100\n",
      "1562/1562 [==============================] - 56s 36ms/step - loss: 0.3204 - accuracy: 0.8906 - val_loss: 0.4229 - val_accuracy: 0.8584\n",
      "Epoch 53/100\n",
      "1562/1562 [==============================] - 56s 36ms/step - loss: 0.3167 - accuracy: 0.8917 - val_loss: 0.4363 - val_accuracy: 0.8529\n",
      "Epoch 54/100\n",
      "1562/1562 [==============================] - 55s 35ms/step - loss: 0.3151 - accuracy: 0.8934 - val_loss: 0.4343 - val_accuracy: 0.8542\n",
      "Epoch 55/100\n",
      "1562/1562 [==============================] - 54s 35ms/step - loss: 0.3005 - accuracy: 0.8974 - val_loss: 0.4452 - val_accuracy: 0.8537\n",
      "Epoch 56/100\n",
      "1562/1562 [==============================] - 55s 35ms/step - loss: 0.3013 - accuracy: 0.8982 - val_loss: 0.4250 - val_accuracy: 0.8595\n",
      "Epoch 57/100\n",
      "1562/1562 [==============================] - 57s 36ms/step - loss: 0.2936 - accuracy: 0.9005 - val_loss: 0.4368 - val_accuracy: 0.8557\n",
      "Epoch 58/100\n",
      "1562/1562 [==============================] - 56s 36ms/step - loss: 0.2952 - accuracy: 0.9001 - val_loss: 0.4364 - val_accuracy: 0.8553\n",
      "Epoch 59/100\n",
      "1562/1562 [==============================] - 57s 36ms/step - loss: 0.2882 - accuracy: 0.9010 - val_loss: 0.4379 - val_accuracy: 0.8565\n",
      "Epoch 60/100\n",
      "1562/1562 [==============================] - 56s 36ms/step - loss: 0.2869 - accuracy: 0.9020 - val_loss: 0.4165 - val_accuracy: 0.8634\n",
      "Epoch 61/100\n",
      "1562/1562 [==============================] - 56s 36ms/step - loss: 0.2836 - accuracy: 0.9027 - val_loss: 0.4245 - val_accuracy: 0.8594\n",
      "Epoch 62/100\n",
      "1562/1562 [==============================] - 56s 36ms/step - loss: 0.2851 - accuracy: 0.9045 - val_loss: 0.4491 - val_accuracy: 0.8503\n",
      "Epoch 63/100\n",
      "1562/1562 [==============================] - 56s 36ms/step - loss: 0.2764 - accuracy: 0.9056 - val_loss: 0.4317 - val_accuracy: 0.8593\n",
      "Epoch 64/100\n",
      "1562/1562 [==============================] - 55s 35ms/step - loss: 0.2736 - accuracy: 0.9058 - val_loss: 0.4396 - val_accuracy: 0.8514\n",
      "Epoch 65/100\n",
      "1562/1562 [==============================] - 55s 35ms/step - loss: 0.2760 - accuracy: 0.9061 - val_loss: 0.4245 - val_accuracy: 0.8606\n",
      "Epoch 66/100\n",
      "1562/1562 [==============================] - 57s 36ms/step - loss: 0.2704 - accuracy: 0.9072 - val_loss: 0.4533 - val_accuracy: 0.8513\n",
      "Epoch 67/100\n",
      "1562/1562 [==============================] - 56s 36ms/step - loss: 0.2661 - accuracy: 0.9099 - val_loss: 0.4453 - val_accuracy: 0.8547\n",
      "Epoch 68/100\n",
      "1562/1562 [==============================] - 56s 36ms/step - loss: 0.2623 - accuracy: 0.9123 - val_loss: 0.4203 - val_accuracy: 0.8627\n",
      "Epoch 69/100\n",
      "1562/1562 [==============================] - 55s 35ms/step - loss: 0.2595 - accuracy: 0.9132 - val_loss: 0.4384 - val_accuracy: 0.8559\n",
      "Epoch 70/100\n",
      "1562/1562 [==============================] - 55s 35ms/step - loss: 0.2571 - accuracy: 0.9131 - val_loss: 0.4245 - val_accuracy: 0.8617\n",
      "Epoch 71/100\n",
      "1562/1562 [==============================] - 55s 35ms/step - loss: 0.2493 - accuracy: 0.9147 - val_loss: 0.4365 - val_accuracy: 0.8570\n",
      "Epoch 72/100\n",
      "1562/1562 [==============================] - 56s 36ms/step - loss: 0.2486 - accuracy: 0.9154 - val_loss: 0.4242 - val_accuracy: 0.8627\n",
      "Epoch 73/100\n",
      "1562/1562 [==============================] - 56s 36ms/step - loss: 0.2521 - accuracy: 0.9142 - val_loss: 0.4203 - val_accuracy: 0.8596\n",
      "Epoch 74/100\n",
      "1562/1562 [==============================] - 56s 36ms/step - loss: 0.2481 - accuracy: 0.9152 - val_loss: 0.4269 - val_accuracy: 0.8568\n",
      "Epoch 75/100\n",
      "1562/1562 [==============================] - 56s 36ms/step - loss: 0.2431 - accuracy: 0.9175 - val_loss: 0.4386 - val_accuracy: 0.8568\n",
      "Epoch 76/100\n",
      "1562/1562 [==============================] - 56s 36ms/step - loss: 0.2472 - accuracy: 0.9162 - val_loss: 0.4368 - val_accuracy: 0.8539\n",
      "Epoch 77/100\n",
      "1562/1562 [==============================] - 55s 35ms/step - loss: 0.2350 - accuracy: 0.9213 - val_loss: 0.4171 - val_accuracy: 0.8606\n",
      "Epoch 78/100\n",
      "1562/1562 [==============================] - 56s 36ms/step - loss: 0.2425 - accuracy: 0.9186 - val_loss: 0.4194 - val_accuracy: 0.8578\n",
      "Epoch 79/100\n",
      "1562/1562 [==============================] - 54s 35ms/step - loss: 0.2359 - accuracy: 0.9209 - val_loss: 0.4396 - val_accuracy: 0.8564\n",
      "Epoch 80/100\n",
      "1562/1562 [==============================] - 56s 36ms/step - loss: 0.2354 - accuracy: 0.9198 - val_loss: 0.4192 - val_accuracy: 0.8583\n",
      "Epoch 81/100\n",
      "1562/1562 [==============================] - 55s 35ms/step - loss: 0.2277 - accuracy: 0.9218 - val_loss: 0.4289 - val_accuracy: 0.8643\n",
      "Epoch 82/100\n",
      "1562/1562 [==============================] - 55s 35ms/step - loss: 0.2298 - accuracy: 0.9227 - val_loss: 0.4545 - val_accuracy: 0.8526\n",
      "Epoch 83/100\n",
      "1562/1562 [==============================] - 56s 36ms/step - loss: 0.2261 - accuracy: 0.9234 - val_loss: 0.4240 - val_accuracy: 0.8603\n",
      "Epoch 84/100\n",
      "1562/1562 [==============================] - 56s 36ms/step - loss: 0.2282 - accuracy: 0.9222 - val_loss: 0.4358 - val_accuracy: 0.8540\n",
      "Epoch 85/100\n",
      "1562/1562 [==============================] - 55s 35ms/step - loss: 0.2218 - accuracy: 0.9245 - val_loss: 0.4231 - val_accuracy: 0.8622\n",
      "Epoch 86/100\n",
      "1562/1562 [==============================] - 54s 35ms/step - loss: 0.2215 - accuracy: 0.9236 - val_loss: 0.4322 - val_accuracy: 0.8588\n",
      "Epoch 87/100\n",
      "1562/1562 [==============================] - 56s 36ms/step - loss: 0.2212 - accuracy: 0.9264 - val_loss: 0.4389 - val_accuracy: 0.8570\n",
      "Epoch 88/100\n",
      "1562/1562 [==============================] - 57s 36ms/step - loss: 0.2138 - accuracy: 0.9277 - val_loss: 0.4418 - val_accuracy: 0.8575\n",
      "Epoch 89/100\n",
      "1562/1562 [==============================] - 55s 35ms/step - loss: 0.2153 - accuracy: 0.9270 - val_loss: 0.4519 - val_accuracy: 0.8569\n",
      "Epoch 90/100\n",
      "1562/1562 [==============================] - 55s 35ms/step - loss: 0.2113 - accuracy: 0.9281 - val_loss: 0.4361 - val_accuracy: 0.8590\n",
      "Epoch 91/100\n",
      "1562/1562 [==============================] - 55s 35ms/step - loss: 0.2153 - accuracy: 0.9271 - val_loss: 0.4335 - val_accuracy: 0.8576\n",
      "Epoch 92/100\n",
      "1562/1562 [==============================] - 56s 36ms/step - loss: 0.2125 - accuracy: 0.9278 - val_loss: 0.4250 - val_accuracy: 0.8612\n",
      "Epoch 93/100\n",
      "1562/1562 [==============================] - 55s 35ms/step - loss: 0.2046 - accuracy: 0.9312 - val_loss: 0.4399 - val_accuracy: 0.8607\n",
      "Epoch 94/100\n",
      "1562/1562 [==============================] - 55s 35ms/step - loss: 0.2029 - accuracy: 0.9311 - val_loss: 0.4716 - val_accuracy: 0.8502\n",
      "Epoch 95/100\n",
      "1562/1562 [==============================] - 53s 34ms/step - loss: 0.2058 - accuracy: 0.9306 - val_loss: 0.4247 - val_accuracy: 0.8643\n",
      "Epoch 96/100\n",
      "1562/1562 [==============================] - 55s 35ms/step - loss: 0.1990 - accuracy: 0.9322 - val_loss: 0.4172 - val_accuracy: 0.8650\n",
      "Epoch 97/100\n",
      "1562/1562 [==============================] - 54s 35ms/step - loss: 0.2027 - accuracy: 0.9323 - val_loss: 0.4360 - val_accuracy: 0.8597\n",
      "Epoch 98/100\n",
      "1562/1562 [==============================] - 55s 35ms/step - loss: 0.2040 - accuracy: 0.9322 - val_loss: 0.4503 - val_accuracy: 0.8577\n",
      "Epoch 99/100\n",
      "1562/1562 [==============================] - 54s 35ms/step - loss: 0.1978 - accuracy: 0.9324 - val_loss: 0.4432 - val_accuracy: 0.8591\n",
      "Epoch 100/100\n",
      "1562/1562 [==============================] - 55s 35ms/step - loss: 0.1983 - accuracy: 0.9331 - val_loss: 0.4500 - val_accuracy: 0.8588\n"
     ]
    }
   ],
   "source": [
    "steps = int(x_train.shape[0]/32)\n",
    "history = model.fit_generator(train_augmented, steps_per_epoch=steps, epochs=100, validation_data=(x_test, y_test))"
   ]
  },
  {
   "cell_type": "markdown",
   "metadata": {
    "id": "ybY0hrrohCGg"
   },
   "source": [
    "### Plot loss"
   ]
  },
  {
   "cell_type": "code",
   "execution_count": 7,
   "metadata": {
    "colab": {
     "base_uri": "https://localhost:8080/",
     "height": 295
    },
    "id": "P_zEgMi4Kdyv",
    "outputId": "7d9eaa6a-4e77-4451-b5b0-3580795f1266"
   },
   "outputs": [
    {
     "data": {
      "image/png": "[encoded data removed]",
      "text/plain": [
       "<Figure size 432x288 with 1 Axes>"
      ]
     },
     "metadata": {
      "needs_background": "light",
      "tags": []
     },
     "output_type": "display_data"
    }
   ],
   "source": [
    "# plotting custom model loss \n",
    "\n",
    "plt.plot(history.history['loss'])\n",
    "plt.plot(history.history['val_loss'])\n",
    "plt.title('model_loss')\n",
    "plt.ylabel('loss')\n",
    "plt.xlabel('epoch')\n",
    "plt.legend(['train', 'validation'], loc='upper left')\n",
    "plt.show()"
   ]
  },
  {
   "cell_type": "markdown",
   "metadata": {
    "id": "3C8E7zBEhELu"
   },
   "source": [
    "### Plot accuracy"
   ]
  },
  {
   "cell_type": "code",
   "execution_count": 8,
   "metadata": {
    "colab": {
     "base_uri": "https://localhost:8080/",
     "height": 295
    },
    "id": "2lOiYixcLT2e",
    "outputId": "629361ad-a47f-40a4-edb3-09d3f26051c2"
   },
   "outputs": [
    {
     "data": {
      "image/png": "[encoded data removed]",
      "text/plain": [
       "<Figure size 432x288 with 1 Axes>"
      ]
     },
     "metadata": {
      "needs_background": "light",
      "tags": []
     },
     "output_type": "display_data"
    }
   ],
   "source": [
    "# plotting mobilenet accuracy \n",
    "\n",
    "plt.plot(history.history['accuracy'])\n",
    "plt.plot(history.history['val_accuracy'])\n",
    "plt.title('model_accuracy')\n",
    "plt.ylabel('accuracy')\n",
    "plt.xlabel('epoch')\n",
    "plt.legend(['train', 'validation'], loc='upper left')\n",
    "plt.show()"
   ]
  },
  {
   "cell_type": "markdown",
   "metadata": {
    "id": "S0o58UQnhHKZ"
   },
   "source": [
    "### Save model"
   ]
  },
  {
   "cell_type": "code",
   "execution_count": 9,
   "metadata": {
    "colab": {
     "base_uri": "https://localhost:8080/"
    },
    "id": "wcz8gEs_UZLB",
    "outputId": "59d5cd3f-f17b-418e-de99-51a27157e876"
   },
   "outputs": [
    {
     "name": "stdout",
     "output_type": "stream",
     "text": [
      "INFO:tensorflow:Assets written to: saved_model/my_model/assets\n"
     ]
    }
   ],
   "source": [
    "model.save('saved_model/my_model')"
   ]
  },
  {
   "cell_type": "code",
   "execution_count": 10,
   "metadata": {
    "colab": {
     "base_uri": "https://localhost:8080/"
    },
    "id": "A_e-lQK-hvMT",
    "outputId": "80d93df4-b9ad-4194-e496-80d5b0ac2f91"
   },
   "outputs": [
    {
     "name": "stdout",
     "output_type": "stream",
     "text": [
      "  adding: content/saved_model/ (stored 0%)\n",
      "  adding: content/saved_model/my_model/ (stored 0%)\n",
      "  adding: content/saved_model/my_model/variables/ (stored 0%)\n",
      "  adding: content/saved_model/my_model/variables/variables.data-00000-of-00001 (deflated 10%)\n",
      "  adding: content/saved_model/my_model/variables/variables.index (deflated 79%)\n",
      "  adding: content/saved_model/my_model/assets/ (stored 0%)\n",
      "  adding: content/saved_model/my_model/keras_metadata.pb (deflated 95%)\n",
      "  adding: content/saved_model/my_model/saved_model.pb (deflated 92%)\n"
     ]
    }
   ],
   "source": [
    "!zip -r /content/saved_model.zip /content/saved_model"
   ]
  },
  {
   "cell_type": "code",
   "execution_count": 11,
   "metadata": {
    "colab": {
     "base_uri": "https://localhost:8080/",
     "height": 17
    },
    "id": "TNkyaoKphzga",
    "outputId": "a1d7b29e-35ee-4a9b-b023-c715902de3f8"
   },
   "outputs": [
    {
     "data": {
      "application/javascript": [
       "\n",
       "    async function download(id, filename, size) {\n",
       "      if (!google.colab.kernel.accessAllowed) {\n",
       "        return;\n",
       "      }\n",
       "      const div = document.createElement('div');\n",
       "      const label = document.createElement('label');\n",
       "      label.textContent = `Downloading \"${filename}\": `;\n",
       "      div.appendChild(label);\n",
       "      const progress = document.createElement('progress');\n",
       "      progress.max = size;\n",
       "      div.appendChild(progress);\n",
       "      document.body.appendChild(div);\n",
       "\n",
       "      const buffers = [];\n",
       "      let downloaded = 0;\n",
       "\n",
       "      const channel = await google.colab.kernel.comms.open(id);\n",
       "      // Send a message to notify the kernel that we're ready.\n",
       "      channel.send({})\n",
       "\n",
       "      for await (const message of channel.messages) {\n",
       "        // Send a message to notify the kernel that we're ready.\n",
       "        channel.send({})\n",
       "        if (message.buffers) {\n",
       "          for (const buffer of message.buffers) {\n",
       "            buffers.push(buffer);\n",
       "            downloaded += buffer.byteLength;\n",
       "            progress.value = downloaded;\n",
       "          }\n",
       "        }\n",
       "      }\n",
       "      const blob = new Blob(buffers, {type: 'application/binary'});\n",
       "      const a = document.createElement('a');\n",
       "      a.href = window.URL.createObjectURL(blob);\n",
       "      a.download = filename;\n",
       "      div.appendChild(a);\n",
       "      a.click();\n",
       "      div.remove();\n",
       "    }\n",
       "  "
      ],
      "text/plain": [
       "<IPython.core.display.Javascript object>"
      ]
     },
     "metadata": {
      "tags": []
     },
     "output_type": "display_data"
    },
    {
     "data": {
      "application/javascript": [
       "download(\"download_44b8a578-18d6-4b59-a3d0-29c3d09e9738\", \"saved_model.zip\", 35170845)"
      ],
      "text/plain": [
       "<IPython.core.display.Javascript object>"
      ]
     },
     "metadata": {
      "tags": []
     },
     "output_type": "display_data"
    }
   ],
   "source": [
    "from google.colab import files\n",
    "files.download(\"/content/saved_model.zip\")"
   ]
  },
  {
   "cell_type": "code",
   "execution_count": null,
   "metadata": {
    "id": "n2i8T9pxh2jk"
   },
   "outputs": [],
   "source": []
  }
 ],
 "metadata": {
  "accelerator": "GPU",
  "colab": {
   "collapsed_sections": [],
   "name": "modified_models_cifar.ipynb",
   "provenance": []
  },
  "kernelspec": {
   "display_name": "Python 3",
   "language": "python",
   "name": "python3"
  },
  "language_info": {
   "codemirror_mode": {
    "name": "ipython",
    "version": 3
   },
   "file_extension": ".py",
   "mimetype": "text/x-python",
   "name": "python",
   "nbconvert_exporter": "python",
   "pygments_lexer": "ipython3",
   "version": "3.7.3"
  }
 },
 "nbformat": 4,
 "nbformat_minor": 1
}
