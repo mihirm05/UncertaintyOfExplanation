{
 "cells": [
  {
   "cell_type": "markdown",
   "metadata": {
    "id": "P4lqcFV3Ctu9"
   },
   "source": [
    "### Imports"
   ]
  },
  {
   "cell_type": "code",
   "execution_count": 1,
   "metadata": {
    "id": "AhIu5UBSB_QT"
   },
   "outputs": [],
   "source": [
    "import numpy as np \n",
    "import matplotlib.pyplot as plt \n",
    "\n",
    "import tensorflow as tf \n",
    "import tensorflow.keras.datasets as data \n",
    "from tensorflow.keras.layers import *\n",
    "from tensorflow.keras.models import Model\n",
    "from tensorflow.keras.utils import to_categorical\n",
    "from tensorflow.keras.applications.resnet50 import ResNet50\n",
    "from tensorflow.keras.applications.mobilenet import MobileNet\n",
    "from tensorflow.keras.preprocessing.image import ImageDataGenerator \n",
    "from tensorflow.keras.datasets import cifar10\n",
    "\n",
    "\n",
    "# https://keras.io/applications/#mobilenet\n",
    "# https://arxiv.org/pdf/1704.04861.pdf"
   ]
  },
  {
   "cell_type": "markdown",
   "metadata": {
    "id": "BwX9o8GhCvrf"
   },
   "source": [
    "### Loading dataset"
   ]
  },
  {
   "cell_type": "code",
   "execution_count": 2,
   "metadata": {
    "id": "T8Sdd1fsCw-N"
   },
   "outputs": [],
   "source": [
    "# load and preprocess the data\n",
    "\n",
    "(x_train, y_train), (x_test, y_test) = cifar10.load_data()\n",
    "x_train = x_train.astype('float32')\n",
    "x_test = x_test.astype('float32') \n",
    "\n",
    "x_train = x_train/255 \n",
    "x_test = x_test/255 \n",
    "\n",
    "y_train = to_categorical(y_train)\n",
    "y_test = to_categorical(y_test)"
   ]
  },
  {
   "cell_type": "markdown",
   "metadata": {
    "id": "MC3nykwfDlA_"
   },
   "source": [
    "### Data Augmentation"
   ]
  },
  {
   "cell_type": "code",
   "execution_count": 3,
   "metadata": {
    "id": "gnDyN8XxDm65"
   },
   "outputs": [],
   "source": [
    "datagen = ImageDataGenerator(rotation_range=10, \n",
    "                             horizontal_flip=True, \n",
    "                             zoom_range=0.1)\n",
    "\n",
    "train_augmented = datagen.flow(x_train, y_train, batch_size=32)"
   ]
  },
  {
   "cell_type": "markdown",
   "metadata": {
    "id": "pV9JZ8-ig9T_"
   },
   "source": [
    "### Building Model"
   ]
  },
  {
   "cell_type": "code",
   "execution_count": 4,
   "metadata": {
    "colab": {
     "base_uri": "https://localhost:8080/"
    },
    "id": "3uxwjDAaJqNw",
    "outputId": "5794398d-7ec8-4230-99b7-8d4ea63cd24a"
   },
   "outputs": [
    {
     "name": "stdout",
     "output_type": "stream",
     "text": [
      "WARNING:tensorflow:`input_shape` is undefined or non-square, or `rows` is not in [128, 160, 192, 224]. Weights for input shape (224, 224) will be loaded as the default.\n",
      "Model: \"model\"\n",
      "_________________________________________________________________\n",
      "Layer (type)                 Output Shape              Param #   \n",
      "=================================================================\n",
      "input_2 (InputLayer)         [(None, 32, 32, 3)]       0         \n",
      "_________________________________________________________________\n",
      "conv1 (Conv2D)               (None, 16, 16, 32)        864       \n",
      "_________________________________________________________________\n",
      "conv1_bn (BatchNormalization (None, 16, 16, 32)        128       \n",
      "_________________________________________________________________\n",
      "conv1_relu (ReLU)            (None, 16, 16, 32)        0         \n",
      "_________________________________________________________________\n",
      "conv_dw_1 (DepthwiseConv2D)  (None, 16, 16, 32)        288       \n",
      "_________________________________________________________________\n",
      "conv_dw_1_bn (BatchNormaliza (None, 16, 16, 32)        128       \n",
      "_________________________________________________________________\n",
      "conv_dw_1_relu (ReLU)        (None, 16, 16, 32)        0         \n",
      "_________________________________________________________________\n",
      "conv_pw_1 (Conv2D)           (None, 16, 16, 64)        2048      \n",
      "_________________________________________________________________\n",
      "conv_pw_1_bn (BatchNormaliza (None, 16, 16, 64)        256       \n",
      "_________________________________________________________________\n",
      "conv_pw_1_relu (ReLU)        (None, 16, 16, 64)        0         \n",
      "_________________________________________________________________\n",
      "conv_pad_2 (ZeroPadding2D)   (None, 17, 17, 64)        0         \n",
      "_________________________________________________________________\n",
      "conv_dw_2 (DepthwiseConv2D)  (None, 8, 8, 64)          576       \n",
      "_________________________________________________________________\n",
      "conv_dw_2_bn (BatchNormaliza (None, 8, 8, 64)          256       \n",
      "_________________________________________________________________\n",
      "conv_dw_2_relu (ReLU)        (None, 8, 8, 64)          0         \n",
      "_________________________________________________________________\n",
      "conv_pw_2 (Conv2D)           (None, 8, 8, 128)         8192      \n",
      "_________________________________________________________________\n",
      "conv_pw_2_bn (BatchNormaliza (None, 8, 8, 128)         512       \n",
      "_________________________________________________________________\n",
      "conv_pw_2_relu (ReLU)        (None, 8, 8, 128)         0         \n",
      "_________________________________________________________________\n",
      "conv_dw_3 (DepthwiseConv2D)  (None, 8, 8, 128)         1152      \n",
      "_________________________________________________________________\n",
      "conv_dw_3_bn (BatchNormaliza (None, 8, 8, 128)         512       \n",
      "_________________________________________________________________\n",
      "conv_dw_3_relu (ReLU)        (None, 8, 8, 128)         0         \n",
      "_________________________________________________________________\n",
      "conv_pw_3 (Conv2D)           (None, 8, 8, 128)         16384     \n",
      "_________________________________________________________________\n",
      "conv_pw_3_bn (BatchNormaliza (None, 8, 8, 128)         512       \n",
      "_________________________________________________________________\n",
      "conv_pw_3_relu (ReLU)        (None, 8, 8, 128)         0         \n",
      "_________________________________________________________________\n",
      "conv_pad_4 (ZeroPadding2D)   (None, 9, 9, 128)         0         \n",
      "_________________________________________________________________\n",
      "conv_dw_4 (DepthwiseConv2D)  (None, 4, 4, 128)         1152      \n",
      "_________________________________________________________________\n",
      "conv_dw_4_bn (BatchNormaliza (None, 4, 4, 128)         512       \n",
      "_________________________________________________________________\n",
      "conv_dw_4_relu (ReLU)        (None, 4, 4, 128)         0         \n",
      "_________________________________________________________________\n",
      "conv_pw_4 (Conv2D)           (None, 4, 4, 256)         32768     \n",
      "_________________________________________________________________\n",
      "conv_pw_4_bn (BatchNormaliza (None, 4, 4, 256)         1024      \n",
      "_________________________________________________________________\n",
      "conv_pw_4_relu (ReLU)        (None, 4, 4, 256)         0         \n",
      "_________________________________________________________________\n",
      "conv_dw_5 (DepthwiseConv2D)  (None, 4, 4, 256)         2304      \n",
      "_________________________________________________________________\n",
      "conv_dw_5_bn (BatchNormaliza (None, 4, 4, 256)         1024      \n",
      "_________________________________________________________________\n",
      "conv_dw_5_relu (ReLU)        (None, 4, 4, 256)         0         \n",
      "_________________________________________________________________\n",
      "conv_pw_5 (Conv2D)           (None, 4, 4, 256)         65536     \n",
      "_________________________________________________________________\n",
      "conv_pw_5_bn (BatchNormaliza (None, 4, 4, 256)         1024      \n",
      "_________________________________________________________________\n",
      "conv_pw_5_relu (ReLU)        (None, 4, 4, 256)         0         \n",
      "_________________________________________________________________\n",
      "conv_pad_6 (ZeroPadding2D)   (None, 5, 5, 256)         0         \n",
      "_________________________________________________________________\n",
      "conv_dw_6 (DepthwiseConv2D)  (None, 2, 2, 256)         2304      \n",
      "_________________________________________________________________\n",
      "conv_dw_6_bn (BatchNormaliza (None, 2, 2, 256)         1024      \n",
      "_________________________________________________________________\n",
      "conv_dw_6_relu (ReLU)        (None, 2, 2, 256)         0         \n",
      "_________________________________________________________________\n",
      "conv_pw_6 (Conv2D)           (None, 2, 2, 512)         131072    \n",
      "_________________________________________________________________\n",
      "conv_pw_6_bn (BatchNormaliza (None, 2, 2, 512)         2048      \n",
      "_________________________________________________________________\n",
      "conv_pw_6_relu (ReLU)        (None, 2, 2, 512)         0         \n",
      "_________________________________________________________________\n",
      "conv_dw_7 (DepthwiseConv2D)  (None, 2, 2, 512)         4608      \n",
      "_________________________________________________________________\n",
      "conv_dw_7_bn (BatchNormaliza (None, 2, 2, 512)         2048      \n",
      "_________________________________________________________________\n",
      "conv_dw_7_relu (ReLU)        (None, 2, 2, 512)         0         \n",
      "_________________________________________________________________\n",
      "conv_pw_7 (Conv2D)           (None, 2, 2, 512)         262144    \n",
      "_________________________________________________________________\n",
      "conv_pw_7_bn (BatchNormaliza (None, 2, 2, 512)         2048      \n",
      "_________________________________________________________________\n",
      "conv_pw_7_relu (ReLU)        (None, 2, 2, 512)         0         \n",
      "_________________________________________________________________\n",
      "conv_dw_8 (DepthwiseConv2D)  (None, 2, 2, 512)         4608      \n",
      "_________________________________________________________________\n",
      "conv_dw_8_bn (BatchNormaliza (None, 2, 2, 512)         2048      \n",
      "_________________________________________________________________\n",
      "conv_dw_8_relu (ReLU)        (None, 2, 2, 512)         0         \n",
      "_________________________________________________________________\n",
      "conv_pw_8 (Conv2D)           (None, 2, 2, 512)         262144    \n",
      "_________________________________________________________________\n",
      "conv_pw_8_bn (BatchNormaliza (None, 2, 2, 512)         2048      \n",
      "_________________________________________________________________\n",
      "conv_pw_8_relu (ReLU)        (None, 2, 2, 512)         0         \n",
      "_________________________________________________________________\n",
      "conv_dw_9 (DepthwiseConv2D)  (None, 2, 2, 512)         4608      \n",
      "_________________________________________________________________\n",
      "conv_dw_9_bn (BatchNormaliza (None, 2, 2, 512)         2048      \n",
      "_________________________________________________________________\n",
      "conv_dw_9_relu (ReLU)        (None, 2, 2, 512)         0         \n",
      "_________________________________________________________________\n",
      "conv_pw_9 (Conv2D)           (None, 2, 2, 512)         262144    \n",
      "_________________________________________________________________\n",
      "conv_pw_9_bn (BatchNormaliza (None, 2, 2, 512)         2048      \n",
      "_________________________________________________________________\n",
      "conv_pw_9_relu (ReLU)        (None, 2, 2, 512)         0         \n",
      "_________________________________________________________________\n",
      "conv_dw_10 (DepthwiseConv2D) (None, 2, 2, 512)         4608      \n",
      "_________________________________________________________________\n",
      "conv_dw_10_bn (BatchNormaliz (None, 2, 2, 512)         2048      \n",
      "_________________________________________________________________\n",
      "conv_dw_10_relu (ReLU)       (None, 2, 2, 512)         0         \n",
      "_________________________________________________________________\n",
      "conv_pw_10 (Conv2D)          (None, 2, 2, 512)         262144    \n",
      "_________________________________________________________________\n",
      "conv_pw_10_bn (BatchNormaliz (None, 2, 2, 512)         2048      \n",
      "_________________________________________________________________\n",
      "conv_pw_10_relu (ReLU)       (None, 2, 2, 512)         0         \n",
      "_________________________________________________________________\n",
      "conv_dw_11 (DepthwiseConv2D) (None, 2, 2, 512)         4608      \n",
      "_________________________________________________________________\n",
      "conv_dw_11_bn (BatchNormaliz (None, 2, 2, 512)         2048      \n",
      "_________________________________________________________________\n",
      "conv_dw_11_relu (ReLU)       (None, 2, 2, 512)         0         \n",
      "_________________________________________________________________\n",
      "conv_pw_11 (Conv2D)          (None, 2, 2, 512)         262144    \n",
      "_________________________________________________________________\n",
      "conv_pw_11_bn (BatchNormaliz (None, 2, 2, 512)         2048      \n",
      "_________________________________________________________________\n",
      "conv_pw_11_relu (ReLU)       (None, 2, 2, 512)         0         \n",
      "_________________________________________________________________\n",
      "conv_pad_12 (ZeroPadding2D)  (None, 3, 3, 512)         0         \n",
      "_________________________________________________________________\n",
      "conv_dw_12 (DepthwiseConv2D) (None, 1, 1, 512)         4608      \n",
      "_________________________________________________________________\n",
      "conv_dw_12_bn (BatchNormaliz (None, 1, 1, 512)         2048      \n",
      "_________________________________________________________________\n",
      "conv_dw_12_relu (ReLU)       (None, 1, 1, 512)         0         \n",
      "_________________________________________________________________\n",
      "conv_pw_12 (Conv2D)          (None, 1, 1, 1024)        524288    \n",
      "_________________________________________________________________\n",
      "conv_pw_12_bn (BatchNormaliz (None, 1, 1, 1024)        4096      \n",
      "_________________________________________________________________\n",
      "conv_pw_12_relu (ReLU)       (None, 1, 1, 1024)        0         \n",
      "_________________________________________________________________\n",
      "conv_dw_13 (DepthwiseConv2D) (None, 1, 1, 1024)        9216      \n",
      "_________________________________________________________________\n",
      "conv_dw_13_bn (BatchNormaliz (None, 1, 1, 1024)        4096      \n",
      "_________________________________________________________________\n",
      "conv_dw_13_relu (ReLU)       (None, 1, 1, 1024)        0         \n",
      "_________________________________________________________________\n",
      "conv_pw_13 (Conv2D)          (None, 1, 1, 1024)        1048576   \n",
      "_________________________________________________________________\n",
      "conv_pw_13_bn (BatchNormaliz (None, 1, 1, 1024)        4096      \n",
      "_________________________________________________________________\n",
      "conv_pw_13_relu (ReLU)       (None, 1, 1, 1024)        0         \n",
      "_________________________________________________________________\n",
      "dropout (Dropout)            (None, 1, 1, 1024)        0         \n",
      "_________________________________________________________________\n",
      "global_average_pooling2d (Gl (None, 1024)              0         \n",
      "_________________________________________________________________\n",
      "dense (Dense)                (None, 10)                10250     \n",
      "=================================================================\n",
      "Total params: 3,239,114\n",
      "Trainable params: 3,217,226\n",
      "Non-trainable params: 21,888\n",
      "_________________________________________________________________\n"
     ]
    }
   ],
   "source": [
    "def build_model(): \n",
    "    input_image = Input(shape=(32, 32, 3))\n",
    "\n",
    "    base_model = MobileNet(weights='imagenet', include_top=False, input_shape=(32, 32, 3))\n",
    "\n",
    "    x = base_model.output\n",
    "    x = Dropout(0.5)(x)\n",
    "    x = GlobalAveragePooling2D()(x)\n",
    "    predictions = Dense(10, activation='softmax')(x)\n",
    "\n",
    "    model = Model(inputs=base_model.input, outputs=predictions)\n",
    "    return model\n",
    "\n",
    "model = build_model()\n",
    "model.compile(optimizer='adam', loss='categorical_crossentropy', metrics=['accuracy'])\n",
    "model.summary()"
   ]
  },
  {
   "cell_type": "markdown",
   "metadata": {
    "id": "j_J54XeshAYy"
   },
   "source": [
    "### Training"
   ]
  },
  {
   "cell_type": "code",
   "execution_count": 5,
   "metadata": {
    "colab": {
     "base_uri": "https://localhost:8080/"
    },
    "id": "z9VFS29tJbgi",
    "outputId": "ec31eebe-f0c7-4cb6-964f-8fadc2f10d95"
   },
   "outputs": [
    {
     "name": "stdout",
     "output_type": "stream",
     "text": [
      "Epoch 1/100\n"
     ]
    },
    {
     "name": "stderr",
     "output_type": "stream",
     "text": [
      "/usr/local/lib/python3.7/dist-packages/tensorflow/python/keras/engine/training.py:1940: UserWarning: `Model.fit_generator` is deprecated and will be removed in a future version. Please use `Model.fit`, which supports generators.\n",
      "  warnings.warn('`Model.fit_generator` is deprecated and '\n"
     ]
    },
    {
     "name": "stdout",
     "output_type": "stream",
     "text": [
      "1562/1562 [==============================] - 40s 23ms/step - loss: 1.5272 - accuracy: 0.5386 - val_loss: 0.9038 - val_accuracy: 0.6949\n",
      "Epoch 2/100\n",
      "1562/1562 [==============================] - 36s 23ms/step - loss: 1.0370 - accuracy: 0.6657 - val_loss: 0.8255 - val_accuracy: 0.7173\n",
      "Epoch 3/100\n",
      "1562/1562 [==============================] - 36s 23ms/step - loss: 0.9760 - accuracy: 0.6894 - val_loss: 0.8207 - val_accuracy: 0.7267\n",
      "Epoch 4/100\n",
      "1562/1562 [==============================] - 37s 24ms/step - loss: 0.9209 - accuracy: 0.7067 - val_loss: 0.7875 - val_accuracy: 0.7357\n",
      "Epoch 5/100\n",
      "1562/1562 [==============================] - 36s 23ms/step - loss: 0.8696 - accuracy: 0.7232 - val_loss: 0.6705 - val_accuracy: 0.7673\n",
      "Epoch 6/100\n",
      "1562/1562 [==============================] - 35s 22ms/step - loss: 0.8075 - accuracy: 0.7452 - val_loss: 0.7395 - val_accuracy: 0.7600\n",
      "Epoch 7/100\n",
      "1562/1562 [==============================] - 35s 23ms/step - loss: 0.7517 - accuracy: 0.7615 - val_loss: 0.6678 - val_accuracy: 0.7768\n",
      "Epoch 8/100\n",
      "1562/1562 [==============================] - 35s 23ms/step - loss: 0.7060 - accuracy: 0.7750 - val_loss: 0.7225 - val_accuracy: 0.7595\n",
      "Epoch 9/100\n",
      "1562/1562 [==============================] - 36s 23ms/step - loss: 0.6578 - accuracy: 0.7911 - val_loss: 0.5908 - val_accuracy: 0.8029\n",
      "Epoch 10/100\n",
      "1562/1562 [==============================] - 37s 24ms/step - loss: 0.6327 - accuracy: 0.7980 - val_loss: 0.6445 - val_accuracy: 0.7898\n",
      "Epoch 11/100\n",
      "1562/1562 [==============================] - 34s 22ms/step - loss: 0.6240 - accuracy: 0.8022 - val_loss: 0.6001 - val_accuracy: 0.8004\n",
      "Epoch 12/100\n",
      "1562/1562 [==============================] - 36s 23ms/step - loss: 0.5807 - accuracy: 0.8144 - val_loss: 0.5996 - val_accuracy: 0.8055\n",
      "Epoch 13/100\n",
      "1562/1562 [==============================] - 35s 22ms/step - loss: 0.5560 - accuracy: 0.8229 - val_loss: 0.5380 - val_accuracy: 0.8229\n",
      "Epoch 14/100\n",
      "1562/1562 [==============================] - 37s 24ms/step - loss: 0.5272 - accuracy: 0.8316 - val_loss: 0.5500 - val_accuracy: 0.8208\n",
      "Epoch 15/100\n",
      "1562/1562 [==============================] - 36s 23ms/step - loss: 0.5288 - accuracy: 0.8298 - val_loss: 0.5561 - val_accuracy: 0.8191\n",
      "Epoch 16/100\n",
      "1562/1562 [==============================] - 36s 23ms/step - loss: 0.4888 - accuracy: 0.8423 - val_loss: 0.5245 - val_accuracy: 0.8269\n",
      "Epoch 17/100\n",
      "1562/1562 [==============================] - 35s 22ms/step - loss: 0.4863 - accuracy: 0.8439 - val_loss: 0.5504 - val_accuracy: 0.8224\n",
      "Epoch 18/100\n",
      "1562/1562 [==============================] - 37s 24ms/step - loss: 0.4849 - accuracy: 0.8428 - val_loss: 0.5203 - val_accuracy: 0.8263\n",
      "Epoch 19/100\n",
      "1562/1562 [==============================] - 35s 22ms/step - loss: 0.4549 - accuracy: 0.8549 - val_loss: 0.5306 - val_accuracy: 0.8221\n",
      "Epoch 20/100\n",
      "1562/1562 [==============================] - 37s 23ms/step - loss: 0.4463 - accuracy: 0.8559 - val_loss: 0.4799 - val_accuracy: 0.8466\n",
      "Epoch 21/100\n",
      "1562/1562 [==============================] - 36s 23ms/step - loss: 0.4271 - accuracy: 0.8627 - val_loss: 0.5134 - val_accuracy: 0.8308\n",
      "Epoch 22/100\n",
      "1562/1562 [==============================] - 36s 23ms/step - loss: 0.4366 - accuracy: 0.8584 - val_loss: 0.5382 - val_accuracy: 0.8204\n",
      "Epoch 23/100\n",
      "1562/1562 [==============================] - 34s 22ms/step - loss: 0.4165 - accuracy: 0.8672 - val_loss: 0.6890 - val_accuracy: 0.7689\n",
      "Epoch 24/100\n",
      "1562/1562 [==============================] - 36s 23ms/step - loss: 0.4158 - accuracy: 0.8658 - val_loss: 0.5180 - val_accuracy: 0.8268\n",
      "Epoch 25/100\n",
      "1562/1562 [==============================] - 35s 23ms/step - loss: 0.4184 - accuracy: 0.8650 - val_loss: 0.5061 - val_accuracy: 0.8333\n",
      "Epoch 26/100\n",
      "1562/1562 [==============================] - 36s 23ms/step - loss: 0.4041 - accuracy: 0.8708 - val_loss: 0.4828 - val_accuracy: 0.8410\n",
      "Epoch 27/100\n",
      "1562/1562 [==============================] - 36s 23ms/step - loss: 0.3901 - accuracy: 0.8741 - val_loss: 0.4924 - val_accuracy: 0.8415\n",
      "Epoch 28/100\n",
      "1562/1562 [==============================] - 35s 22ms/step - loss: 0.3702 - accuracy: 0.8804 - val_loss: 0.4881 - val_accuracy: 0.8409\n",
      "Epoch 29/100\n",
      "1562/1562 [==============================] - 36s 23ms/step - loss: 0.3593 - accuracy: 0.8836 - val_loss: 0.4638 - val_accuracy: 0.8439\n",
      "Epoch 30/100\n",
      "1562/1562 [==============================] - 34s 22ms/step - loss: 0.3589 - accuracy: 0.8855 - val_loss: 0.4922 - val_accuracy: 0.8390\n",
      "Epoch 31/100\n",
      "1562/1562 [==============================] - 36s 23ms/step - loss: 0.3522 - accuracy: 0.8856 - val_loss: 0.5523 - val_accuracy: 0.8176\n",
      "Epoch 32/100\n",
      "1562/1562 [==============================] - 36s 23ms/step - loss: 0.3631 - accuracy: 0.8831 - val_loss: 0.4849 - val_accuracy: 0.8445\n",
      "Epoch 33/100\n",
      "1562/1562 [==============================] - 35s 22ms/step - loss: 0.3268 - accuracy: 0.8935 - val_loss: 0.4838 - val_accuracy: 0.8353\n",
      "Epoch 34/100\n",
      "1562/1562 [==============================] - 37s 23ms/step - loss: 0.3252 - accuracy: 0.8961 - val_loss: 0.4670 - val_accuracy: 0.8441\n",
      "Epoch 35/100\n",
      "1562/1562 [==============================] - 37s 23ms/step - loss: 0.3225 - accuracy: 0.8962 - val_loss: 0.4525 - val_accuracy: 0.8487\n",
      "Epoch 36/100\n",
      "1562/1562 [==============================] - 35s 22ms/step - loss: 0.3514 - accuracy: 0.8887 - val_loss: 0.4644 - val_accuracy: 0.8455\n",
      "Epoch 37/100\n",
      "1562/1562 [==============================] - 36s 23ms/step - loss: 0.3026 - accuracy: 0.9009 - val_loss: 0.5506 - val_accuracy: 0.8199\n",
      "Epoch 38/100\n",
      "1562/1562 [==============================] - 35s 22ms/step - loss: 0.3189 - accuracy: 0.8976 - val_loss: 0.4761 - val_accuracy: 0.8427\n",
      "Epoch 39/100\n",
      "1562/1562 [==============================] - 36s 23ms/step - loss: 0.2967 - accuracy: 0.9035 - val_loss: 0.5244 - val_accuracy: 0.8287\n",
      "Epoch 40/100\n",
      "1562/1562 [==============================] - 35s 23ms/step - loss: 0.2940 - accuracy: 0.9059 - val_loss: 0.4761 - val_accuracy: 0.8448\n",
      "Epoch 41/100\n",
      "1562/1562 [==============================] - 36s 23ms/step - loss: 0.2864 - accuracy: 0.9083 - val_loss: 0.4725 - val_accuracy: 0.8508\n",
      "Epoch 42/100\n",
      "1562/1562 [==============================] - 35s 23ms/step - loss: 0.2800 - accuracy: 0.9084 - val_loss: 0.4869 - val_accuracy: 0.8445\n",
      "Epoch 43/100\n",
      "1562/1562 [==============================] - 36s 23ms/step - loss: 0.2837 - accuracy: 0.9079 - val_loss: 0.4950 - val_accuracy: 0.8368\n",
      "Epoch 44/100\n",
      "1562/1562 [==============================] - 36s 23ms/step - loss: 0.2808 - accuracy: 0.9096 - val_loss: 0.4511 - val_accuracy: 0.8510\n",
      "Epoch 45/100\n",
      "1562/1562 [==============================] - 36s 23ms/step - loss: 0.2785 - accuracy: 0.9109 - val_loss: 0.4812 - val_accuracy: 0.8419\n",
      "Epoch 46/100\n",
      "1562/1562 [==============================] - 36s 23ms/step - loss: 0.2691 - accuracy: 0.9134 - val_loss: 0.4444 - val_accuracy: 0.8543\n",
      "Epoch 47/100\n",
      "1562/1562 [==============================] - 37s 24ms/step - loss: 0.2810 - accuracy: 0.9097 - val_loss: 0.5075 - val_accuracy: 0.8373\n",
      "Epoch 48/100\n",
      "1562/1562 [==============================] - 35s 22ms/step - loss: 0.2704 - accuracy: 0.9141 - val_loss: 0.4434 - val_accuracy: 0.8561\n",
      "Epoch 49/100\n",
      "1562/1562 [==============================] - 36s 23ms/step - loss: 0.2607 - accuracy: 0.9164 - val_loss: 0.5055 - val_accuracy: 0.8359\n",
      "Epoch 50/100\n",
      "1562/1562 [==============================] - 36s 23ms/step - loss: 0.2565 - accuracy: 0.9184 - val_loss: 0.4431 - val_accuracy: 0.8583\n",
      "Epoch 51/100\n",
      "1562/1562 [==============================] - 35s 23ms/step - loss: 0.2345 - accuracy: 0.9247 - val_loss: 0.4897 - val_accuracy: 0.8460\n",
      "Epoch 52/100\n",
      "1562/1562 [==============================] - 36s 23ms/step - loss: 0.2615 - accuracy: 0.9172 - val_loss: 0.4854 - val_accuracy: 0.8402\n",
      "Epoch 53/100\n",
      "1562/1562 [==============================] - 35s 22ms/step - loss: 0.2452 - accuracy: 0.9209 - val_loss: 0.4329 - val_accuracy: 0.8604\n",
      "Epoch 54/100\n",
      "1562/1562 [==============================] - 36s 23ms/step - loss: 0.2576 - accuracy: 0.9181 - val_loss: 0.4684 - val_accuracy: 0.8500\n",
      "Epoch 55/100\n",
      "1562/1562 [==============================] - 34s 22ms/step - loss: 0.2320 - accuracy: 0.9244 - val_loss: 0.5122 - val_accuracy: 0.8376\n",
      "Epoch 56/100\n",
      "1562/1562 [==============================] - 36s 23ms/step - loss: 0.2338 - accuracy: 0.9247 - val_loss: 0.4826 - val_accuracy: 0.8492\n",
      "Epoch 57/100\n",
      "1562/1562 [==============================] - 36s 23ms/step - loss: 0.2417 - accuracy: 0.9209 - val_loss: 0.4960 - val_accuracy: 0.8472\n",
      "Epoch 58/100\n",
      "1562/1562 [==============================] - 38s 25ms/step - loss: 0.2401 - accuracy: 0.9225 - val_loss: 0.5003 - val_accuracy: 0.8454\n",
      "Epoch 59/100\n",
      "1562/1562 [==============================] - 36s 23ms/step - loss: 0.2291 - accuracy: 0.9256 - val_loss: 0.4640 - val_accuracy: 0.8516\n",
      "Epoch 60/100\n",
      "1562/1562 [==============================] - 37s 24ms/step - loss: 0.2199 - accuracy: 0.9297 - val_loss: 0.4666 - val_accuracy: 0.8546\n",
      "Epoch 61/100\n",
      "1562/1562 [==============================] - 36s 23ms/step - loss: 0.2232 - accuracy: 0.9286 - val_loss: 0.4674 - val_accuracy: 0.8556\n",
      "Epoch 62/100\n",
      "1562/1562 [==============================] - 37s 24ms/step - loss: 0.2188 - accuracy: 0.9298 - val_loss: 0.4810 - val_accuracy: 0.8474\n",
      "Epoch 63/100\n",
      "1562/1562 [==============================] - 38s 24ms/step - loss: 0.2193 - accuracy: 0.9295 - val_loss: 0.4743 - val_accuracy: 0.8531\n",
      "Epoch 64/100\n",
      "1562/1562 [==============================] - 37s 24ms/step - loss: 0.2262 - accuracy: 0.9296 - val_loss: 0.5094 - val_accuracy: 0.8449\n",
      "Epoch 65/100\n",
      "1562/1562 [==============================] - 36s 23ms/step - loss: 0.2149 - accuracy: 0.9315 - val_loss: 0.4773 - val_accuracy: 0.8520\n",
      "Epoch 66/100\n",
      "1562/1562 [==============================] - 36s 23ms/step - loss: 0.2009 - accuracy: 0.9346 - val_loss: 0.5189 - val_accuracy: 0.8351\n",
      "Epoch 67/100\n",
      "1562/1562 [==============================] - 35s 23ms/step - loss: 0.2222 - accuracy: 0.9298 - val_loss: 0.5067 - val_accuracy: 0.8460\n",
      "Epoch 68/100\n",
      "1562/1562 [==============================] - 36s 23ms/step - loss: 0.2026 - accuracy: 0.9342 - val_loss: 0.4927 - val_accuracy: 0.8447\n",
      "Epoch 69/100\n",
      "1562/1562 [==============================] - 35s 22ms/step - loss: 0.2209 - accuracy: 0.9296 - val_loss: 0.7519 - val_accuracy: 0.7952\n",
      "Epoch 70/100\n",
      "1562/1562 [==============================] - 35s 22ms/step - loss: 0.2200 - accuracy: 0.9291 - val_loss: 0.5077 - val_accuracy: 0.8442\n",
      "Epoch 71/100\n",
      "1562/1562 [==============================] - 37s 23ms/step - loss: 0.1975 - accuracy: 0.9360 - val_loss: 0.4772 - val_accuracy: 0.8508\n",
      "Epoch 72/100\n",
      "1562/1562 [==============================] - 34s 22ms/step - loss: 0.2003 - accuracy: 0.9359 - val_loss: 0.5054 - val_accuracy: 0.8431\n",
      "Epoch 73/100\n",
      "1562/1562 [==============================] - 36s 23ms/step - loss: 0.2442 - accuracy: 0.9220 - val_loss: 0.5255 - val_accuracy: 0.8363\n",
      "Epoch 74/100\n",
      "1562/1562 [==============================] - 36s 23ms/step - loss: 0.1921 - accuracy: 0.9399 - val_loss: 0.4681 - val_accuracy: 0.8521\n",
      "Epoch 75/100\n",
      "1562/1562 [==============================] - 35s 23ms/step - loss: 0.1874 - accuracy: 0.9403 - val_loss: 0.4791 - val_accuracy: 0.8446\n",
      "Epoch 76/100\n",
      "1562/1562 [==============================] - 35s 22ms/step - loss: 0.2015 - accuracy: 0.9370 - val_loss: 0.5656 - val_accuracy: 0.8366\n",
      "Epoch 77/100\n",
      "1562/1562 [==============================] - 36s 23ms/step - loss: 0.1877 - accuracy: 0.9401 - val_loss: 0.4791 - val_accuracy: 0.8557\n",
      "Epoch 78/100\n",
      "1562/1562 [==============================] - 36s 23ms/step - loss: 0.1915 - accuracy: 0.9396 - val_loss: 0.5219 - val_accuracy: 0.8446\n",
      "Epoch 79/100\n",
      "1562/1562 [==============================] - 37s 24ms/step - loss: 0.1811 - accuracy: 0.9431 - val_loss: 0.5261 - val_accuracy: 0.8451\n",
      "Epoch 80/100\n",
      "1562/1562 [==============================] - 36s 23ms/step - loss: 0.1779 - accuracy: 0.9429 - val_loss: 0.4836 - val_accuracy: 0.8506\n",
      "Epoch 81/100\n",
      "1562/1562 [==============================] - 36s 23ms/step - loss: 0.1779 - accuracy: 0.9429 - val_loss: 0.5051 - val_accuracy: 0.8485\n",
      "Epoch 82/100\n",
      "1562/1562 [==============================] - 35s 23ms/step - loss: 0.2119 - accuracy: 0.9346 - val_loss: 0.5067 - val_accuracy: 0.8479\n",
      "Epoch 83/100\n",
      "1562/1562 [==============================] - 36s 23ms/step - loss: 0.1714 - accuracy: 0.9457 - val_loss: 0.7755 - val_accuracy: 0.7911\n",
      "Epoch 84/100\n",
      "1562/1562 [==============================] - 35s 22ms/step - loss: 0.2266 - accuracy: 0.9292 - val_loss: 0.5420 - val_accuracy: 0.8324\n",
      "Epoch 85/100\n",
      "1562/1562 [==============================] - 37s 24ms/step - loss: 0.1852 - accuracy: 0.9401 - val_loss: 0.4817 - val_accuracy: 0.8502\n",
      "Epoch 86/100\n",
      "1562/1562 [==============================] - 36s 23ms/step - loss: 0.1805 - accuracy: 0.9424 - val_loss: 0.4846 - val_accuracy: 0.8566\n",
      "Epoch 87/100\n",
      "1562/1562 [==============================] - 36s 23ms/step - loss: 0.1659 - accuracy: 0.9475 - val_loss: 0.5338 - val_accuracy: 0.8525\n",
      "Epoch 88/100\n",
      "1562/1562 [==============================] - 35s 23ms/step - loss: 0.1780 - accuracy: 0.9440 - val_loss: 0.5258 - val_accuracy: 0.8443\n",
      "Epoch 89/100\n",
      "1562/1562 [==============================] - 35s 23ms/step - loss: 0.1666 - accuracy: 0.9469 - val_loss: 0.5430 - val_accuracy: 0.8507\n",
      "Epoch 90/100\n",
      "1562/1562 [==============================] - 36s 23ms/step - loss: 0.1647 - accuracy: 0.9478 - val_loss: 0.5477 - val_accuracy: 0.8458\n",
      "Epoch 91/100\n",
      "1562/1562 [==============================] - 36s 23ms/step - loss: 0.1928 - accuracy: 0.9396 - val_loss: 0.5242 - val_accuracy: 0.8494\n",
      "Epoch 92/100\n",
      "1562/1562 [==============================] - 35s 22ms/step - loss: 0.1752 - accuracy: 0.9455 - val_loss: 0.4934 - val_accuracy: 0.8576\n",
      "Epoch 93/100\n",
      "1562/1562 [==============================] - 37s 24ms/step - loss: 0.1931 - accuracy: 0.9400 - val_loss: 0.4564 - val_accuracy: 0.8562\n",
      "Epoch 94/100\n",
      "1562/1562 [==============================] - 35s 23ms/step - loss: 0.1613 - accuracy: 0.9480 - val_loss: 0.5691 - val_accuracy: 0.8486\n",
      "Epoch 95/100\n",
      "1562/1562 [==============================] - 35s 23ms/step - loss: 0.1632 - accuracy: 0.9486 - val_loss: 0.5205 - val_accuracy: 0.8504\n",
      "Epoch 96/100\n",
      "1562/1562 [==============================] - 36s 23ms/step - loss: 0.1605 - accuracy: 0.9491 - val_loss: 0.5270 - val_accuracy: 0.8488\n",
      "Epoch 97/100\n",
      "1562/1562 [==============================] - 36s 23ms/step - loss: 0.1723 - accuracy: 0.9461 - val_loss: 0.4963 - val_accuracy: 0.8551\n",
      "Epoch 98/100\n",
      "1562/1562 [==============================] - 37s 24ms/step - loss: 0.1610 - accuracy: 0.9484 - val_loss: 0.5123 - val_accuracy: 0.8520\n",
      "Epoch 99/100\n",
      "1562/1562 [==============================] - 36s 23ms/step - loss: 0.1705 - accuracy: 0.9468 - val_loss: 0.4996 - val_accuracy: 0.8594\n",
      "Epoch 100/100\n",
      "1562/1562 [==============================] - 35s 23ms/step - loss: 0.1672 - accuracy: 0.9481 - val_loss: 0.4957 - val_accuracy: 0.8521\n"
     ]
    }
   ],
   "source": [
    "steps = int(x_train.shape[0]/32)\n",
    "history = model.fit_generator(train_augmented, steps_per_epoch=steps, epochs=100, validation_data=(x_test, y_test))"
   ]
  },
  {
   "cell_type": "markdown",
   "metadata": {
    "id": "ybY0hrrohCGg"
   },
   "source": [
    "### Plot loss"
   ]
  },
  {
   "cell_type": "code",
   "execution_count": 6,
   "metadata": {
    "colab": {
     "base_uri": "https://localhost:8080/",
     "height": 295
    },
    "id": "P_zEgMi4Kdyv",
    "outputId": "9d9923a2-3eed-4557-e8cd-61f12c37f508"
   },
   "outputs": [
    {
     "data": {
      "image/png": "[encoded data removed]",
      "text/plain": [
       "<Figure size 432x288 with 1 Axes>"
      ]
     },
     "metadata": {
      "needs_background": "light",
      "tags": []
     },
     "output_type": "display_data"
    }
   ],
   "source": [
    "# plotting custom model loss \n",
    "\n",
    "plt.plot(history.history['loss'])\n",
    "plt.plot(history.history['val_loss'])\n",
    "plt.title('model_loss')\n",
    "plt.ylabel('loss')\n",
    "plt.xlabel('epoch')\n",
    "plt.legend(['train'dll, 'validation'], loc='upper left')\n",
    "plt.show()"
   ]
  },
  {
   "cell_type": "markdown",
   "metadata": {
    "id": "3C8E7zBEhELu"
   },
   "source": [
    "### Plot accuracy"
   ]
  },
  {
   "cell_type": "code",
   "execution_count": 8,
   "metadata": {
    "colab": {
     "base_uri": "https://localhost:8080/",
     "height": 295
    },
    "id": "2lOiYixcLT2e",
    "outputId": "a8f5c12f-86a0-4dbd-b986-9a41d54fe699"
   },
   "outputs": [
    {
     "data": {
      "image/png": "[encoded data removed]",
      "text/plain": [
       "<Figure size 432x288 with 1 Axes>"
      ]
     },
     "metadata": {
      "needs_background": "light",
      "tags": []
     },
     "output_type": "display_data"
    }
   ],
   "source": [
    "# plotting mobilenet accuracy \n",
    "\n",
    "plt.plot(history.history['accuracy'])\n",
    "plt.plot(history.history['val_accuracy'])\n",
    "plt.title('model_accuracy')\n",
    "plt.ylabel('accuracy')\n",
    "plt.xlabel('epoch')\n",
    "plt.legend(['train', 'validation'], loc='upper left')\n",
    "plt.show()"
   ]
  },
  {
   "cell_type": "markdown",
   "metadata": {
    "id": "S0o58UQnhHKZ"
   },
   "source": [
    "### Save model"
   ]
  },
  {
   "cell_type": "code",
   "execution_count": 9,
   "metadata": {
    "colab": {
     "base_uri": "https://localhost:8080/"
    },
    "id": "wcz8gEs_UZLB",
    "outputId": "70ef5822-60c0-4773-a80e-cf29f12b3104"
   },
   "outputs": [
    {
     "name": "stdout",
     "output_type": "stream",
     "text": [
      "INFO:tensorflow:Assets written to: saved_model/my_model/assets\n"
     ]
    }
   ],
   "source": [
    "model.save('saved_model/my_model')"
   ]
  }
 ],
 "metadata": {
  "accelerator": "GPU",
  "colab": {
   "name": "modified_models_cifar.ipynb",
   "provenance": []
  },
  "kernelspec": {
   "display_name": "Python 3",
   "language": "python",
   "name": "python3"
  },
  "language_info": {
   "codemirror_mode": {
    "name": "ipython",
    "version": 3
   },
   "file_extension": ".py",
   "mimetype": "text/x-python",
   "name": "python",
   "nbconvert_exporter": "python",
   "pygments_lexer": "ipython3",
   "version": "3.7.3"
  }
 },
 "nbformat": 4,
 "nbformat_minor": 1
}
